{
 "cells": [
  {
   "cell_type": "code",
   "execution_count": 1,
   "metadata": {},
   "outputs": [
    {
     "name": "stdout",
     "output_type": "stream",
     "text": [
      "Cold Start Recommendations:\n",
      "\n",
      " movie_id                                                  title  year  avg_rating  view_count  last_year_views\n",
      "    10947                                        The Incredibles  2004    4.308871      133457           132611\n",
      "    16377                                         The Green Mile  1999    4.306941      181426           102670\n",
      "    11283                                           Forrest Gump  1994    4.299910      181508           103281\n",
      "     1905 Pirates of the Caribbean: The Curse of the Black Pearl  2003    4.153908      193941            96319\n",
      "     2372                                   The Bourne Supremacy  2004    3.909958      137170           116118\n",
      "     6287                                           Pretty Woman  1990    3.905047      193295           104916\n"
     ]
    }
   ],
   "source": [
    "import pandas as pd\n",
    "import pyarrow as pa\n",
    "import pyarrow.compute as pc\n",
    "import pyarrow.parquet as pq\n",
    "from collections import defaultdict\n",
    "\n",
    "def get_cold_start_recommendations():\n",
    "    movies = pd.read_parquet(r\"parquet_creators_n_data/prod_data/movie_titles_modified.parquet\")\n",
    "\n",
    "    ratings_file = pq.ParquetFile(r\"parquet_creators_n_data/prod_data/all_ratings.parquet\")\n",
    "    max_date_str = None\n",
    "    \n",
    "    for batch in ratings_file.iter_batches(columns=['date']):\n",
    "        date_col = batch.column('date')\n",
    "        current_max = pc.max(date_col).as_py()\n",
    "        if current_max and (max_date_str is None or current_max > max_date_str):\n",
    "            max_date_str = current_max\n",
    "    \n",
    "    max_date = pd.to_datetime(max_date_str)\n",
    "    last_year = max_date.year\n",
    "\n",
    "    last_year_counts = defaultdict(int)\n",
    "    \n",
    "    for batch in ratings_file.iter_batches(columns=['date', 'movie_id']):\n",
    "        date_str = batch.column('date')\n",
    "        try:\n",
    "            dates = pc.strptime(date_str, format='%Y-%m-%d', unit='s').cast(pa.timestamp('s'))\n",
    "        except:\n",
    "            dates = date_str.cast(pa.date32())\n",
    "        \n",
    "        years = pc.year(dates)\n",
    "        movie_ids = batch.column('movie_id')\n",
    "        \n",
    "        table = pa.Table.from_arrays([movie_ids, years], names=['movie_id', 'year'])\n",
    "        \n",
    "        filtered = table.filter(pc.equal(table['year'], last_year))\n",
    "        if filtered.num_rows == 0:\n",
    "            continue\n",
    "            \n",
    "        counts = filtered.group_by('movie_id').aggregate([('movie_id', 'count')])\n",
    "        counts_df = counts.to_pandas()\n",
    "        \n",
    "        for _, row in counts_df.iterrows():\n",
    "            last_year_counts[row['movie_id']] += row['movie_id_count']\n",
    "\n",
    "    last_year_df = pd.DataFrame({\n",
    "        'movie_id': list(last_year_counts.keys()),\n",
    "        'last_year_views': list(last_year_counts.values())\n",
    "    })\n",
    "    \n",
    "    merged = movies.merge(last_year_df, on='movie_id', how='left')\n",
    "    merged['last_year_views'] = merged['last_year_views'].fillna(0).astype(int)\n",
    "\n",
    "    # Weighted view score as popularity\n",
    "    merged['popularity_score'] = 0.75 * merged['last_year_views'] + 0.25 * merged['view_count']\n",
    "    \n",
    "    top_20 = merged.nlargest(20, 'popularity_score')\n",
    "    # pick top rated 6 out of popular 20 movies\n",
    "    recommendations = top_20.nlargest(6, 'avg_rating')\n",
    "    \n",
    "    return recommendations[['movie_id', 'title', 'year', \n",
    "                            'avg_rating', 'view_count', \n",
    "                            'last_year_views']]\n",
    "\n",
    "recs = get_cold_start_recommendations()\n",
    "print(\"Cold Start Recommendations:\\n\")\n",
    "print(recs.to_string(index=False))"
   ]
  },
  {
   "cell_type": "markdown",
   "metadata": {},
   "source": [
    "-> not actually jupyter yet"
   ]
  }
 ],
 "metadata": {
  "kernelspec": {
   "display_name": "myenv",
   "language": "python",
   "name": "python3"
  },
  "language_info": {
   "codemirror_mode": {
    "name": "ipython",
    "version": 3
   },
   "file_extension": ".py",
   "mimetype": "text/x-python",
   "name": "python",
   "nbconvert_exporter": "python",
   "pygments_lexer": "ipython3",
   "version": "3.12.8"
  }
 },
 "nbformat": 4,
 "nbformat_minor": 2
}
