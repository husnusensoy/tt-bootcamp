{
 "cells": [
  {
   "cell_type": "code",
   "execution_count": null,
   "metadata": {},
   "outputs": [],
   "source": [
    "import csv\n",
    "import pandas as pd\n",
    "\n",
    "movie_titles_dir = \"prod_data/movie_titles.parquet\"\n",
    "\n",
    "rows = []\n",
    "with open(\"data/movie_titles.csv\", \"r\", encoding=\"latin-1\") as file:\n",
    "    reader = csv.reader(file, quotechar='\"')\n",
    "    for row in reader:\n",
    "        if len(row) == 3:\n",
    "            rows.append(row)\n",
    "        else:\n",
    "            movie_id = row[0]\n",
    "            year = row[1]\n",
    "            title = \",\".join(row[2:])  # extra comma handled\n",
    "            rows.append([movie_id, year, title])\n",
    "\n",
    "df_movies = pd.DataFrame(rows, columns=[\"movie_id\", \"year\", \"title\"])\n",
    "\n",
    "df_movies[\"movie_id\"] = df_movies[\"movie_id\"].astype(\"int32\")\n",
    "df_movies[\"year\"] = pd.to_numeric(df_movies[\"year\"], errors=\"coerce\").fillna(2000).astype(\"int16\")\n",
    "df_movies[\"title\"] = df_movies[\"title\"].astype(\"string\")\n",
    "\n",
    "\n",
    "df_movies.to_parquet(movie_titles_dir, engine=\"pyarrow\", compression=\"snappy\")\n",
    "\n",
    "print(\"Exit 0\")"
   ]
  },
  {
   "cell_type": "markdown",
   "metadata": {},
   "source": [
    "-> not actually jupyter yet"
   ]
  }
 ],
 "metadata": {
  "kernelspec": {
   "display_name": "myenv",
   "language": "python",
   "name": "python3"
  },
  "language_info": {
   "name": "python",
   "version": "3.12.8"
  }
 },
 "nbformat": 4,
 "nbformat_minor": 2
}
