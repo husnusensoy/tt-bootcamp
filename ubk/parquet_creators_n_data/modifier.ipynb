{
 "cells": [
  {
   "cell_type": "code",
   "execution_count": 1,
   "metadata": {},
   "outputs": [],
   "source": [
    "import pandas as pd\n",
    "import pyarrow.parquet as pq"
   ]
  },
  {
   "cell_type": "code",
   "execution_count": 2,
   "metadata": {},
   "outputs": [],
   "source": [
    "def calc_rating_avg_n_median(ratings_path):\n",
    "    sum_ratings = {}\n",
    "    count_ratings = {}\n",
    "    all_ratings = {}\n",
    "    \n",
    "    chunksize = 10**6\n",
    "    reader = pq.ParquetFile(ratings_path)\n",
    "    \n",
    "    for batch in reader.iter_batches(batch_size=chunksize):\n",
    "        chunk = batch.to_pandas()\n",
    "        grouped = chunk.groupby(\"movie_id\")\n",
    "        for movie_id, group in grouped:\n",
    "            \n",
    "            current_sum = group['rating'].sum()\n",
    "            current_count = group['rating'].count()\n",
    "            \n",
    "            if movie_id in sum_ratings:\n",
    "                sum_ratings[movie_id] += current_sum\n",
    "                count_ratings[movie_id] += current_count\n",
    "            else:\n",
    "                sum_ratings[movie_id] = current_sum\n",
    "                count_ratings[movie_id] = current_count\n",
    "            \n",
    "            ratings = group['rating'].tolist()\n",
    "            \n",
    "            if movie_id in all_ratings:\n",
    "                all_ratings[movie_id].extend(ratings)\n",
    "            else:\n",
    "                all_ratings[movie_id] = ratings\n",
    "    \n",
    "    avg_ratings = {\n",
    "        movie_id: sum_ratings[movie_id] / count_ratings[movie_id]\n",
    "        for movie_id in sum_ratings\n",
    "    }\n",
    "    \n",
    "    median_ratings = {}\n",
    "    for movie_id in all_ratings:\n",
    "        sorted_ratings = sorted(all_ratings[movie_id])\n",
    "        n = len(sorted_ratings)\n",
    "        if n % 2 == 1:\n",
    "            median = sorted_ratings[n // 2]\n",
    "        else:\n",
    "            median = (sorted_ratings[n // 2 - 1] + sorted_ratings[n // 2]) / 2\n",
    "        median_ratings[movie_id] = median\n",
    "    \n",
    "    return avg_ratings, median_ratings, count_ratings\n",
    "\n",
    "\n",
    "def update_movie_titles(movie_titles_path, avg_ratings, median_ratings, view_counts):\n",
    "    df_movies = pd.read_parquet(movie_titles_path)\n",
    "    \n",
    "    df_stats = pd.DataFrame({\n",
    "        \"movie_id\": list(avg_ratings.keys()),\n",
    "        \"avg_rating\": list(avg_ratings.values()),\n",
    "        \"median_rating\": list(median_ratings.values()),\n",
    "        \"view_count\": list(view_counts.values())\n",
    "    })\n",
    "    \n",
    "    df_movies = df_movies.merge(df_stats, on=\"movie_id\", how=\"left\")\n",
    "    \n",
    "    return df_movies\n",
    "\n",
    "avg_ratings, median_ratings, view_counts = calc_rating_avg_n_median(\"prod_data/all_ratings.parquet\")\n",
    "\n",
    "updated_movies = update_movie_titles(\n",
    "    \"prod_data/movie_titles.parquet\", \n",
    "    avg_ratings, \n",
    "    median_ratings, \n",
    "    view_counts\n",
    ")"
   ]
  },
  {
   "cell_type": "markdown",
   "metadata": {},
   "source": [
    "-> not actually jupyter yet"
   ]
  },
  {
   "cell_type": "code",
   "execution_count": 3,
   "metadata": {},
   "outputs": [
    {
     "data": {
      "text/html": [
       "<div>\n",
       "<style scoped>\n",
       "    .dataframe tbody tr th:only-of-type {\n",
       "        vertical-align: middle;\n",
       "    }\n",
       "\n",
       "    .dataframe tbody tr th {\n",
       "        vertical-align: top;\n",
       "    }\n",
       "\n",
       "    .dataframe thead th {\n",
       "        text-align: right;\n",
       "    }\n",
       "</style>\n",
       "<table border=\"1\" class=\"dataframe\">\n",
       "  <thead>\n",
       "    <tr style=\"text-align: right;\">\n",
       "      <th></th>\n",
       "      <th>movie_id</th>\n",
       "      <th>year</th>\n",
       "      <th>title</th>\n",
       "      <th>avg_rating</th>\n",
       "      <th>median_rating</th>\n",
       "      <th>view_count</th>\n",
       "    </tr>\n",
       "  </thead>\n",
       "  <tbody>\n",
       "    <tr>\n",
       "      <th>0</th>\n",
       "      <td>1</td>\n",
       "      <td>2003</td>\n",
       "      <td>Dinosaur Planet</td>\n",
       "      <td>3.749543</td>\n",
       "      <td>4.0</td>\n",
       "      <td>547</td>\n",
       "    </tr>\n",
       "    <tr>\n",
       "      <th>1</th>\n",
       "      <td>2</td>\n",
       "      <td>2004</td>\n",
       "      <td>Isle of Man TT 2004 Review</td>\n",
       "      <td>3.558621</td>\n",
       "      <td>4.0</td>\n",
       "      <td>145</td>\n",
       "    </tr>\n",
       "    <tr>\n",
       "      <th>2</th>\n",
       "      <td>3</td>\n",
       "      <td>1997</td>\n",
       "      <td>Character</td>\n",
       "      <td>3.641153</td>\n",
       "      <td>4.0</td>\n",
       "      <td>2012</td>\n",
       "    </tr>\n",
       "    <tr>\n",
       "      <th>3</th>\n",
       "      <td>4</td>\n",
       "      <td>1994</td>\n",
       "      <td>Paula Abdul's Get Up &amp; Dance</td>\n",
       "      <td>2.739437</td>\n",
       "      <td>3.0</td>\n",
       "      <td>142</td>\n",
       "    </tr>\n",
       "    <tr>\n",
       "      <th>4</th>\n",
       "      <td>5</td>\n",
       "      <td>2004</td>\n",
       "      <td>The Rise and Fall of ECW</td>\n",
       "      <td>3.919298</td>\n",
       "      <td>4.0</td>\n",
       "      <td>1140</td>\n",
       "    </tr>\n",
       "  </tbody>\n",
       "</table>\n",
       "</div>"
      ],
      "text/plain": [
       "   movie_id  year                         title  avg_rating  median_rating  \\\n",
       "0         1  2003               Dinosaur Planet    3.749543            4.0   \n",
       "1         2  2004    Isle of Man TT 2004 Review    3.558621            4.0   \n",
       "2         3  1997                     Character    3.641153            4.0   \n",
       "3         4  1994  Paula Abdul's Get Up & Dance    2.739437            3.0   \n",
       "4         5  2004      The Rise and Fall of ECW    3.919298            4.0   \n",
       "\n",
       "   view_count  \n",
       "0         547  \n",
       "1         145  \n",
       "2        2012  \n",
       "3         142  \n",
       "4        1140  "
      ]
     },
     "execution_count": 3,
     "metadata": {},
     "output_type": "execute_result"
    }
   ],
   "source": [
    "updated_movies.head()"
   ]
  },
  {
   "cell_type": "code",
   "execution_count": 4,
   "metadata": {},
   "outputs": [
    {
     "data": {
      "text/plain": [
       "movie_id         17770\n",
       "year                94\n",
       "title            17359\n",
       "avg_rating       16253\n",
       "median_rating        9\n",
       "view_count        6275\n",
       "dtype: int64"
      ]
     },
     "execution_count": 4,
     "metadata": {},
     "output_type": "execute_result"
    }
   ],
   "source": [
    "unique_counts = updated_movies.nunique()\n",
    "unique_counts"
   ]
  },
  {
   "cell_type": "code",
   "execution_count": 5,
   "metadata": {},
   "outputs": [
    {
     "data": {
      "text/plain": [
       "movie_id                  int32\n",
       "year                      int16\n",
       "title            string[python]\n",
       "avg_rating              float64\n",
       "median_rating           float64\n",
       "view_count                int64\n",
       "dtype: object"
      ]
     },
     "execution_count": 5,
     "metadata": {},
     "output_type": "execute_result"
    }
   ],
   "source": [
    "updated_movies.dtypes"
   ]
  },
  {
   "cell_type": "code",
   "execution_count": 6,
   "metadata": {},
   "outputs": [
    {
     "name": "stdout",
     "output_type": "stream",
     "text": [
      "Column 'movie_id': Max = 17770, Min = 1\n",
      "Column 'year': Max = 2005, Min = 1896\n",
      "Column 'avg_rating': Max = 4.723269925683507, Min = 1.2878787878787878\n",
      "Column 'median_rating': Max = 5.0, Min = 1.0\n",
      "Column 'view_count': Max = 232944, Min = 3\n"
     ]
    }
   ],
   "source": [
    "numeric_cols = updated_movies.select_dtypes(include=['int16', 'int32','int64','float64']).columns\n",
    "\n",
    "# Her bir sayısal sütun için max ve min değerleri bulma\n",
    "for col in numeric_cols:\n",
    "    max_value = updated_movies[col].max()\n",
    "    min_value = updated_movies[col].min()\n",
    "    print(f\"Column '{col}': Max = {max_value}, Min = {min_value}\")\n"
   ]
  },
  {
   "cell_type": "code",
   "execution_count": 7,
   "metadata": {},
   "outputs": [],
   "source": [
    "updated_movies.to_parquet(\"prod_data/movie_titles_modified.parquet\", engine=\"pyarrow\", compression=\"snappy\")\n"
   ]
  }
 ],
 "metadata": {
  "kernelspec": {
   "display_name": "myenv",
   "language": "python",
   "name": "python3"
  },
  "language_info": {
   "codemirror_mode": {
    "name": "ipython",
    "version": 3
   },
   "file_extension": ".py",
   "mimetype": "text/x-python",
   "name": "python",
   "nbconvert_exporter": "python",
   "pygments_lexer": "ipython3",
   "version": "3.12.8"
  }
 },
 "nbformat": 4,
 "nbformat_minor": 2
}
