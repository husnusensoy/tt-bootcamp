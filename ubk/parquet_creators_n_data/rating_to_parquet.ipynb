{
 "cells": [
  {
   "cell_type": "code",
   "execution_count": null,
   "metadata": {
    "vscode": {
     "languageId": "plaintext"
    }
   },
   "outputs": [],
   "source": [
    "import pandas as pd\n",
    "import os\n",
    "\n",
    "def combine_ratings_to_single_parquet(input_paths, output_path):\n",
    "    chunksize = 10**6\n",
    "    all_data = []\n",
    "\n",
    "    for input_path in input_paths:\n",
    "        reader = pd.read_csv(\n",
    "            input_path,\n",
    "            header=None,\n",
    "            names=[\"movie_id\", \"user_id\", \"date\", \"rating\"],\n",
    "            dtype={\n",
    "                \"movie_id\": \"int32\",\n",
    "                \"user_id\": \"int32\",\n",
    "                \"date\": \"string\",\n",
    "                \"rating\": \"int8\"\n",
    "            },\n",
    "            chunksize=chunksize\n",
    "        )\n",
    "\n",
    "        for chunk in reader:\n",
    "            chunk[\"date\"] = pd.to_datetime(chunk[\"date\"], format=\"%Y-%m-%d\")\n",
    "            all_data.append(chunk)\n",
    "\n",
    "    combined_df = pd.concat(all_data, ignore_index=True)\n",
    "\n",
    "    combined_df.to_parquet(\n",
    "        output_path,\n",
    "        engine=\"pyarrow\",\n",
    "        compression=\"snappy\",\n",
    "        index=False\n",
    "    )\n",
    "\n",
    "input_paths = [f\"data/rating_{n}.txt\" for n in [1, 2, 3, 4]]\n",
    "output_path = \"prod_data/all_ratings.parquet\"\n",
    "\n",
    "combine_ratings_to_single_parquet(input_paths, output_path)\n",
    "print(\"Exit 0\")"
   ]
  },
  {
   "cell_type": "markdown",
   "metadata": {},
   "source": [
    "-> not actually jupyter yet"
   ]
  }
 ],
 "metadata": {
  "language_info": {
   "name": "python"
  }
 },
 "nbformat": 4,
 "nbformat_minor": 2
}
