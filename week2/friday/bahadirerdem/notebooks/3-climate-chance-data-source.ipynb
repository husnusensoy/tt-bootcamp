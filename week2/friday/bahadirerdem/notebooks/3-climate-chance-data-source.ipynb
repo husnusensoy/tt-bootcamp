{
 "cells": [
  {
   "cell_type": "code",
   "execution_count": 1,
   "metadata": {},
   "outputs": [],
   "source": [
    "import openmeteo_requests\n",
    "import pandas as pd\n",
    "import requests_cache\n",
    "from retry_requests import retry"
   ]
  },
  {
   "cell_type": "code",
   "execution_count": 2,
   "metadata": {},
   "outputs": [],
   "source": [
    "# Setup the Open-Meteo API client with cache and retry on error\n",
    "cache_session = requests_cache.CachedSession(\".cache\", expire_after=3600)\n",
    "retry_session = retry(cache_session, retries=5, backoff_factor=0.2)\n",
    "openmeteo = openmeteo_requests.Client(session=retry_session)"
   ]
  },
  {
   "cell_type": "code",
   "execution_count": 3,
   "metadata": {},
   "outputs": [],
   "source": [
    "# Make sure all required weather variables are listed here\n",
    "# The order of variables in hourly or daily is important to assign them correctly below\n",
    "url = \"https://climate-api.open-meteo.com/v1/climate\"\n",
    "params = {\n",
    "    \"latitude\": 41.0138,\n",
    "    \"longitude\": 28.9497,\n",
    "    \"start_date\": \"2005-01-01\",\n",
    "    \"end_date\": \"2021-04-07\",\n",
    "    \"models\": [\n",
    "        \"CMCC_CM2_VHR4\",\n",
    "        \"FGOALS_f3_H\",\n",
    "        \"HiRAM_SIT_HR\",\n",
    "        \"MRI_AGCM3_2_S\",\n",
    "        \"EC_Earth3P_HR\",\n",
    "        \"MPI_ESM1_2_XR\",\n",
    "        \"NICAM16_8S\",\n",
    "    ],\n",
    "    \"timezone\": \"Europe/Moscow\",\n",
    "    \"daily\": [\n",
    "        \"temperature_2m_mean\",\n",
    "        \"temperature_2m_max\",\n",
    "        \"temperature_2m_min\",\n",
    "        \"wind_speed_10m_mean\",\n",
    "        \"wind_speed_10m_max\",\n",
    "        \"cloud_cover_mean\",\n",
    "        \"shortwave_radiation_sum\",\n",
    "        \"relative_humidity_2m_mean\",\n",
    "        \"relative_humidity_2m_max\",\n",
    "        \"relative_humidity_2m_min\",\n",
    "        \"dew_point_2m_mean\",\n",
    "        \"dew_point_2m_min\",\n",
    "        \"dew_point_2m_max\",\n",
    "        \"precipitation_sum\",\n",
    "        \"rain_sum\",\n",
    "        \"snowfall_sum\",\n",
    "        \"pressure_msl_mean\",\n",
    "        \"soil_moisture_0_to_10cm_mean\",\n",
    "        \"et0_fao_evapotranspiration_sum\",\n",
    "    ],\n",
    "}\n",
    "responses = openmeteo.weather_api(url, params=params)"
   ]
  },
  {
   "cell_type": "code",
   "execution_count": 4,
   "metadata": {},
   "outputs": [
    {
     "name": "stdout",
     "output_type": "stream",
     "text": [
      "Coordinates 41.0°N 28.900009155273438°E\n",
      "Elevation 32.0 m asl\n",
      "Timezone None None\n",
      "Timezone difference to GMT+0 0 s\n"
     ]
    }
   ],
   "source": [
    "# Process first location. Add a for-loop for multiple locations or weather models\n",
    "response = responses[0]\n",
    "print(f\"Coordinates {response.Latitude()}°N {response.Longitude()}°E\")\n",
    "print(f\"Elevation {response.Elevation()} m asl\")\n",
    "print(f\"Timezone {response.Timezone()} {response.TimezoneAbbreviation()}\")\n",
    "print(f\"Timezone difference to GMT+0 {response.UtcOffsetSeconds()} s\")"
   ]
  },
  {
   "cell_type": "code",
   "execution_count": 5,
   "metadata": {},
   "outputs": [],
   "source": [
    "# Process daily data. The order of variables needs to be the same as requested.\n",
    "daily = response.Daily()\n",
    "daily_temperature_2m_mean = daily.Variables(0).ValuesAsNumpy()\n",
    "daily_temperature_2m_max = daily.Variables(1).ValuesAsNumpy()\n",
    "daily_temperature_2m_min = daily.Variables(2).ValuesAsNumpy()\n",
    "daily_wind_speed_10m_mean = daily.Variables(3).ValuesAsNumpy()\n",
    "daily_wind_speed_10m_max = daily.Variables(4).ValuesAsNumpy()\n",
    "daily_cloud_cover_mean = daily.Variables(5).ValuesAsNumpy()\n",
    "daily_shortwave_radiation_sum = daily.Variables(6).ValuesAsNumpy()\n",
    "daily_relative_humidity_2m_mean = daily.Variables(7).ValuesAsNumpy()\n",
    "daily_relative_humidity_2m_max = daily.Variables(8).ValuesAsNumpy()\n",
    "daily_relative_humidity_2m_min = daily.Variables(9).ValuesAsNumpy()\n",
    "daily_dew_point_2m_mean = daily.Variables(10).ValuesAsNumpy()\n",
    "daily_dew_point_2m_min = daily.Variables(11).ValuesAsNumpy()\n",
    "daily_dew_point_2m_max = daily.Variables(12).ValuesAsNumpy()\n",
    "daily_precipitation_sum = daily.Variables(13).ValuesAsNumpy()\n",
    "daily_rain_sum = daily.Variables(14).ValuesAsNumpy()\n",
    "daily_snowfall_sum = daily.Variables(15).ValuesAsNumpy()\n",
    "daily_pressure_msl_mean = daily.Variables(16).ValuesAsNumpy()\n",
    "daily_soil_moisture_0_to_10cm_mean = daily.Variables(17).ValuesAsNumpy()\n",
    "daily_et0_fao_evapotranspiration_sum = daily.Variables(18).ValuesAsNumpy()\n",
    "\n",
    "daily_data = {\n",
    "    \"date\": pd.date_range(\n",
    "        start=pd.to_datetime(daily.Time(), unit=\"s\", utc=True),\n",
    "        end=pd.to_datetime(daily.TimeEnd(), unit=\"s\", utc=True),\n",
    "        freq=pd.Timedelta(seconds=daily.Interval()),\n",
    "        inclusive=\"left\",\n",
    "    )\n",
    "}\n",
    "\n",
    "daily_data[\"temperature_2m_mean\"] = daily_temperature_2m_mean\n",
    "daily_data[\"temperature_2m_max\"] = daily_temperature_2m_max\n",
    "daily_data[\"temperature_2m_min\"] = daily_temperature_2m_min\n",
    "daily_data[\"wind_speed_10m_mean\"] = daily_wind_speed_10m_mean\n",
    "daily_data[\"wind_speed_10m_max\"] = daily_wind_speed_10m_max\n",
    "daily_data[\"cloud_cover_mean\"] = daily_cloud_cover_mean\n",
    "daily_data[\"shortwave_radiation_sum\"] = daily_shortwave_radiation_sum\n",
    "daily_data[\"relative_humidity_2m_mean\"] = daily_relative_humidity_2m_mean\n",
    "daily_data[\"relative_humidity_2m_max\"] = daily_relative_humidity_2m_max\n",
    "daily_data[\"relative_humidity_2m_min\"] = daily_relative_humidity_2m_min\n",
    "daily_data[\"dew_point_2m_mean\"] = daily_dew_point_2m_mean\n",
    "daily_data[\"dew_point_2m_min\"] = daily_dew_point_2m_min\n",
    "daily_data[\"dew_point_2m_max\"] = daily_dew_point_2m_max\n",
    "daily_data[\"precipitation_sum\"] = daily_precipitation_sum\n",
    "daily_data[\"rain_sum\"] = daily_rain_sum\n",
    "daily_data[\"snowfall_sum\"] = daily_snowfall_sum\n",
    "daily_data[\"pressure_msl_mean\"] = daily_pressure_msl_mean\n",
    "daily_data[\"soil_moisture_0_to_10cm_mean\"] = daily_soil_moisture_0_to_10cm_mean\n",
    "daily_data[\"et0_fao_evapotranspiration_sum\"] = daily_et0_fao_evapotranspiration_sum\n",
    "\n",
    "daily_dataframe = pd.DataFrame(data=daily_data)"
   ]
  },
  {
   "cell_type": "code",
   "execution_count": 12,
   "metadata": {},
   "outputs": [],
   "source": [
    "daily_dataframe = daily_dataframe.rename(\n",
    "    columns={\n",
    "        column: f\"climate_change_{column}\"\n",
    "        for column in daily_dataframe.columns\n",
    "        if column != \"date\"\n",
    "    }\n",
    ")"
   ]
  },
  {
   "cell_type": "code",
   "execution_count": 13,
   "metadata": {},
   "outputs": [],
   "source": [
    "daily_dataframe.to_csv(\"../dataset/external/climate_change.csv\", index=False)"
   ]
  }
 ],
 "metadata": {
  "kernelspec": {
   "display_name": ".venv",
   "language": "python",
   "name": "python3"
  },
  "language_info": {
   "codemirror_mode": {
    "name": "ipython",
    "version": 3
   },
   "file_extension": ".py",
   "mimetype": "text/x-python",
   "name": "python",
   "nbconvert_exporter": "python",
   "pygments_lexer": "ipython3",
   "version": "3.11.8"
  }
 },
 "nbformat": 4,
 "nbformat_minor": 2
}
