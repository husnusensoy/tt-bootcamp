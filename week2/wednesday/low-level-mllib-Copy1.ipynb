{
 "cells": [
  {
   "cell_type": "code",
   "execution_count": 1,
   "id": "2a40dc7b-38bf-4b25-a9ad-8f741b8991e6",
   "metadata": {},
   "outputs": [],
   "source": [
    "from pyspark.sql import SparkSession"
   ]
  },
  {
   "cell_type": "code",
   "execution_count": 2,
   "id": "94d7af27-bf08-4893-9bbf-32b378769c25",
   "metadata": {},
   "outputs": [
    {
     "name": "stderr",
     "output_type": "stream",
     "text": [
      "25/02/05 11:32:05 WARN Utils: Your hostname, Globals-MacBook-Pro.local resolves to a loopback address: 127.94.0.1; using 172.20.10.2 instead (on interface en7)\n",
      "25/02/05 11:32:05 WARN Utils: Set SPARK_LOCAL_IP if you need to bind to another address\n",
      "Setting default log level to \"WARN\".\n",
      "To adjust logging level use sc.setLogLevel(newLevel). For SparkR, use setLogLevel(newLevel).\n",
      "25/02/05 11:32:06 WARN NativeCodeLoader: Unable to load native-hadoop library for your platform... using builtin-java classes where applicable\n"
     ]
    }
   ],
   "source": [
    "spark = SparkSession.builder.appName(\"Tokenizer Application\").master(\"local[2]\").getOrCreate()\n",
    "sc = spark.sparkContext"
   ]
  },
  {
   "cell_type": "code",
   "execution_count": 3,
   "id": "80a36760-8960-4c83-8de1-b9501b2829e7",
   "metadata": {},
   "outputs": [
    {
     "data": {
      "text/html": [
       "\n",
       "            <div>\n",
       "                <p><b>SparkSession - in-memory</b></p>\n",
       "                \n",
       "        <div>\n",
       "            <p><b>SparkContext</b></p>\n",
       "\n",
       "            <p><a href=\"http://172.20.10.2:4040\">Spark UI</a></p>\n",
       "\n",
       "            <dl>\n",
       "              <dt>Version</dt>\n",
       "                <dd><code>v3.5.4</code></dd>\n",
       "              <dt>Master</dt>\n",
       "                <dd><code>local[2]</code></dd>\n",
       "              <dt>AppName</dt>\n",
       "                <dd><code>Tokenizer Application</code></dd>\n",
       "            </dl>\n",
       "        </div>\n",
       "        \n",
       "            </div>\n",
       "        "
      ],
      "text/plain": [
       "<pyspark.sql.session.SparkSession at 0x109768a90>"
      ]
     },
     "execution_count": 3,
     "metadata": {},
     "output_type": "execute_result"
    }
   ],
   "source": [
    "spark"
   ]
  },
  {
   "cell_type": "code",
   "execution_count": 14,
   "id": "541ae039-8f56-4ccf-84a8-c2448caf6aa6",
   "metadata": {},
   "outputs": [],
   "source": [
    "files = sc.textFile(\"aclImdb/test/neg/*.txt\")"
   ]
  },
  {
   "cell_type": "code",
   "execution_count": 16,
   "id": "722a52a0-c75b-462d-af9b-af672ebf7b06",
   "metadata": {},
   "outputs": [
    {
     "name": "stderr",
     "output_type": "stream",
     "text": [
      "                                                                                "
     ]
    },
    {
     "data": {
      "text/plain": [
       "82"
      ]
     },
     "execution_count": 16,
     "metadata": {},
     "output_type": "execute_result"
    }
   ],
   "source": [
    "files.count()"
   ]
  },
  {
   "cell_type": "code",
   "execution_count": 22,
   "id": "c71b70fd-f68f-4a63-bf10-d61c1ec6591c",
   "metadata": {},
   "outputs": [],
   "source": [
    "#files.map(lambda x: x.split(' ')).map(lambda bow: [t.lower() for t in bow]).take(2)"
   ]
  },
  {
   "cell_type": "markdown",
   "id": "030b66c8-507f-4f89-8a58-44a950cd766c",
   "metadata": {},
   "source": [
    "## Hashing Trick for Term Matrix"
   ]
  },
  {
   "cell_type": "code",
   "execution_count": 23,
   "id": "21a835ad-1055-49aa-ad11-086687beb9d7",
   "metadata": {},
   "outputs": [],
   "source": [
    "from pyspark.mllib.feature import HashingTF"
   ]
  },
  {
   "cell_type": "code",
   "execution_count": 24,
   "id": "a1d545fd-5c48-4ece-9248-1c74e09062f0",
   "metadata": {},
   "outputs": [],
   "source": [
    "htf = HashingTF()"
   ]
  },
  {
   "cell_type": "code",
   "execution_count": 25,
   "id": "a67f99f6-2018-42f2-9a56-1737667c297e",
   "metadata": {},
   "outputs": [],
   "source": [
    "doc = \"a a b b c d\".split(\" \")"
   ]
  },
  {
   "cell_type": "code",
   "execution_count": 26,
   "id": "67ae07df-1de1-4d54-ac06-c775e3d2869c",
   "metadata": {},
   "outputs": [
    {
     "data": {
      "text/plain": [
       "SparseVector(1048576, {73435: 2.0, 126124: 1.0, 465329: 1.0, 684277: 2.0})"
      ]
     },
     "execution_count": 26,
     "metadata": {},
     "output_type": "execute_result"
    }
   ],
   "source": [
    "htf.transform(doc)"
   ]
  },
  {
   "cell_type": "code",
   "execution_count": 27,
   "id": "5fea218f-0b12-4007-af1b-995501b54f4a",
   "metadata": {},
   "outputs": [],
   "source": [
    "bow = files.map(lambda x: x.split(' ')).map(lambda bow: [t.lower() for t in bow])"
   ]
  },
  {
   "cell_type": "code",
   "execution_count": 28,
   "id": "39c95785-8702-430b-a168-641a6920a4f4",
   "metadata": {},
   "outputs": [],
   "source": [
    "htf = HashingTF()"
   ]
  },
  {
   "cell_type": "code",
   "execution_count": 32,
   "id": "6dd60660-4c94-4428-b82a-9590ec768f34",
   "metadata": {},
   "outputs": [],
   "source": [
    "X = bow.map(lambda doc: htf.transform(doc))\n",
    "Xb = bow.map(lambda doc: htf.setBinary(True).transform(doc))"
   ]
  },
  {
   "cell_type": "code",
   "execution_count": 33,
   "id": "5093bffa-a6ea-4f33-820e-16fded48242b",
   "metadata": {},
   "outputs": [
    {
     "data": {
      "text/plain": [
       "[SparseVector(1048576, {28095: 1.0, 34218: 1.0, 39468: 1.0, 51283: 1.0, 52764: 1.0, 68587: 1.0, 77312: 1.0, 95471: 3.0, 107871: 1.0, 122106: 1.0, 164189: 1.0, 166274: 1.0, 197668: 4.0, 209586: 1.0, 210337: 1.0, 225917: 4.0, 226524: 1.0, 249736: 1.0, 253322: 2.0, 254439: 1.0, 265377: 2.0, 278679: 1.0, 284123: 2.0, 287413: 1.0, 320232: 1.0, 320734: 1.0, 329981: 1.0, 343346: 1.0, 356129: 1.0, 377531: 3.0, 388652: 1.0, 390641: 1.0, 392803: 1.0, 413123: 1.0, 415824: 1.0, 438289: 1.0, 442177: 1.0, 445493: 1.0, 473463: 2.0, 503235: 2.0, 517606: 3.0, 528622: 1.0, 531103: 2.0, 570812: 1.0, 582719: 1.0, 597288: 1.0, 623715: 1.0, 641650: 1.0, 643579: 1.0, 676975: 1.0, 704755: 1.0, 708864: 1.0, 720433: 3.0, 727059: 3.0, 727535: 1.0, 745657: 1.0, 746242: 1.0, 747160: 2.0, 747175: 2.0, 747335: 2.0, 751977: 1.0, 754703: 1.0, 757909: 1.0, 778041: 1.0, 803534: 1.0, 817398: 1.0, 817636: 1.0, 820305: 1.0, 825338: 1.0, 856868: 1.0, 858751: 1.0, 874107: 1.0, 884498: 1.0, 892205: 1.0, 927915: 1.0, 940456: 1.0, 959254: 1.0, 979384: 1.0, 991333: 1.0, 1001626: 1.0, 1005963: 2.0, 1008421: 1.0, 1008433: 1.0, 1011048: 1.0, 1018883: 1.0, 1024397: 1.0, 1029566: 1.0, 1031804: 1.0, 1048501: 1.0})]"
      ]
     },
     "execution_count": 33,
     "metadata": {},
     "output_type": "execute_result"
    }
   ],
   "source": [
    "X.take(1)"
   ]
  },
  {
   "cell_type": "code",
   "execution_count": 34,
   "id": "180e5dce-b263-44e8-b3c6-fd421f3ab94e",
   "metadata": {},
   "outputs": [
    {
     "data": {
      "text/plain": [
       "[SparseVector(1048576, {28095: 1.0, 34218: 1.0, 39468: 1.0, 51283: 1.0, 52764: 1.0, 68587: 1.0, 77312: 1.0, 95471: 1.0, 107871: 1.0, 122106: 1.0, 164189: 1.0, 166274: 1.0, 197668: 1.0, 209586: 1.0, 210337: 1.0, 225917: 1.0, 226524: 1.0, 249736: 1.0, 253322: 1.0, 254439: 1.0, 265377: 1.0, 278679: 1.0, 284123: 1.0, 287413: 1.0, 320232: 1.0, 320734: 1.0, 329981: 1.0, 343346: 1.0, 356129: 1.0, 377531: 1.0, 388652: 1.0, 390641: 1.0, 392803: 1.0, 413123: 1.0, 415824: 1.0, 438289: 1.0, 442177: 1.0, 445493: 1.0, 473463: 1.0, 503235: 1.0, 517606: 1.0, 528622: 1.0, 531103: 1.0, 570812: 1.0, 582719: 1.0, 597288: 1.0, 623715: 1.0, 641650: 1.0, 643579: 1.0, 676975: 1.0, 704755: 1.0, 708864: 1.0, 720433: 1.0, 727059: 1.0, 727535: 1.0, 745657: 1.0, 746242: 1.0, 747160: 1.0, 747175: 1.0, 747335: 1.0, 751977: 1.0, 754703: 1.0, 757909: 1.0, 778041: 1.0, 803534: 1.0, 817398: 1.0, 817636: 1.0, 820305: 1.0, 825338: 1.0, 856868: 1.0, 858751: 1.0, 874107: 1.0, 884498: 1.0, 892205: 1.0, 927915: 1.0, 940456: 1.0, 959254: 1.0, 979384: 1.0, 991333: 1.0, 1001626: 1.0, 1005963: 1.0, 1008421: 1.0, 1008433: 1.0, 1011048: 1.0, 1018883: 1.0, 1024397: 1.0, 1029566: 1.0, 1031804: 1.0, 1048501: 1.0})]"
      ]
     },
     "execution_count": 34,
     "metadata": {},
     "output_type": "execute_result"
    }
   ],
   "source": [
    "Xb.take(1)"
   ]
  },
  {
   "cell_type": "markdown",
   "id": "f3760a88-298e-45c7-8de6-cbf3328c61f3",
   "metadata": {},
   "source": [
    "## IDF for Reducing Term Importance"
   ]
  },
  {
   "cell_type": "code",
   "execution_count": 35,
   "id": "950d3f86-0b8f-4eeb-acc4-43d81d31eadc",
   "metadata": {},
   "outputs": [],
   "source": [
    "from pyspark.mllib.feature import IDF"
   ]
  },
  {
   "cell_type": "code",
   "execution_count": 40,
   "id": "88b63d7c-f347-48b8-9722-f249cf009e53",
   "metadata": {},
   "outputs": [],
   "source": [
    "idf = IDF()"
   ]
  },
  {
   "cell_type": "code",
   "execution_count": 42,
   "id": "daf8c488-8c72-45c0-90c4-ee4cfa549ff6",
   "metadata": {},
   "outputs": [
    {
     "name": "stderr",
     "output_type": "stream",
     "text": [
      "                                                                                "
     ]
    },
    {
     "data": {
      "text/plain": [
       "<pyspark.mllib.feature.IDFModel at 0x1092e8f10>"
      ]
     },
     "execution_count": 42,
     "metadata": {},
     "output_type": "execute_result"
    }
   ],
   "source": [
    "idf.fit(Xb)"
   ]
  },
  {
   "cell_type": "code",
   "execution_count": 47,
   "id": "e8fe316a-bb81-4007-af49-1c016b5899fd",
   "metadata": {},
   "outputs": [
    {
     "name": "stderr",
     "output_type": "stream",
     "text": [
      "                                                                                "
     ]
    }
   ],
   "source": [
    "Xidf = idf.fit(Xb).transform(Xb)"
   ]
  },
  {
   "cell_type": "code",
   "execution_count": 49,
   "id": "348a7bc2-28e5-4095-ae2b-efacb4ce1f7c",
   "metadata": {},
   "outputs": [
    {
     "data": {
      "text/plain": [
       "[SparseVector(1048576, {28095: 2.8094, 34218: 3.7257, 39468: 2.0209, 51283: 3.7257, 52764: 3.7257, 68587: 2.4729, 77312: 2.8094, 95471: 0.2757, 107871: 3.7257, 122106: 1.6463, 164189: 3.0325, 166274: 3.7257, 197668: 0.0244, 209586: 3.7257, 210337: 0.0881, 225917: 0.4115, 226524: 1.123, 249736: 3.3202, 253322: 1.3278, 254439: 0.7813, 265377: 3.0325, 278679: 0.5068, 284123: 2.1163, 287413: 2.8094, 320232: 3.7257, 320734: 1.3278, 329981: 3.7257, 343346: 3.7257, 356129: 3.3202, 377531: 0.3935, 388652: 2.6271, 390641: 3.7257, 392803: 1.2833, 413123: 1.9339, 415824: 1.4231, 438289: 1.7798, 442177: 0.3584, 445493: 3.7257, 473463: 0.527, 503235: 0.4676, 517606: 0.3413, 528622: 1.5856, 531103: 2.8094, 570812: 3.7257, 582719: 2.6271, 597288: 2.6271, 623715: 3.7257, 641650: 0.8079, 643579: 3.7257, 676975: 3.7257, 704755: 2.6271, 708864: 1.4231, 720433: 0.0, 727059: 0.0244, 727535: 3.0325, 745657: 3.7257, 746242: 1.8539, 747160: 0.8925, 747175: 1.6463, 747335: 1.7108, 751977: 0.8079, 754703: 3.7257, 757909: 2.6271, 778041: 2.4729, 803534: 0.9223, 817398: 3.7257, 817636: 3.7257, 820305: 3.7257, 825338: 1.4231, 856868: 0.0881, 858751: 1.2408, 874107: 1.2833, 884498: 1.2833, 892205: 3.7257, 927915: 3.7257, 940456: 2.2216, 959254: 1.2, 979384: 0.0121, 991333: 3.7257, 1001626: 1.2, 1005963: 2.2216, 1008421: 1.9339, 1008433: 2.4729, 1011048: 3.7257, 1018883: 2.4729, 1024397: 2.0209, 1029566: 3.7257, 1031804: 0.8635, 1048501: 3.0325})]"
      ]
     },
     "execution_count": 49,
     "metadata": {},
     "output_type": "execute_result"
    }
   ],
   "source": [
    "Xidf.take(1)"
   ]
  },
  {
   "cell_type": "code",
   "execution_count": null,
   "id": "0be93964-844b-4ddf-80d2-183ade4f0531",
   "metadata": {},
   "outputs": [],
   "source": []
  }
 ],
 "metadata": {
  "kernelspec": {
   "display_name": "Python 3 (ipykernel)",
   "language": "python",
   "name": "python3"
  },
  "language_info": {
   "codemirror_mode": {
    "name": "ipython",
    "version": 3
   },
   "file_extension": ".py",
   "mimetype": "text/x-python",
   "name": "python",
   "nbconvert_exporter": "python",
   "pygments_lexer": "ipython3",
   "version": "3.11.9"
  }
 },
 "nbformat": 4,
 "nbformat_minor": 5
}
