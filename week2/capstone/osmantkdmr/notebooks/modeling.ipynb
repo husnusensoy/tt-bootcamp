{
 "cells": [
  {
   "cell_type": "code",
   "execution_count": 1,
   "metadata": {},
   "outputs": [],
   "source": [
    "import re\n",
    "\n",
    "import lightgbm as lgb\n",
    "import pandas as pd\n",
    "from imblearn.over_sampling import SMOTE\n",
    "from sklearn.metrics import (average_precision_score, classification_report,\n",
    "                             confusion_matrix, fbeta_score)\n",
    "from sklearn.model_selection import train_test_split"
   ]
  },
  {
   "cell_type": "code",
   "execution_count": 2,
   "metadata": {},
   "outputs": [],
   "source": [
    "def find_threshold(y_pred_final, target_rate=0.01, tolerance=0.00001, max_iter=1000):    \n",
    "    left = float(y_pred_final.min())\n",
    "    right = float(y_pred_final.max())\n",
    "    \n",
    "    iteration = 0\n",
    "    best_threshold = None\n",
    "    best_diff = float('inf')\n",
    "    \n",
    "    while iteration < max_iter:\n",
    "        mid = (left + right) / 2\n",
    "        current_rate = (y_pred_final > mid).sum() / len(y_pred_final)\n",
    "        diff = abs(current_rate - target_rate)\n",
    "        \n",
    "        if diff < best_diff:\n",
    "            best_threshold = mid\n",
    "            best_diff = diff\n",
    "        \n",
    "        if diff <= tolerance:\n",
    "            return mid\n",
    "        \n",
    "        # Binary search\n",
    "        if current_rate > target_rate:\n",
    "            left = mid\n",
    "        else:\n",
    "            right = mid\n",
    "            \n",
    "        iteration += 1\n",
    "        \n",
    "        if abs(right - left) < tolerance:\n",
    "            return best_threshold\n",
    "    \n",
    "    return best_threshold"
   ]
  },
  {
   "cell_type": "code",
   "execution_count": 3,
   "metadata": {},
   "outputs": [],
   "source": [
    "df = pd.read_csv(\"../Data/capstone_final.csv\")"
   ]
  },
  {
   "cell_type": "code",
   "execution_count": 4,
   "metadata": {},
   "outputs": [
    {
     "name": "stdout",
     "output_type": "stream",
     "text": [
      "<class 'pandas.core.frame.DataFrame'>\n",
      "RangeIndex: 4422491 entries, 0 to 4422490\n",
      "Data columns (total 59 columns):\n",
      " #   Column                            Dtype  \n",
      "---  ------                            -----  \n",
      " 0   Unnamed: 0                        int64  \n",
      " 1   id                                object \n",
      " 2   age                               int64  \n",
      " 3   tenure                            float64\n",
      " 4   service_type                      object \n",
      " 5   avg_call_duration                 float64\n",
      " 6   data_usage                        float64\n",
      " 7   roaming_usage                     float64\n",
      " 8   monthly_charge                    float64\n",
      " 9   overdue_payments                  int64  \n",
      " 10  auto_payment                      int64  \n",
      " 11  avg_top_up_count                  int64  \n",
      " 12  call_drops                        float64\n",
      " 13  customer_support_calls            int64  \n",
      " 14  satisfaction_score                float64\n",
      " 15  churn                             int64  \n",
      " 16  İzleGo                            int64  \n",
      " 17  RitimGo                           int64  \n",
      " 18  CüzdanX                           int64  \n",
      " 19  HızlıPazar                        int64  \n",
      " 20  Konuşalım                         int64  \n",
      " 21  Prepaid                           int64  \n",
      " 22  Broadband                         int64  \n",
      " 23  Postpaid                          int64  \n",
      " 24  tenure/age                        float64\n",
      " 25  age-tenure                        float64\n",
      " 26  age_group                         object \n",
      " 27  tenure_years                      float64\n",
      " 28  tenure_group                      object \n",
      " 29  tenure_squared                    float64\n",
      " 30  data_efficiency                   float64\n",
      " 31  has_roaming                       int64  \n",
      " 32  overdue_frequency                 float64\n",
      " 33  call_drop_rate                    float64\n",
      " 34  support_call_rate                 float64\n",
      " 35  Broadband_data_interaction        float64\n",
      " 36  Postpaid_data_interaction         float64\n",
      " 37  Prepaid_data_interaction          float64\n",
      " 38  auto_payment_overdue              int64  \n",
      " 39  satisfaction_support_interaction  float64\n",
      " 40  any_overdue                       int64  \n",
      " 41  high_cost                         int64  \n",
      " 42  low_satisfaction_high_support     int64  \n",
      " 43  is_prepaid                        int64  \n",
      " 44  prepaid_top_ups                   int64  \n",
      " 45  voice_data_ratio                  float64\n",
      " 46  age_squared                       int64  \n",
      " 47  0, 47                             bool   \n",
      " 48  48-106                            bool   \n",
      " 49  107-188                           bool   \n",
      " 50  189-300                           bool   \n",
      " 51  301-500                           bool   \n",
      " 52  501-inf                           bool   \n",
      " 53  18-24                             bool   \n",
      " 54  25-34                             bool   \n",
      " 55  35-44                             bool   \n",
      " 56  45-54                             bool   \n",
      " 57  55-64                             bool   \n",
      " 58  65+                               bool   \n",
      "dtypes: bool(12), float64(20), int64(23), object(4)\n",
      "memory usage: 1.6+ GB\n"
     ]
    }
   ],
   "source": [
    "df.info()"
   ]
  },
  {
   "cell_type": "code",
   "execution_count": 5,
   "metadata": {},
   "outputs": [
    {
     "data": {
      "text/html": [
       "<div>\n",
       "<style scoped>\n",
       "    .dataframe tbody tr th:only-of-type {\n",
       "        vertical-align: middle;\n",
       "    }\n",
       "\n",
       "    .dataframe tbody tr th {\n",
       "        vertical-align: top;\n",
       "    }\n",
       "\n",
       "    .dataframe thead th {\n",
       "        text-align: right;\n",
       "    }\n",
       "</style>\n",
       "<table border=\"1\" class=\"dataframe\">\n",
       "  <thead>\n",
       "    <tr style=\"text-align: right;\">\n",
       "      <th></th>\n",
       "      <th>Unnamed: 0</th>\n",
       "      <th>id</th>\n",
       "      <th>age</th>\n",
       "      <th>tenure</th>\n",
       "      <th>service_type</th>\n",
       "      <th>avg_call_duration</th>\n",
       "      <th>data_usage</th>\n",
       "      <th>roaming_usage</th>\n",
       "      <th>monthly_charge</th>\n",
       "      <th>overdue_payments</th>\n",
       "      <th>...</th>\n",
       "      <th>107-188</th>\n",
       "      <th>189-300</th>\n",
       "      <th>301-500</th>\n",
       "      <th>501-inf</th>\n",
       "      <th>18-24</th>\n",
       "      <th>25-34</th>\n",
       "      <th>35-44</th>\n",
       "      <th>45-54</th>\n",
       "      <th>55-64</th>\n",
       "      <th>65+</th>\n",
       "    </tr>\n",
       "  </thead>\n",
       "  <tbody>\n",
       "    <tr>\n",
       "      <th>0</th>\n",
       "      <td>0</td>\n",
       "      <td>bf7ff6b6-5f13-48e6-8622-f0e3d68df951</td>\n",
       "      <td>32</td>\n",
       "      <td>162.0</td>\n",
       "      <td>Broadband</td>\n",
       "      <td>0.000000</td>\n",
       "      <td>162.000000</td>\n",
       "      <td>0.00</td>\n",
       "      <td>281.63</td>\n",
       "      <td>3</td>\n",
       "      <td>...</td>\n",
       "      <td>True</td>\n",
       "      <td>False</td>\n",
       "      <td>False</td>\n",
       "      <td>False</td>\n",
       "      <td>False</td>\n",
       "      <td>True</td>\n",
       "      <td>False</td>\n",
       "      <td>False</td>\n",
       "      <td>False</td>\n",
       "      <td>False</td>\n",
       "    </tr>\n",
       "    <tr>\n",
       "      <th>1</th>\n",
       "      <td>4</td>\n",
       "      <td>9c68ea18-5381-464c-9641-a28b9e965494</td>\n",
       "      <td>51</td>\n",
       "      <td>159.0</td>\n",
       "      <td>Postpaid</td>\n",
       "      <td>60.627371</td>\n",
       "      <td>74.920000</td>\n",
       "      <td>58.32</td>\n",
       "      <td>788.59</td>\n",
       "      <td>1</td>\n",
       "      <td>...</td>\n",
       "      <td>True</td>\n",
       "      <td>False</td>\n",
       "      <td>False</td>\n",
       "      <td>False</td>\n",
       "      <td>False</td>\n",
       "      <td>False</td>\n",
       "      <td>False</td>\n",
       "      <td>True</td>\n",
       "      <td>False</td>\n",
       "      <td>False</td>\n",
       "    </tr>\n",
       "    <tr>\n",
       "      <th>2</th>\n",
       "      <td>6</td>\n",
       "      <td>e8c012b8-b4fa-4235-8984-7ca28b3c193c</td>\n",
       "      <td>38</td>\n",
       "      <td>207.0</td>\n",
       "      <td>Postpaid</td>\n",
       "      <td>91.220000</td>\n",
       "      <td>100.061724</td>\n",
       "      <td>46.43</td>\n",
       "      <td>930.60</td>\n",
       "      <td>1</td>\n",
       "      <td>...</td>\n",
       "      <td>False</td>\n",
       "      <td>True</td>\n",
       "      <td>False</td>\n",
       "      <td>False</td>\n",
       "      <td>False</td>\n",
       "      <td>False</td>\n",
       "      <td>True</td>\n",
       "      <td>False</td>\n",
       "      <td>False</td>\n",
       "      <td>False</td>\n",
       "    </tr>\n",
       "    <tr>\n",
       "      <th>3</th>\n",
       "      <td>8</td>\n",
       "      <td>6c05cdf2-1b0f-425d-bc09-5c0c66a437ca</td>\n",
       "      <td>50</td>\n",
       "      <td>109.0</td>\n",
       "      <td>Postpaid</td>\n",
       "      <td>44.480000</td>\n",
       "      <td>162.370000</td>\n",
       "      <td>45.74</td>\n",
       "      <td>460.61</td>\n",
       "      <td>4</td>\n",
       "      <td>...</td>\n",
       "      <td>True</td>\n",
       "      <td>False</td>\n",
       "      <td>False</td>\n",
       "      <td>False</td>\n",
       "      <td>False</td>\n",
       "      <td>False</td>\n",
       "      <td>False</td>\n",
       "      <td>True</td>\n",
       "      <td>False</td>\n",
       "      <td>False</td>\n",
       "    </tr>\n",
       "    <tr>\n",
       "      <th>4</th>\n",
       "      <td>9</td>\n",
       "      <td>906cd5c6-6584-48f9-9d24-b6a97e1f5686</td>\n",
       "      <td>52</td>\n",
       "      <td>219.0</td>\n",
       "      <td>Broadband</td>\n",
       "      <td>0.000000</td>\n",
       "      <td>192.130000</td>\n",
       "      <td>0.00</td>\n",
       "      <td>246.40</td>\n",
       "      <td>1</td>\n",
       "      <td>...</td>\n",
       "      <td>False</td>\n",
       "      <td>True</td>\n",
       "      <td>False</td>\n",
       "      <td>False</td>\n",
       "      <td>False</td>\n",
       "      <td>False</td>\n",
       "      <td>False</td>\n",
       "      <td>True</td>\n",
       "      <td>False</td>\n",
       "      <td>False</td>\n",
       "    </tr>\n",
       "  </tbody>\n",
       "</table>\n",
       "<p>5 rows × 59 columns</p>\n",
       "</div>"
      ],
      "text/plain": [
       "   Unnamed: 0                                    id  age  tenure service_type  \\\n",
       "0           0  bf7ff6b6-5f13-48e6-8622-f0e3d68df951   32   162.0    Broadband   \n",
       "1           4  9c68ea18-5381-464c-9641-a28b9e965494   51   159.0     Postpaid   \n",
       "2           6  e8c012b8-b4fa-4235-8984-7ca28b3c193c   38   207.0     Postpaid   \n",
       "3           8  6c05cdf2-1b0f-425d-bc09-5c0c66a437ca   50   109.0     Postpaid   \n",
       "4           9  906cd5c6-6584-48f9-9d24-b6a97e1f5686   52   219.0    Broadband   \n",
       "\n",
       "   avg_call_duration  data_usage  roaming_usage  monthly_charge  \\\n",
       "0           0.000000  162.000000           0.00          281.63   \n",
       "1          60.627371   74.920000          58.32          788.59   \n",
       "2          91.220000  100.061724          46.43          930.60   \n",
       "3          44.480000  162.370000          45.74          460.61   \n",
       "4           0.000000  192.130000           0.00          246.40   \n",
       "\n",
       "   overdue_payments  ...  107-188  189-300  301-500  501-inf  18-24  25-34  \\\n",
       "0                 3  ...     True    False    False    False  False   True   \n",
       "1                 1  ...     True    False    False    False  False  False   \n",
       "2                 1  ...    False     True    False    False  False  False   \n",
       "3                 4  ...     True    False    False    False  False  False   \n",
       "4                 1  ...    False     True    False    False  False  False   \n",
       "\n",
       "   35-44  45-54  55-64    65+  \n",
       "0  False  False  False  False  \n",
       "1  False   True  False  False  \n",
       "2   True  False  False  False  \n",
       "3  False   True  False  False  \n",
       "4  False   True  False  False  \n",
       "\n",
       "[5 rows x 59 columns]"
      ]
     },
     "execution_count": 5,
     "metadata": {},
     "output_type": "execute_result"
    }
   ],
   "source": [
    "df.head()"
   ]
  },
  {
   "cell_type": "code",
   "execution_count": 6,
   "metadata": {},
   "outputs": [],
   "source": [
    "def clean_feature_names(df):\n",
    "    \"\"\"\n",
    "    Clean DataFrame column names to be compatible with LightGBM JSON format.\n",
    "    \n",
    "    Parameters:\n",
    "    -----------\n",
    "    df : pandas.DataFrame\n",
    "        Input DataFrame with potentially problematic column names\n",
    "    \n",
    "    Returns:\n",
    "    --------\n",
    "    pandas.DataFrame\n",
    "        DataFrame with cleaned column names and a mapping of old to new names\n",
    "    \"\"\"\n",
    "    # Create a copy of the DataFrame\n",
    "    df_clean = df.copy()\n",
    "    \n",
    "    # Dictionary to store original and cleaned column names\n",
    "    name_mapping = {}\n",
    "    \n",
    "    for col in df.columns:\n",
    "        # Replace special characters with underscore\n",
    "        cleaned_name = re.sub(r'[^\\w\\s]', '_', str(col))\n",
    "        # Replace spaces with underscore\n",
    "        cleaned_name = cleaned_name.replace(' ', '_')\n",
    "        # Ensure the name starts with a letter or underscore\n",
    "        if not cleaned_name[0].isalpha() and cleaned_name[0] != '_':\n",
    "            cleaned_name = 'f_' + cleaned_name\n",
    "        # Remove multiple consecutive underscores\n",
    "        cleaned_name = re.sub(r'_+', '_', cleaned_name)\n",
    "        # Remove trailing underscores\n",
    "        cleaned_name = cleaned_name.rstrip('_')\n",
    "        \n",
    "        name_mapping[col] = cleaned_name\n",
    "        \n",
    "    # Rename the columns\n",
    "    df_clean.columns = [name_mapping[col] for col in df.columns]\n",
    "    \n",
    "    return df_clean, name_mapping"
   ]
  },
  {
   "cell_type": "code",
   "execution_count": 7,
   "metadata": {},
   "outputs": [],
   "source": [
    "df, name_mapping = clean_feature_names(df)"
   ]
  },
  {
   "cell_type": "code",
   "execution_count": 8,
   "metadata": {},
   "outputs": [],
   "source": [
    "X = df.drop(axis=1, columns=[\"id\", \"churn\", \"service_type\", \"age_group\", \"tenure_group\"])\n",
    "y = df[\"churn\"]"
   ]
  },
  {
   "cell_type": "code",
   "execution_count": 9,
   "metadata": {},
   "outputs": [],
   "source": [
    "X_train, X_test, y_train, y_test = train_test_split(X, y, test_size=0.33, random_state=42)"
   ]
  },
  {
   "cell_type": "code",
   "execution_count": 10,
   "metadata": {},
   "outputs": [],
   "source": [
    "smote = SMOTE(random_state=42)\n",
    "X_resampled, y_resampled = smote.fit_resample(X_train, y_train)"
   ]
  },
  {
   "cell_type": "code",
   "execution_count": 11,
   "metadata": {},
   "outputs": [],
   "source": [
    "def objective(trial):\n",
    "    params = {\n",
    "        \"objective\": \"binary\",\n",
    "        \"metric\": \"binary_error\",\n",
    "        \"boosting_type\": \"gbdt\",\n",
    "        \"lambda_l1\": trial.suggest_loguniform(\"lambda_l1\", 1e-8, 10.0),\n",
    "        \"lambda_l2\": trial.suggest_loguniform(\"lambda_l2\", 1e-8, 10.0),\n",
    "        \"num_leaves\": trial.suggest_int(\"num_leaves\", 2, 256),\n",
    "        \"feature_fraction\": trial.suggest_uniform(\"feature_fraction\", 0.4, 1.0),\n",
    "        \"bagging_fraction\": trial.suggest_uniform(\"bagging_fraction\", 0.4, 1.0),\n",
    "        \"bagging_freq\": trial.suggest_int(\"bagging_freq\", 1, 7),\n",
    "        \"min_child_samples\": trial.suggest_int(\"min_child_samples\", 5, 100),\n",
    "    }\n",
    "    \n",
    "    # Modeli Eğitme\n",
    "    dtrain = lgb.Dataset(X_resampled, label=y_resampled)\n",
    "    gbm = lgb.train(params, dtrain, valid_sets=[dtrain], num_boost_round=100)\n",
    "    \n",
    "    # Test Seti Üzerinde Tahmin Yapma\n",
    "    y_pred = gbm.predict(X_test)\n",
    "    y_pred = pd.Series(y_pred > find_threshold(y_pred)).astype(int)\n",
    "    return fbeta_score(y_test, y_pred,beta=2)"
   ]
  },
  {
   "cell_type": "code",
   "execution_count": 12,
   "metadata": {},
   "outputs": [],
   "source": [
    "#study = optuna.create_study(direction=\"maximize\")\n",
    "#study.optimize(objective, n_trials=50,show_progress_bar=True)"
   ]
  },
  {
   "cell_type": "code",
   "execution_count": 13,
   "metadata": {},
   "outputs": [],
   "source": [
    "#print(\"En İyi Parametreler:\", study.best_params)\n",
    "# lgb \n",
    "best_params = {'lambda_l1': 9.220621228154233, 'lambda_l2': 3.406326025123661e-05, 'num_leaves': 123, 'feature_fraction': 0.7741812226877789, 'bagging_fraction': 0.5694104742723753, 'bagging_freq': 6, 'min_child_samples': 20}"
   ]
  },
  {
   "cell_type": "code",
   "execution_count": 14,
   "metadata": {},
   "outputs": [
    {
     "name": "stdout",
     "output_type": "stream",
     "text": [
      "[LightGBM] [Info] Number of positive: 31298, number of negative: 2931770\n",
      "[LightGBM] [Info] Auto-choosing row-wise multi-threading, the overhead of testing was 0.119710 seconds.\n",
      "You can set `force_row_wise=true` to remove the overhead.\n",
      "And if memory is not enough, you can set `force_col_wise=true`.\n",
      "[LightGBM] [Info] Total Bins 5526\n",
      "[LightGBM] [Info] Number of data points in the train set: 2963068, number of used features: 54\n",
      "[LightGBM] [Info] [binary:BoostFromScore]: pavg=0.010563 -> initscore=-4.539807\n",
      "[LightGBM] [Info] Start training from score -4.539807\n"
     ]
    }
   ],
   "source": [
    "# Optimum Parametrelerle Model Eğitme\n",
    "#best_params = study.best_params\n",
    "best_params[\"objective\"] = \"binary\"\n",
    "best_params[\"metric\"] = \"binary_error\"\n",
    "\n",
    "final_model = lgb.train(best_params, lgb.Dataset(X_train, label=y_train), num_boost_round=100)\n",
    "\n",
    "# Test Verisinde Son Modelin Başarısı\n",
    "y_pred_final = final_model.predict(X_test)"
   ]
  },
  {
   "cell_type": "code",
   "execution_count": null,
   "metadata": {},
   "outputs": [
    {
     "data": {
      "text/plain": [
       "0.050541196091667906"
      ]
     },
     "execution_count": 15,
     "metadata": {},
     "output_type": "execute_result"
    }
   ],
   "source": [
    "average_precision_score(y_test,y_pred_final)"
   ]
  },
  {
   "cell_type": "code",
   "execution_count": 16,
   "metadata": {},
   "outputs": [],
   "source": [
    "y_pred_bool = pd.Series(y_pred_final > find_threshold(y_pred_final)).astype(int)"
   ]
  },
  {
   "cell_type": "code",
   "execution_count": 17,
   "metadata": {},
   "outputs": [
    {
     "data": {
      "text/plain": [
       "array([[1430319,   13321],\n",
       "       [  14505,    1278]], dtype=int64)"
      ]
     },
     "execution_count": 17,
     "metadata": {},
     "output_type": "execute_result"
    }
   ],
   "source": [
    "confusion_matrix(y_test,y_pred_bool)"
   ]
  },
  {
   "cell_type": "code",
   "execution_count": 18,
   "metadata": {},
   "outputs": [
    {
     "name": "stdout",
     "output_type": "stream",
     "text": [
      "              precision    recall  f1-score   support\n",
      "\n",
      "           0       0.99      0.99      0.99   1443640\n",
      "           1       0.09      0.08      0.08     15783\n",
      "\n",
      "    accuracy                           0.98   1459423\n",
      "   macro avg       0.54      0.54      0.54   1459423\n",
      "weighted avg       0.98      0.98      0.98   1459423\n",
      "\n"
     ]
    }
   ],
   "source": [
    "print(classification_report(y_test, y_pred_bool))"
   ]
  },
  {
   "cell_type": "code",
   "execution_count": null,
   "metadata": {},
   "outputs": [],
   "source": []
  }
 ],
 "metadata": {
  "kernelspec": {
   "display_name": "Python 3 (ipykernel)",
   "language": "python",
   "name": "python3"
  },
  "language_info": {
   "codemirror_mode": {
    "name": "ipython",
    "version": 3
   },
   "file_extension": ".py",
   "mimetype": "text/x-python",
   "name": "python",
   "nbconvert_exporter": "python",
   "pygments_lexer": "ipython3",
   "version": "3.11.9"
  }
 },
 "nbformat": 4,
 "nbformat_minor": 4
}
