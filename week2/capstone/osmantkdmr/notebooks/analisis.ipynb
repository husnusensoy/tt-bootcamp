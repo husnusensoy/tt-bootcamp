{
 "cells": [
  {
   "cell_type": "code",
   "execution_count": 47,
   "metadata": {},
   "outputs": [],
   "source": [
    "import duckdb"
   ]
  },
  {
   "cell_type": "code",
   "execution_count": 48,
   "metadata": {},
   "outputs": [],
   "source": [
    "db_path = \"../Data/capstone.db\""
   ]
  },
  {
   "cell_type": "code",
   "execution_count": 49,
   "metadata": {},
   "outputs": [
    {
     "data": {
      "application/vnd.jupyter.widget-view+json": {
       "model_id": "5b950181fb87400f81803e5a85c8b583",
       "version_major": 2,
       "version_minor": 0
      },
      "text/plain": [
       "FloatProgress(value=0.0, layout=Layout(width='auto'), style=ProgressStyle(bar_color='black'))"
      ]
     },
     "metadata": {},
     "output_type": "display_data"
    }
   ],
   "source": [
    "with duckdb.connect(db_path) as con:\n",
    "    con.execute(\"create table if not exists churn as select * from read_json('../Data/*.jsonl')\")"
   ]
  },
  {
   "cell_type": "code",
   "execution_count": 50,
   "metadata": {},
   "outputs": [
    {
     "name": "stdout",
     "output_type": "stream",
     "text": [
      "┌──────────────────────────────────────┬───────┬────────┬──────────────┬───────────────────┬────────────┬───────────────┬────────────────┬──────────────────┬──────────────┬──────────────────┬────────────┬────────────────────────┬────────────────────┬───────────┬─────────┐\n",
      "│                  id                  │  age  │ tenure │ service_type │ avg_call_duration │ data_usage │ roaming_usage │ monthly_charge │ overdue_payments │ auto_payment │ avg_top_up_count │ call_drops │ customer_support_calls │ satisfaction_score │   apps    │  churn  │\n",
      "│                 uuid                 │ int64 │ int64  │   varchar    │      double       │   double   │    double     │     double     │      int64       │   boolean    │      int64       │   int64    │         int64          │       double       │ varchar[] │ boolean │\n",
      "├──────────────────────────────────────┼───────┼────────┼──────────────┼───────────────────┼────────────┼───────────────┼────────────────┼──────────────────┼──────────────┼──────────────────┼────────────┼────────────────────────┼────────────────────┼───────────┼─────────┤\n",
      "│ 51893f29-e6c2-45d3-807c-e1280d3d7b90 │    18 │     53 │ Prepaid      │            106.74 │     139.72 │         47.31 │          59.45 │                0 │ NULL         │               25 │         18 │                     13 │               1.34 │ []        │ false   │\n",
      "│ a568caf1-d851-4847-a9f5-20ef9017fa92 │    26 │     15 │ Prepaid      │             31.55 │      12.14 │         21.52 │        1221.65 │                0 │ NULL         │               51 │          8 │                      3 │               2.57 │ []        │ false   │\n",
      "│ c611bf0e-a013-44dc-9939-bd33dab16d14 │    32 │    152 │ Postpaid     │             30.64 │      10.17 │         31.11 │        1170.45 │                0 │ true         │                0 │         13 │                     10 │               8.02 │ []        │ false   │\n",
      "│ 9284b7b8-a4ef-49a7-9fa4-333954491f57 │    33 │     35 │ Prepaid      │              NULL │       NULL │         36.03 │        2418.91 │                0 │ NULL         │               19 │          7 │                     11 │               5.96 │ [RitimGo] │ false   │\n",
      "│ e205b674-a6e6-43c5-aed7-9497c37c5c82 │    18 │    243 │ Prepaid      │             85.62 │     164.79 │          46.4 │        1518.19 │                0 │ NULL         │               99 │         15 │                      6 │               8.29 │ []        │ false   │\n",
      "└──────────────────────────────────────┴───────┴────────┴──────────────┴───────────────────┴────────────┴───────────────┴────────────────┴──────────────────┴──────────────┴──────────────────┴────────────┴────────────────────────┴────────────────────┴───────────┴─────────┘\n",
      "\n"
     ]
    }
   ],
   "source": [
    "with duckdb.connect(db_path) as con:\n",
    "    con.sql(\"select * from churn limit 5\").show()"
   ]
  },
  {
   "cell_type": "code",
   "execution_count": 51,
   "metadata": {},
   "outputs": [
    {
     "data": {
      "application/vnd.jupyter.widget-view+json": {
       "model_id": "3e5e1b555f8d4b36a07edab9e103de1d",
       "version_major": 2,
       "version_minor": 0
      },
      "text/plain": [
       "FloatProgress(value=0.0, layout=Layout(width='auto'), style=ProgressStyle(bar_color='black'))"
      ]
     },
     "metadata": {},
     "output_type": "display_data"
    },
    {
     "name": "stdout",
     "output_type": "stream",
     "text": [
      "┌──────────┬───────┬────────┬──────────────┬───────────────────┬────────────┬───────────────┬────────────────┬──────────────────┬──────────────┬──────────────────┬────────────┬────────────────────────┬────────────────────┬───────┬───────┐\n",
      "│    id    │  age  │ tenure │ service_type │ avg_call_duration │ data_usage │ roaming_usage │ monthly_charge │ overdue_payments │ auto_payment │ avg_top_up_count │ call_drops │ customer_support_calls │ satisfaction_score │ apps  │ churn │\n",
      "│  int64   │ int64 │ int64  │    int64     │       int64       │   int64    │     int64     │     int64      │      int64       │    int64     │      int64       │   int64    │         int64          │       int64        │ int64 │ int64 │\n",
      "├──────────┼───────┼────────┼──────────────┼───────────────────┼────────────┼───────────────┼────────────────┼──────────────────┼──────────────┼──────────────────┼────────────┼────────────────────────┼────────────────────┼───────┼───────┤\n",
      "│ 10000000 │    63 │    740 │            3 │             11901 │      19991 │          6001 │         247001 │                6 │            2 │               97 │         21 │                     21 │                901 │    30 │     2 │\n",
      "└──────────┴───────┴────────┴──────────────┴───────────────────┴────────────┴───────────────┴────────────────┴──────────────────┴──────────────┴──────────────────┴────────────┴────────────────────────┴────────────────────┴───────┴───────┘\n",
      "\n"
     ]
    }
   ],
   "source": [
    "with duckdb.connect(db_path) as con:\n",
    "    con.sql(\"select count(Distinct COLUMNS(*) ) from churn\").show()"
   ]
  },
  {
   "cell_type": "code",
   "execution_count": 52,
   "metadata": {},
   "outputs": [],
   "source": [
    "#apps = ['İzleGo', 'RitimGo', 'CüzdanX', 'HızlıPazar', 'Konuşalım']"
   ]
  },
  {
   "cell_type": "code",
   "execution_count": 53,
   "metadata": {},
   "outputs": [],
   "source": [
    "query = \"\"\"\n",
    "create table if not exists unpacked_app as (SELECT \n",
    "    *,\n",
    "    (CASE WHEN 'İzleGo' = ANY(apps) THEN 1 ELSE 0 END) AS İzleGo,\n",
    "    (CASE WHEN 'RitimGo' = ANY(apps) THEN 1 ELSE 0 END) AS RitimGo,\n",
    "    (CASE WHEN 'CüzdanX' = ANY(apps) THEN 1 ELSE 0 END) AS CüzdanX,\n",
    "    (CASE WHEN 'HızlıPazar' = ANY(apps) THEN 1 ELSE 0 END) AS HızlıPazar,\n",
    "    (CASE WHEN 'Konuşalım' = ANY(apps) THEN 1 ELSE 0 END) AS Konuşalım\n",
    "FROM churn);\n",
    "\n",
    "\"\"\""
   ]
  },
  {
   "cell_type": "code",
   "execution_count": 54,
   "metadata": {},
   "outputs": [
    {
     "data": {
      "application/vnd.jupyter.widget-view+json": {
       "model_id": "b363b25b74374119a5e132312b0b2dc7",
       "version_major": 2,
       "version_minor": 0
      },
      "text/plain": [
       "FloatProgress(value=0.0, layout=Layout(width='auto'), style=ProgressStyle(bar_color='black'))"
      ]
     },
     "metadata": {},
     "output_type": "display_data"
    }
   ],
   "source": [
    "with duckdb.connect(db_path) as con:\n",
    "    con.execute(query)"
   ]
  },
  {
   "cell_type": "code",
   "execution_count": 55,
   "metadata": {},
   "outputs": [
    {
     "name": "stdout",
     "output_type": "stream",
     "text": [
      "┌──────────────────────────────────────┬───────┬────────┬──────────────┬───────────────────┬────────────┬───────────────┬────────────────┬──────────────────┬──────────────┬──────────────────┬────────────┬────────────────────────┬────────────────────┬─────────────┬─────────┬────────┬─────────┬─────────┬────────────┬───────────┐\n",
      "│                  id                  │  age  │ tenure │ service_type │ avg_call_duration │ data_usage │ roaming_usage │ monthly_charge │ overdue_payments │ auto_payment │ avg_top_up_count │ call_drops │ customer_support_calls │ satisfaction_score │    apps     │  churn  │ İzleGo │ RitimGo │ CüzdanX │ HızlıPazar │ Konuşalım │\n",
      "│                 uuid                 │ int64 │ int64  │   varchar    │      double       │   double   │    double     │     double     │      int64       │   boolean    │      int64       │   int64    │         int64          │       double       │  varchar[]  │ boolean │ int32  │  int32  │  int32  │   int32    │   int32   │\n",
      "├──────────────────────────────────────┼───────┼────────┼──────────────┼───────────────────┼────────────┼───────────────┼────────────────┼──────────────────┼──────────────┼──────────────────┼────────────┼────────────────────────┼────────────────────┼─────────────┼─────────┼────────┼─────────┼─────────┼────────────┼───────────┤\n",
      "│ bf7ff6b6-5f13-48e6-8622-f0e3d68df951 │    32 │    162 │ Broadband    │              NULL │      162.0 │          NULL │         281.63 │                3 │ true         │                0 │       NULL │                     12 │               2.66 │ []          │ false   │      0 │       0 │       0 │          0 │         0 │\n",
      "│ a5d84084-eab8-427d-8fe8-b3cb2f038322 │    18 │    247 │ Prepaid      │             99.28 │      60.68 │          44.0 │         717.59 │                0 │ NULL         │               88 │          6 │                     12 │               1.97 │ []          │ false   │      0 │       0 │       0 │          0 │         0 │\n",
      "│ 186a48ba-5e69-4598-b520-b0f080fc8c3d │    29 │    240 │ Prepaid      │             29.09 │      58.79 │          2.96 │         840.83 │                0 │ NULL         │               48 │          8 │                     20 │                9.7 │ [Konuşalım] │ false   │      0 │       0 │       0 │          0 │         1 │\n",
      "│ 28fc770f-26e3-4c1b-a34a-e352a178babc │    28 │    139 │ Prepaid      │             35.43 │      76.22 │         54.83 │        2456.37 │                0 │ NULL         │               69 │          5 │                     20 │               7.82 │ [Konuşalım] │ false   │      0 │       0 │       0 │          0 │         1 │\n",
      "│ 9c68ea18-5381-464c-9641-a28b9e965494 │    51 │    159 │ Postpaid     │              NULL │      74.92 │         58.32 │         788.59 │                1 │ false        │                0 │          2 │                     14 │               6.04 │ []          │ false   │      0 │       0 │       0 │          0 │         0 │\n",
      "└──────────────────────────────────────┴───────┴────────┴──────────────┴───────────────────┴────────────┴───────────────┴────────────────┴──────────────────┴──────────────┴──────────────────┴────────────┴────────────────────────┴────────────────────┴─────────────┴─────────┴────────┴─────────┴─────────┴────────────┴───────────┘\n",
      "\n"
     ]
    }
   ],
   "source": [
    "with duckdb.connect(db_path) as con:\n",
    "    con.sql(\"select * from unpacked_app limit 5\").show()"
   ]
  },
  {
   "cell_type": "code",
   "execution_count": 56,
   "metadata": {},
   "outputs": [],
   "source": [
    "con = duckdb.connect(db_path)"
   ]
  },
  {
   "cell_type": "code",
   "execution_count": 57,
   "metadata": {},
   "outputs": [],
   "source": [
    "query = \"\"\"\n",
    "select distinct service_type from unpacked_app\n",
    "\n",
    "\"\"\""
   ]
  },
  {
   "cell_type": "code",
   "execution_count": 58,
   "metadata": {},
   "outputs": [
    {
     "name": "stdout",
     "output_type": "stream",
     "text": [
      "┌──────────────┐\n",
      "│ service_type │\n",
      "│   varchar    │\n",
      "├──────────────┤\n",
      "│ Broadband    │\n",
      "│ Postpaid     │\n",
      "│ Prepaid      │\n",
      "└──────────────┘\n",
      "\n"
     ]
    }
   ],
   "source": [
    "con.sql(query).show()"
   ]
  },
  {
   "cell_type": "code",
   "execution_count": 59,
   "metadata": {},
   "outputs": [
    {
     "name": "stdout",
     "output_type": "stream",
     "text": [
      "┌──────────────────────────────────────┬───────┬────────┬──────────────┬───────────────────┬────────────┬───────────────┬────────────────┬──────────────────┬──────────────┬──────────────────┬────────────┬────────────────────────┬────────────────────┬─────────────┬─────────┬────────┬─────────┬─────────┬────────────┬───────────┐\n",
      "│                  id                  │  age  │ tenure │ service_type │ avg_call_duration │ data_usage │ roaming_usage │ monthly_charge │ overdue_payments │ auto_payment │ avg_top_up_count │ call_drops │ customer_support_calls │ satisfaction_score │    apps     │  churn  │ İzleGo │ RitimGo │ CüzdanX │ HızlıPazar │ Konuşalım │\n",
      "│                 uuid                 │ int64 │ int64  │   varchar    │      double       │   double   │    double     │     double     │      int64       │   boolean    │      int64       │   int64    │         int64          │       double       │  varchar[]  │ boolean │ int32  │  int32  │  int32  │   int32    │   int32   │\n",
      "├──────────────────────────────────────┼───────┼────────┼──────────────┼───────────────────┼────────────┼───────────────┼────────────────┼──────────────────┼──────────────┼──────────────────┼────────────┼────────────────────────┼────────────────────┼─────────────┼─────────┼────────┼─────────┼─────────┼────────────┼───────────┤\n",
      "│ bf7ff6b6-5f13-48e6-8622-f0e3d68df951 │    32 │    162 │ Broadband    │              NULL │      162.0 │          NULL │         281.63 │                3 │ true         │                0 │       NULL │                     12 │               2.66 │ []          │ false   │      0 │       0 │       0 │          0 │         0 │\n",
      "│ a5d84084-eab8-427d-8fe8-b3cb2f038322 │    18 │    247 │ Prepaid      │             99.28 │      60.68 │          44.0 │         717.59 │                0 │ NULL         │               88 │          6 │                     12 │               1.97 │ []          │ false   │      0 │       0 │       0 │          0 │         0 │\n",
      "│ 186a48ba-5e69-4598-b520-b0f080fc8c3d │    29 │    240 │ Prepaid      │             29.09 │      58.79 │          2.96 │         840.83 │                0 │ NULL         │               48 │          8 │                     20 │                9.7 │ [Konuşalım] │ false   │      0 │       0 │       0 │          0 │         1 │\n",
      "│ 28fc770f-26e3-4c1b-a34a-e352a178babc │    28 │    139 │ Prepaid      │             35.43 │      76.22 │         54.83 │        2456.37 │                0 │ NULL         │               69 │          5 │                     20 │               7.82 │ [Konuşalım] │ false   │      0 │       0 │       0 │          0 │         1 │\n",
      "│ 9c68ea18-5381-464c-9641-a28b9e965494 │    51 │    159 │ Postpaid     │              NULL │      74.92 │         58.32 │         788.59 │                1 │ false        │                0 │          2 │                     14 │               6.04 │ []          │ false   │      0 │       0 │       0 │          0 │         0 │\n",
      "└──────────────────────────────────────┴───────┴────────┴──────────────┴───────────────────┴────────────┴───────────────┴────────────────┴──────────────────┴──────────────┴──────────────────┴────────────┴────────────────────────┴────────────────────┴─────────────┴─────────┴────────┴─────────┴─────────┴────────────┴───────────┘\n",
      "\n"
     ]
    }
   ],
   "source": [
    "con.sql(\"select * from unpacked_app limit 5\").show()"
   ]
  },
  {
   "cell_type": "code",
   "execution_count": 60,
   "metadata": {},
   "outputs": [
    {
     "name": "stdout",
     "output_type": "stream",
     "text": [
      "┌──────────────────────────────────────┬───────┬────────┬──────────────┬───────────────────┬────────────┬───────────────┬────────────────┬──────────────────┬──────────────┬──────────────────┬────────────┬────────────────────────┬────────────────────┬─────────┬────────┬─────────┬─────────┬────────────┬───────────┐\n",
      "│                  id                  │  age  │ tenure │ service_type │ avg_call_duration │ data_usage │ roaming_usage │ monthly_charge │ overdue_payments │ auto_payment │ avg_top_up_count │ call_drops │ customer_support_calls │ satisfaction_score │  churn  │ İzleGo │ RitimGo │ CüzdanX │ HızlıPazar │ Konuşalım │\n",
      "│                 uuid                 │ int64 │ int64  │   varchar    │      double       │   double   │    double     │     double     │      int64       │   boolean    │      int64       │   int64    │         int64          │       double       │ boolean │ int32  │  int32  │  int32  │   int32    │   int32   │\n",
      "├──────────────────────────────────────┼───────┼────────┼──────────────┼───────────────────┼────────────┼───────────────┼────────────────┼──────────────────┼──────────────┼──────────────────┼────────────┼────────────────────────┼────────────────────┼─────────┼────────┼─────────┼─────────┼────────────┼───────────┤\n",
      "│ bf7ff6b6-5f13-48e6-8622-f0e3d68df951 │    32 │    162 │ Broadband    │              NULL │      162.0 │          NULL │         281.63 │                3 │ true         │                0 │       NULL │                     12 │               2.66 │ false   │      0 │       0 │       0 │          0 │         0 │\n",
      "│ a5d84084-eab8-427d-8fe8-b3cb2f038322 │    18 │    247 │ Prepaid      │             99.28 │      60.68 │          44.0 │         717.59 │                0 │ NULL         │               88 │          6 │                     12 │               1.97 │ false   │      0 │       0 │       0 │          0 │         0 │\n",
      "│ 186a48ba-5e69-4598-b520-b0f080fc8c3d │    29 │    240 │ Prepaid      │             29.09 │      58.79 │          2.96 │         840.83 │                0 │ NULL         │               48 │          8 │                     20 │                9.7 │ false   │      0 │       0 │       0 │          0 │         1 │\n",
      "│ 28fc770f-26e3-4c1b-a34a-e352a178babc │    28 │    139 │ Prepaid      │             35.43 │      76.22 │         54.83 │        2456.37 │                0 │ NULL         │               69 │          5 │                     20 │               7.82 │ false   │      0 │       0 │       0 │          0 │         1 │\n",
      "│ 9c68ea18-5381-464c-9641-a28b9e965494 │    51 │    159 │ Postpaid     │              NULL │      74.92 │         58.32 │         788.59 │                1 │ false        │                0 │          2 │                     14 │               6.04 │ false   │      0 │       0 │       0 │          0 │         0 │\n",
      "└──────────────────────────────────────┴───────┴────────┴──────────────┴───────────────────┴────────────┴───────────────┴────────────────┴──────────────────┴──────────────┴──────────────────┴────────────┴────────────────────────┴────────────────────┴─────────┴────────┴─────────┴─────────┴────────────┴───────────┘\n",
      "\n"
     ]
    }
   ],
   "source": [
    "con.execute(\"alter table unpacked_app drop column if exists apps\")\n",
    "con.sql(\"select * from unpacked_app limit 5\").show()"
   ]
  },
  {
   "cell_type": "code",
   "execution_count": 61,
   "metadata": {},
   "outputs": [
    {
     "data": {
      "text/plain": [
       "┌──────────────┐\n",
       "│ count_star() │\n",
       "│    int64     │\n",
       "├──────────────┤\n",
       "│            0 │\n",
       "└──────────────┘"
      ]
     },
     "execution_count": 61,
     "metadata": {},
     "output_type": "execute_result"
    }
   ],
   "source": [
    "con.sql(\"select count(*) from unpacked_app where service_type is null\")"
   ]
  },
  {
   "cell_type": "code",
   "execution_count": 62,
   "metadata": {},
   "outputs": [
    {
     "data": {
      "text/plain": [
       "┌──────────────┐\n",
       "│ service_type │\n",
       "│   varchar    │\n",
       "├──────────────┤\n",
       "│ Postpaid     │\n",
       "│ Prepaid      │\n",
       "│ Broadband    │\n",
       "└──────────────┘"
      ]
     },
     "execution_count": 62,
     "metadata": {},
     "output_type": "execute_result"
    }
   ],
   "source": [
    "con.sql( 'select distinct service_type from unpacked_app')"
   ]
  },
  {
   "cell_type": "code",
   "execution_count": 63,
   "metadata": {},
   "outputs": [
    {
     "data": {
      "application/vnd.jupyter.widget-view+json": {
       "model_id": "bd46a08726cf42669f09463f6f0ca90a",
       "version_major": 2,
       "version_minor": 0
      },
      "text/plain": [
       "FloatProgress(value=0.0, layout=Layout(width='auto'), style=ProgressStyle(bar_color='black'))"
      ]
     },
     "metadata": {},
     "output_type": "display_data"
    }
   ],
   "source": [
    "query = \"\"\"\n",
    "CREATE TABLE IF NOT EXISTS encoded_service_type AS (\n",
    "    SELECT \n",
    "        *,\n",
    "        (CASE WHEN service_type = 'Prepaid' THEN 1 ELSE 0 END) AS Prepaid,\n",
    "        (CASE WHEN service_type = 'Broadband' THEN 1 ELSE 0 END) AS Broadband,\n",
    "        (CASE WHEN service_type = 'Postpaid' THEN 1 ELSE 0 END) AS Postpaid\n",
    "    FROM unpacked_app\n",
    ");\n",
    "\"\"\"\n",
    "con.sql(query)"
   ]
  },
  {
   "cell_type": "code",
   "execution_count": 64,
   "metadata": {},
   "outputs": [
    {
     "name": "stdout",
     "output_type": "stream",
     "text": [
      "┌──────────────────────────────────────┬───────┬────────┬──────────────┬───────────────────┬────────────┬───────────────┬────────────────┬──────────────────┬──────────────┬──────────────────┬────────────┬────────────────────────┬────────────────────┬─────────┬────────┬─────────┬─────────┬────────────┬───────────┬─────────┬───────────┬──────────┐\n",
      "│                  id                  │  age  │ tenure │ service_type │ avg_call_duration │ data_usage │ roaming_usage │ monthly_charge │ overdue_payments │ auto_payment │ avg_top_up_count │ call_drops │ customer_support_calls │ satisfaction_score │  churn  │ İzleGo │ RitimGo │ CüzdanX │ HızlıPazar │ Konuşalım │ Prepaid │ Broadband │ Postpaid │\n",
      "│                 uuid                 │ int64 │ int64  │   varchar    │      double       │   double   │    double     │     double     │      int64       │   boolean    │      int64       │   int64    │         int64          │       double       │ boolean │ int32  │  int32  │  int32  │   int32    │   int32   │  int32  │   int32   │  int32   │\n",
      "├──────────────────────────────────────┼───────┼────────┼──────────────┼───────────────────┼────────────┼───────────────┼────────────────┼──────────────────┼──────────────┼──────────────────┼────────────┼────────────────────────┼────────────────────┼─────────┼────────┼─────────┼─────────┼────────────┼───────────┼─────────┼───────────┼──────────┤\n",
      "│ bf7ff6b6-5f13-48e6-8622-f0e3d68df951 │    32 │    162 │ Broadband    │              NULL │      162.0 │          NULL │         281.63 │                3 │ true         │                0 │       NULL │                     12 │               2.66 │ false   │      0 │       0 │       0 │          0 │         0 │       0 │         1 │        0 │\n",
      "│ a5d84084-eab8-427d-8fe8-b3cb2f038322 │    18 │    247 │ Prepaid      │             99.28 │      60.68 │          44.0 │         717.59 │                0 │ NULL         │               88 │          6 │                     12 │               1.97 │ false   │      0 │       0 │       0 │          0 │         0 │       1 │         0 │        0 │\n",
      "│ 186a48ba-5e69-4598-b520-b0f080fc8c3d │    29 │    240 │ Prepaid      │             29.09 │      58.79 │          2.96 │         840.83 │                0 │ NULL         │               48 │          8 │                     20 │                9.7 │ false   │      0 │       0 │       0 │          0 │         1 │       1 │         0 │        0 │\n",
      "│ 28fc770f-26e3-4c1b-a34a-e352a178babc │    28 │    139 │ Prepaid      │             35.43 │      76.22 │         54.83 │        2456.37 │                0 │ NULL         │               69 │          5 │                     20 │               7.82 │ false   │      0 │       0 │       0 │          0 │         1 │       1 │         0 │        0 │\n",
      "│ 9c68ea18-5381-464c-9641-a28b9e965494 │    51 │    159 │ Postpaid     │              NULL │      74.92 │         58.32 │         788.59 │                1 │ false        │                0 │          2 │                     14 │               6.04 │ false   │      0 │       0 │       0 │          0 │         0 │       0 │         0 │        1 │\n",
      "└──────────────────────────────────────┴───────┴────────┴──────────────┴───────────────────┴────────────┴───────────────┴────────────────┴──────────────────┴──────────────┴──────────────────┴────────────┴────────────────────────┴────────────────────┴─────────┴────────┴─────────┴─────────┴────────────┴───────────┴─────────┴───────────┴──────────┘\n",
      "\n"
     ]
    }
   ],
   "source": [
    "con.sql(\"select * from encoded_service_type limit 5\").show()"
   ]
  },
  {
   "cell_type": "code",
   "execution_count": 65,
   "metadata": {},
   "outputs": [
    {
     "data": {
      "text/plain": [
       "<duckdb.duckdb.DuckDBPyConnection at 0x2bc607e73b0>"
      ]
     },
     "execution_count": 65,
     "metadata": {},
     "output_type": "execute_result"
    }
   ],
   "source": [
    "query = \"\"\"\n",
    "ALTER table encoded_service_type\n",
    "ALTER COLUMN auto_payment TYPE INT\n",
    "USING CASE WHEN auto_payment THEN 1 ELSE 0 END;\n",
    "\n",
    "ALTER table encoded_service_type\n",
    "ALTER COLUMN churn TYPE INT\n",
    "USING CASE WHEN churn THEN 1 ELSE 0 END;\n",
    "\"\"\"\n",
    "con.execute(query)"
   ]
  },
  {
   "cell_type": "code",
   "execution_count": 66,
   "metadata": {},
   "outputs": [
    {
     "data": {
      "text/plain": [
       "┌──────────────────────────────────────┬───────┬────────┬──────────────┬───────────────────┬────────────┬───────────────┬────────────────┬──────────────────┬──────────────┬──────────────────┬────────────┬────────────────────────┬────────────────────┬───────┬────────┬─────────┬─────────┬────────────┬───────────┬─────────┬───────────┬──────────┐\n",
       "│                  id                  │  age  │ tenure │ service_type │ avg_call_duration │ data_usage │ roaming_usage │ monthly_charge │ overdue_payments │ auto_payment │ avg_top_up_count │ call_drops │ customer_support_calls │ satisfaction_score │ churn │ İzleGo │ RitimGo │ CüzdanX │ HızlıPazar │ Konuşalım │ Prepaid │ Broadband │ Postpaid │\n",
       "│                 uuid                 │ int64 │ int64  │   varchar    │      double       │   double   │    double     │     double     │      int64       │    int32     │      int64       │   int64    │         int64          │       double       │ int32 │ int32  │  int32  │  int32  │   int32    │   int32   │  int32  │   int32   │  int32   │\n",
       "├──────────────────────────────────────┼───────┼────────┼──────────────┼───────────────────┼────────────┼───────────────┼────────────────┼──────────────────┼──────────────┼──────────────────┼────────────┼────────────────────────┼────────────────────┼───────┼────────┼─────────┼─────────┼────────────┼───────────┼─────────┼───────────┼──────────┤\n",
       "│ bf7ff6b6-5f13-48e6-8622-f0e3d68df951 │    32 │    162 │ Broadband    │              NULL │      162.0 │          NULL │         281.63 │                3 │            1 │                0 │       NULL │                     12 │               2.66 │     0 │      0 │       0 │       0 │          0 │         0 │       0 │         1 │        0 │\n",
       "│ a5d84084-eab8-427d-8fe8-b3cb2f038322 │    18 │    247 │ Prepaid      │             99.28 │      60.68 │          44.0 │         717.59 │                0 │            0 │               88 │          6 │                     12 │               1.97 │     0 │      0 │       0 │       0 │          0 │         0 │       1 │         0 │        0 │\n",
       "│ 186a48ba-5e69-4598-b520-b0f080fc8c3d │    29 │    240 │ Prepaid      │             29.09 │      58.79 │          2.96 │         840.83 │                0 │            0 │               48 │          8 │                     20 │                9.7 │     0 │      0 │       0 │       0 │          0 │         1 │       1 │         0 │        0 │\n",
       "│ 28fc770f-26e3-4c1b-a34a-e352a178babc │    28 │    139 │ Prepaid      │             35.43 │      76.22 │         54.83 │        2456.37 │                0 │            0 │               69 │          5 │                     20 │               7.82 │     0 │      0 │       0 │       0 │          0 │         1 │       1 │         0 │        0 │\n",
       "│ 9c68ea18-5381-464c-9641-a28b9e965494 │    51 │    159 │ Postpaid     │              NULL │      74.92 │         58.32 │         788.59 │                1 │            0 │                0 │          2 │                     14 │               6.04 │     0 │      0 │       0 │       0 │          0 │         0 │       0 │         0 │        1 │\n",
       "└──────────────────────────────────────┴───────┴────────┴──────────────┴───────────────────┴────────────┴───────────────┴────────────────┴──────────────────┴──────────────┴──────────────────┴────────────┴────────────────────────┴────────────────────┴───────┴────────┴─────────┴─────────┴────────────┴───────────┴─────────┴───────────┴──────────┘"
      ]
     },
     "execution_count": 66,
     "metadata": {},
     "output_type": "execute_result"
    }
   ],
   "source": [
    "con.sql(\"select * from encoded_service_type limit 5\")"
   ]
  },
  {
   "cell_type": "code",
   "execution_count": 67,
   "metadata": {},
   "outputs": [
    {
     "data": {
      "text/plain": [
       "┌──────────────┐\n",
       "│ count_star() │\n",
       "│    int64     │\n",
       "├──────────────┤\n",
       "│            0 │\n",
       "└──────────────┘"
      ]
     },
     "execution_count": 67,
     "metadata": {},
     "output_type": "execute_result"
    }
   ],
   "source": [
    "con.sql(\"select count(*) from encoded_service_type where overdue_payments is null\")"
   ]
  },
  {
   "cell_type": "code",
   "execution_count": 68,
   "metadata": {},
   "outputs": [
    {
     "data": {
      "text/plain": [
       "┌──────────────────┬─────────────────────────┐\n",
       "│ overdue_payments │ count(overdue_payments) │\n",
       "│      int64       │          int64          │\n",
       "├──────────────────┼─────────────────────────┤\n",
       "│                0 │                 4446094 │\n",
       "│                1 │                 1110506 │\n",
       "│                2 │                 1112157 │\n",
       "│                3 │                 1109719 │\n",
       "│                4 │                 1109462 │\n",
       "│                5 │                 1112062 │\n",
       "└──────────────────┴─────────────────────────┘"
      ]
     },
     "execution_count": 68,
     "metadata": {},
     "output_type": "execute_result"
    }
   ],
   "source": [
    "con.sql(\"select overdue_payments , count(overdue_payments ) from encoded_service_type group by overdue_payments \")"
   ]
  },
  {
   "cell_type": "code",
   "execution_count": 69,
   "metadata": {},
   "outputs": [],
   "source": [
    "df = con.sql(\"select * from encoded_service_type\").df()"
   ]
  },
  {
   "cell_type": "code",
   "execution_count": 70,
   "metadata": {},
   "outputs": [
    {
     "data": {
      "text/plain": [
       "<duckdb.duckdb.DuckDBPyConnection at 0x2bc607e73b0>"
      ]
     },
     "execution_count": 70,
     "metadata": {},
     "output_type": "execute_result"
    }
   ],
   "source": [
    "con.execute(\"drop table churn\")"
   ]
  },
  {
   "cell_type": "code",
   "execution_count": 71,
   "metadata": {},
   "outputs": [
    {
     "data": {
      "text/plain": [
       "<duckdb.duckdb.DuckDBPyConnection at 0x2bc607e73b0>"
      ]
     },
     "execution_count": 71,
     "metadata": {},
     "output_type": "execute_result"
    }
   ],
   "source": [
    "con.execute(\"drop table unpacked_app\")"
   ]
  },
  {
   "cell_type": "code",
   "execution_count": 72,
   "metadata": {},
   "outputs": [
    {
     "data": {
      "text/plain": [
       "<duckdb.duckdb.DuckDBPyConnection at 0x2bc607e73b0>"
      ]
     },
     "execution_count": 72,
     "metadata": {},
     "output_type": "execute_result"
    }
   ],
   "source": [
    "con.execute(\"drop table encoded_service_type\")"
   ]
  },
  {
   "cell_type": "code",
   "execution_count": 73,
   "metadata": {},
   "outputs": [
    {
     "data": {
      "text/html": [
       "<div>\n",
       "<style scoped>\n",
       "    .dataframe tbody tr th:only-of-type {\n",
       "        vertical-align: middle;\n",
       "    }\n",
       "\n",
       "    .dataframe tbody tr th {\n",
       "        vertical-align: top;\n",
       "    }\n",
       "\n",
       "    .dataframe thead th {\n",
       "        text-align: right;\n",
       "    }\n",
       "</style>\n",
       "<table border=\"1\" class=\"dataframe\">\n",
       "  <thead>\n",
       "    <tr style=\"text-align: right;\">\n",
       "      <th></th>\n",
       "      <th>id</th>\n",
       "      <th>age</th>\n",
       "      <th>tenure</th>\n",
       "      <th>service_type</th>\n",
       "      <th>avg_call_duration</th>\n",
       "      <th>data_usage</th>\n",
       "      <th>roaming_usage</th>\n",
       "      <th>monthly_charge</th>\n",
       "      <th>overdue_payments</th>\n",
       "      <th>auto_payment</th>\n",
       "      <th>...</th>\n",
       "      <th>satisfaction_score</th>\n",
       "      <th>churn</th>\n",
       "      <th>İzleGo</th>\n",
       "      <th>RitimGo</th>\n",
       "      <th>CüzdanX</th>\n",
       "      <th>HızlıPazar</th>\n",
       "      <th>Konuşalım</th>\n",
       "      <th>Prepaid</th>\n",
       "      <th>Broadband</th>\n",
       "      <th>Postpaid</th>\n",
       "    </tr>\n",
       "  </thead>\n",
       "  <tbody>\n",
       "    <tr>\n",
       "      <th>0</th>\n",
       "      <td>bf7ff6b6-5f13-48e6-8622-f0e3d68df951</td>\n",
       "      <td>32</td>\n",
       "      <td>162.0</td>\n",
       "      <td>Broadband</td>\n",
       "      <td>NaN</td>\n",
       "      <td>162.00</td>\n",
       "      <td>NaN</td>\n",
       "      <td>281.63</td>\n",
       "      <td>3</td>\n",
       "      <td>1</td>\n",
       "      <td>...</td>\n",
       "      <td>2.66</td>\n",
       "      <td>0</td>\n",
       "      <td>0</td>\n",
       "      <td>0</td>\n",
       "      <td>0</td>\n",
       "      <td>0</td>\n",
       "      <td>0</td>\n",
       "      <td>0</td>\n",
       "      <td>1</td>\n",
       "      <td>0</td>\n",
       "    </tr>\n",
       "    <tr>\n",
       "      <th>1</th>\n",
       "      <td>a5d84084-eab8-427d-8fe8-b3cb2f038322</td>\n",
       "      <td>18</td>\n",
       "      <td>247.0</td>\n",
       "      <td>Prepaid</td>\n",
       "      <td>99.28</td>\n",
       "      <td>60.68</td>\n",
       "      <td>44.00</td>\n",
       "      <td>717.59</td>\n",
       "      <td>0</td>\n",
       "      <td>0</td>\n",
       "      <td>...</td>\n",
       "      <td>1.97</td>\n",
       "      <td>0</td>\n",
       "      <td>0</td>\n",
       "      <td>0</td>\n",
       "      <td>0</td>\n",
       "      <td>0</td>\n",
       "      <td>0</td>\n",
       "      <td>1</td>\n",
       "      <td>0</td>\n",
       "      <td>0</td>\n",
       "    </tr>\n",
       "    <tr>\n",
       "      <th>2</th>\n",
       "      <td>186a48ba-5e69-4598-b520-b0f080fc8c3d</td>\n",
       "      <td>29</td>\n",
       "      <td>240.0</td>\n",
       "      <td>Prepaid</td>\n",
       "      <td>29.09</td>\n",
       "      <td>58.79</td>\n",
       "      <td>2.96</td>\n",
       "      <td>840.83</td>\n",
       "      <td>0</td>\n",
       "      <td>0</td>\n",
       "      <td>...</td>\n",
       "      <td>9.70</td>\n",
       "      <td>0</td>\n",
       "      <td>0</td>\n",
       "      <td>0</td>\n",
       "      <td>0</td>\n",
       "      <td>0</td>\n",
       "      <td>1</td>\n",
       "      <td>1</td>\n",
       "      <td>0</td>\n",
       "      <td>0</td>\n",
       "    </tr>\n",
       "    <tr>\n",
       "      <th>3</th>\n",
       "      <td>28fc770f-26e3-4c1b-a34a-e352a178babc</td>\n",
       "      <td>28</td>\n",
       "      <td>139.0</td>\n",
       "      <td>Prepaid</td>\n",
       "      <td>35.43</td>\n",
       "      <td>76.22</td>\n",
       "      <td>54.83</td>\n",
       "      <td>2456.37</td>\n",
       "      <td>0</td>\n",
       "      <td>0</td>\n",
       "      <td>...</td>\n",
       "      <td>7.82</td>\n",
       "      <td>0</td>\n",
       "      <td>0</td>\n",
       "      <td>0</td>\n",
       "      <td>0</td>\n",
       "      <td>0</td>\n",
       "      <td>1</td>\n",
       "      <td>1</td>\n",
       "      <td>0</td>\n",
       "      <td>0</td>\n",
       "    </tr>\n",
       "    <tr>\n",
       "      <th>4</th>\n",
       "      <td>9c68ea18-5381-464c-9641-a28b9e965494</td>\n",
       "      <td>51</td>\n",
       "      <td>159.0</td>\n",
       "      <td>Postpaid</td>\n",
       "      <td>NaN</td>\n",
       "      <td>74.92</td>\n",
       "      <td>58.32</td>\n",
       "      <td>788.59</td>\n",
       "      <td>1</td>\n",
       "      <td>0</td>\n",
       "      <td>...</td>\n",
       "      <td>6.04</td>\n",
       "      <td>0</td>\n",
       "      <td>0</td>\n",
       "      <td>0</td>\n",
       "      <td>0</td>\n",
       "      <td>0</td>\n",
       "      <td>0</td>\n",
       "      <td>0</td>\n",
       "      <td>0</td>\n",
       "      <td>1</td>\n",
       "    </tr>\n",
       "  </tbody>\n",
       "</table>\n",
       "<p>5 rows × 23 columns</p>\n",
       "</div>"
      ],
      "text/plain": [
       "                                     id  age  tenure service_type  \\\n",
       "0  bf7ff6b6-5f13-48e6-8622-f0e3d68df951   32   162.0    Broadband   \n",
       "1  a5d84084-eab8-427d-8fe8-b3cb2f038322   18   247.0      Prepaid   \n",
       "2  186a48ba-5e69-4598-b520-b0f080fc8c3d   29   240.0      Prepaid   \n",
       "3  28fc770f-26e3-4c1b-a34a-e352a178babc   28   139.0      Prepaid   \n",
       "4  9c68ea18-5381-464c-9641-a28b9e965494   51   159.0     Postpaid   \n",
       "\n",
       "   avg_call_duration  data_usage  roaming_usage  monthly_charge  \\\n",
       "0                NaN      162.00            NaN          281.63   \n",
       "1              99.28       60.68          44.00          717.59   \n",
       "2              29.09       58.79           2.96          840.83   \n",
       "3              35.43       76.22          54.83         2456.37   \n",
       "4                NaN       74.92          58.32          788.59   \n",
       "\n",
       "   overdue_payments  auto_payment  ...  satisfaction_score  churn  İzleGo  \\\n",
       "0                 3             1  ...                2.66      0       0   \n",
       "1                 0             0  ...                1.97      0       0   \n",
       "2                 0             0  ...                9.70      0       0   \n",
       "3                 0             0  ...                7.82      0       0   \n",
       "4                 1             0  ...                6.04      0       0   \n",
       "\n",
       "   RitimGo  CüzdanX  HızlıPazar  Konuşalım  Prepaid  Broadband  Postpaid  \n",
       "0        0        0           0          0        0          1         0  \n",
       "1        0        0           0          0        1          0         0  \n",
       "2        0        0           0          1        1          0         0  \n",
       "3        0        0           0          1        1          0         0  \n",
       "4        0        0           0          0        0          0         1  \n",
       "\n",
       "[5 rows x 23 columns]"
      ]
     },
     "execution_count": 73,
     "metadata": {},
     "output_type": "execute_result"
    }
   ],
   "source": [
    "df.head()"
   ]
  },
  {
   "cell_type": "code",
   "execution_count": 74,
   "metadata": {},
   "outputs": [],
   "source": [
    "df[\"id\"] = df[\"id\"].astype(str)"
   ]
  },
  {
   "cell_type": "code",
   "execution_count": 75,
   "metadata": {},
   "outputs": [
    {
     "data": {
      "text/plain": [
       "id                              0\n",
       "age                             0\n",
       "tenure                      24800\n",
       "service_type                    0\n",
       "avg_call_duration         3664313\n",
       "data_usage                 499533\n",
       "roaming_usage             3331212\n",
       "monthly_charge             250071\n",
       "overdue_payments                0\n",
       "auto_payment                    0\n",
       "avg_top_up_count                0\n",
       "call_drops                3331212\n",
       "customer_support_calls          0\n",
       "satisfaction_score              0\n",
       "churn                           0\n",
       "İzleGo                          0\n",
       "RitimGo                         0\n",
       "CüzdanX                         0\n",
       "HızlıPazar                      0\n",
       "Konuşalım                       0\n",
       "Prepaid                         0\n",
       "Broadband                       0\n",
       "Postpaid                        0\n",
       "dtype: int64"
      ]
     },
     "execution_count": 75,
     "metadata": {},
     "output_type": "execute_result"
    }
   ],
   "source": [
    "df.isna().sum()"
   ]
  },
  {
   "cell_type": "code",
   "execution_count": 76,
   "metadata": {},
   "outputs": [
    {
     "data": {
      "text/plain": [
       "Broadband\n",
       "1    3331212\n",
       "Name: count, dtype: int64"
      ]
     },
     "execution_count": 76,
     "metadata": {},
     "output_type": "execute_result"
    }
   ],
   "source": [
    "df.loc[df[\"call_drops\"].isna(),[\"call_drops\", \"roaming_usage\", \"avg_call_duration\",\"Broadband\"]][\"Broadband\"].value_counts()"
   ]
  },
  {
   "cell_type": "code",
   "execution_count": 77,
   "metadata": {},
   "outputs": [
    {
     "data": {
      "text/plain": [
       "np.int64(0)"
      ]
     },
     "execution_count": 77,
     "metadata": {},
     "output_type": "execute_result"
    }
   ],
   "source": [
    "df.loc[df[\"Broadband\"] == 1,[\"call_drops\", \"roaming_usage\", \"avg_call_duration\"] ].notna().sum().sum() "
   ]
  },
  {
   "cell_type": "code",
   "execution_count": 78,
   "metadata": {},
   "outputs": [],
   "source": [
    "df.loc[df[\"Broadband\"] == 1,[\"call_drops\", \"roaming_usage\", \"avg_call_duration\"] ] = 0"
   ]
  },
  {
   "cell_type": "code",
   "execution_count": 79,
   "metadata": {},
   "outputs": [
    {
     "data": {
      "text/plain": [
       "id                             0\n",
       "age                            0\n",
       "tenure                     24800\n",
       "service_type                   0\n",
       "avg_call_duration         333101\n",
       "data_usage                499533\n",
       "roaming_usage                  0\n",
       "monthly_charge            250071\n",
       "overdue_payments               0\n",
       "auto_payment                   0\n",
       "avg_top_up_count               0\n",
       "call_drops                     0\n",
       "customer_support_calls         0\n",
       "satisfaction_score             0\n",
       "churn                          0\n",
       "İzleGo                         0\n",
       "RitimGo                        0\n",
       "CüzdanX                        0\n",
       "HızlıPazar                     0\n",
       "Konuşalım                      0\n",
       "Prepaid                        0\n",
       "Broadband                      0\n",
       "Postpaid                       0\n",
       "dtype: int64"
      ]
     },
     "execution_count": 79,
     "metadata": {},
     "output_type": "execute_result"
    }
   ],
   "source": [
    "df.isna().sum()"
   ]
  },
  {
   "cell_type": "code",
   "execution_count": 80,
   "metadata": {},
   "outputs": [],
   "source": [
    "def analyze_data(dataframe, cat_th=10, car_th=20):\n",
    "    \"\"\"\n",
    "    It gives the names of categorical, numerical and categorical but cardinal variables in the data set. It also performs incomplete data analysis.\n",
    "    Parameters\n",
    "    ------\n",
    "        dataframe: dataframe\n",
    "            The dataframe from which variable names are to be retrieved\n",
    "        cat_th: int, optional\n",
    "            Class threshold value for numeric but categorical variables\n",
    "        car_th: int, optional\n",
    "            Class threshold for categorical but cardinal variables\n",
    "\n",
    "    Returns\n",
    "    ------\n",
    "        cat_cols: list\n",
    "            Categorical variable list\n",
    "        num_cols: list\n",
    "            Numerik değişken listesi\n",
    "        cat_but_car: list\n",
    "            Categorical view cardinal variable list\n",
    "    \"\"\"\n",
    "    cat_cols = [col for col in dataframe.columns if dataframe[col].dtype == \"O\"]\n",
    "    num_cols = [col for col in dataframe.columns if dataframe[col].dtype != \"O\"]\n",
    "\n",
    "    num_but_cat = [col for col in num_cols if dataframe[col].nunique() < cat_th]\n",
    "    cat_but_car = [col for col in cat_cols if dataframe[col].nunique() > car_th]\n",
    "\n",
    "    cat_cols = [col for col in cat_cols if col not in cat_but_car]\n",
    "    num_cols = [col for col in num_cols if col not in num_but_cat]\n",
    "\n",
    "    cat_cols = cat_cols + num_but_cat\n",
    "    \n",
    "    print(f\"Number of Observations: {dataframe.shape[0]}\")\n",
    "    print(f\"Number of Variables: {dataframe.shape[1]}\")\n",
    "    print(f'Cat cols: {len(cat_cols)}, Num cols: {len(num_cols)}, Cat but car cols: {len(cat_but_car)}')\n",
    "\n",
    "    return cat_cols, num_cols, cat_but_car"
   ]
  },
  {
   "cell_type": "code",
   "execution_count": 81,
   "metadata": {},
   "outputs": [
    {
     "name": "stdout",
     "output_type": "stream",
     "text": [
      "Number of Observations: 10000000\n",
      "Number of Variables: 23\n",
      "Cat cols: 12, Num cols: 10, Cat but car cols: 1\n"
     ]
    }
   ],
   "source": [
    "cat_cols, num_cols, cat_but_car = analyze_data(df)"
   ]
  },
  {
   "cell_type": "code",
   "execution_count": 82,
   "metadata": {},
   "outputs": [
    {
     "data": {
      "text/plain": [
       "['service_type',\n",
       " 'overdue_payments',\n",
       " 'auto_payment',\n",
       " 'churn',\n",
       " 'İzleGo',\n",
       " 'RitimGo',\n",
       " 'CüzdanX',\n",
       " 'HızlıPazar',\n",
       " 'Konuşalım',\n",
       " 'Prepaid',\n",
       " 'Broadband',\n",
       " 'Postpaid']"
      ]
     },
     "execution_count": 82,
     "metadata": {},
     "output_type": "execute_result"
    }
   ],
   "source": [
    "cat_cols"
   ]
  },
  {
   "cell_type": "code",
   "execution_count": 83,
   "metadata": {},
   "outputs": [
    {
     "data": {
      "text/plain": [
       "service_type        3\n",
       "overdue_payments    6\n",
       "auto_payment        2\n",
       "churn               2\n",
       "İzleGo              2\n",
       "RitimGo             2\n",
       "CüzdanX             2\n",
       "HızlıPazar          2\n",
       "Konuşalım           2\n",
       "Prepaid             2\n",
       "Broadband           2\n",
       "Postpaid            2\n",
       "dtype: int64"
      ]
     },
     "execution_count": 83,
     "metadata": {},
     "output_type": "execute_result"
    }
   ],
   "source": [
    "df[cat_cols].nunique()"
   ]
  },
  {
   "cell_type": "code",
   "execution_count": 84,
   "metadata": {},
   "outputs": [
    {
     "data": {
      "text/plain": [
       "age                            0\n",
       "tenure                     24800\n",
       "avg_call_duration         333101\n",
       "data_usage                499533\n",
       "roaming_usage                  0\n",
       "monthly_charge            250071\n",
       "avg_top_up_count               0\n",
       "call_drops                     0\n",
       "customer_support_calls         0\n",
       "satisfaction_score             0\n",
       "dtype: int64"
      ]
     },
     "execution_count": 84,
     "metadata": {},
     "output_type": "execute_result"
    }
   ],
   "source": [
    "df[num_cols].isna().sum()"
   ]
  },
  {
   "cell_type": "code",
   "execution_count": 86,
   "metadata": {},
   "outputs": [],
   "source": [
    "features_to_impute = [\"tenure\", \"avg_call_duration\", \"data_usage\", \"monthly_charge\"]\n",
    "\n",
    "for feature in features_to_impute:\n",
    "    if feature == \"monthly_charge\":\n",
    "        df[feature] = df[feature].fillna(\n",
    "            df.groupby([\"age\", \"service_type\"])[feature].transform(\"median\")\n",
    "        ).fillna(df[feature].median())\n",
    "    else:\n",
    "        df[feature] = df[feature].fillna(\n",
    "            df.groupby([\"age\", \"service_type\"])[feature].transform(\"mean\")\n",
    "        ).fillna(df[feature].mean())"
   ]
  },
  {
   "cell_type": "code",
   "execution_count": 87,
   "metadata": {},
   "outputs": [
    {
     "data": {
      "text/plain": [
       "id                        0\n",
       "age                       0\n",
       "tenure                    0\n",
       "service_type              0\n",
       "avg_call_duration         0\n",
       "data_usage                0\n",
       "roaming_usage             0\n",
       "monthly_charge            0\n",
       "overdue_payments          0\n",
       "auto_payment              0\n",
       "avg_top_up_count          0\n",
       "call_drops                0\n",
       "customer_support_calls    0\n",
       "satisfaction_score        0\n",
       "churn                     0\n",
       "İzleGo                    0\n",
       "RitimGo                   0\n",
       "CüzdanX                   0\n",
       "HızlıPazar                0\n",
       "Konuşalım                 0\n",
       "Prepaid                   0\n",
       "Broadband                 0\n",
       "Postpaid                  0\n",
       "dtype: int64"
      ]
     },
     "execution_count": 87,
     "metadata": {},
     "output_type": "execute_result"
    }
   ],
   "source": [
    "df.isna().sum()"
   ]
  },
  {
   "cell_type": "code",
   "execution_count": null,
   "metadata": {},
   "outputs": [],
   "source": []
  },
  {
   "cell_type": "code",
   "execution_count": 95,
   "metadata": {},
   "outputs": [
    {
     "data": {
      "application/vnd.jupyter.widget-view+json": {
       "model_id": "a8204dbbc3404ad3af5ecd6d33a432fa",
       "version_major": 2,
       "version_minor": 0
      },
      "text/plain": [
       "FloatProgress(value=0.0, layout=Layout(width='auto'), style=ProgressStyle(bar_color='black'))"
      ]
     },
     "metadata": {},
     "output_type": "display_data"
    }
   ],
   "source": [
    "with duckdb.connect(db_path) as con:\n",
    "    con.execute(\"create table if not exists preprocessed_churn as select * from df\")"
   ]
  },
  {
   "cell_type": "code",
   "execution_count": 93,
   "metadata": {},
   "outputs": [],
   "source": [
    "con.close()"
   ]
  },
  {
   "cell_type": "code",
   "execution_count": null,
   "metadata": {},
   "outputs": [],
   "source": []
  }
 ],
 "metadata": {
  "kernelspec": {
   "display_name": "DataScience",
   "language": "python",
   "name": "python3"
  },
  "language_info": {
   "codemirror_mode": {
    "name": "ipython",
    "version": 3
   },
   "file_extension": ".py",
   "mimetype": "text/x-python",
   "name": "python",
   "nbconvert_exporter": "python",
   "pygments_lexer": "ipython3",
   "version": "3.11.9"
  }
 },
 "nbformat": 4,
 "nbformat_minor": 2
}
