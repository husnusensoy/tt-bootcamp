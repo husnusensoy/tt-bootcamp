{
 "cells": [
  {
   "cell_type": "code",
   "execution_count": 1,
   "metadata": {},
   "outputs": [],
   "source": [
    "import duckdb\n",
    "import numpy as np\n",
    "import pandas as pd"
   ]
  },
  {
   "cell_type": "code",
   "execution_count": 2,
   "metadata": {},
   "outputs": [],
   "source": [
    "with duckdb.connect(\"../Data/capstone.db\") as con:\n",
    "    df = con.sql(\"select * from preprocessed_churn\").df()"
   ]
  },
  {
   "cell_type": "code",
   "execution_count": 3,
   "metadata": {},
   "outputs": [
    {
     "data": {
      "text/html": [
       "<div>\n",
       "<style scoped>\n",
       "    .dataframe tbody tr th:only-of-type {\n",
       "        vertical-align: middle;\n",
       "    }\n",
       "\n",
       "    .dataframe tbody tr th {\n",
       "        vertical-align: top;\n",
       "    }\n",
       "\n",
       "    .dataframe thead th {\n",
       "        text-align: right;\n",
       "    }\n",
       "</style>\n",
       "<table border=\"1\" class=\"dataframe\">\n",
       "  <thead>\n",
       "    <tr style=\"text-align: right;\">\n",
       "      <th></th>\n",
       "      <th>id</th>\n",
       "      <th>age</th>\n",
       "      <th>tenure</th>\n",
       "      <th>service_type</th>\n",
       "      <th>avg_call_duration</th>\n",
       "      <th>data_usage</th>\n",
       "      <th>roaming_usage</th>\n",
       "      <th>monthly_charge</th>\n",
       "      <th>overdue_payments</th>\n",
       "      <th>auto_payment</th>\n",
       "      <th>...</th>\n",
       "      <th>satisfaction_score</th>\n",
       "      <th>churn</th>\n",
       "      <th>İzleGo</th>\n",
       "      <th>RitimGo</th>\n",
       "      <th>CüzdanX</th>\n",
       "      <th>HızlıPazar</th>\n",
       "      <th>Konuşalım</th>\n",
       "      <th>Prepaid</th>\n",
       "      <th>Broadband</th>\n",
       "      <th>Postpaid</th>\n",
       "    </tr>\n",
       "  </thead>\n",
       "  <tbody>\n",
       "    <tr>\n",
       "      <th>0</th>\n",
       "      <td>bf7ff6b6-5f13-48e6-8622-f0e3d68df951</td>\n",
       "      <td>32</td>\n",
       "      <td>162.0</td>\n",
       "      <td>Broadband</td>\n",
       "      <td>0.000000</td>\n",
       "      <td>162.00</td>\n",
       "      <td>0.00</td>\n",
       "      <td>281.63</td>\n",
       "      <td>3</td>\n",
       "      <td>1</td>\n",
       "      <td>...</td>\n",
       "      <td>2.66</td>\n",
       "      <td>0</td>\n",
       "      <td>0</td>\n",
       "      <td>0</td>\n",
       "      <td>0</td>\n",
       "      <td>0</td>\n",
       "      <td>0</td>\n",
       "      <td>0</td>\n",
       "      <td>1</td>\n",
       "      <td>0</td>\n",
       "    </tr>\n",
       "    <tr>\n",
       "      <th>1</th>\n",
       "      <td>a5d84084-eab8-427d-8fe8-b3cb2f038322</td>\n",
       "      <td>18</td>\n",
       "      <td>247.0</td>\n",
       "      <td>Prepaid</td>\n",
       "      <td>99.280000</td>\n",
       "      <td>60.68</td>\n",
       "      <td>44.00</td>\n",
       "      <td>717.59</td>\n",
       "      <td>0</td>\n",
       "      <td>0</td>\n",
       "      <td>...</td>\n",
       "      <td>1.97</td>\n",
       "      <td>0</td>\n",
       "      <td>0</td>\n",
       "      <td>0</td>\n",
       "      <td>0</td>\n",
       "      <td>0</td>\n",
       "      <td>0</td>\n",
       "      <td>1</td>\n",
       "      <td>0</td>\n",
       "      <td>0</td>\n",
       "    </tr>\n",
       "    <tr>\n",
       "      <th>2</th>\n",
       "      <td>186a48ba-5e69-4598-b520-b0f080fc8c3d</td>\n",
       "      <td>29</td>\n",
       "      <td>240.0</td>\n",
       "      <td>Prepaid</td>\n",
       "      <td>29.090000</td>\n",
       "      <td>58.79</td>\n",
       "      <td>2.96</td>\n",
       "      <td>840.83</td>\n",
       "      <td>0</td>\n",
       "      <td>0</td>\n",
       "      <td>...</td>\n",
       "      <td>9.70</td>\n",
       "      <td>0</td>\n",
       "      <td>0</td>\n",
       "      <td>0</td>\n",
       "      <td>0</td>\n",
       "      <td>0</td>\n",
       "      <td>1</td>\n",
       "      <td>1</td>\n",
       "      <td>0</td>\n",
       "      <td>0</td>\n",
       "    </tr>\n",
       "    <tr>\n",
       "      <th>3</th>\n",
       "      <td>28fc770f-26e3-4c1b-a34a-e352a178babc</td>\n",
       "      <td>28</td>\n",
       "      <td>139.0</td>\n",
       "      <td>Prepaid</td>\n",
       "      <td>35.430000</td>\n",
       "      <td>76.22</td>\n",
       "      <td>54.83</td>\n",
       "      <td>2456.37</td>\n",
       "      <td>0</td>\n",
       "      <td>0</td>\n",
       "      <td>...</td>\n",
       "      <td>7.82</td>\n",
       "      <td>0</td>\n",
       "      <td>0</td>\n",
       "      <td>0</td>\n",
       "      <td>0</td>\n",
       "      <td>0</td>\n",
       "      <td>1</td>\n",
       "      <td>1</td>\n",
       "      <td>0</td>\n",
       "      <td>0</td>\n",
       "    </tr>\n",
       "    <tr>\n",
       "      <th>4</th>\n",
       "      <td>9c68ea18-5381-464c-9641-a28b9e965494</td>\n",
       "      <td>51</td>\n",
       "      <td>159.0</td>\n",
       "      <td>Postpaid</td>\n",
       "      <td>60.627371</td>\n",
       "      <td>74.92</td>\n",
       "      <td>58.32</td>\n",
       "      <td>788.59</td>\n",
       "      <td>1</td>\n",
       "      <td>0</td>\n",
       "      <td>...</td>\n",
       "      <td>6.04</td>\n",
       "      <td>0</td>\n",
       "      <td>0</td>\n",
       "      <td>0</td>\n",
       "      <td>0</td>\n",
       "      <td>0</td>\n",
       "      <td>0</td>\n",
       "      <td>0</td>\n",
       "      <td>0</td>\n",
       "      <td>1</td>\n",
       "    </tr>\n",
       "  </tbody>\n",
       "</table>\n",
       "<p>5 rows × 23 columns</p>\n",
       "</div>"
      ],
      "text/plain": [
       "                                     id  age  tenure service_type  \\\n",
       "0  bf7ff6b6-5f13-48e6-8622-f0e3d68df951   32   162.0    Broadband   \n",
       "1  a5d84084-eab8-427d-8fe8-b3cb2f038322   18   247.0      Prepaid   \n",
       "2  186a48ba-5e69-4598-b520-b0f080fc8c3d   29   240.0      Prepaid   \n",
       "3  28fc770f-26e3-4c1b-a34a-e352a178babc   28   139.0      Prepaid   \n",
       "4  9c68ea18-5381-464c-9641-a28b9e965494   51   159.0     Postpaid   \n",
       "\n",
       "   avg_call_duration  data_usage  roaming_usage  monthly_charge  \\\n",
       "0           0.000000      162.00           0.00          281.63   \n",
       "1          99.280000       60.68          44.00          717.59   \n",
       "2          29.090000       58.79           2.96          840.83   \n",
       "3          35.430000       76.22          54.83         2456.37   \n",
       "4          60.627371       74.92          58.32          788.59   \n",
       "\n",
       "   overdue_payments  auto_payment  ...  satisfaction_score  churn  İzleGo  \\\n",
       "0                 3             1  ...                2.66      0       0   \n",
       "1                 0             0  ...                1.97      0       0   \n",
       "2                 0             0  ...                9.70      0       0   \n",
       "3                 0             0  ...                7.82      0       0   \n",
       "4                 1             0  ...                6.04      0       0   \n",
       "\n",
       "   RitimGo  CüzdanX  HızlıPazar  Konuşalım  Prepaid  Broadband  Postpaid  \n",
       "0        0        0           0          0        0          1         0  \n",
       "1        0        0           0          0        1          0         0  \n",
       "2        0        0           0          1        1          0         0  \n",
       "3        0        0           0          1        1          0         0  \n",
       "4        0        0           0          0        0          0         1  \n",
       "\n",
       "[5 rows x 23 columns]"
      ]
     },
     "execution_count": 3,
     "metadata": {},
     "output_type": "execute_result"
    }
   ],
   "source": [
    "df.head()"
   ]
  },
  {
   "cell_type": "code",
   "execution_count": 4,
   "metadata": {},
   "outputs": [
    {
     "data": {
      "text/plain": [
       "<Axes: ylabel='Frequency'>"
      ]
     },
     "execution_count": 4,
     "metadata": {},
     "output_type": "execute_result"
    },
    {
     "data": {
      "image/png": "[encoded data removed]",
      "text/plain": [
       "<Figure size 640x480 with 1 Axes>"
      ]
     },
     "metadata": {},
     "output_type": "display_data"
    }
   ],
   "source": [
    "df[\"tenure\"].plot.hist()"
   ]
  },
  {
   "cell_type": "code",
   "execution_count": 5,
   "metadata": {},
   "outputs": [],
   "source": [
    "df[\"tenure/age\"] = df[\"tenure\"] / (df[\"age\"]*12) \n",
    "df[\"age-tenure\"] = (df[\"age\"]*12) - df[\"tenure\"]"
   ]
  },
  {
   "cell_type": "code",
   "execution_count": 6,
   "metadata": {},
   "outputs": [
    {
     "data": {
      "text/plain": [
       "<Axes: ylabel='Frequency'>"
      ]
     },
     "execution_count": 6,
     "metadata": {},
     "output_type": "execute_result"
    },
    {
     "data": {
      "image/png": "[encoded data removed]",
      "text/plain": [
       "<Figure size 640x480 with 1 Axes>"
      ]
     },
     "metadata": {},
     "output_type": "display_data"
    }
   ],
   "source": [
    "df[\"tenure/age\"].plot.hist()"
   ]
  },
  {
   "cell_type": "code",
   "execution_count": 7,
   "metadata": {},
   "outputs": [
    {
     "data": {
      "text/plain": [
       "<Axes: ylabel='Frequency'>"
      ]
     },
     "execution_count": 7,
     "metadata": {},
     "output_type": "execute_result"
    },
    {
     "data": {
      "image/png": "[encoded data removed]",
      "text/plain": [
       "<Figure size 640x480 with 1 Axes>"
      ]
     },
     "metadata": {},
     "output_type": "display_data"
    }
   ],
   "source": [
    "df[\"age-tenure\"].plot.hist()"
   ]
  },
  {
   "cell_type": "code",
   "execution_count": 8,
   "metadata": {},
   "outputs": [
    {
     "data": {
      "text/plain": [
       "-7.0"
      ]
     },
     "execution_count": 8,
     "metadata": {},
     "output_type": "execute_result"
    }
   ],
   "source": [
    "(df[\"age-tenure\"] // 12).min()"
   ]
  },
  {
   "cell_type": "code",
   "execution_count": 9,
   "metadata": {},
   "outputs": [],
   "source": [
    "df = df[df[\"age-tenure\"] > (18*12)] # outlier olarak değerlendireceğim 18 yaşından sonra müşteri olunabilir ancak veride -7 yaşında müşteri olmuş gibi görünen kişiler var"
   ]
  },
  {
   "cell_type": "code",
   "execution_count": 10,
   "metadata": {},
   "outputs": [
    {
     "data": {
      "text/plain": [
       "<Axes: ylabel='Frequency'>"
      ]
     },
     "execution_count": 10,
     "metadata": {},
     "output_type": "execute_result"
    },
    {
     "data": {
      "image/png": "[encoded data removed]",
      "text/plain": [
       "<Figure size 640x480 with 1 Axes>"
      ]
     },
     "metadata": {},
     "output_type": "display_data"
    }
   ],
   "source": [
    "df[\"age-tenure\"].plot.hist()"
   ]
  },
  {
   "cell_type": "code",
   "execution_count": 11,
   "metadata": {},
   "outputs": [
    {
     "data": {
      "text/plain": [
       "<Axes: ylabel='Frequency'>"
      ]
     },
     "execution_count": 11,
     "metadata": {},
     "output_type": "execute_result"
    },
    {
     "data": {
      "image/png": "[encoded data removed]",
      "text/plain": [
       "<Figure size 640x480 with 1 Axes>"
      ]
     },
     "metadata": {},
     "output_type": "display_data"
    }
   ],
   "source": [
    "df[\"tenure/age\"].plot.hist()"
   ]
  },
  {
   "cell_type": "code",
   "execution_count": 12,
   "metadata": {},
   "outputs": [
    {
     "data": {
      "text/plain": [
       "min      1.0\n",
       "25%     47.0\n",
       "50%    106.0\n",
       "75%    188.0\n",
       "max    743.0\n",
       "Name: tenure, dtype: float64"
      ]
     },
     "execution_count": 12,
     "metadata": {},
     "output_type": "execute_result"
    }
   ],
   "source": [
    "df[\"tenure\"].describe()[[\"min\", \"25%\",\"50%\", \"75%\", \"max\"]]"
   ]
  },
  {
   "cell_type": "code",
   "execution_count": 13,
   "metadata": {},
   "outputs": [],
   "source": [
    "bins = [18, 25, 35, 45, 55, 65, np.inf]\n",
    "labels = ['18-24', '25-34', '35-44', '45-54', '55-64', '65+']\n",
    "df['age_group'] = pd.cut(df['age'], bins=bins, labels=labels, right=False)"
   ]
  },
  {
   "cell_type": "code",
   "execution_count": 14,
   "metadata": {},
   "outputs": [],
   "source": [
    "df['tenure_years'] = df['tenure'] / 12\n",
    "df['tenure_group'] = pd.cut(df['tenure'], \n",
    "                           bins=[0, 47, 106, 188, 300, 500, np.inf],\n",
    "                           labels=['0, 47', '48-106','107-188', '189-300', '301-500', '501-inf'],\n",
    "                           right=False)\n",
    "df['tenure_squared'] = df['tenure'] ** 2"
   ]
  },
  {
   "cell_type": "code",
   "execution_count": 15,
   "metadata": {},
   "outputs": [],
   "source": [
    "df['data_efficiency'] = df['data_usage'] / (df['monthly_charge'] + 1e-6)  # +1e-6 division by zero koruması\n",
    "df['has_roaming'] = df['roaming_usage'].apply(lambda x: 1 if x > 0 else 0)\n",
    "df['overdue_frequency'] = df['overdue_payments'] / (df['tenure'] + 1e-6)\n",
    "df['call_drop_rate'] = df['call_drops'] / (df['tenure'] + 1e-6)\n",
    "df['support_call_rate'] = df['customer_support_calls'] / (df['tenure'] + 1e-6)"
   ]
  },
  {
   "cell_type": "code",
   "execution_count": 16,
   "metadata": {},
   "outputs": [],
   "source": [
    "for service in df['service_type'].unique():\n",
    "    df[f'{service}_data_interaction'] = df[service] * df['data_usage']"
   ]
  },
  {
   "cell_type": "code",
   "execution_count": 17,
   "metadata": {},
   "outputs": [],
   "source": [
    "df['auto_payment_overdue'] = df['auto_payment'] * df['overdue_payments']\n",
    "df['satisfaction_support_interaction'] = df['satisfaction_score'] * df['customer_support_calls']"
   ]
  },
  {
   "cell_type": "code",
   "execution_count": 18,
   "metadata": {},
   "outputs": [],
   "source": [
    "df['any_overdue'] = df['overdue_payments'].apply(lambda x: 1 if x > 0 else 0)\n",
    "df['high_cost'] = np.where(df['monthly_charge'] > df['monthly_charge'].quantile(0.75), 1, 0)\n",
    "median_calls = df['customer_support_calls'].median()\n",
    "df['low_satisfaction_high_support'] = np.where((df['satisfaction_score'] < 3) & \n",
    "                                              (df['customer_support_calls'] > median_calls), 1, 0)"
   ]
  },
  {
   "cell_type": "code",
   "execution_count": 19,
   "metadata": {},
   "outputs": [],
   "source": [
    "df['is_prepaid'] = df['service_type'].apply(lambda x: 1 if x == 'Prepaid' else 0)\n",
    "df['prepaid_top_ups'] = df['is_prepaid'] * df['avg_top_up_count']"
   ]
  },
  {
   "cell_type": "code",
   "execution_count": 20,
   "metadata": {},
   "outputs": [],
   "source": [
    "df['voice_data_ratio'] = df['avg_call_duration'] / (df['data_usage'] + 1)"
   ]
  },
  {
   "cell_type": "code",
   "execution_count": 21,
   "metadata": {},
   "outputs": [],
   "source": [
    "df['age_squared'] = df['age'] ** 2"
   ]
  },
  {
   "cell_type": "code",
   "execution_count": 22,
   "metadata": {},
   "outputs": [],
   "source": [
    "tenure_dummies  = pd.get_dummies(df[\"tenure_group\"])\n",
    "age_dummies  = pd.get_dummies(df[\"age_group\"])\n",
    "df = pd.concat([df, tenure_dummies, age_dummies], axis=1)"
   ]
  },
  {
   "cell_type": "code",
   "execution_count": 23,
   "metadata": {},
   "outputs": [
    {
     "name": "stdout",
     "output_type": "stream",
     "text": [
      "<class 'pandas.core.frame.DataFrame'>\n",
      "Index: 4422491 entries, 0 to 9999999\n",
      "Data columns (total 58 columns):\n",
      " #   Column                            Dtype   \n",
      "---  ------                            -----   \n",
      " 0   id                                object  \n",
      " 1   age                               int64   \n",
      " 2   tenure                            float64 \n",
      " 3   service_type                      object  \n",
      " 4   avg_call_duration                 float64 \n",
      " 5   data_usage                        float64 \n",
      " 6   roaming_usage                     float64 \n",
      " 7   monthly_charge                    float64 \n",
      " 8   overdue_payments                  int64   \n",
      " 9   auto_payment                      int32   \n",
      " 10  avg_top_up_count                  int64   \n",
      " 11  call_drops                        float64 \n",
      " 12  customer_support_calls            int64   \n",
      " 13  satisfaction_score                float64 \n",
      " 14  churn                             int32   \n",
      " 15  İzleGo                            int32   \n",
      " 16  RitimGo                           int32   \n",
      " 17  CüzdanX                           int32   \n",
      " 18  HızlıPazar                        int32   \n",
      " 19  Konuşalım                         int32   \n",
      " 20  Prepaid                           int32   \n",
      " 21  Broadband                         int32   \n",
      " 22  Postpaid                          int32   \n",
      " 23  tenure/age                        float64 \n",
      " 24  age-tenure                        float64 \n",
      " 25  age_group                         category\n",
      " 26  tenure_years                      float64 \n",
      " 27  tenure_group                      category\n",
      " 28  tenure_squared                    float64 \n",
      " 29  data_efficiency                   float64 \n",
      " 30  has_roaming                       int64   \n",
      " 31  overdue_frequency                 float64 \n",
      " 32  call_drop_rate                    float64 \n",
      " 33  support_call_rate                 float64 \n",
      " 34  Broadband_data_interaction        float64 \n",
      " 35  Postpaid_data_interaction         float64 \n",
      " 36  Prepaid_data_interaction          float64 \n",
      " 37  auto_payment_overdue              int64   \n",
      " 38  satisfaction_support_interaction  float64 \n",
      " 39  any_overdue                       int64   \n",
      " 40  high_cost                         int32   \n",
      " 41  low_satisfaction_high_support     int32   \n",
      " 42  is_prepaid                        int64   \n",
      " 43  prepaid_top_ups                   int64   \n",
      " 44  voice_data_ratio                  float64 \n",
      " 45  age_squared                       int64   \n",
      " 46  0, 47                             bool    \n",
      " 47  48-106                            bool    \n",
      " 48  107-188                           bool    \n",
      " 49  189-300                           bool    \n",
      " 50  301-500                           bool    \n",
      " 51  501-inf                           bool    \n",
      " 52  18-24                             bool    \n",
      " 53  25-34                             bool    \n",
      " 54  35-44                             bool    \n",
      " 55  45-54                             bool    \n",
      " 56  55-64                             bool    \n",
      " 57  65+                               bool    \n",
      "dtypes: bool(12), category(2), float64(20), int32(12), int64(10), object(2)\n",
      "memory usage: 1.3+ GB\n"
     ]
    }
   ],
   "source": [
    "df.info()"
   ]
  },
  {
   "cell_type": "code",
   "execution_count": 1,
   "metadata": {},
   "outputs": [],
   "source": [
    "path = \"../Data/capstone_final.csv\""
   ]
  },
  {
   "cell_type": "code",
   "execution_count": 25,
   "metadata": {},
   "outputs": [],
   "source": [
    "df.to_csv(path)"
   ]
  },
  {
   "cell_type": "code",
   "execution_count": null,
   "metadata": {},
   "outputs": [],
   "source": []
  }
 ],
 "metadata": {
  "kernelspec": {
   "display_name": "DataScience",
   "language": "python",
   "name": "python3"
  },
  "language_info": {
   "codemirror_mode": {
    "name": "ipython",
    "version": 3
   },
   "file_extension": ".py",
   "mimetype": "text/x-python",
   "name": "python",
   "nbconvert_exporter": "python",
   "pygments_lexer": "ipython3",
   "version": "3.11.9"
  }
 },
 "nbformat": 4,
 "nbformat_minor": 2
}
