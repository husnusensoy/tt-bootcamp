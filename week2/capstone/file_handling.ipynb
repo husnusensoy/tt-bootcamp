{
 "cells": [
  {
   "cell_type": "code",
   "execution_count": 1,
   "metadata": {},
   "outputs": [],
   "source": [
    "import pandas as pd\n",
    "import numpy as np\n",
    "import duckdb\n",
    "import matplotlib.pyplot as plt\n",
    "from sklearn.model_selection import train_test_split\n",
    "\n",
    "pd.set_option('future.no_silent_downcasting', True)\n",
    "\n",
    "conn = duckdb.connect(database=\"capstone.db\")"
   ]
  },
  {
   "cell_type": "code",
   "execution_count": 2,
   "metadata": {},
   "outputs": [],
   "source": [
    "df = conn.execute(\"SELECT * FROM churn_data\").fetchdf()\n",
    "df[[\"auto_payment\", \"churn\"]] = df[[\"auto_payment\", \"churn\"]].apply(lambda x: x.map({True: 1, False: 0}))\n",
    "X, y = df.drop(columns=[\"churn\", \"apps\", \"service_type\"]), df[\"churn\"] \n",
    "\n",
    "X.loc[X['broadband'] == 1, ['roaming_usage', 'call_drops', 'avg_call_duration']] = X.loc[X['broadband'] == 1, ['roaming_usage', 'call_drops', 'avg_call_duration']].fillna(0)\n",
    "X.loc[(X['broadband'] == 0) & (X['postpaid'] == 0), 'auto_payment'] = X.loc[(X['broadband'] == 0) & (X['postpaid'] == 0), 'auto_payment'].fillna(0)"
   ]
  },
  {
   "cell_type": "code",
   "execution_count": 3,
   "metadata": {},
   "outputs": [],
   "source": [
    "X_train, X_test, y_train, y_test = train_test_split(X, y, test_size=0.2, random_state=23, stratify=y)"
   ]
  },
  {
   "cell_type": "code",
   "execution_count": 12,
   "metadata": {},
   "outputs": [],
   "source": [
    "def fill_missing_values(df_train, df_test, condition_column, columns):\n",
    "\n",
    "    for condition in condition_column:\n",
    "   \n",
    "        df_train_filtered = df_train[df_train[condition] == 1]\n",
    "        df_test_filtered = df_test[df_test[condition] == 1]\n",
    "\n",
    "        for col in columns:\n",
    "            min_val, max_val = df_train_filtered[col].min(), df_train_filtered[col].max()\n",
    "\n",
    "           \n",
    "            missing_train_idx = df_train_filtered[df_train_filtered[col].isnull()].index\n",
    "            missing_test_idx = df_test_filtered[df_test_filtered[col].isnull()].index\n",
    "\n",
    "            train_random_values = np.random.uniform(min_val, max_val, size=len(missing_train_idx)).astype(np.float32)\n",
    "            test_random_values = np.random.uniform(min_val, max_val, size=len(missing_test_idx)).astype(np.float32)\n",
    "\n",
    "            df_train.loc[missing_train_idx, col] = train_random_values\n",
    "            df_test.loc[missing_test_idx, col] = test_random_values\n",
    "\n",
    "    return df_train, df_test\n",
    "\n",
    "X_train, X_test =  fill_missing_values(X_train, X_test, ['broadband','prepaid','postpaid'], ['avg_call_duration', 'data_usage', 'monthly_charge'])\n",
    "\n",
    "X_train.drop(columns=['prepaid'], inplace=True) \n",
    "X_test.drop(columns=['prepaid'], inplace=True) # dummy variable trap\n",
    "\n",
    "X_train.fillna({'auto_payment': 0}, inplace=True)\n",
    "X_test.fillna({'auto_payment': 0}, inplace=True)\n",
    "\n",
    "X_train.fillna({'tenure': round(X_train['tenure'].mean())}, inplace=True)\n",
    "X_test.fillna({'tenure': round(X_train['tenure'].mean())}, inplace=True)"
   ]
  },
  {
   "cell_type": "code",
   "execution_count": 14,
   "metadata": {},
   "outputs": [],
   "source": [
    "train_data = pd.concat([X_train, y_train], axis=1)\n",
    "test_data = pd.concat([X_test, y_test], axis=1)\n",
    "\n",
    "train_data.to_parquet(\"train_data.parquet\", engine='pyarrow')\n",
    "test_data.to_parquet(\"test_data.parquet\", engine='pyarrow')"
   ]
  }
 ],
 "metadata": {
  "kernelspec": {
   "display_name": "py310",
   "language": "python",
   "name": "python3"
  },
  "language_info": {
   "codemirror_mode": {
    "name": "ipython",
    "version": 3
   },
   "file_extension": ".py",
   "mimetype": "text/x-python",
   "name": "python",
   "nbconvert_exporter": "python",
   "pygments_lexer": "ipython3",
   "version": "3.10.14"
  }
 },
 "nbformat": 4,
 "nbformat_minor": 2
}
