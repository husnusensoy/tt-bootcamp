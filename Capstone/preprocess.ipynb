{
 "cells": [
  {
   "cell_type": "code",
   "execution_count": 2,
   "metadata": {},
   "outputs": [],
   "source": [
    "import pandas as pd\n",
    "import numpy as np\n",
    "parquet_file_path = 'combined_capstone.parquet'\n",
    "df = pd.read_parquet(parquet_file_path, engine='pyarrow')\n"
   ]
  },
  {
   "cell_type": "code",
   "execution_count": 3,
   "metadata": {},
   "outputs": [
    {
     "data": {
      "text/html": [
       "<div>\n",
       "<style scoped>\n",
       "    .dataframe tbody tr th:only-of-type {\n",
       "        vertical-align: middle;\n",
       "    }\n",
       "\n",
       "    .dataframe tbody tr th {\n",
       "        vertical-align: top;\n",
       "    }\n",
       "\n",
       "    .dataframe thead th {\n",
       "        text-align: right;\n",
       "    }\n",
       "</style>\n",
       "<table border=\"1\" class=\"dataframe\">\n",
       "  <thead>\n",
       "    <tr style=\"text-align: right;\">\n",
       "      <th></th>\n",
       "      <th>age</th>\n",
       "      <th>tenure</th>\n",
       "      <th>avg_call_duration</th>\n",
       "      <th>data_usage</th>\n",
       "      <th>roaming_usage</th>\n",
       "      <th>monthly_charge</th>\n",
       "      <th>overdue_payments</th>\n",
       "      <th>auto_payment</th>\n",
       "      <th>avg_top_up_count</th>\n",
       "      <th>call_drops</th>\n",
       "      <th>customer_support_calls</th>\n",
       "      <th>satisfaction_score</th>\n",
       "    </tr>\n",
       "  </thead>\n",
       "  <tbody>\n",
       "    <tr>\n",
       "      <th>count</th>\n",
       "      <td>10000000.00</td>\n",
       "      <td>9975200.00</td>\n",
       "      <td>6335687.00</td>\n",
       "      <td>9500467.00</td>\n",
       "      <td>6668788.00</td>\n",
       "      <td>9749929.00</td>\n",
       "      <td>10000000.00</td>\n",
       "      <td>6655252.00</td>\n",
       "      <td>10000000.00</td>\n",
       "      <td>6668788.00</td>\n",
       "      <td>10000000.00</td>\n",
       "      <td>10000000.00</td>\n",
       "    </tr>\n",
       "    <tr>\n",
       "      <th>mean</th>\n",
       "      <td>30.38</td>\n",
       "      <td>158.25</td>\n",
       "      <td>60.51</td>\n",
       "      <td>100.07</td>\n",
       "      <td>29.99</td>\n",
       "      <td>743.77</td>\n",
       "      <td>1.67</td>\n",
       "      <td>0.50</td>\n",
       "      <td>17.52</td>\n",
       "      <td>10.00</td>\n",
       "      <td>10.00</td>\n",
       "      <td>5.50</td>\n",
       "    </tr>\n",
       "    <tr>\n",
       "      <th>std</th>\n",
       "      <td>11.40</td>\n",
       "      <td>94.75</td>\n",
       "      <td>34.34</td>\n",
       "      <td>57.70</td>\n",
       "      <td>17.32</td>\n",
       "      <td>597.31</td>\n",
       "      <td>1.83</td>\n",
       "      <td>0.50</td>\n",
       "      <td>29.48</td>\n",
       "      <td>6.06</td>\n",
       "      <td>6.06</td>\n",
       "      <td>2.60</td>\n",
       "    </tr>\n",
       "    <tr>\n",
       "      <th>min</th>\n",
       "      <td>18.00</td>\n",
       "      <td>1.00</td>\n",
       "      <td>1.00</td>\n",
       "      <td>0.10</td>\n",
       "      <td>0.00</td>\n",
       "      <td>30.00</td>\n",
       "      <td>0.00</td>\n",
       "      <td>0.00</td>\n",
       "      <td>0.00</td>\n",
       "      <td>0.00</td>\n",
       "      <td>0.00</td>\n",
       "      <td>1.00</td>\n",
       "    </tr>\n",
       "    <tr>\n",
       "      <th>25%</th>\n",
       "      <td>20.00</td>\n",
       "      <td>78.00</td>\n",
       "      <td>30.77</td>\n",
       "      <td>50.10</td>\n",
       "      <td>14.98</td>\n",
       "      <td>317.76</td>\n",
       "      <td>0.00</td>\n",
       "      <td>0.00</td>\n",
       "      <td>0.00</td>\n",
       "      <td>5.00</td>\n",
       "      <td>5.00</td>\n",
       "      <td>3.25</td>\n",
       "    </tr>\n",
       "    <tr>\n",
       "      <th>50%</th>\n",
       "      <td>28.00</td>\n",
       "      <td>156.00</td>\n",
       "      <td>60.50</td>\n",
       "      <td>100.05</td>\n",
       "      <td>30.00</td>\n",
       "      <td>480.61</td>\n",
       "      <td>1.00</td>\n",
       "      <td>0.00</td>\n",
       "      <td>0.00</td>\n",
       "      <td>10.00</td>\n",
       "      <td>10.00</td>\n",
       "      <td>5.50</td>\n",
       "    </tr>\n",
       "    <tr>\n",
       "      <th>75%</th>\n",
       "      <td>38.00</td>\n",
       "      <td>234.00</td>\n",
       "      <td>90.27</td>\n",
       "      <td>150.06</td>\n",
       "      <td>44.99</td>\n",
       "      <td>1018.33</td>\n",
       "      <td>3.00</td>\n",
       "      <td>1.00</td>\n",
       "      <td>29.00</td>\n",
       "      <td>15.00</td>\n",
       "      <td>15.00</td>\n",
       "      <td>7.75</td>\n",
       "    </tr>\n",
       "    <tr>\n",
       "      <th>max</th>\n",
       "      <td>80.00</td>\n",
       "      <td>754.00</td>\n",
       "      <td>120.00</td>\n",
       "      <td>200.00</td>\n",
       "      <td>60.00</td>\n",
       "      <td>2500.00</td>\n",
       "      <td>5.00</td>\n",
       "      <td>1.00</td>\n",
       "      <td>100.00</td>\n",
       "      <td>20.00</td>\n",
       "      <td>20.00</td>\n",
       "      <td>10.00</td>\n",
       "    </tr>\n",
       "  </tbody>\n",
       "</table>\n",
       "</div>"
      ],
      "text/plain": [
       "               age      tenure avg_call_duration  data_usage roaming_usage  \\\n",
       "count  10000000.00  9975200.00        6335687.00  9500467.00    6668788.00   \n",
       "mean         30.38      158.25             60.51      100.07         29.99   \n",
       "std          11.40       94.75             34.34       57.70         17.32   \n",
       "min          18.00        1.00              1.00        0.10          0.00   \n",
       "25%          20.00       78.00             30.77       50.10         14.98   \n",
       "50%          28.00      156.00             60.50      100.05         30.00   \n",
       "75%          38.00      234.00             90.27      150.06         44.99   \n",
       "max          80.00      754.00            120.00      200.00         60.00   \n",
       "\n",
       "      monthly_charge overdue_payments auto_payment avg_top_up_count  \\\n",
       "count     9749929.00      10000000.00   6655252.00      10000000.00   \n",
       "mean          743.77             1.67         0.50            17.52   \n",
       "std           597.31             1.83         0.50            29.48   \n",
       "min            30.00             0.00         0.00             0.00   \n",
       "25%           317.76             0.00         0.00             0.00   \n",
       "50%           480.61             1.00         0.00             0.00   \n",
       "75%          1018.33             3.00         1.00            29.00   \n",
       "max          2500.00             5.00         1.00           100.00   \n",
       "\n",
       "       call_drops customer_support_calls satisfaction_score  \n",
       "count  6668788.00            10000000.00        10000000.00  \n",
       "mean        10.00                  10.00               5.50  \n",
       "std          6.06                   6.06               2.60  \n",
       "min          0.00                   0.00               1.00  \n",
       "25%          5.00                   5.00               3.25  \n",
       "50%         10.00                  10.00               5.50  \n",
       "75%         15.00                  15.00               7.75  \n",
       "max         20.00                  20.00              10.00  "
      ]
     },
     "execution_count": 3,
     "metadata": {},
     "output_type": "execute_result"
    }
   ],
   "source": [
    "df.describe().apply(lambda s: s.apply(lambda x: format(x, '.2f')))"
   ]
  },
  {
   "cell_type": "code",
   "execution_count": 4,
   "metadata": {},
   "outputs": [
    {
     "data": {
      "text/plain": [
       "Index(['id', 'age', 'tenure', 'service_type', 'avg_call_duration',\n",
       "       'data_usage', 'roaming_usage', 'monthly_charge', 'overdue_payments',\n",
       "       'avg_top_up_count', 'call_drops', 'customer_support_calls',\n",
       "       'satisfaction_score', 'apps', 'churn', 'auto_payment_true',\n",
       "       'auto_payment_false', 'auto_payment_unknown'],\n",
       "      dtype='object')"
      ]
     },
     "execution_count": 4,
     "metadata": {},
     "output_type": "execute_result"
    }
   ],
   "source": [
    "df['auto_payment_true'] = (df['auto_payment'] == True).astype(int)\n",
    "df['auto_payment_false'] = (df['auto_payment'] == False).astype(int)\n",
    "df['auto_payment_unknown'] = df['auto_payment'].isnull().astype(int)\n",
    "df.drop(columns=['auto_payment'], inplace=True)\n",
    "\n",
    "df.columns"
   ]
  },
  {
   "cell_type": "code",
   "execution_count": 5,
   "metadata": {},
   "outputs": [],
   "source": [
    "df.loc[df[\"service_type\"] == \"Broadband\", [\"avg_call_duration\", \"roaming_usage\", \"call_drops\"]] = 0\n",
    "df[\"tenure\"] = df[\"tenure\"].fillna(df[\"tenure\"].mean())\n",
    "df[\"avg_call_duration\"] = df[\"avg_call_duration\"].fillna(df[\"avg_call_duration\"].mean())\n",
    "df[\"data_usage\"] = df[\"data_usage\"].fillna(df[\"data_usage\"].mean())\n",
    "df[\"monthly_charge\"] = df[\"monthly_charge\"].fillna(df[\"monthly_charge\"].mean())"
   ]
  },
  {
   "cell_type": "code",
   "execution_count": 6,
   "metadata": {},
   "outputs": [],
   "source": [
    "product_df = df[[\"id\",\"monthly_charge\",\"churn\"]]"
   ]
  },
  {
   "cell_type": "code",
   "execution_count": 7,
   "metadata": {},
   "outputs": [
    {
     "name": "stdout",
     "output_type": "stream",
     "text": [
      "<class 'pandas.core.frame.DataFrame'>\n",
      "RangeIndex: 10000000 entries, 0 to 9999999\n",
      "Data columns (total 18 columns):\n",
      " #   Column                  Dtype  \n",
      "---  ------                  -----  \n",
      " 0   id                      object \n",
      " 1   age                     int64  \n",
      " 2   tenure                  float64\n",
      " 3   service_type            object \n",
      " 4   avg_call_duration       float64\n",
      " 5   data_usage              float64\n",
      " 6   roaming_usage           float64\n",
      " 7   monthly_charge          float64\n",
      " 8   overdue_payments        int64  \n",
      " 9   avg_top_up_count        int64  \n",
      " 10  call_drops              float64\n",
      " 11  customer_support_calls  int64  \n",
      " 12  satisfaction_score      float64\n",
      " 13  apps                    object \n",
      " 14  churn                   bool   \n",
      " 15  auto_payment_true       int64  \n",
      " 16  auto_payment_false      int64  \n",
      " 17  auto_payment_unknown    int64  \n",
      "dtypes: bool(1), float64(7), int64(7), object(3)\n",
      "memory usage: 1.3+ GB\n"
     ]
    }
   ],
   "source": [
    "df.info()"
   ]
  },
  {
   "cell_type": "code",
   "execution_count": 8,
   "metadata": {},
   "outputs": [],
   "source": [
    "from sklearn.preprocessing import MultiLabelBinarizer, OneHotEncoder\n",
    "# Initialize the MultiLabelBinarizer\n",
    "mlb = MultiLabelBinarizer()\n",
    "# Fit and transform the 'apps' column\n",
    "apps_encoded = mlb.fit_transform(df['apps'])\n",
    "# Create a DataFrame from the encoded matrix with appropriate column names\n",
    "apps_df = pd.DataFrame(apps_encoded, columns=mlb.classes_, index=df.index)\n",
    "# Concatenate the new one-hot encoded columns with the original DataFrame,\n",
    "# dropping the original 'apps' column if desired\n",
    "df = pd.concat([df.drop('apps', axis=1), apps_df], axis=1)\n"
   ]
  },
  {
   "cell_type": "code",
   "execution_count": 9,
   "metadata": {},
   "outputs": [
    {
     "data": {
      "text/plain": [
       "Index(['id', 'age', 'tenure', 'avg_call_duration', 'data_usage',\n",
       "       'roaming_usage', 'monthly_charge', 'overdue_payments',\n",
       "       'avg_top_up_count', 'call_drops', 'customer_support_calls',\n",
       "       'satisfaction_score', 'churn', 'auto_payment_true',\n",
       "       'auto_payment_false', 'auto_payment_unknown', 'CüzdanX', 'HızlıPazar',\n",
       "       'Konuşalım', 'RitimGo', 'İzleGo', 'service_type_Broadband',\n",
       "       'service_type_Postpaid', 'service_type_Prepaid'],\n",
       "      dtype='object')"
      ]
     },
     "execution_count": 9,
     "metadata": {},
     "output_type": "execute_result"
    }
   ],
   "source": [
    "encoder = OneHotEncoder(sparse_output=False)\n",
    "cat_cols = [\"service_type\"]\n",
    "one_hot_encoded = encoder.fit_transform(df[cat_cols])\n",
    "\n",
    "# Create a DataFrame with the encoded columns\n",
    "one_hot_df = pd.DataFrame(one_hot_encoded,\n",
    "                          columns=encoder.get_feature_names_out(cat_cols))\n",
    "\n",
    "# Concatenate the one-hot encoded columns with the original DataFrame\n",
    "df = pd.concat([df.drop(cat_cols, axis=1), one_hot_df], axis=1)\n",
    "df.columns"
   ]
  },
  {
   "cell_type": "markdown",
   "metadata": {},
   "source": [
    "### New Features"
   ]
  },
  {
   "cell_type": "code",
   "execution_count": 10,
   "metadata": {},
   "outputs": [],
   "source": [
    "\n",
    "# Helper function for safe division\n",
    "def safe_divide(numerator, denominator, fill_value=0):\n",
    "    # Replace zeros in the denominator with np.nan to avoid division by zero.\n",
    "    denominator = denominator.replace(0, np.nan)\n",
    "    # Perform the division.\n",
    "    result = numerator / denominator\n",
    "    # Replace any inf or -inf with NaN and fill NaN values.\n",
    "    result = result.replace([np.inf, -np.inf], np.nan).fillna(fill_value)\n",
    "    return result\n",
    "\n",
    "# Apply safe_divide to all columns where division is used:\n",
    "df[\"data_per_month\"] = safe_divide(df[\"data_usage\"], df[\"tenure\"])\n",
    "df[\"charge_per_gb\"] = safe_divide(df[\"monthly_charge\"], df[\"data_usage\"])\n",
    "df[\"support_call_per_month\"] = safe_divide(df[\"customer_support_calls\"], df[\"tenure\"])\n",
    "df[\"support_call_percent\"] = safe_divide(df[\"customer_support_calls\"], df[\"roaming_usage\"])\n",
    "df[\"drop_per_life\"] = safe_divide(df[\"call_drops\"], df[\"tenure\"])\n",
    "df[\"overdue_per_usr\"] = safe_divide(df[\"overdue_payments\"], df[\"tenure\"])\n",
    "\n",
    "# Now process the remaining calculations that don't involve division-by-zero issues:\n",
    "df[\"total_apps_used\"] = (df['CüzdanX'] + df['HızlıPazar'] +\n",
    "                         df['Konuşalım'] + df['RitimGo'] + df['İzleGo'])\n",
    "\n",
    "df[\"overdue_but_auto_payment\"] = df[\"overdue_payments\"] * df[\"auto_payment_true\"]\n",
    "df[\"overdue_but_auto_payment\"] = df[\"overdue_but_auto_payment\"].fillna(0)\n",
    "\n",
    "df[\"yıllar_boyu_memnun\"] = df[\"tenure\"] * df[\"satisfaction_score\"]\n",
    "\n",
    "df[\"problematic\"] = df[\"customer_support_calls\"] * df[\"call_drops\"] * df[\"overdue_payments\"]\n"
   ]
  },
  {
   "cell_type": "code",
   "execution_count": 11,
   "metadata": {},
   "outputs": [
    {
     "name": "stdout",
     "output_type": "stream",
     "text": [
      "(10000000, 44)\n"
     ]
    }
   ],
   "source": [
    "\n",
    "# Binning the 'tenure' column into groups\n",
    "tenure_bins = [0, 6, 12, 24, 48, 2000]\n",
    "tenure_labels = ['0-6', '6-12', '12-24', '24-48', '48+']\n",
    "df['tenure_group'] = pd.cut(df['tenure'], bins=tenure_bins, labels=tenure_labels, right=False)\n",
    "\n",
    "# Binning the 'age' column into groups\n",
    "age_bins = [0, 18, 25, 35, 45, 100]\n",
    "age_labels = ['0-18', '18-25', '25-35', '35-45', '45+']\n",
    "df['age_group'] = pd.cut(df['age'], bins=age_bins, labels=age_labels, right=False)\n",
    "\n",
    "# Apply one-hot encoding to the newly created categorical columns\n",
    "df = pd.get_dummies(df, columns=['tenure_group', 'age_group'])\n",
    "\n",
    "# Check the new shape of the DataFrame\n",
    "print(df.shape)\n"
   ]
  },
  {
   "cell_type": "code",
   "execution_count": 12,
   "metadata": {},
   "outputs": [],
   "source": [
    "df.to_parquet('processed.parquet', engine='pyarrow')"
   ]
  }
 ],
 "metadata": {
  "kernelspec": {
   "display_name": "Python 3",
   "language": "python",
   "name": "python3"
  },
  "language_info": {
   "codemirror_mode": {
    "name": "ipython",
    "version": 3
   },
   "file_extension": ".py",
   "mimetype": "text/x-python",
   "name": "python",
   "nbconvert_exporter": "python",
   "pygments_lexer": "ipython3",
   "version": "3.12.8"
  }
 },
 "nbformat": 4,
 "nbformat_minor": 2
}
