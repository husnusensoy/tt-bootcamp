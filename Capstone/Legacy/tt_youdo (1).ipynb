{
  "cells": [
    {
      "cell_type": "markdown",
      "metadata": {
        "id": "XIMrrxNL3mIW"
      },
      "source": [
        "## Terminal"
      ]
    },
    {
      "cell_type": "code",
      "execution_count": 1,
      "metadata": {
        "colab": {
          "base_uri": "https://localhost:8080/"
        },
        "id": "penButGmd3FK",
        "outputId": "15ce4160-7fa3-4979-f5fc-4de6799dd898"
      },
      "outputs": [
        {
          "output_type": "stream",
          "name": "stdout",
          "text": [
            "Collecting catboost\n",
            "  Downloading catboost-1.2.7-cp311-cp311-manylinux2014_x86_64.whl.metadata (1.2 kB)\n",
            "Collecting optuna\n",
            "  Downloading optuna-4.2.0-py3-none-any.whl.metadata (17 kB)\n",
            "Requirement already satisfied: graphviz in /usr/local/lib/python3.11/dist-packages (from catboost) (0.20.3)\n",
            "Requirement already satisfied: matplotlib in /usr/local/lib/python3.11/dist-packages (from catboost) (3.10.0)\n",
            "Requirement already satisfied: numpy<2.0,>=1.16.0 in /usr/local/lib/python3.11/dist-packages (from catboost) (1.26.4)\n",
            "Requirement already satisfied: pandas>=0.24 in /usr/local/lib/python3.11/dist-packages (from catboost) (2.2.2)\n",
            "Requirement already satisfied: scipy in /usr/local/lib/python3.11/dist-packages (from catboost) (1.13.1)\n",
            "Requirement already satisfied: plotly in /usr/local/lib/python3.11/dist-packages (from catboost) (5.24.1)\n",
            "Requirement already satisfied: six in /usr/local/lib/python3.11/dist-packages (from catboost) (1.17.0)\n",
            "Collecting alembic>=1.5.0 (from optuna)\n",
            "  Downloading alembic-1.14.1-py3-none-any.whl.metadata (7.4 kB)\n",
            "Collecting colorlog (from optuna)\n",
            "  Downloading colorlog-6.9.0-py3-none-any.whl.metadata (10 kB)\n",
            "Requirement already satisfied: packaging>=20.0 in /usr/local/lib/python3.11/dist-packages (from optuna) (24.2)\n",
            "Requirement already satisfied: sqlalchemy>=1.4.2 in /usr/local/lib/python3.11/dist-packages (from optuna) (2.0.37)\n",
            "Requirement already satisfied: tqdm in /usr/local/lib/python3.11/dist-packages (from optuna) (4.67.1)\n",
            "Requirement already satisfied: PyYAML in /usr/local/lib/python3.11/dist-packages (from optuna) (6.0.2)\n",
            "Collecting Mako (from alembic>=1.5.0->optuna)\n",
            "  Downloading Mako-1.3.9-py3-none-any.whl.metadata (2.9 kB)\n",
            "Requirement already satisfied: typing-extensions>=4 in /usr/local/lib/python3.11/dist-packages (from alembic>=1.5.0->optuna) (4.12.2)\n",
            "Requirement already satisfied: python-dateutil>=2.8.2 in /usr/local/lib/python3.11/dist-packages (from pandas>=0.24->catboost) (2.8.2)\n",
            "Requirement already satisfied: pytz>=2020.1 in /usr/local/lib/python3.11/dist-packages (from pandas>=0.24->catboost) (2025.1)\n",
            "Requirement already satisfied: tzdata>=2022.7 in /usr/local/lib/python3.11/dist-packages (from pandas>=0.24->catboost) (2025.1)\n",
            "Requirement already satisfied: greenlet!=0.4.17 in /usr/local/lib/python3.11/dist-packages (from sqlalchemy>=1.4.2->optuna) (3.1.1)\n",
            "Requirement already satisfied: contourpy>=1.0.1 in /usr/local/lib/python3.11/dist-packages (from matplotlib->catboost) (1.3.1)\n",
            "Requirement already satisfied: cycler>=0.10 in /usr/local/lib/python3.11/dist-packages (from matplotlib->catboost) (0.12.1)\n",
            "Requirement already satisfied: fonttools>=4.22.0 in /usr/local/lib/python3.11/dist-packages (from matplotlib->catboost) (4.55.8)\n",
            "Requirement already satisfied: kiwisolver>=1.3.1 in /usr/local/lib/python3.11/dist-packages (from matplotlib->catboost) (1.4.8)\n",
            "Requirement already satisfied: pillow>=8 in /usr/local/lib/python3.11/dist-packages (from matplotlib->catboost) (11.1.0)\n",
            "Requirement already satisfied: pyparsing>=2.3.1 in /usr/local/lib/python3.11/dist-packages (from matplotlib->catboost) (3.2.1)\n",
            "Requirement already satisfied: tenacity>=6.2.0 in /usr/local/lib/python3.11/dist-packages (from plotly->catboost) (9.0.0)\n",
            "Requirement already satisfied: MarkupSafe>=0.9.2 in /usr/local/lib/python3.11/dist-packages (from Mako->alembic>=1.5.0->optuna) (3.0.2)\n",
            "Downloading catboost-1.2.7-cp311-cp311-manylinux2014_x86_64.whl (98.7 MB)\n",
            "\u001b[2K   \u001b[90m━━━━━━━━━━━━━━━━━━━━━━━━━━━━━━━━━━━━━━━━\u001b[0m \u001b[32m98.7/98.7 MB\u001b[0m \u001b[31m23.2 MB/s\u001b[0m eta \u001b[36m0:00:00\u001b[0m\n",
            "\u001b[?25hDownloading optuna-4.2.0-py3-none-any.whl (383 kB)\n",
            "\u001b[2K   \u001b[90m━━━━━━━━━━━━━━━━━━━━━━━━━━━━━━━━━━━━━━━━\u001b[0m \u001b[32m383.4/383.4 kB\u001b[0m \u001b[31m20.0 MB/s\u001b[0m eta \u001b[36m0:00:00\u001b[0m\n",
            "\u001b[?25hDownloading alembic-1.14.1-py3-none-any.whl (233 kB)\n",
            "\u001b[2K   \u001b[90m━━━━━━━━━━━━━━━━━━━━━━━━━━━━━━━━━━━━━━━━\u001b[0m \u001b[32m233.6/233.6 kB\u001b[0m \u001b[31m21.0 MB/s\u001b[0m eta \u001b[36m0:00:00\u001b[0m\n",
            "\u001b[?25hDownloading colorlog-6.9.0-py3-none-any.whl (11 kB)\n",
            "Downloading Mako-1.3.9-py3-none-any.whl (78 kB)\n",
            "\u001b[2K   \u001b[90m━━━━━━━━━━━━━━━━━━━━━━━━━━━━━━━━━━━━━━━━\u001b[0m \u001b[32m78.5/78.5 kB\u001b[0m \u001b[31m6.2 MB/s\u001b[0m eta \u001b[36m0:00:00\u001b[0m\n",
            "\u001b[?25hInstalling collected packages: Mako, colorlog, alembic, optuna, catboost\n",
            "Successfully installed Mako-1.3.9 alembic-1.14.1 catboost-1.2.7 colorlog-6.9.0 optuna-4.2.0\n"
          ]
        }
      ],
      "source": [
        "!pip install catboost optuna"
      ]
    },
    {
      "cell_type": "markdown",
      "metadata": {
        "id": "ry6vNwL83v41"
      },
      "source": [
        "## Libraries"
      ]
    },
    {
      "cell_type": "code",
      "execution_count": 2,
      "metadata": {
        "id": "f3XqyApH3yKp"
      },
      "outputs": [],
      "source": [
        "import requests\n",
        "import gzip\n",
        "import numpy as np\n",
        "import shutil\n",
        "import pandas as pd\n",
        "from sklearn.preprocessing import MultiLabelBinarizer, OneHotEncoder\n",
        "from sklearn.experimental import enable_iterative_imputer\n",
        "from sklearn.impute import IterativeImputer\n",
        "from sklearn.ensemble import RandomForestRegressor\n",
        "from sklearn.linear_model import LinearRegression\n",
        "import missingno as msno\n",
        "\n"
      ]
    },
    {
      "cell_type": "code",
      "source": [],
      "metadata": {
        "id": "OdF35sYfxDQP"
      },
      "execution_count": 2,
      "outputs": []
    },
    {
      "cell_type": "markdown",
      "metadata": {
        "id": "TO2wu7M7388q"
      },
      "source": [
        "## Download and Pandafy data"
      ]
    },
    {
      "cell_type": "code",
      "execution_count": 3,
      "metadata": {
        "id": "lx9KzfDoJhVI",
        "colab": {
          "base_uri": "https://localhost:8080/"
        },
        "outputId": "d9dfdaab-6af9-4d33-c442-86dbf81828b5"
      },
      "outputs": [
        {
          "output_type": "stream",
          "name": "stdout",
          "text": [
            "Downloaded capstone.1.jsonl.gz\n",
            "Downloaded capstone.2.jsonl.gz\n",
            "Downloaded capstone.3.jsonl.gz\n",
            "Downloaded capstone.4.jsonl.gz\n",
            "Downloaded capstone.5.jsonl.gz\n",
            "Downloaded capstone.6.jsonl.gz\n",
            "Downloaded capstone.7.jsonl.gz\n",
            "Downloaded capstone.8.jsonl.gz\n",
            "Downloaded capstone.9.jsonl.gz\n",
            "Downloaded capstone.10.jsonl.gz\n",
            "Unzipped capstone.1.jsonl.gz to capstone.1.jsonl\n",
            "Unzipped capstone.2.jsonl.gz to capstone.2.jsonl\n",
            "Unzipped capstone.3.jsonl.gz to capstone.3.jsonl\n",
            "Unzipped capstone.4.jsonl.gz to capstone.4.jsonl\n",
            "Unzipped capstone.5.jsonl.gz to capstone.5.jsonl\n",
            "Unzipped capstone.6.jsonl.gz to capstone.6.jsonl\n",
            "Unzipped capstone.7.jsonl.gz to capstone.7.jsonl\n",
            "Unzipped capstone.8.jsonl.gz to capstone.8.jsonl\n",
            "Unzipped capstone.9.jsonl.gz to capstone.9.jsonl\n",
            "Unzipped capstone.10.jsonl.gz to capstone.10.jsonl\n",
            "Loaded capstone.1.jsonl into DataFrame\n",
            "Loaded capstone.2.jsonl into DataFrame\n",
            "Loaded capstone.3.jsonl into DataFrame\n",
            "Loaded capstone.4.jsonl into DataFrame\n",
            "Loaded capstone.5.jsonl into DataFrame\n",
            "Loaded capstone.6.jsonl into DataFrame\n",
            "Loaded capstone.7.jsonl into DataFrame\n",
            "Loaded capstone.8.jsonl into DataFrame\n",
            "Loaded capstone.9.jsonl into DataFrame\n",
            "Loaded capstone.10.jsonl into DataFrame\n",
            "Combined DataFrame shape: (1000000, 16)\n",
            "<class 'pandas.core.frame.DataFrame'>\n",
            "RangeIndex: 1000000 entries, 0 to 999999\n",
            "Data columns (total 16 columns):\n",
            " #   Column                  Non-Null Count    Dtype  \n",
            "---  ------                  --------------    -----  \n",
            " 0   id                      1000000 non-null  object \n",
            " 1   age                     1000000 non-null  int64  \n",
            " 2   tenure                  997518 non-null   float64\n",
            " 3   service_type            1000000 non-null  object \n",
            " 4   avg_call_duration       633831 non-null   float64\n",
            " 5   data_usage              949906 non-null   float64\n",
            " 6   roaming_usage           667097 non-null   float64\n",
            " 7   monthly_charge          974963 non-null   float64\n",
            " 8   overdue_payments        1000000 non-null  int64  \n",
            " 9   auto_payment            665884 non-null   float64\n",
            " 10  avg_top_up_count        1000000 non-null  int64  \n",
            " 11  call_drops              667097 non-null   float64\n",
            " 12  customer_support_calls  1000000 non-null  int64  \n",
            " 13  satisfaction_score      1000000 non-null  float64\n",
            " 14  apps                    1000000 non-null  object \n",
            " 15  churn                   1000000 non-null  bool   \n",
            "dtypes: bool(1), float64(8), int64(4), object(3)\n",
            "memory usage: 115.4+ MB\n",
            "None\n",
            "                                     id  age  tenure service_type  \\\n",
            "0  d2481a5a-b5ef-4c5d-b625-412c3dfe3022   18    33.0      Prepaid   \n",
            "1  c290e3cd-f3f9-4dea-b277-3a2ab3aa199d   32   238.0     Postpaid   \n",
            "2  17f8291c-8546-448d-b567-0f61dfc05b3a   23   252.0    Broadband   \n",
            "3  b8b83dd2-2733-4a18-a2aa-04dc0c01e4ac   53   349.0     Postpaid   \n",
            "4  d1d02e4f-b643-4636-a0ac-3bed7bab1886   18   137.0      Prepaid   \n",
            "\n",
            "   avg_call_duration  data_usage  roaming_usage  monthly_charge  \\\n",
            "0              17.18      173.11          45.79           94.44   \n",
            "1              61.34        5.14          59.72         1050.31   \n",
            "2                NaN       27.56            NaN          365.66   \n",
            "3             119.44       91.06          25.06          518.53   \n",
            "4              24.70      177.39          13.19         1729.22   \n",
            "\n",
            "   overdue_payments  auto_payment  avg_top_up_count  call_drops  \\\n",
            "0                 0           NaN                36        19.0   \n",
            "1                 2           1.0                 0        14.0   \n",
            "2                 1           1.0                 0         NaN   \n",
            "3                 4           1.0                 0        18.0   \n",
            "4                 0           NaN                68        16.0   \n",
            "\n",
            "   customer_support_calls  satisfaction_score         apps  churn  \n",
            "0                      17                1.65           []  False  \n",
            "1                       6                9.24           []  False  \n",
            "2                      13                2.02           []  False  \n",
            "3                       9                7.65  [Konuşalım]  False  \n",
            "4                      13                1.68           []  False  \n"
          ]
        }
      ],
      "source": [
        "# Step 1: Download all files\n",
        "base_url = \"https://storage.googleapis.com/sadedegel/dataset/tt-capstone/capstone.{}.jsonl.gz\"\n",
        "\n",
        "for i in range(1, 11):\n",
        "    url = base_url.format(i)\n",
        "    response = requests.get(url)\n",
        "    with open(f\"capstone.{i}.jsonl.gz\", \"wb\") as file:\n",
        "        file.write(response.content)\n",
        "    print(f\"Downloaded capstone.{i}.jsonl.gz\")\n",
        "\n",
        "# Step 2: Unzip the files\n",
        "for i in range(1, 11):\n",
        "    gz_file = f\"capstone.{i}.jsonl.gz\"\n",
        "    jsonl_file = f\"capstone.{i}.jsonl\"\n",
        "    with gzip.open(gz_file, 'rb') as f_in:\n",
        "        with open(jsonl_file, 'wb') as f_out:\n",
        "            shutil.copyfileobj(f_in, f_out)\n",
        "    print(f\"Unzipped {gz_file} to {jsonl_file}\")\n",
        "\n",
        "# Step 3: Load JSONL files into DataFrames and concatenate\n",
        "dfs = []\n",
        "\n",
        "for i in range(1, 11):\n",
        "    jsonl_file = f\"capstone.{i}.jsonl\"\n",
        "    df = pd.read_json(jsonl_file, lines=True)\n",
        "    dfs.append(df)\n",
        "    print(f\"Loaded {jsonl_file} into DataFrame\")\n",
        "\n",
        "df_original = pd.concat(dfs, ignore_index=True)\n",
        "\n",
        "# Step 4: Verify the combined DataFrame\n",
        "print(f\"Combined DataFrame shape: {df.shape}\")\n",
        "print(df.info())\n",
        "print(df.head())"
      ]
    },
    {
      "cell_type": "code",
      "execution_count": 6,
      "metadata": {
        "id": "UunRNF2vmqzY"
      },
      "outputs": [],
      "source": [
        "df = df_original.copy()"
      ]
    },
    {
      "cell_type": "code",
      "source": [
        "df.to_parquet(\"/content/drive/MyDrive/raw_dataframe.parquet\", engine=\"pyarrow\")"
      ],
      "metadata": {
        "id": "rlIc3XJazrQ1"
      },
      "execution_count": 7,
      "outputs": []
    },
    {
      "cell_type": "code",
      "source": [
        "df = pd.read_csv(\"/content/drive/MyDrive/raw_dataframe.csv\")\n",
        "df.head()"
      ],
      "metadata": {
        "colab": {
          "base_uri": "https://localhost:8080/",
          "height": 486
        },
        "id": "pSdbDKIKz0kn",
        "outputId": "f1d0ab15-835d-483d-d323-b38a2dae89fa"
      },
      "execution_count": null,
      "outputs": [
        {
          "output_type": "execute_result",
          "data": {
            "text/plain": [
              "                                     id  age  tenure service_type  \\\n",
              "0  51893f29-e6c2-45d3-807c-e1280d3d7b90   18    53.0      Prepaid   \n",
              "1  a568caf1-d851-4847-a9f5-20ef9017fa92   26    15.0      Prepaid   \n",
              "2  c611bf0e-a013-44dc-9939-bd33dab16d14   32   152.0     Postpaid   \n",
              "3  9284b7b8-a4ef-49a7-9fa4-333954491f57   33    35.0      Prepaid   \n",
              "4  e205b674-a6e6-43c5-aed7-9497c37c5c82   18   243.0      Prepaid   \n",
              "\n",
              "   avg_call_duration  data_usage  roaming_usage  monthly_charge  \\\n",
              "0             106.74      139.72          47.31           59.45   \n",
              "1              31.55       12.14          21.52         1221.65   \n",
              "2              30.64       10.17          31.11         1170.45   \n",
              "3                NaN         NaN          36.03         2418.91   \n",
              "4              85.62      164.79          46.40         1518.19   \n",
              "\n",
              "   overdue_payments  auto_payment  avg_top_up_count  call_drops  \\\n",
              "0                 0           NaN                25        18.0   \n",
              "1                 0           NaN                51         8.0   \n",
              "2                 0           1.0                 0        13.0   \n",
              "3                 0           NaN                19         7.0   \n",
              "4                 0           NaN                99        15.0   \n",
              "\n",
              "   customer_support_calls  satisfaction_score         apps  churn  \n",
              "0                      13                1.34           []  False  \n",
              "1                       3                2.57           []  False  \n",
              "2                      10                8.02           []  False  \n",
              "3                      11                5.96  ['RitimGo']  False  \n",
              "4                       6                8.29           []  False  "
            ],
            "text/html": [
              "\n",
              "  <div id=\"df-9beceb8f-cbfb-44b9-8fa3-20c81c8cc0fc\" class=\"colab-df-container\">\n",
              "    <div>\n",
              "<style scoped>\n",
              "    .dataframe tbody tr th:only-of-type {\n",
              "        vertical-align: middle;\n",
              "    }\n",
              "\n",
              "    .dataframe tbody tr th {\n",
              "        vertical-align: top;\n",
              "    }\n",
              "\n",
              "    .dataframe thead th {\n",
              "        text-align: right;\n",
              "    }\n",
              "</style>\n",
              "<table border=\"1\" class=\"dataframe\">\n",
              "  <thead>\n",
              "    <tr style=\"text-align: right;\">\n",
              "      <th></th>\n",
              "      <th>id</th>\n",
              "      <th>age</th>\n",
              "      <th>tenure</th>\n",
              "      <th>service_type</th>\n",
              "      <th>avg_call_duration</th>\n",
              "      <th>data_usage</th>\n",
              "      <th>roaming_usage</th>\n",
              "      <th>monthly_charge</th>\n",
              "      <th>overdue_payments</th>\n",
              "      <th>auto_payment</th>\n",
              "      <th>avg_top_up_count</th>\n",
              "      <th>call_drops</th>\n",
              "      <th>customer_support_calls</th>\n",
              "      <th>satisfaction_score</th>\n",
              "      <th>apps</th>\n",
              "      <th>churn</th>\n",
              "    </tr>\n",
              "  </thead>\n",
              "  <tbody>\n",
              "    <tr>\n",
              "      <th>0</th>\n",
              "      <td>51893f29-e6c2-45d3-807c-e1280d3d7b90</td>\n",
              "      <td>18</td>\n",
              "      <td>53.0</td>\n",
              "      <td>Prepaid</td>\n",
              "      <td>106.74</td>\n",
              "      <td>139.72</td>\n",
              "      <td>47.31</td>\n",
              "      <td>59.45</td>\n",
              "      <td>0</td>\n",
              "      <td>NaN</td>\n",
              "      <td>25</td>\n",
              "      <td>18.0</td>\n",
              "      <td>13</td>\n",
              "      <td>1.34</td>\n",
              "      <td>[]</td>\n",
              "      <td>False</td>\n",
              "    </tr>\n",
              "    <tr>\n",
              "      <th>1</th>\n",
              "      <td>a568caf1-d851-4847-a9f5-20ef9017fa92</td>\n",
              "      <td>26</td>\n",
              "      <td>15.0</td>\n",
              "      <td>Prepaid</td>\n",
              "      <td>31.55</td>\n",
              "      <td>12.14</td>\n",
              "      <td>21.52</td>\n",
              "      <td>1221.65</td>\n",
              "      <td>0</td>\n",
              "      <td>NaN</td>\n",
              "      <td>51</td>\n",
              "      <td>8.0</td>\n",
              "      <td>3</td>\n",
              "      <td>2.57</td>\n",
              "      <td>[]</td>\n",
              "      <td>False</td>\n",
              "    </tr>\n",
              "    <tr>\n",
              "      <th>2</th>\n",
              "      <td>c611bf0e-a013-44dc-9939-bd33dab16d14</td>\n",
              "      <td>32</td>\n",
              "      <td>152.0</td>\n",
              "      <td>Postpaid</td>\n",
              "      <td>30.64</td>\n",
              "      <td>10.17</td>\n",
              "      <td>31.11</td>\n",
              "      <td>1170.45</td>\n",
              "      <td>0</td>\n",
              "      <td>1.0</td>\n",
              "      <td>0</td>\n",
              "      <td>13.0</td>\n",
              "      <td>10</td>\n",
              "      <td>8.02</td>\n",
              "      <td>[]</td>\n",
              "      <td>False</td>\n",
              "    </tr>\n",
              "    <tr>\n",
              "      <th>3</th>\n",
              "      <td>9284b7b8-a4ef-49a7-9fa4-333954491f57</td>\n",
              "      <td>33</td>\n",
              "      <td>35.0</td>\n",
              "      <td>Prepaid</td>\n",
              "      <td>NaN</td>\n",
              "      <td>NaN</td>\n",
              "      <td>36.03</td>\n",
              "      <td>2418.91</td>\n",
              "      <td>0</td>\n",
              "      <td>NaN</td>\n",
              "      <td>19</td>\n",
              "      <td>7.0</td>\n",
              "      <td>11</td>\n",
              "      <td>5.96</td>\n",
              "      <td>['RitimGo']</td>\n",
              "      <td>False</td>\n",
              "    </tr>\n",
              "    <tr>\n",
              "      <th>4</th>\n",
              "      <td>e205b674-a6e6-43c5-aed7-9497c37c5c82</td>\n",
              "      <td>18</td>\n",
              "      <td>243.0</td>\n",
              "      <td>Prepaid</td>\n",
              "      <td>85.62</td>\n",
              "      <td>164.79</td>\n",
              "      <td>46.40</td>\n",
              "      <td>1518.19</td>\n",
              "      <td>0</td>\n",
              "      <td>NaN</td>\n",
              "      <td>99</td>\n",
              "      <td>15.0</td>\n",
              "      <td>6</td>\n",
              "      <td>8.29</td>\n",
              "      <td>[]</td>\n",
              "      <td>False</td>\n",
              "    </tr>\n",
              "  </tbody>\n",
              "</table>\n",
              "</div>\n",
              "    <div class=\"colab-df-buttons\">\n",
              "\n",
              "  <div class=\"colab-df-container\">\n",
              "    <button class=\"colab-df-convert\" onclick=\"convertToInteractive('df-9beceb8f-cbfb-44b9-8fa3-20c81c8cc0fc')\"\n",
              "            title=\"Convert this dataframe to an interactive table.\"\n",
              "            style=\"display:none;\">\n",
              "\n",
              "  <svg xmlns=\"http://www.w3.org/2000/svg\" height=\"24px\" viewBox=\"0 -960 960 960\">\n",
              "    <path d=\"M120-120v-720h720v720H120Zm60-500h600v-160H180v160Zm220 220h160v-160H400v160Zm0 220h160v-160H400v160ZM180-400h160v-160H180v160Zm440 0h160v-160H620v160ZM180-180h160v-160H180v160Zm440 0h160v-160H620v160Z\"/>\n",
              "  </svg>\n",
              "    </button>\n",
              "\n",
              "  <style>\n",
              "    .colab-df-container {\n",
              "      display:flex;\n",
              "      gap: 12px;\n",
              "    }\n",
              "\n",
              "    .colab-df-convert {\n",
              "      background-color: #E8F0FE;\n",
              "      border: none;\n",
              "      border-radius: 50%;\n",
              "      cursor: pointer;\n",
              "      display: none;\n",
              "      fill: #1967D2;\n",
              "      height: 32px;\n",
              "      padding: 0 0 0 0;\n",
              "      width: 32px;\n",
              "    }\n",
              "\n",
              "    .colab-df-convert:hover {\n",
              "      background-color: #E2EBFA;\n",
              "      box-shadow: 0px 1px 2px rgba(60, 64, 67, 0.3), 0px 1px 3px 1px rgba(60, 64, 67, 0.15);\n",
              "      fill: #174EA6;\n",
              "    }\n",
              "\n",
              "    .colab-df-buttons div {\n",
              "      margin-bottom: 4px;\n",
              "    }\n",
              "\n",
              "    [theme=dark] .colab-df-convert {\n",
              "      background-color: #3B4455;\n",
              "      fill: #D2E3FC;\n",
              "    }\n",
              "\n",
              "    [theme=dark] .colab-df-convert:hover {\n",
              "      background-color: #434B5C;\n",
              "      box-shadow: 0px 1px 3px 1px rgba(0, 0, 0, 0.15);\n",
              "      filter: drop-shadow(0px 1px 2px rgba(0, 0, 0, 0.3));\n",
              "      fill: #FFFFFF;\n",
              "    }\n",
              "  </style>\n",
              "\n",
              "    <script>\n",
              "      const buttonEl =\n",
              "        document.querySelector('#df-9beceb8f-cbfb-44b9-8fa3-20c81c8cc0fc button.colab-df-convert');\n",
              "      buttonEl.style.display =\n",
              "        google.colab.kernel.accessAllowed ? 'block' : 'none';\n",
              "\n",
              "      async function convertToInteractive(key) {\n",
              "        const element = document.querySelector('#df-9beceb8f-cbfb-44b9-8fa3-20c81c8cc0fc');\n",
              "        const dataTable =\n",
              "          await google.colab.kernel.invokeFunction('convertToInteractive',\n",
              "                                                    [key], {});\n",
              "        if (!dataTable) return;\n",
              "\n",
              "        const docLinkHtml = 'Like what you see? Visit the ' +\n",
              "          '<a target=\"_blank\" href=https://colab.research.google.com/notebooks/data_table.ipynb>data table notebook</a>'\n",
              "          + ' to learn more about interactive tables.';\n",
              "        element.innerHTML = '';\n",
              "        dataTable['output_type'] = 'display_data';\n",
              "        await google.colab.output.renderOutput(dataTable, element);\n",
              "        const docLink = document.createElement('div');\n",
              "        docLink.innerHTML = docLinkHtml;\n",
              "        element.appendChild(docLink);\n",
              "      }\n",
              "    </script>\n",
              "  </div>\n",
              "\n",
              "\n",
              "<div id=\"df-af945e2e-5378-46bc-88b2-e58131494fff\">\n",
              "  <button class=\"colab-df-quickchart\" onclick=\"quickchart('df-af945e2e-5378-46bc-88b2-e58131494fff')\"\n",
              "            title=\"Suggest charts\"\n",
              "            style=\"display:none;\">\n",
              "\n",
              "<svg xmlns=\"http://www.w3.org/2000/svg\" height=\"24px\"viewBox=\"0 0 24 24\"\n",
              "     width=\"24px\">\n",
              "    <g>\n",
              "        <path d=\"M19 3H5c-1.1 0-2 .9-2 2v14c0 1.1.9 2 2 2h14c1.1 0 2-.9 2-2V5c0-1.1-.9-2-2-2zM9 17H7v-7h2v7zm4 0h-2V7h2v10zm4 0h-2v-4h2v4z\"/>\n",
              "    </g>\n",
              "</svg>\n",
              "  </button>\n",
              "\n",
              "<style>\n",
              "  .colab-df-quickchart {\n",
              "      --bg-color: #E8F0FE;\n",
              "      --fill-color: #1967D2;\n",
              "      --hover-bg-color: #E2EBFA;\n",
              "      --hover-fill-color: #174EA6;\n",
              "      --disabled-fill-color: #AAA;\n",
              "      --disabled-bg-color: #DDD;\n",
              "  }\n",
              "\n",
              "  [theme=dark] .colab-df-quickchart {\n",
              "      --bg-color: #3B4455;\n",
              "      --fill-color: #D2E3FC;\n",
              "      --hover-bg-color: #434B5C;\n",
              "      --hover-fill-color: #FFFFFF;\n",
              "      --disabled-bg-color: #3B4455;\n",
              "      --disabled-fill-color: #666;\n",
              "  }\n",
              "\n",
              "  .colab-df-quickchart {\n",
              "    background-color: var(--bg-color);\n",
              "    border: none;\n",
              "    border-radius: 50%;\n",
              "    cursor: pointer;\n",
              "    display: none;\n",
              "    fill: var(--fill-color);\n",
              "    height: 32px;\n",
              "    padding: 0;\n",
              "    width: 32px;\n",
              "  }\n",
              "\n",
              "  .colab-df-quickchart:hover {\n",
              "    background-color: var(--hover-bg-color);\n",
              "    box-shadow: 0 1px 2px rgba(60, 64, 67, 0.3), 0 1px 3px 1px rgba(60, 64, 67, 0.15);\n",
              "    fill: var(--button-hover-fill-color);\n",
              "  }\n",
              "\n",
              "  .colab-df-quickchart-complete:disabled,\n",
              "  .colab-df-quickchart-complete:disabled:hover {\n",
              "    background-color: var(--disabled-bg-color);\n",
              "    fill: var(--disabled-fill-color);\n",
              "    box-shadow: none;\n",
              "  }\n",
              "\n",
              "  .colab-df-spinner {\n",
              "    border: 2px solid var(--fill-color);\n",
              "    border-color: transparent;\n",
              "    border-bottom-color: var(--fill-color);\n",
              "    animation:\n",
              "      spin 1s steps(1) infinite;\n",
              "  }\n",
              "\n",
              "  @keyframes spin {\n",
              "    0% {\n",
              "      border-color: transparent;\n",
              "      border-bottom-color: var(--fill-color);\n",
              "      border-left-color: var(--fill-color);\n",
              "    }\n",
              "    20% {\n",
              "      border-color: transparent;\n",
              "      border-left-color: var(--fill-color);\n",
              "      border-top-color: var(--fill-color);\n",
              "    }\n",
              "    30% {\n",
              "      border-color: transparent;\n",
              "      border-left-color: var(--fill-color);\n",
              "      border-top-color: var(--fill-color);\n",
              "      border-right-color: var(--fill-color);\n",
              "    }\n",
              "    40% {\n",
              "      border-color: transparent;\n",
              "      border-right-color: var(--fill-color);\n",
              "      border-top-color: var(--fill-color);\n",
              "    }\n",
              "    60% {\n",
              "      border-color: transparent;\n",
              "      border-right-color: var(--fill-color);\n",
              "    }\n",
              "    80% {\n",
              "      border-color: transparent;\n",
              "      border-right-color: var(--fill-color);\n",
              "      border-bottom-color: var(--fill-color);\n",
              "    }\n",
              "    90% {\n",
              "      border-color: transparent;\n",
              "      border-bottom-color: var(--fill-color);\n",
              "    }\n",
              "  }\n",
              "</style>\n",
              "\n",
              "  <script>\n",
              "    async function quickchart(key) {\n",
              "      const quickchartButtonEl =\n",
              "        document.querySelector('#' + key + ' button');\n",
              "      quickchartButtonEl.disabled = true;  // To prevent multiple clicks.\n",
              "      quickchartButtonEl.classList.add('colab-df-spinner');\n",
              "      try {\n",
              "        const charts = await google.colab.kernel.invokeFunction(\n",
              "            'suggestCharts', [key], {});\n",
              "      } catch (error) {\n",
              "        console.error('Error during call to suggestCharts:', error);\n",
              "      }\n",
              "      quickchartButtonEl.classList.remove('colab-df-spinner');\n",
              "      quickchartButtonEl.classList.add('colab-df-quickchart-complete');\n",
              "    }\n",
              "    (() => {\n",
              "      let quickchartButtonEl =\n",
              "        document.querySelector('#df-af945e2e-5378-46bc-88b2-e58131494fff button');\n",
              "      quickchartButtonEl.style.display =\n",
              "        google.colab.kernel.accessAllowed ? 'block' : 'none';\n",
              "    })();\n",
              "  </script>\n",
              "</div>\n",
              "\n",
              "    </div>\n",
              "  </div>\n"
            ],
            "application/vnd.google.colaboratory.intrinsic+json": {
              "type": "dataframe",
              "variable_name": "df"
            }
          },
          "metadata": {},
          "execution_count": 6
        }
      ]
    },
    {
      "cell_type": "markdown",
      "metadata": {
        "id": "AIqmrw_94Fzw"
      },
      "source": [
        "## Data Preprocessing"
      ]
    },
    {
      "cell_type": "markdown",
      "metadata": {
        "id": "dM60i1nY7FxQ"
      },
      "source": [
        "### Missing"
      ]
    },
    {
      "cell_type": "code",
      "source": [
        "df['auto_payment_true'] = (df['auto_payment'] == True).astype(int)\n",
        "df['auto_payment_false'] = (df['auto_payment'] == False).astype(int)\n",
        "df['auto_payment_unknown'] = df['auto_payment'].isnull().astype(int)\n",
        "df.drop(columns=['auto_payment'], inplace=True)"
      ],
      "metadata": {
        "id": "JUcoOIjgOgR-"
      },
      "execution_count": null,
      "outputs": []
    },
    {
      "cell_type": "code",
      "execution_count": null,
      "metadata": {
        "id": "Hk6ZpCsi7Q-k"
      },
      "outputs": [],
      "source": [
        "high_missing_cols = [col for col in df.columns if df[col].isnull().mean() > 0.25]"
      ]
    },
    {
      "cell_type": "code",
      "execution_count": null,
      "metadata": {
        "id": "Mv5CKh----Us"
      },
      "outputs": [],
      "source": [
        "# df.value_counts(\"avg_call_duration\")"
      ]
    },
    {
      "cell_type": "code",
      "execution_count": null,
      "metadata": {
        "collapsed": true,
        "id": "pmIBoTSD7Hb4"
      },
      "outputs": [],
      "source": [
        "# msno.matrix(df);"
      ]
    },
    {
      "cell_type": "code",
      "source": [
        "df[\"service_type\"].value_counts()"
      ],
      "metadata": {
        "colab": {
          "base_uri": "https://localhost:8080/",
          "height": 209
        },
        "id": "9fPlThLP2c9z",
        "outputId": "24497fab-00bc-42ff-e3ba-50392f93779e"
      },
      "execution_count": null,
      "outputs": [
        {
          "output_type": "execute_result",
          "data": {
            "text/plain": [
              "service_type\n",
              "Prepaid      3336442\n",
              "Postpaid     3332346\n",
              "Broadband    3331212\n",
              "Name: count, dtype: int64"
            ],
            "text/html": [
              "<div>\n",
              "<style scoped>\n",
              "    .dataframe tbody tr th:only-of-type {\n",
              "        vertical-align: middle;\n",
              "    }\n",
              "\n",
              "    .dataframe tbody tr th {\n",
              "        vertical-align: top;\n",
              "    }\n",
              "\n",
              "    .dataframe thead th {\n",
              "        text-align: right;\n",
              "    }\n",
              "</style>\n",
              "<table border=\"1\" class=\"dataframe\">\n",
              "  <thead>\n",
              "    <tr style=\"text-align: right;\">\n",
              "      <th></th>\n",
              "      <th>count</th>\n",
              "    </tr>\n",
              "    <tr>\n",
              "      <th>service_type</th>\n",
              "      <th></th>\n",
              "    </tr>\n",
              "  </thead>\n",
              "  <tbody>\n",
              "    <tr>\n",
              "      <th>Prepaid</th>\n",
              "      <td>3336442</td>\n",
              "    </tr>\n",
              "    <tr>\n",
              "      <th>Postpaid</th>\n",
              "      <td>3332346</td>\n",
              "    </tr>\n",
              "    <tr>\n",
              "      <th>Broadband</th>\n",
              "      <td>3331212</td>\n",
              "    </tr>\n",
              "  </tbody>\n",
              "</table>\n",
              "</div><br><label><b>dtype:</b> int64</label>"
            ]
          },
          "metadata": {},
          "execution_count": 11
        }
      ]
    },
    {
      "cell_type": "code",
      "source": [
        "# df[df[\"service_type\"]==\"Prepaid\"].describe() # 0 cols = \"overdue_payments\", \"auto_payment_true\", \"auto_payment_unknown\"\n",
        "# df[df[\"service_type\"]==\"Postpaid\"].describe() # 0 cols = \"avg_top_up_count\"\n",
        "# df[df[\"service_type\"]==\"Broadband\"].describe() # 0 cols = \"avg_call_duration\", \"roaming_usage\", \"avg_top_up_count\", \"call_drops\""
      ],
      "metadata": {
        "id": "m6hhHe_ay6lR"
      },
      "execution_count": null,
      "outputs": []
    },
    {
      "cell_type": "code",
      "source": [
        "# For Prepaid: set the specified columns to 0\n",
        "prepaid_cols = [\"overdue_payments\", \"auto_payment_true\", \"auto_payment_unknown\"]\n",
        "df[prepaid_cols] = df[prepaid_cols].fillna(0, inplace=True)\n",
        "\n",
        "# For Postpaid: set the specified column to 0\n",
        "postpaid_cols = [\"avg_top_up_count\"]\n",
        "df[postpaid_cols] = df[postpaid_cols].fillna(0, inplace=True)\n",
        "\n",
        "# For Broadband: set the specified columns to 0\n",
        "broadband_cols = [\"avg_call_duration\", \"roaming_usage\", \"avg_top_up_count\", \"call_drops\"]\n",
        "df[broadband_cols] = df[broadband_cols].fillna(0)\n"
      ],
      "metadata": {
        "colab": {
          "base_uri": "https://localhost:8080/"
        },
        "id": "cS98AZnv2nwo",
        "outputId": "7d1dcc9c-d269-490b-8097-791453dca94a"
      },
      "execution_count": null,
      "outputs": [
        {
          "output_type": "stream",
          "name": "stderr",
          "text": [
            "<ipython-input-13-3e7eb0e5a054>:3: SettingWithCopyWarning: \n",
            "A value is trying to be set on a copy of a slice from a DataFrame\n",
            "\n",
            "See the caveats in the documentation: https://pandas.pydata.org/pandas-docs/stable/user_guide/indexing.html#returning-a-view-versus-a-copy\n",
            "  df[prepaid_cols] = df[prepaid_cols].fillna(0, inplace=True)\n",
            "<ipython-input-13-3e7eb0e5a054>:7: SettingWithCopyWarning: \n",
            "A value is trying to be set on a copy of a slice from a DataFrame\n",
            "\n",
            "See the caveats in the documentation: https://pandas.pydata.org/pandas-docs/stable/user_guide/indexing.html#returning-a-view-versus-a-copy\n",
            "  df[postpaid_cols] = df[postpaid_cols].fillna(0, inplace=True)\n",
            "<ipython-input-13-3e7eb0e5a054>:11: FutureWarning: Downcasting object dtype arrays on .fillna, .ffill, .bfill is deprecated and will change in a future version. Call result.infer_objects(copy=False) instead. To opt-in to the future behavior, set `pd.set_option('future.no_silent_downcasting', True)`\n",
            "  df[broadband_cols] = df[broadband_cols].fillna(0)\n"
          ]
        }
      ]
    },
    {
      "cell_type": "code",
      "execution_count": null,
      "metadata": {
        "id": "0v70Qu8h9Hfo",
        "colab": {
          "base_uri": "https://localhost:8080/"
        },
        "outputId": "e32b6e6c-b143-40c8-e40e-d16e0a72d51f"
      },
      "outputs": [
        {
          "output_type": "execute_result",
          "data": {
            "text/plain": [
              "['tenure',\n",
              " 'data_usage',\n",
              " 'monthly_charge',\n",
              " 'overdue_payments',\n",
              " 'auto_payment_true',\n",
              " 'auto_payment_unknown']"
            ]
          },
          "metadata": {},
          "execution_count": 14
        }
      ],
      "source": [
        "any_missing_cols = [col for col in df.columns if df[col].isnull().sum() > 1]\n",
        "any_missing_cols"
      ]
    },
    {
      "cell_type": "code",
      "execution_count": null,
      "metadata": {
        "id": "wXXdWJfn7qJX",
        "colab": {
          "base_uri": "https://localhost:8080/",
          "height": 411
        },
        "outputId": "b321ab3d-f18d-43be-ef2e-4c0d764853f7"
      },
      "outputs": [
        {
          "output_type": "stream",
          "name": "stderr",
          "text": [
            "/usr/local/lib/python3.11/dist-packages/sklearn/impute/_base.py:635: UserWarning: Skipping features without any observed values: [3 4 5]. At least one non-missing value is needed for imputation with strategy='mean'.\n",
            "  warnings.warn(\n"
          ]
        },
        {
          "output_type": "error",
          "ename": "ValueError",
          "evalue": "Columns must be same length as key",
          "traceback": [
            "\u001b[0;31m---------------------------------------------------------------------------\u001b[0m",
            "\u001b[0;31mValueError\u001b[0m                                Traceback (most recent call last)",
            "\u001b[0;32m<ipython-input-15-132448004dba>\u001b[0m in \u001b[0;36m<cell line: 0>\u001b[0;34m()\u001b[0m\n\u001b[1;32m      4\u001b[0m \u001b[0;31m# df.fillna(0, inplace=True)\u001b[0m\u001b[0;34m\u001b[0m\u001b[0;34m\u001b[0m\u001b[0m\n\u001b[1;32m      5\u001b[0m \u001b[0mimputer\u001b[0m \u001b[0;34m=\u001b[0m \u001b[0mIterativeImputer\u001b[0m\u001b[0;34m(\u001b[0m\u001b[0mestimator\u001b[0m\u001b[0;34m=\u001b[0m\u001b[0mBayesianRidge\u001b[0m\u001b[0;34m(\u001b[0m\u001b[0;34m)\u001b[0m\u001b[0;34m,\u001b[0m \u001b[0mrandom_state\u001b[0m\u001b[0;34m=\u001b[0m\u001b[0;36m42\u001b[0m\u001b[0;34m)\u001b[0m\u001b[0;34m\u001b[0m\u001b[0;34m\u001b[0m\u001b[0m\n\u001b[0;32m----> 6\u001b[0;31m \u001b[0mdf\u001b[0m\u001b[0;34m[\u001b[0m\u001b[0many_missing_cols\u001b[0m\u001b[0;34m]\u001b[0m \u001b[0;34m=\u001b[0m \u001b[0mimputer\u001b[0m\u001b[0;34m.\u001b[0m\u001b[0mfit_transform\u001b[0m\u001b[0;34m(\u001b[0m\u001b[0mdf\u001b[0m\u001b[0;34m[\u001b[0m\u001b[0many_missing_cols\u001b[0m\u001b[0;34m]\u001b[0m\u001b[0;34m)\u001b[0m\u001b[0;34m\u001b[0m\u001b[0;34m\u001b[0m\u001b[0m\n\u001b[0m\u001b[1;32m      7\u001b[0m \u001b[0mdf\u001b[0m\u001b[0;34m.\u001b[0m\u001b[0mhead\u001b[0m\u001b[0;34m(\u001b[0m\u001b[0;34m)\u001b[0m\u001b[0;34m\u001b[0m\u001b[0;34m\u001b[0m\u001b[0m\n",
            "\u001b[0;32m/usr/local/lib/python3.11/dist-packages/pandas/core/frame.py\u001b[0m in \u001b[0;36m__setitem__\u001b[0;34m(self, key, value)\u001b[0m\n\u001b[1;32m   4297\u001b[0m             \u001b[0mself\u001b[0m\u001b[0;34m.\u001b[0m\u001b[0m_setitem_frame\u001b[0m\u001b[0;34m(\u001b[0m\u001b[0mkey\u001b[0m\u001b[0;34m,\u001b[0m \u001b[0mvalue\u001b[0m\u001b[0;34m)\u001b[0m\u001b[0;34m\u001b[0m\u001b[0;34m\u001b[0m\u001b[0m\n\u001b[1;32m   4298\u001b[0m         \u001b[0;32melif\u001b[0m \u001b[0misinstance\u001b[0m\u001b[0;34m(\u001b[0m\u001b[0mkey\u001b[0m\u001b[0;34m,\u001b[0m \u001b[0;34m(\u001b[0m\u001b[0mSeries\u001b[0m\u001b[0;34m,\u001b[0m \u001b[0mnp\u001b[0m\u001b[0;34m.\u001b[0m\u001b[0mndarray\u001b[0m\u001b[0;34m,\u001b[0m \u001b[0mlist\u001b[0m\u001b[0;34m,\u001b[0m \u001b[0mIndex\u001b[0m\u001b[0;34m)\u001b[0m\u001b[0;34m)\u001b[0m\u001b[0;34m:\u001b[0m\u001b[0;34m\u001b[0m\u001b[0;34m\u001b[0m\u001b[0m\n\u001b[0;32m-> 4299\u001b[0;31m             \u001b[0mself\u001b[0m\u001b[0;34m.\u001b[0m\u001b[0m_setitem_array\u001b[0m\u001b[0;34m(\u001b[0m\u001b[0mkey\u001b[0m\u001b[0;34m,\u001b[0m \u001b[0mvalue\u001b[0m\u001b[0;34m)\u001b[0m\u001b[0;34m\u001b[0m\u001b[0;34m\u001b[0m\u001b[0m\n\u001b[0m\u001b[1;32m   4300\u001b[0m         \u001b[0;32melif\u001b[0m \u001b[0misinstance\u001b[0m\u001b[0;34m(\u001b[0m\u001b[0mvalue\u001b[0m\u001b[0;34m,\u001b[0m \u001b[0mDataFrame\u001b[0m\u001b[0;34m)\u001b[0m\u001b[0;34m:\u001b[0m\u001b[0;34m\u001b[0m\u001b[0;34m\u001b[0m\u001b[0m\n\u001b[1;32m   4301\u001b[0m             \u001b[0mself\u001b[0m\u001b[0;34m.\u001b[0m\u001b[0m_set_item_frame_value\u001b[0m\u001b[0;34m(\u001b[0m\u001b[0mkey\u001b[0m\u001b[0;34m,\u001b[0m \u001b[0mvalue\u001b[0m\u001b[0;34m)\u001b[0m\u001b[0;34m\u001b[0m\u001b[0;34m\u001b[0m\u001b[0m\n",
            "\u001b[0;32m/usr/local/lib/python3.11/dist-packages/pandas/core/frame.py\u001b[0m in \u001b[0;36m_setitem_array\u001b[0;34m(self, key, value)\u001b[0m\n\u001b[1;32m   4348\u001b[0m \u001b[0;34m\u001b[0m\u001b[0m\n\u001b[1;32m   4349\u001b[0m             \u001b[0;32melif\u001b[0m \u001b[0misinstance\u001b[0m\u001b[0;34m(\u001b[0m\u001b[0mvalue\u001b[0m\u001b[0;34m,\u001b[0m \u001b[0mnp\u001b[0m\u001b[0;34m.\u001b[0m\u001b[0mndarray\u001b[0m\u001b[0;34m)\u001b[0m \u001b[0;32mand\u001b[0m \u001b[0mvalue\u001b[0m\u001b[0;34m.\u001b[0m\u001b[0mndim\u001b[0m \u001b[0;34m==\u001b[0m \u001b[0;36m2\u001b[0m\u001b[0;34m:\u001b[0m\u001b[0;34m\u001b[0m\u001b[0;34m\u001b[0m\u001b[0m\n\u001b[0;32m-> 4350\u001b[0;31m                 \u001b[0mself\u001b[0m\u001b[0;34m.\u001b[0m\u001b[0m_iset_not_inplace\u001b[0m\u001b[0;34m(\u001b[0m\u001b[0mkey\u001b[0m\u001b[0;34m,\u001b[0m \u001b[0mvalue\u001b[0m\u001b[0;34m)\u001b[0m\u001b[0;34m\u001b[0m\u001b[0;34m\u001b[0m\u001b[0m\n\u001b[0m\u001b[1;32m   4351\u001b[0m \u001b[0;34m\u001b[0m\u001b[0m\n\u001b[1;32m   4352\u001b[0m             \u001b[0;32melif\u001b[0m \u001b[0mnp\u001b[0m\u001b[0;34m.\u001b[0m\u001b[0mndim\u001b[0m\u001b[0;34m(\u001b[0m\u001b[0mvalue\u001b[0m\u001b[0;34m)\u001b[0m \u001b[0;34m>\u001b[0m \u001b[0;36m1\u001b[0m\u001b[0;34m:\u001b[0m\u001b[0;34m\u001b[0m\u001b[0;34m\u001b[0m\u001b[0m\n",
            "\u001b[0;32m/usr/local/lib/python3.11/dist-packages/pandas/core/frame.py\u001b[0m in \u001b[0;36m_iset_not_inplace\u001b[0;34m(self, key, value)\u001b[0m\n\u001b[1;32m   4375\u001b[0m         \u001b[0;32mif\u001b[0m \u001b[0mself\u001b[0m\u001b[0;34m.\u001b[0m\u001b[0mcolumns\u001b[0m\u001b[0;34m.\u001b[0m\u001b[0mis_unique\u001b[0m\u001b[0;34m:\u001b[0m\u001b[0;34m\u001b[0m\u001b[0;34m\u001b[0m\u001b[0m\n\u001b[1;32m   4376\u001b[0m             \u001b[0;32mif\u001b[0m \u001b[0mnp\u001b[0m\u001b[0;34m.\u001b[0m\u001b[0mshape\u001b[0m\u001b[0;34m(\u001b[0m\u001b[0mvalue\u001b[0m\u001b[0;34m)\u001b[0m\u001b[0;34m[\u001b[0m\u001b[0;34m-\u001b[0m\u001b[0;36m1\u001b[0m\u001b[0;34m]\u001b[0m \u001b[0;34m!=\u001b[0m \u001b[0mlen\u001b[0m\u001b[0;34m(\u001b[0m\u001b[0mkey\u001b[0m\u001b[0;34m)\u001b[0m\u001b[0;34m:\u001b[0m\u001b[0;34m\u001b[0m\u001b[0;34m\u001b[0m\u001b[0m\n\u001b[0;32m-> 4377\u001b[0;31m                 \u001b[0;32mraise\u001b[0m \u001b[0mValueError\u001b[0m\u001b[0;34m(\u001b[0m\u001b[0;34m\"Columns must be same length as key\"\u001b[0m\u001b[0;34m)\u001b[0m\u001b[0;34m\u001b[0m\u001b[0;34m\u001b[0m\u001b[0m\n\u001b[0m\u001b[1;32m   4378\u001b[0m \u001b[0;34m\u001b[0m\u001b[0m\n\u001b[1;32m   4379\u001b[0m             \u001b[0;32mfor\u001b[0m \u001b[0mi\u001b[0m\u001b[0;34m,\u001b[0m \u001b[0mcol\u001b[0m \u001b[0;32min\u001b[0m \u001b[0menumerate\u001b[0m\u001b[0;34m(\u001b[0m\u001b[0mkey\u001b[0m\u001b[0;34m)\u001b[0m\u001b[0;34m:\u001b[0m\u001b[0;34m\u001b[0m\u001b[0;34m\u001b[0m\u001b[0m\n",
            "\u001b[0;31mValueError\u001b[0m: Columns must be same length as key"
          ]
        }
      ],
      "source": [
        "from sklearn.linear_model import BayesianRidge\n",
        "from sklearn.experimental import enable_iterative_imputer  # noqa\n",
        "from sklearn.impute import IterativeImputer\n",
        "# df.fillna(0, inplace=True)\n",
        "imputer = IterativeImputer(estimator=BayesianRidge(), random_state=42)\n",
        "df[any_missing_cols] = imputer.fit_transform(df[any_missing_cols])\n",
        "df.head()\n"
      ]
    },
    {
      "cell_type": "code",
      "execution_count": null,
      "metadata": {
        "id": "WV7KC1rU-ydv"
      },
      "outputs": [],
      "source": [
        "df.value_counts(\"avg_call_duration\")"
      ]
    },
    {
      "cell_type": "markdown",
      "metadata": {
        "id": "rAzTGWLp4Jbw"
      },
      "source": [
        "### One Hot"
      ]
    },
    {
      "cell_type": "code",
      "execution_count": null,
      "metadata": {
        "id": "Pk_ESFhmXwGb"
      },
      "outputs": [],
      "source": [
        "cat_cols = [\"service_type\"]\n",
        "df[\"apps\"].astype(list, inplace=True)\n",
        "df.head()"
      ]
    },
    {
      "cell_type": "code",
      "execution_count": null,
      "metadata": {
        "id": "84TNiwCplAHy"
      },
      "outputs": [],
      "source": [
        "\n",
        "# Initialize the MultiLabelBinarizer\n",
        "mlb = MultiLabelBinarizer()\n",
        "\n",
        "# Fit and transform the 'apps' column\n",
        "apps_encoded = mlb.fit_transform(df['apps'])\n",
        "\n",
        "# Create a DataFrame from the encoded matrix with appropriate column names\n",
        "apps_df = pd.DataFrame(apps_encoded, columns=mlb.classes_, index=df.index)\n",
        "\n",
        "# Concatenate the new one-hot encoded columns with the original DataFrame,\n",
        "# dropping the original 'apps' column if desired\n",
        "df_encoded = df.join(apps_df)\n",
        "df_encoded.drop(columns=['apps'], inplace=True)\n",
        "\n"
      ]
    },
    {
      "cell_type": "code",
      "source": [
        "df.head()"
      ],
      "metadata": {
        "id": "BqgjJEv6EdCj"
      },
      "execution_count": null,
      "outputs": []
    },
    {
      "cell_type": "code",
      "execution_count": null,
      "metadata": {
        "id": "g2LNQxDYqgV9"
      },
      "outputs": [],
      "source": [
        "encoder = OneHotEncoder(sparse_output=False)\n",
        "\n",
        "one_hot_encoded = encoder.fit_transform(df[cat_cols])\n",
        "\n",
        "# Create a DataFrame with the encoded columns\n",
        "one_hot_df = pd.DataFrame(one_hot_encoded,\n",
        "                          columns=encoder.get_feature_names_out(cat_cols))\n",
        "\n",
        "# Concatenate the one-hot encoded columns with the original DataFrame\n",
        "df = pd.concat([df.drop(cat_cols, axis=1), one_hot_df], axis=1)\n"
      ]
    },
    {
      "cell_type": "code",
      "execution_count": null,
      "metadata": {
        "id": "VE4KLt4zabpf"
      },
      "outputs": [],
      "source": [
        "df.describe().apply(lambda s: s.apply(lambda x: format(x, '.2f')))"
      ]
    },
    {
      "cell_type": "code",
      "execution_count": null,
      "metadata": {
        "id": "TTe5hR-Jln-K"
      },
      "outputs": [],
      "source": [
        "df.head()"
      ]
    },
    {
      "cell_type": "code",
      "execution_count": null,
      "metadata": {
        "id": "3MFlgAhc88cQ",
        "collapsed": true
      },
      "outputs": [],
      "source": [
        "msno.matrix(df);"
      ]
    },
    {
      "cell_type": "code",
      "source": [
        "df.info()"
      ],
      "metadata": {
        "id": "n6pWmiWVRWFL"
      },
      "execution_count": null,
      "outputs": []
    },
    {
      "cell_type": "code",
      "source": [
        "# from google.colab import drive\n",
        "# drive.mount('/content/drive')\n",
        "\n",
        "# Define the file path in your Google Drive\n",
        "file_path = '/content/drive/My Drive/dataframe.csv'\n",
        "\n",
        "# Export the DataFrame to a CSV file without the index column\n",
        "df.to_csv(file_path, index=False)\n"
      ],
      "metadata": {
        "id": "A253z0xPFDtw"
      },
      "execution_count": null,
      "outputs": []
    },
    {
      "cell_type": "code",
      "source": [
        "df = pd.read_csv(\"/content/drive/My Drive/dataframe.csv\")"
      ],
      "metadata": {
        "id": "B6ZYkM65FI4D"
      },
      "execution_count": null,
      "outputs": []
    },
    {
      "cell_type": "code",
      "source": [
        "df.tail()"
      ],
      "metadata": {
        "id": "scF0Jd2a0Nif"
      },
      "execution_count": null,
      "outputs": []
    },
    {
      "cell_type": "code",
      "execution_count": null,
      "metadata": {
        "id": "-fS6-SpUd0Dq"
      },
      "outputs": [],
      "source": [
        "import pandas as pd\n",
        "from catboost import CatBoostClassifier\n",
        "from sklearn.model_selection import train_test_split\n",
        "from sklearn.metrics import accuracy_score, classification_report"
      ]
    },
    {
      "cell_type": "code",
      "execution_count": null,
      "metadata": {
        "id": "J29YHExwjnGL"
      },
      "outputs": [],
      "source": [
        "# Here we drop the \"id\" column because it’s an identifier.\n",
        "X = df.drop(columns=['churn', 'id'])\n",
        "y = df['churn']"
      ]
    },
    {
      "cell_type": "code",
      "execution_count": null,
      "metadata": {
        "id": "3L_g2y2Sjt4D"
      },
      "outputs": [],
      "source": [
        "cat_features = list(X.select_dtypes(include=['object', 'category']).columns)"
      ]
    },
    {
      "cell_type": "code",
      "execution_count": null,
      "metadata": {
        "id": "Ukb2Owv1jwth"
      },
      "outputs": [],
      "source": [
        "X_train, X_test, y_train, y_test = train_test_split(X, y, test_size=0.2, random_state=42)\n"
      ]
    },
    {
      "cell_type": "code",
      "source": [
        "# from sklearn.model_selection import train_test_split\n",
        "# from sklearn.preprocessing import StandardScaler,LabelEncoder\n",
        "# from sklearn.metrics import accuracy_score, roc_curve, recall_score, confusion_matrix, roc_auc_score, precision_score\n",
        "# import optuna\n",
        "# from xgboost import XGBClassifier\n",
        "# from lightgbm import LGBMClassifier\n",
        "# from catboost import CatBoostClassifier\n",
        "# import lightgbm as lgb\n",
        "# from xgboost import XGBClassifier\n",
        "# from catboost import CatBoostClassifier\n",
        "\n",
        "# accuracy= []\n",
        "# recall =[]\n",
        "# roc_auc= []\n",
        "# precision = []\n",
        "# # With scale_pos_weight=5, minority class gets 5 times more impact and 5 times more correction than errors made on majority class.\n",
        "# catboost_5 = CatBoostClassifier(verbose=False,random_state=42,scale_pos_weight=25)\n",
        "# #Train the Model\n",
        "# catboost_5.fit(X_train, y_train,eval_set=(X_test, y_test))\n",
        "# #Take Predictions\n",
        "# y_pred = catboost_5.predict(X_test)\n",
        "# #Calculate Metrics\n",
        "# accuracy.append(round(accuracy_score(y_test, y_pred),4))\n",
        "# recall.append(round(recall_score(y_test, y_pred),4))\n",
        "# roc_auc.append(round(roc_auc_score(y_test, y_pred),4))\n",
        "# precision.append(round(precision_score(y_test, y_pred),4))\n",
        "# model_names = ['Catboost_adjusted_weight_5']\n",
        "# result_df1 = pd.DataFrame({'Accuracy':accuracy,'Recall':recall, 'Roc_Auc':roc_auc, 'Precision':precision}, index=model_names)\n",
        "# result_df1"
      ],
      "metadata": {
        "id": "xYz22q-GYdNt"
      },
      "execution_count": null,
      "outputs": []
    },
    {
      "cell_type": "code",
      "source": [
        "# import xgboost as xgb\n",
        "# from xgboost import XGBClassifier\n",
        "# from sklearn.metrics import accuracy_score, classification_report, f1_score, precision_score, recall_score, roc_auc_score\n",
        "# from imblearn.over_sampling import SMOTE\n",
        "\n",
        "# # -------------------------------\n",
        "# # Assume you already have your data:\n",
        "# # X_train, X_test, y_train, y_test\n",
        "# # If you have categorical features, ensure they are preprocessed (e.g., one-hot encoding) since XGBoost requires numeric input.\n",
        "# # -------------------------------\n",
        "\n",
        "# # Apply SMOTE to the training data to balance the classes\n",
        "# smote = SMOTE(k_neighbors=3, random_state=42)\n",
        "# X_train_sm, y_train_sm = smote.fit_resample(X_train, y_train)\n",
        "\n",
        "# # Initialize the XGBClassifier. Adjust parameters as needed.\n",
        "# model = XGBClassifier(\n",
        "#     n_estimators=200,           # equivalent to iterations in CatBoost\n",
        "#     learning_rate=0.03,\n",
        "#     max_depth=3,\n",
        "#     objective='binary:logistic',  # for binary classification\n",
        "#     use_label_encoder=False,       # to avoid label encoder warnings\n",
        "#     eval_metric='logloss'          # evaluation metric similar to CatBoost's loss_function\n",
        "# )\n",
        "\n",
        "\n",
        "# # Train the model using the SMOTE-resampled training data\n",
        "# model.fit(X_train_sm, y_train_sm)\n",
        "\n",
        "# # Make predictions on the test set.\n",
        "# y_pred = model.predict(X_test)\n",
        "\n",
        "# # For AUC, get the predicted probabilities for the positive class.\n",
        "# y_pred_proba = model.predict_proba(X_test)[:, 1]\n",
        "\n",
        "# # Evaluate the model’s performance.\n",
        "# print(\"Accuracy:\", accuracy_score(y_test, y_pred))\n",
        "# print(classification_report(y_test, y_pred))\n",
        "# print(\"F1 Score:\", f1_score(y_test, y_pred))\n",
        "# print(\"Precision:\", precision_score(y_test, y_pred))\n",
        "# print(\"Recall:\", recall_score(y_test, y_pred))\n",
        "# print(\"AUC:\", roc_auc_score(y_test, y_pred_proba))\n"
      ],
      "metadata": {
        "id": "UP4zc8QIUoNE"
      },
      "execution_count": null,
      "outputs": []
    },
    {
      "cell_type": "code",
      "execution_count": null,
      "metadata": {
        "id": "h5BstKAUd06P"
      },
      "outputs": [],
      "source": [
        "# import xgboost as xgb\n",
        "# from xgboost import XGBClassifier\n",
        "# from sklearn.metrics import accuracy_score, classification_report, f1_score, precision_score, recall_score, roc_auc_score\n",
        "\n",
        "# # If X_train and X_test are pandas DataFrames and you have a list of categorical features,\n",
        "# # you can one-hot encode them as follows (optional if already encoded):\n",
        "# # import pandas as pd\n",
        "# # X_train = pd.get_dummies(X_train, columns=cat_features)\n",
        "# # X_test = pd.get_dummies(X_test, columns=cat_features)\n",
        "# #\n",
        "# # # Make sure X_train and X_test have the same columns after encoding:\n",
        "# # X_train, X_test = X_train.align(X_test, join='left', axis=1, fill_value=0)\n",
        "\n",
        "# # Initialize the XGBClassifier. Adjust parameters as needed.\n",
        "# model = XGBClassifier(\n",
        "#     n_estimators=200,           # equivalent to iterations in CatBoost\n",
        "#     learning_rate=0.03,\n",
        "#     max_depth=3,\n",
        "#     objective='binary:logistic',  # for binary classification\n",
        "#     use_label_encoder=False,      # suppress a warning related to label encoding\n",
        "#     eval_metric='logloss'         # evaluation metric similar to CatBoost's loss_function\n",
        "# )\n",
        "\n",
        "# # Train the model. (Ensure that X_train is numeric and preprocessed if needed.)\n",
        "# model.fit(X_train, y_train)\n",
        "\n",
        "# # Make predictions on the test set.\n",
        "# y_pred = model.predict(X_test)\n",
        "\n",
        "# # For AUC, get the predicted probabilities for the positive class.\n",
        "# y_pred_proba = model.predict_proba(X_test)[:, 1]\n",
        "\n",
        "# # Evaluate the model’s performance.\n",
        "# print(\"Accuracy:\", accuracy_score(y_test, y_pred))\n",
        "# print(classification_report(y_test, y_pred))\n",
        "# print(\"F1 Score:\", f1_score(y_test, y_pred))\n",
        "# print(\"Precision:\", precision_score(y_test, y_pred))\n",
        "# print(\"Recall:\", recall_score(y_test, y_pred))\n",
        "# print(\"AUC:\", roc_auc_score(y_test, y_pred_proba))\n"
      ]
    },
    {
      "cell_type": "code",
      "source": [
        "# import pandas as pd\n",
        "# import matplotlib.pyplot as plt\n",
        "\n",
        "# # Assuming the model has already been trained as in your code snippet:\n",
        "# # model.fit(X_train, y_train, cat_features=cat_features)\n",
        "\n",
        "# # Get the feature importances from the trained model.\n",
        "# # CatBoost's get_feature_importance() returns an array of importance scores.\n",
        "# feature_importances = model.get_feature_importance()\n",
        "\n",
        "# # If X_train is a DataFrame, get the column names.\n",
        "# # If you're using a NumPy array, you might manually specify feature names in a list.\n",
        "# if hasattr(X_train, \"columns\"):\n",
        "#     feature_names = X_train.columns\n",
        "# else:\n",
        "#     # Replace the following list with your actual feature names if necessary.\n",
        "#     feature_names = [f'Feature {i}' for i in range(X_train.shape[1])]\n",
        "\n",
        "# # Combine the feature names and their corresponding importances into a DataFrame.\n",
        "# importance_df = pd.DataFrame({\n",
        "#     'Feature': feature_names,\n",
        "#     'Importance': feature_importances\n",
        "# })\n",
        "\n",
        "# # Sort the DataFrame by importance (highest first).\n",
        "# importance_df = importance_df.sort_values(by='Importance', ascending=False)\n",
        "\n",
        "# # Print the feature importances.\n",
        "# print(\"Feature Importances:\")\n",
        "# print(importance_df)\n",
        "\n",
        "# # Optionally, plot the feature importances.\n",
        "# plt.figure(figsize=(10, 6))\n",
        "# plt.barh(importance_df['Feature'], importance_df['Importance'], color='skyblue')\n",
        "# plt.xlabel('Importance')\n",
        "# plt.ylabel('Feature')\n",
        "# plt.title('CatBoost Feature Importances')\n",
        "# plt.gca().invert_yaxis()  # Invert y-axis so the most important features are on top.\n",
        "# plt.tight_layout()\n",
        "# plt.show()\n"
      ],
      "metadata": {
        "id": "A_6aFsbtC9Lq"
      },
      "execution_count": null,
      "outputs": []
    }
  ],
  "metadata": {
    "colab": {
      "machine_shape": "hm",
      "provenance": []
    },
    "kernelspec": {
      "display_name": "Python 3",
      "name": "python3"
    },
    "language_info": {
      "name": "python"
    }
  },
  "nbformat": 4,
  "nbformat_minor": 0
}