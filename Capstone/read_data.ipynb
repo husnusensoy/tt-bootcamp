{
 "cells": [
  {
   "cell_type": "code",
   "execution_count": 2,
   "metadata": {},
   "outputs": [
    {
     "name": "stderr",
     "output_type": "stream",
     "text": [
      "<>:10: SyntaxWarning: invalid escape sequence '\\c'\n",
      "<>:10: SyntaxWarning: invalid escape sequence '\\c'\n",
      "C:\\Users\\utkub\\AppData\\Local\\Temp\\ipykernel_12664\\3346011486.py:10: SyntaxWarning: invalid escape sequence '\\c'\n",
      "  file_path = f'Data\\capstone.{i}.jsonl.gz'\n"
     ]
    },
    {
     "name": "stdout",
     "output_type": "stream",
     "text": [
      "                                     id  age  tenure service_type  \\\n",
      "0  51893f29-e6c2-45d3-807c-e1280d3d7b90   18    53.0      Prepaid   \n",
      "1  a568caf1-d851-4847-a9f5-20ef9017fa92   26    15.0      Prepaid   \n",
      "2  c611bf0e-a013-44dc-9939-bd33dab16d14   32   152.0     Postpaid   \n",
      "3  9284b7b8-a4ef-49a7-9fa4-333954491f57   33    35.0      Prepaid   \n",
      "4  e205b674-a6e6-43c5-aed7-9497c37c5c82   18   243.0      Prepaid   \n",
      "\n",
      "   avg_call_duration  data_usage  roaming_usage  monthly_charge  \\\n",
      "0             106.74      139.72          47.31           59.45   \n",
      "1              31.55       12.14          21.52         1221.65   \n",
      "2              30.64       10.17          31.11         1170.45   \n",
      "3                NaN         NaN          36.03         2418.91   \n",
      "4              85.62      164.79          46.40         1518.19   \n",
      "\n",
      "   overdue_payments  auto_payment  avg_top_up_count  call_drops  \\\n",
      "0                 0           NaN                25        18.0   \n",
      "1                 0           NaN                51         8.0   \n",
      "2                 0           1.0                 0        13.0   \n",
      "3                 0           NaN                19         7.0   \n",
      "4                 0           NaN                99        15.0   \n",
      "\n",
      "   customer_support_calls  satisfaction_score       apps  churn  \n",
      "0                      13                1.34         []  False  \n",
      "1                       3                2.57         []  False  \n",
      "2                      10                8.02         []  False  \n",
      "3                      11                5.96  [RitimGo]  False  \n",
      "4                       6                8.29         []  False  \n"
     ]
    }
   ],
   "source": [
    "import pandas as pd\n",
    "from sklearn.model_selection import train_test_split\n",
    "import gzip\n",
    "\n",
    "# List to store individual DataFrames\n",
    "dfs = []\n",
    "\n",
    "# Loop through files 1 to 10\n",
    "for i in range(1, 11):\n",
    "    file_path = f'Data\\capstone.{i}.jsonl.gz'\n",
    "    \n",
    "    # Open the gzip file and read it into a DataFrame\n",
    "    with gzip.open(file_path, 'rb') as f:\n",
    "        df = pd.read_json(f, lines=True)\n",
    "        dfs.append(df)\n",
    "\n",
    "# Combine all DataFrames into a single DataFrame\n",
    "combined_df = pd.concat(dfs, ignore_index=True)\n",
    "\n",
    "# Display the combined DataFrame\n",
    "print(combined_df.head())"
   ]
  },
  {
   "cell_type": "code",
   "execution_count": 3,
   "metadata": {},
   "outputs": [],
   "source": [
    "combined_df.to_parquet('combined_capstone.parquet', index=False)"
   ]
  },
  {
   "cell_type": "code",
   "execution_count": 4,
   "metadata": {},
   "outputs": [
    {
     "name": "stdout",
     "output_type": "stream",
     "text": [
      "<class 'pandas.core.frame.DataFrame'>\n",
      "RangeIndex: 10000000 entries, 0 to 9999999\n",
      "Data columns (total 16 columns):\n",
      " #   Column                  Dtype  \n",
      "---  ------                  -----  \n",
      " 0   id                      object \n",
      " 1   age                     int64  \n",
      " 2   tenure                  float64\n",
      " 3   service_type            object \n",
      " 4   avg_call_duration       float64\n",
      " 5   data_usage              float64\n",
      " 6   roaming_usage           float64\n",
      " 7   monthly_charge          float64\n",
      " 8   overdue_payments        int64  \n",
      " 9   auto_payment            float64\n",
      " 10  avg_top_up_count        int64  \n",
      " 11  call_drops              float64\n",
      " 12  customer_support_calls  int64  \n",
      " 13  satisfaction_score      float64\n",
      " 14  apps                    object \n",
      " 15  churn                   bool   \n",
      "dtypes: bool(1), float64(8), int64(4), object(3)\n",
      "memory usage: 1.1+ GB\n"
     ]
    }
   ],
   "source": [
    "combined_df.info()"
   ]
  }
 ],
 "metadata": {
  "kernelspec": {
   "display_name": "Python 3",
   "language": "python",
   "name": "python3"
  },
  "language_info": {
   "codemirror_mode": {
    "name": "ipython",
    "version": 3
   },
   "file_extension": ".py",
   "mimetype": "text/x-python",
   "name": "python",
   "nbconvert_exporter": "python",
   "pygments_lexer": "ipython3",
   "version": "3.12.8"
  }
 },
 "nbformat": 4,
 "nbformat_minor": 2
}
