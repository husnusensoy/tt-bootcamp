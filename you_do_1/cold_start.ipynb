{
 "cells": [
  {
   "cell_type": "code",
   "execution_count": 3,
   "metadata": {},
   "outputs": [],
   "source": [
    "import duckdb\n",
    "\n",
    "# DuckDB bağlantısını aç\n",
    "con = duckdb.connect(database='my_database.db')"
   ]
  },
  {
   "cell_type": "code",
   "execution_count": null,
   "metadata": {},
   "outputs": [
    {
     "name": "stdout",
     "output_type": "stream",
     "text": [
      "\n",
      "Cold Start Önerilen Filmler:\n",
      "Lord of the Rings: The Return of the King: Extended Edition (2003) - Ortalama Puan: 4.72\n",
      "The Lord of the Rings: The Fellowship of the Ring: Extended Edition (2001) - Ortalama Puan: 4.72\n",
      "Lord of the Rings: The Two Towers: Extended Edition (2002) - Ortalama Puan: 4.70\n",
      "Lost: Season 1 (2004) - Ortalama Puan: 4.67\n",
      "Battlestar Galactica: Season 1 (2004) - Ortalama Puan: 4.64\n",
      "Fullmetal Alchemist (2004) - Ortalama Puan: 4.61\n",
      "Trailer Park Boys: Season 4 (2003) - Ortalama Puan: 4.60\n",
      "Trailer Park Boys: Season 3 (2003) - Ortalama Puan: 4.60\n",
      "Tenchi Muyo! Ryo Ohki (1995) - Ortalama Puan: 4.60\n",
      "The Shawshank Redemption: Special Edition (1994) - Ortalama Puan: 4.59\n"
     ]
    }
   ],
   "source": [
    "# En yüksek ortalama puana sahip filmleri seç\n",
    "query = \"\"\"\n",
    "    SELECT \n",
    "        m.movie_id, \n",
    "        m.film_adi, \n",
    "        m.yayım_yili, \n",
    "        AVG(r.rating) AS avg_rating\n",
    "    FROM df_movies AS m\n",
    "    JOIN df_ratings AS r ON m.movie_id = r.movie_id\n",
    "    GROUP BY m.movie_id, m.film_adi, m.yayım_yili\n",
    "    ORDER BY avg_rating DESC\n",
    "    LIMIT 10\n",
    "\"\"\"\n",
    "\n",
    "top_movies = con.execute(query).fetchall()\n",
    "\n",
    "print(\"\\nÖnerilen Filmler:\")\n",
    "for movie in top_movies:\n",
    "    print(f\"{movie[1]} ({movie[2]}) - Ortalama Puan: {movie[3]:.2f}\")"
   ]
  },
  {
   "cell_type": "code",
   "execution_count": 12,
   "metadata": {},
   "outputs": [
    {
     "name": "stdout",
     "output_type": "stream",
     "text": [
      "\n",
      "Popüler Filmler:\n",
      "Miss Congeniality (2000) - Ortalama Puan: 3.36\n",
      "Independence Day (1996) - Ortalama Puan: 3.72\n",
      "The Patriot (2000) - Ortalama Puan: 3.78\n",
      "The Day After Tomorrow (2004) - Ortalama Puan: 3.44\n",
      "Pirates of the Caribbean: The Curse of the Black Pearl (2003) - Ortalama Puan: 4.15\n",
      "Pretty Woman (1990) - Ortalama Puan: 3.91\n",
      "Forrest Gump (1994) - Ortalama Puan: 4.30\n",
      "The Green Mile (1999) - Ortalama Puan: 4.31\n",
      "Con Air (1997) - Ortalama Puan: 3.45\n",
      "Twister (1996) - Ortalama Puan: 3.41\n"
     ]
    }
   ],
   "source": [
    "# En popüler filmleri getiren SQL sorgusu\n",
    "query = \"\"\"\n",
    "    SELECT \n",
    "        m.movie_id, \n",
    "        m.film_adi, \n",
    "        m.yayım_yili, \n",
    "        COUNT(r.rating) AS rating_count, \n",
    "        AVG(r.rating) AS avg_rating\n",
    "    FROM df_movies AS m\n",
    "    JOIN df_ratings AS r ON m.movie_id = r.movie_id\n",
    "    GROUP BY m.movie_id, m.film_adi, m.yayım_yili\n",
    "    ORDER BY rating_count DESC, avg_rating DESC\n",
    "    LIMIT 10\n",
    "\"\"\"\n",
    "result = con.execute(query).fetchall()\n",
    "print(\"\\nPopüler Filmler:\")\n",
    "for movie in result:\n",
    "    print(f\"{movie[1]} ({movie[2]}) - Ortalama Puan: {movie[4]:.2f}\")"
   ]
  },
  {
   "cell_type": "code",
   "execution_count": 19,
   "metadata": {},
   "outputs": [
    {
     "name": "stdout",
     "output_type": "stream",
     "text": [
      "\n",
      "Son 20 Yıldaki En İyi Filmler:\n",
      "Film: Ghost in the Shell: Stand Alone Complex: 2nd Gig (2005) - Ortalama Puan: 4.59\n",
      "Film: Ah! My Goddess (2005) - Ortalama Puan: 4.52\n",
      "Film: Curb Your Enthusiasm: Season 4 (2005) - Ortalama Puan: 4.36\n",
      "Film: Hotel Rwanda (2005) - Ortalama Puan: 4.31\n",
      "Film: UFC 52: Ultimate Fighting Championship: Randy Couture vs. Chuck Liddell (2005) - Ortalama Puan: 4.28\n",
      "Film: Lamb of God: Killadelphia (2005) - Ortalama Puan: 4.28\n",
      "Film: Baki the Grappler (2005) - Ortalama Puan: 4.28\n",
      "Film: Elfen Lied (2005) - Ortalama Puan: 4.25\n",
      "Film: Carlos Mencia: Not for the Easily Offended: Live in San Jose (2005) - Ortalama Puan: 4.25\n",
      "Film: Batman Begins (2005) - Ortalama Puan: 4.24\n"
     ]
    }
   ],
   "source": [
    "# Son 20 Yıldaki En İyi Filmler:\n",
    "query = \"\"\"\n",
    "    SELECT \n",
    "        m.movie_id, \n",
    "        m.film_adi, \n",
    "        m.yayım_yili, \n",
    "        AVG(r.rating) AS avg_rating\n",
    "    FROM df_movies AS m\n",
    "    JOIN df_ratings AS r ON m.movie_id = r.movie_id\n",
    "    WHERE m.yayım_yili >= EXTRACT(YEAR FROM current_date) - 20  -- Son 20 yıl\n",
    "    GROUP BY m.movie_id, m.film_adi, m.yayım_yili\n",
    "    ORDER BY avg_rating DESC\n",
    "    LIMIT 10\n",
    "\"\"\"\n",
    "\n",
    "print(\"\\nSon 20 Yıldaki En İyi Filmler:\")\n",
    "for movie in result:\n",
    "    print(f\"Film: {movie[1]} ({movie[2]}) - Ortalama Puan: {movie[3]:.2f}\")\n"
   ]
  },
  {
   "cell_type": "code",
   "execution_count": 27,
   "metadata": {},
   "outputs": [
    {
     "name": "stdout",
     "output_type": "stream",
     "text": [
      "\n",
      "Trend Filmler (2005 Son 1 Ay):\n",
      "Batman Begins (2005) - Oy Sayısı: 11605\n",
      "Crash (2005) - Oy Sayısı: 8075\n",
      "The Longest Yard (2005) - Oy Sayısı: 6969\n",
      "National Treasure (2004) - Oy Sayısı: 6871\n",
      "Bewitched (2005) - Oy Sayısı: 6769\n",
      "Sahara (2005) - Oy Sayısı: 6597\n",
      "Kingdom of Heaven (2005) - Oy Sayısı: 6047\n",
      "Hitch (2005) - Oy Sayısı: 5343\n",
      "Robots (2005) - Oy Sayısı: 5246\n",
      "Sin City (2005) - Oy Sayısı: 5203\n"
     ]
    }
   ],
   "source": [
    "# Trend Filmler (2005 Son 1 Ay):\n",
    "query = \"\"\"\n",
    "    SELECT \n",
    "        m.movie_id, \n",
    "        m.film_adi, \n",
    "        m.yayım_yili, \n",
    "        COUNT(r.rating) AS vote_count\n",
    "    FROM df_movies AS m\n",
    "    JOIN df_ratings AS r ON m.movie_id = r.movie_id\n",
    "    WHERE r.tarih >= DATE '2005-12-31' - INTERVAL '1 month'\n",
    "    GROUP BY m.movie_id, m.film_adi, m.yayım_yili\n",
    "    ORDER BY vote_count DESC\n",
    "    LIMIT 10\n",
    "\"\"\"\n",
    "result = con.execute(query).fetchall()\n",
    "print(\"\\nTrend Filmler (2005 Son 1 Ay):\")\n",
    "for movie in result:\n",
    "    print(f\"{movie[1]} ({movie[2]}) - Oy Sayısı: {movie[3]}\")"
   ]
  },
  {
   "cell_type": "code",
   "execution_count": 29,
   "metadata": {},
   "outputs": [],
   "source": [
    "con.close() "
   ]
  }
 ],
 "metadata": {
  "kernelspec": {
   "display_name": "base",
   "language": "python",
   "name": "python3"
  },
  "language_info": {
   "codemirror_mode": {
    "name": "ipython",
    "version": 3
   },
   "file_extension": ".py",
   "mimetype": "text/x-python",
   "name": "python",
   "nbconvert_exporter": "python",
   "pygments_lexer": "ipython3",
   "version": "3.12.7"
  }
 },
 "nbformat": 4,
 "nbformat_minor": 2
}
