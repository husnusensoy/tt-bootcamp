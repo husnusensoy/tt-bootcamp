{
 "cells": [
  {
   "cell_type": "code",
   "execution_count": 9,
   "metadata": {},
   "outputs": [],
   "source": [
    "import os\n",
    "from typing import Dict, List\n",
    "\n",
    "import numpy as np\n",
    "import pandas as pd\n",
    "from implicit.als import AlternatingLeastSquares\n",
    "from implicit.evaluation import mean_average_precision_at_k\n",
    "from scipy.sparse import csr_matrix\n",
    "from sklearn.model_selection import train_test_split"
   ]
  },
  {
   "cell_type": "code",
   "execution_count": 10,
   "metadata": {},
   "outputs": [],
   "source": [
    "config = {\n",
    "    \"rating_address_template\": \"dataset/raw/binge/rating_x.csv\",\n",
    "    \"number_of_rating_addresses\": 4,\n",
    "    \"movie_titles_address\": \"dataset/raw/binge/movie_titles.csv\",\n",
    "}\n",
    "\n",
    "model_save_address = \"./models/als_recommender_model.npz\""
   ]
  },
  {
   "cell_type": "code",
   "execution_count": 11,
   "metadata": {},
   "outputs": [],
   "source": [
    "class BingeDataset:\n",
    "    def __init__(self, rating_address_template: str, number_of_rating_addresses: int, movie_titles_address: str):\n",
    "        self.rating_address_template = rating_address_template\n",
    "        self.NUMBER_OF_RATING_ADDRESSES = number_of_rating_addresses\n",
    "        self.movie_titles_address = movie_titles_address\n",
    "\n",
    "    def get_df(self) -> pd.DataFrame:\n",
    "        ratings_df = self.get_cleaned_ratings()\n",
    "        ratings_with_median = self.replace_ratings_with_median_ratings(ratings_df)\n",
    "        ratings_with_count = self.get_rating_counts(ratings_with_median)\n",
    "        rating_final_df = self.merge_median_and_count_ratings(ratings_with_median, ratings_with_count)\n",
    "\n",
    "        rating_final_df[\"score\"] = (\n",
    "            rating_final_df[\"median_rating\"] * rating_final_df[\"count_of_review\"]\n",
    "        )\n",
    "\n",
    "        movie_titles_final = self.get_movie_titles_df()\n",
    "\n",
    "        df = rating_final_df.merge(\n",
    "            movie_titles_final,\n",
    "            how=\"inner\",\n",
    "            left_on=\"movie_id\",\n",
    "            right_on=\"movie_id\"\n",
    "        )\n",
    "\n",
    "        df = self.change_types(df)\n",
    "\n",
    "        return df\n",
    "\n",
    "    def change_types(self, df: pd.DataFrame):\n",
    "        return (\n",
    "            df\n",
    "            .astype({\"year_of_publication\": \"int32\"})\n",
    "            .astype({col: \"int32\" for col in df.select_dtypes(\"int64\").columns})\n",
    "            .astype({col: \"float32\" for col in df.select_dtypes(\"float64\").columns})\n",
    "        )\n",
    "\n",
    "    def merge_median_and_count_ratings(\n",
    "        self,\n",
    "        ratings_with_median: pd.DataFrame,\n",
    "        ratings_with_count: pd.DataFrame\n",
    "    ) -> pd.DataFrame:\n",
    "        columns_mapping = {\n",
    "            \"median_rating_x\": \"median_rating\",\n",
    "            \"median_rating_y\": \"count_of_review\",\n",
    "        }\n",
    "\n",
    "        return (\n",
    "            ratings_with_median\n",
    "            .merge(ratings_with_count, how=\"inner\", left_on=\"movie_id\", right_on=\"movie_id\")\n",
    "            .rename(columns=columns_mapping)\n",
    "        )\n",
    "\n",
    "    def get_movie_titles_df(self) -> pd.DataFrame:\n",
    "\n",
    "        movie_titles_columns = (\"movie_id\", \"year_of_publication\", \"movie_name\")\n",
    "\n",
    "        movie_titles = pd.read_csv(\n",
    "            self.movie_titles_address,\n",
    "            encoding=\"ISO-8859-1\",\n",
    "            usecols=[0, 1, 2],\n",
    "            names=movie_titles_columns,\n",
    "        )\n",
    "\n",
    "        return movie_titles[~(movie_titles[\"year_of_publication\"].isna())]\n",
    "\n",
    "    def get_rating_counts(self, ratings_with_median: pd.DataFrame) -> pd.DataFrame:\n",
    "        return (\n",
    "            ratings_with_median.groupby(by=\"movie_id\")[\"median_rating\"]\n",
    "            .count()\n",
    "            .reset_index()\n",
    "        )\n",
    "\n",
    "    def replace_ratings_with_median_ratings(\n",
    "        self, ratings_df: pd.DataFrame\n",
    "    ) -> pd.DataFrame:\n",
    "        return (\n",
    "            ratings_df.groupby(by=\"movie_id\")[[\"rating\"]]\n",
    "            .median()\n",
    "            .reset_index()\n",
    "            .merge(ratings_df, how=\"inner\", left_on=\"movie_id\", right_on=\"movie_id\")\n",
    "            .drop(columns=\"rating_y\")\n",
    "            .rename(columns={\"rating_x\": \"median_rating\"})\n",
    "        )\n",
    "\n",
    "    def get_cleaned_ratings(self) -> pd.DataFrame:\n",
    "        rating_columns = [\"movie_id\", \"user_id\", \"datetime\", \"rating\"]\n",
    "\n",
    "        rating_dfs = [\n",
    "            pd.read_csv(address, names=rating_columns)\n",
    "            for address in (\n",
    "                self.rating_address_template.replace(\"x\", str(i))\n",
    "                for i in range(1, self.NUMBER_OF_RATING_ADDRESSES)\n",
    "            )\n",
    "        ]\n",
    "\n",
    "        return pd.concat(rating_dfs).drop(columns=\"datetime\")"
   ]
  },
  {
   "cell_type": "code",
   "execution_count": 12,
   "metadata": {},
   "outputs": [],
   "source": [
    "class RecommenderSystem:\n",
    "    def __init__(self, binge_dataset: BingeDataset, model_save_address: str):\n",
    "        self.binge_dataset = binge_dataset\n",
    "        self.df = binge_dataset.get_df()\n",
    "        self.sparse_matrix = self.get_sparse()\n",
    "\n",
    "        self.model_save_address = model_save_address\n",
    "        self.model = self.load_model(model_save_address)\n",
    "\n",
    "    def load_model(self, model_save_address):\n",
    "        if os.path.exists(model_save_address):\n",
    "            return AlternatingLeastSquares().load(model_save_address)\n",
    "        else:\n",
    "            return None\n",
    "\n",
    "    def fit(\n",
    "        self, test_size: int = 0.2, shuffle=True, random_state: int = None, **kwargs\n",
    "    ):\n",
    "        X_train, X_test, *_ = train_test_split(\n",
    "            self.sparse_matrix,\n",
    "            test_size=test_size,\n",
    "            shuffle=shuffle,\n",
    "            random_state=random_state,\n",
    "        )\n",
    "        self.model = AlternatingLeastSquares(**kwargs)\n",
    "        self.model.fit(X_train)\n",
    "        self.test_score = self.evaluate_model(X_train, X_test)\n",
    "        self.model.save(self.model_save_address)\n",
    "        return self.model, self.test_score\n",
    "\n",
    "    #gerçekten csr matrix mi\n",
    "    def evaluate_model(self, X_train: csr_matrix, X_test: csr_matrix) -> float:\n",
    "        return mean_average_precision_at_k(self.model, X_train, X_test)\n",
    "\n",
    "    def get_sparse(self) -> csr_matrix:\n",
    "        df = self.binge_dataset.get_cleaned_ratings()\n",
    "        return csr_matrix(\n",
    "            (\n",
    "                df[\"rating\"].values,\n",
    "                (df[\"user_id\"].values, df[\"movie_id\"].values)\n",
    "            ),\n",
    "        ).astype(\"int32\")\n",
    "\n",
    "    def recommend_for_new_users(self, n_movies=5, size_of_pool_to_select_from=100) -> List[int]:\n",
    "        '''\n",
    "            Used for to generating recommendations for new users.\n",
    "\n",
    "            Returns n_movie number of movie_ids from a pool generated from general movie scores desc.\n",
    "\n",
    "        '''\n",
    "        movies_to_select = np.random.randint(0, size_of_pool_to_select_from, n_movies)\n",
    "\n",
    "        return (\n",
    "            self.df\n",
    "            .sort_values(by=\"score\", ascending=False)[\"movie_id\"]\n",
    "            .unique()\n",
    "            [:size_of_pool_to_select_from]\n",
    "            [movies_to_select]\n",
    "        )\n",
    "\n",
    "    def recommend_for_user(\n",
    "        self,\n",
    "        user_id: int, \n",
    "        number_of_movies_to_recommend: int = 10\n",
    "    ) -> Dict[int, float]:\n",
    "        '''\n",
    "        Returns a dictionary that keys are movie_ids and \n",
    "        values are the score that which selected movie he/she most likely to watch.\n",
    "        Higher score is better.\n",
    "        '''\n",
    "        recommendation_list = self.model.recommend(\n",
    "            user_id,\n",
    "            self.sparse_matrix[user_id],\n",
    "            N=number_of_movies_to_recommend\n",
    "        )\n",
    "        return {movie_id: score for (movie_id, score) in zip(*recommendation_list)}\n",
    "    \n",
    "    def compare_movies(self, movie_one_id: int, movie_two_id: int, threshold: float = 5.0) -> bool:\n",
    "        '''\n",
    "        Compares two movies based on their general score(also used for cold start recommendations).\n",
    "        Threshold can't be more then 100 and less then 0.\n",
    "\n",
    "        Returns True if their difference in percentage is greater then threshold.\n",
    "        Returns False if their difference in percentage is lesser or equal to the threshold.\n",
    "        '''\n",
    "        if threshold > 100 or threshold < 0:\n",
    "            raise ValueError(\"Threshold can't be more then 100\")\n",
    "\n",
    "        movie_one_score, movie_two_score = (\n",
    "            self.df.loc[self.df[\"movie_id\"] == movie_one_id, \"score\"].iloc[0],\n",
    "            self.df.loc[self.df[\"movie_id\"] == movie_two_id, \"score\"].iloc[0]\n",
    "        )\n",
    "\n",
    "        difference_by_percentage = abs(\n",
    "            ((movie_one_score - movie_two_score) / movie_one_score) * 100\n",
    "        )\n",
    "\n",
    "        return difference_by_percentage > threshold "
   ]
  },
  {
   "cell_type": "code",
   "execution_count": 13,
   "metadata": {},
   "outputs": [],
   "source": [
    "binge_dataset = BingeDataset(**config)"
   ]
  },
  {
   "cell_type": "code",
   "execution_count": 14,
   "metadata": {},
   "outputs": [
    {
     "name": "stderr",
     "output_type": "stream",
     "text": [
      "/opt/anaconda3/envs/ds-study/lib/python3.11/site-packages/implicit/cpu/als.py:95: RuntimeWarning: OpenBLAS is configured to use 8 threads. It is highly recommended to disable its internal threadpool by setting the environment variable 'OPENBLAS_NUM_THREADS=1' or by calling 'threadpoolctl.threadpool_limits(1, \"blas\")'. Having OpenBLAS use a threadpool can lead to severe performance issues here.\n",
      "  check_blas_config()\n"
     ]
    }
   ],
   "source": [
    "recommender_system = RecommenderSystem(binge_dataset, model_save_address)"
   ]
  },
  {
   "cell_type": "code",
   "execution_count": 17,
   "metadata": {},
   "outputs": [
    {
     "data": {
      "application/vnd.jupyter.widget-view+json": {
       "model_id": "3a1645572aa1494babd16fd556a7e556",
       "version_major": 2,
       "version_minor": 0
      },
      "text/plain": [
       "  0%|          | 0/20 [00:00<?, ?it/s]"
      ]
     },
     "metadata": {},
     "output_type": "display_data"
    },
    {
     "data": {
      "application/vnd.jupyter.widget-view+json": {
       "model_id": "3bbd672269944ac69c88cfae12045c7c",
       "version_major": 2,
       "version_minor": 0
      },
      "text/plain": [
       "  0%|          | 0/95893 [00:00<?, ?it/s]"
      ]
     },
     "metadata": {},
     "output_type": "display_data"
    }
   ],
   "source": [
    "# hyperparams = {\n",
    "#     \"iterations\": 20,\n",
    "#     \"factors\": 256,\n",
    "#     \"regularization\": 0.1\n",
    "# }\n",
    "# model, score = recommender_system.fit(random_state=11, **hyperparams)"
   ]
  },
  {
   "cell_type": "code",
   "execution_count": 22,
   "metadata": {},
   "outputs": [
    {
     "name": "stdout",
     "output_type": "stream",
     "text": [
      "Mean Precision @10 Score Of The Model: 0.02756972098691428\n"
     ]
    }
   ],
   "source": [
    "#print(f\"Mean Precision @10 Score Of The Model: {score}\")"
   ]
  },
  {
   "cell_type": "code",
   "execution_count": 19,
   "metadata": {},
   "outputs": [
    {
     "data": {
      "text/plain": [
       "{6117: 1.186178,\n",
       " 10607: 1.0608814,\n",
       " 8387: 1.0059323,\n",
       " 571: 0.9900291,\n",
       " 8596: 0.98567605}"
      ]
     },
     "execution_count": 19,
     "metadata": {},
     "output_type": "execute_result"
    }
   ],
   "source": [
    "recommender_system.recommend_for_user(6, 5)"
   ]
  },
  {
   "cell_type": "code",
   "execution_count": 20,
   "metadata": {},
   "outputs": [
    {
     "data": {
      "text/plain": [
       "array([11677,  6206, 10550,  5085,  3825,   886], dtype=int32)"
      ]
     },
     "execution_count": 20,
     "metadata": {},
     "output_type": "execute_result"
    }
   ],
   "source": [
    "recommender_system.recommend_for_new_users(6)"
   ]
  },
  {
   "cell_type": "code",
   "execution_count": 21,
   "metadata": {},
   "outputs": [
    {
     "data": {
      "text/plain": [
       "True"
      ]
     },
     "execution_count": 21,
     "metadata": {},
     "output_type": "execute_result"
    }
   ],
   "source": [
    "recommender_system.compare_movies(6117, 10607, 5)"
   ]
  }
 ],
 "metadata": {
  "kernelspec": {
   "display_name": "ds-study",
   "language": "python",
   "name": "python3"
  },
  "language_info": {
   "codemirror_mode": {
    "name": "ipython",
    "version": 3
   },
   "file_extension": ".py",
   "mimetype": "text/x-python",
   "name": "python",
   "nbconvert_exporter": "python",
   "pygments_lexer": "ipython3",
   "version": "3.11.8"
  }
 },
 "nbformat": 4,
 "nbformat_minor": 2
}
