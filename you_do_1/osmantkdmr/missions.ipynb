{
 "cells": [
  {
   "cell_type": "code",
   "execution_count": 4,
   "metadata": {},
   "outputs": [],
   "source": [
    "import duckdb\n",
    "\n",
    "from fix_data import fixer\n",
    "from Recommender import RecommendationEngine"
   ]
  },
  {
   "cell_type": "code",
   "execution_count": 5,
   "metadata": {},
   "outputs": [],
   "source": [
    "fixer(\"Data/movie_titles.csv\", \"Data/fix_movie_titles.csv\", 3).fix_comma_problem()"
   ]
  },
  {
   "cell_type": "code",
   "execution_count": 6,
   "metadata": {},
   "outputs": [],
   "source": [
    "db_path = \"Data/ratings.db\""
   ]
  },
  {
   "cell_type": "code",
   "execution_count": 7,
   "metadata": {},
   "outputs": [],
   "source": [
    "with duckdb.connect(db_path) as con:\n",
    "    #con.execute(\"drop table if exists ratings\")\n",
    "    #con.execute(\"drop table if exists movies\")\n",
    "    con.execute('create table IF NOT EXISTS ratings AS SELECT * FROM read_csv(\"Data/rating_*.txt\", names=[\"movie_id\", \"user_id\", \"timestamp\", \"rating\"])')\n",
    "    con.execute('create table IF NOT EXISTS movies AS SELECT * FROM read_csv(\"Data/fix_movie_titles.csv\", names=[\"movie_id\", \"year\", \"title\"])')"
   ]
  },
  {
   "cell_type": "code",
   "execution_count": 8,
   "metadata": {},
   "outputs": [],
   "source": [
    "re = RecommendationEngine(db_path)"
   ]
  },
  {
   "cell_type": "code",
   "execution_count": 9,
   "metadata": {},
   "outputs": [
    {
     "data": {
      "text/html": [
       "<div>\n",
       "<style scoped>\n",
       "    .dataframe tbody tr th:only-of-type {\n",
       "        vertical-align: middle;\n",
       "    }\n",
       "\n",
       "    .dataframe tbody tr th {\n",
       "        vertical-align: top;\n",
       "    }\n",
       "\n",
       "    .dataframe thead th {\n",
       "        text-align: right;\n",
       "    }\n",
       "</style>\n",
       "<table border=\"1\" class=\"dataframe\">\n",
       "  <thead>\n",
       "    <tr style=\"text-align: right;\">\n",
       "      <th></th>\n",
       "      <th>title</th>\n",
       "      <th>year</th>\n",
       "      <th>rating_mean</th>\n",
       "      <th>rating_count</th>\n",
       "    </tr>\n",
       "  </thead>\n",
       "  <tbody>\n",
       "    <tr>\n",
       "      <th>0</th>\n",
       "      <td>Lord of the Rings: The Return of the King: Ext...</td>\n",
       "      <td>2003</td>\n",
       "      <td>4.723270</td>\n",
       "      <td>73335</td>\n",
       "    </tr>\n",
       "    <tr>\n",
       "      <th>1</th>\n",
       "      <td>The Lord of the Rings: The Fellowship of the R...</td>\n",
       "      <td>2001</td>\n",
       "      <td>4.716611</td>\n",
       "      <td>73422</td>\n",
       "    </tr>\n",
       "    <tr>\n",
       "      <th>2</th>\n",
       "      <td>Lord of the Rings: The Two Towers: Extended Ed...</td>\n",
       "      <td>2002</td>\n",
       "      <td>4.702611</td>\n",
       "      <td>74912</td>\n",
       "    </tr>\n",
       "    <tr>\n",
       "      <th>3</th>\n",
       "      <td>Lost: Season 1</td>\n",
       "      <td>2004</td>\n",
       "      <td>4.670989</td>\n",
       "      <td>7249</td>\n",
       "    </tr>\n",
       "    <tr>\n",
       "      <th>4</th>\n",
       "      <td>The Shawshank Redemption: Special Edition</td>\n",
       "      <td>1994</td>\n",
       "      <td>4.593384</td>\n",
       "      <td>139660</td>\n",
       "    </tr>\n",
       "    <tr>\n",
       "      <th>5</th>\n",
       "      <td>Arrested Development: Season 2</td>\n",
       "      <td>2004</td>\n",
       "      <td>4.582389</td>\n",
       "      <td>6621</td>\n",
       "    </tr>\n",
       "    <tr>\n",
       "      <th>6</th>\n",
       "      <td>The Simpsons: Season 6</td>\n",
       "      <td>1994</td>\n",
       "      <td>4.581296</td>\n",
       "      <td>8426</td>\n",
       "    </tr>\n",
       "    <tr>\n",
       "      <th>7</th>\n",
       "      <td>Lord of the Rings: The Return of the King</td>\n",
       "      <td>2003</td>\n",
       "      <td>4.545121</td>\n",
       "      <td>134284</td>\n",
       "    </tr>\n",
       "    <tr>\n",
       "      <th>8</th>\n",
       "      <td>Star Wars: Episode V: The Empire Strikes Back</td>\n",
       "      <td>1980</td>\n",
       "      <td>4.543701</td>\n",
       "      <td>92470</td>\n",
       "    </tr>\n",
       "    <tr>\n",
       "      <th>9</th>\n",
       "      <td>The Simpsons: Season 5</td>\n",
       "      <td>1993</td>\n",
       "      <td>4.542563</td>\n",
       "      <td>17292</td>\n",
       "    </tr>\n",
       "  </tbody>\n",
       "</table>\n",
       "</div>"
      ],
      "text/plain": [
       "                                               title  year  rating_mean  \\\n",
       "0  Lord of the Rings: The Return of the King: Ext...  2003     4.723270   \n",
       "1  The Lord of the Rings: The Fellowship of the R...  2001     4.716611   \n",
       "2  Lord of the Rings: The Two Towers: Extended Ed...  2002     4.702611   \n",
       "3                                     Lost: Season 1  2004     4.670989   \n",
       "4          The Shawshank Redemption: Special Edition  1994     4.593384   \n",
       "5                     Arrested Development: Season 2  2004     4.582389   \n",
       "6                             The Simpsons: Season 6  1994     4.581296   \n",
       "7          Lord of the Rings: The Return of the King  2003     4.545121   \n",
       "8      Star Wars: Episode V: The Empire Strikes Back  1980     4.543701   \n",
       "9                             The Simpsons: Season 5  1993     4.542563   \n",
       "\n",
       "   rating_count  \n",
       "0         73335  \n",
       "1         73422  \n",
       "2         74912  \n",
       "3          7249  \n",
       "4        139660  \n",
       "5          6621  \n",
       "6          8426  \n",
       "7        134284  \n",
       "8         92470  \n",
       "9         17292  "
      ]
     },
     "execution_count": 9,
     "metadata": {},
     "output_type": "execute_result"
    }
   ],
   "source": [
    "re.cold_start_recommendations()"
   ]
  },
  {
   "cell_type": "code",
   "execution_count": 10,
   "metadata": {},
   "outputs": [
    {
     "name": "stdout",
     "output_type": "stream",
     "text": [
      "buralarda yenisin galiba\n"
     ]
    },
    {
     "data": {
      "text/html": [
       "<div>\n",
       "<style scoped>\n",
       "    .dataframe tbody tr th:only-of-type {\n",
       "        vertical-align: middle;\n",
       "    }\n",
       "\n",
       "    .dataframe tbody tr th {\n",
       "        vertical-align: top;\n",
       "    }\n",
       "\n",
       "    .dataframe thead th {\n",
       "        text-align: right;\n",
       "    }\n",
       "</style>\n",
       "<table border=\"1\" class=\"dataframe\">\n",
       "  <thead>\n",
       "    <tr style=\"text-align: right;\">\n",
       "      <th></th>\n",
       "      <th>title</th>\n",
       "      <th>year</th>\n",
       "      <th>rating_mean</th>\n",
       "      <th>rating_count</th>\n",
       "    </tr>\n",
       "  </thead>\n",
       "  <tbody>\n",
       "    <tr>\n",
       "      <th>0</th>\n",
       "      <td>Lord of the Rings: The Return of the King: Ext...</td>\n",
       "      <td>2003</td>\n",
       "      <td>4.723270</td>\n",
       "      <td>73335</td>\n",
       "    </tr>\n",
       "    <tr>\n",
       "      <th>1</th>\n",
       "      <td>The Lord of the Rings: The Fellowship of the R...</td>\n",
       "      <td>2001</td>\n",
       "      <td>4.716611</td>\n",
       "      <td>73422</td>\n",
       "    </tr>\n",
       "    <tr>\n",
       "      <th>2</th>\n",
       "      <td>Lord of the Rings: The Two Towers: Extended Ed...</td>\n",
       "      <td>2002</td>\n",
       "      <td>4.702611</td>\n",
       "      <td>74912</td>\n",
       "    </tr>\n",
       "    <tr>\n",
       "      <th>3</th>\n",
       "      <td>Lost: Season 1</td>\n",
       "      <td>2004</td>\n",
       "      <td>4.670989</td>\n",
       "      <td>7249</td>\n",
       "    </tr>\n",
       "    <tr>\n",
       "      <th>4</th>\n",
       "      <td>The Shawshank Redemption: Special Edition</td>\n",
       "      <td>1994</td>\n",
       "      <td>4.593384</td>\n",
       "      <td>139660</td>\n",
       "    </tr>\n",
       "    <tr>\n",
       "      <th>5</th>\n",
       "      <td>Arrested Development: Season 2</td>\n",
       "      <td>2004</td>\n",
       "      <td>4.582389</td>\n",
       "      <td>6621</td>\n",
       "    </tr>\n",
       "    <tr>\n",
       "      <th>6</th>\n",
       "      <td>The Simpsons: Season 6</td>\n",
       "      <td>1994</td>\n",
       "      <td>4.581296</td>\n",
       "      <td>8426</td>\n",
       "    </tr>\n",
       "    <tr>\n",
       "      <th>7</th>\n",
       "      <td>Lord of the Rings: The Return of the King</td>\n",
       "      <td>2003</td>\n",
       "      <td>4.545121</td>\n",
       "      <td>134284</td>\n",
       "    </tr>\n",
       "    <tr>\n",
       "      <th>8</th>\n",
       "      <td>Star Wars: Episode V: The Empire Strikes Back</td>\n",
       "      <td>1980</td>\n",
       "      <td>4.543701</td>\n",
       "      <td>92470</td>\n",
       "    </tr>\n",
       "    <tr>\n",
       "      <th>9</th>\n",
       "      <td>The Simpsons: Season 5</td>\n",
       "      <td>1993</td>\n",
       "      <td>4.542563</td>\n",
       "      <td>17292</td>\n",
       "    </tr>\n",
       "  </tbody>\n",
       "</table>\n",
       "</div>"
      ],
      "text/plain": [
       "                                               title  year  rating_mean  \\\n",
       "0  Lord of the Rings: The Return of the King: Ext...  2003     4.723270   \n",
       "1  The Lord of the Rings: The Fellowship of the R...  2001     4.716611   \n",
       "2  Lord of the Rings: The Two Towers: Extended Ed...  2002     4.702611   \n",
       "3                                     Lost: Season 1  2004     4.670989   \n",
       "4          The Shawshank Redemption: Special Edition  1994     4.593384   \n",
       "5                     Arrested Development: Season 2  2004     4.582389   \n",
       "6                             The Simpsons: Season 6  1994     4.581296   \n",
       "7          Lord of the Rings: The Return of the King  2003     4.545121   \n",
       "8      Star Wars: Episode V: The Empire Strikes Back  1980     4.543701   \n",
       "9                             The Simpsons: Season 5  1993     4.542563   \n",
       "\n",
       "   rating_count  \n",
       "0         73335  \n",
       "1         73422  \n",
       "2         74912  \n",
       "3          7249  \n",
       "4        139660  \n",
       "5          6621  \n",
       "6          8426  \n",
       "7        134284  \n",
       "8         92470  \n",
       "9         17292  "
      ]
     },
     "execution_count": 10,
     "metadata": {},
     "output_type": "execute_result"
    }
   ],
   "source": [
    "re.get_user_recommendations(55555)"
   ]
  },
  {
   "cell_type": "code",
   "execution_count": 11,
   "metadata": {},
   "outputs": [
    {
     "data": {
      "text/plain": [
       "np.False_"
      ]
     },
     "execution_count": 11,
     "metadata": {},
     "output_type": "execute_result"
    }
   ],
   "source": [
    "re.compare_movies(1, 2)[\"statistical_test\"][\"significantly_different\"]"
   ]
  },
  {
   "cell_type": "code",
   "execution_count": null,
   "metadata": {},
   "outputs": [],
   "source": []
  }
 ],
 "metadata": {
  "kernelspec": {
   "display_name": "DataScience",
   "language": "python",
   "name": "python3"
  },
  "language_info": {
   "codemirror_mode": {
    "name": "ipython",
    "version": 3
   },
   "file_extension": ".py",
   "mimetype": "text/x-python",
   "name": "python",
   "nbconvert_exporter": "python",
   "pygments_lexer": "ipython3",
   "version": "3.11.9"
  }
 },
 "nbformat": 4,
 "nbformat_minor": 2
}
