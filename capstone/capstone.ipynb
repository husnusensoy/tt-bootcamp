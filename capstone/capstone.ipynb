{
  "nbformat": 4,
  "nbformat_minor": 0,
  "metadata": {
    "colab": {
      "provenance": [],
      "machine_shape": "hm",
      "gpuType": "L4"
    },
    "kernelspec": {
      "name": "python3",
      "display_name": "Python 3"
    },
    "language_info": {
      "name": "python"
    },
    "accelerator": "GPU"
  },
  "cells": [
    {
      "cell_type": "code",
      "source": [
        "import polars as pl\n",
        "import matplotlib.pyplot as plt\n",
        "import seaborn as sns\n",
        "import pandas as pd\n",
        "import warnings\n",
        "warnings.filterwarnings(\"ignore\")"
      ],
      "metadata": {
        "id": "SNY8QZqEKUnq"
      },
      "execution_count": 2,
      "outputs": []
    },
    {
      "cell_type": "markdown",
      "source": [
        "# modelleme kütüphaneleri"
      ],
      "metadata": {
        "id": "hXv5GZxShKH1"
      }
    },
    {
      "cell_type": "code",
      "source": [
        "from sklearn.model_selection import train_test_split\n"
      ],
      "metadata": {
        "id": "3eec99L-hJrQ"
      },
      "execution_count": 2,
      "outputs": []
    },
    {
      "cell_type": "code",
      "source": [
        "from psutil import virtual_memory\n",
        "ram_gb = virtual_memory().total / 1e9\n",
        "print('Your runtime has {:.1f} gigabytes of available RAM\\n'.format(ram_gb))\n",
        "\n",
        "if ram_gb < 20:\n",
        "  print('Not using a high-RAM runtime')\n",
        "else:\n",
        "  print('You are using a high-RAM runtime!')"
      ],
      "metadata": {
        "colab": {
          "base_uri": "https://localhost:8080/"
        },
        "id": "iD1Zb1IFUd3R",
        "outputId": "7f65e20e-6a36-4845-e69c-252a9495c0f3"
      },
      "execution_count": 3,
      "outputs": [
        {
          "output_type": "stream",
          "name": "stdout",
          "text": [
            "Your runtime has 56.9 gigabytes of available RAM\n",
            "\n",
            "You are using a high-RAM runtime!\n"
          ]
        }
      ]
    },
    {
      "cell_type": "code",
      "execution_count": 58,
      "metadata": {
        "colab": {
          "base_uri": "https://localhost:8080/"
        },
        "id": "hEDhTaxMUTPy",
        "outputId": "958a5a08-667b-470b-f2fd-80741109f89b"
      },
      "outputs": [
        {
          "output_type": "stream",
          "name": "stdout",
          "text": [
            "/content/drive/MyDrive/veri seti-tt/capstone/capstone.1.jsonl\n",
            "/content/drive/MyDrive/veri seti-tt/capstone/capstone.2.jsonl\n",
            "/content/drive/MyDrive/veri seti-tt/capstone/capstone.3.jsonl\n",
            "/content/drive/MyDrive/veri seti-tt/capstone/capstone.4.jsonl\n",
            "/content/drive/MyDrive/veri seti-tt/capstone/capstone.5.jsonl\n",
            "/content/drive/MyDrive/veri seti-tt/capstone/capstone.6.jsonl\n",
            "/content/drive/MyDrive/veri seti-tt/capstone/capstone.7.jsonl\n",
            "/content/drive/MyDrive/veri seti-tt/capstone/capstone.8.jsonl\n",
            "/content/drive/MyDrive/veri seti-tt/capstone/capstone.9.jsonl\n",
            "/content/drive/MyDrive/veri seti-tt/capstone/capstone.10.jsonl\n"
          ]
        }
      ],
      "source": [
        "path_files= [\"/content/drive/MyDrive/veri seti-tt/capstone/capstone.1.jsonl\", \"/content/drive/MyDrive/veri seti-tt/capstone/capstone.2.jsonl\",\"/content/drive/MyDrive/veri seti-tt/capstone/capstone.3.jsonl\", \"/content/drive/MyDrive/veri seti-tt/capstone/capstone.4.jsonl\", \"/content/drive/MyDrive/veri seti-tt/capstone/capstone.5.jsonl\", \"/content/drive/MyDrive/veri seti-tt/capstone/capstone.6.jsonl\" , \"/content/drive/MyDrive/veri seti-tt/capstone/capstone.7.jsonl\", \"/content/drive/MyDrive/veri seti-tt/capstone/capstone.8.jsonl\", \"/content/drive/MyDrive/veri seti-tt/capstone/capstone.9.jsonl\", \"/content/drive/MyDrive/veri seti-tt/capstone/capstone.10.jsonl\"]\n",
        "for i in path_files:\n",
        "  print(i)"
      ]
    },
    {
      "cell_type": "code",
      "source": [
        "dfs = [pl.read_ndjson(fp) for fp in path_files]"
      ],
      "metadata": {
        "id": "q7x50tLJUonz"
      },
      "execution_count": 59,
      "outputs": []
    },
    {
      "cell_type": "code",
      "source": [
        "df_polars = pl.concat(dfs, how=\"vertical\")"
      ],
      "metadata": {
        "id": "xuq8maGsXaWz"
      },
      "execution_count": 60,
      "outputs": []
    },
    {
      "cell_type": "code",
      "source": [
        "df=df_polars.to_pandas()"
      ],
      "metadata": {
        "id": "PRmoFGIicoE7"
      },
      "execution_count": 61,
      "outputs": []
    },
    {
      "cell_type": "code",
      "source": [
        "df.to_csv(\"df_concat.csv\")"
      ],
      "metadata": {
        "id": "-Nm_CbdpVCL9"
      },
      "execution_count": 62,
      "outputs": []
    },
    {
      "cell_type": "markdown",
      "source": [
        "# pandas"
      ],
      "metadata": {
        "id": "X8ks3VScRBtS"
      }
    },
    {
      "cell_type": "code",
      "source": [
        "df = pd.read_csv(\"/content/df_concat.csv\")"
      ],
      "metadata": {
        "id": "Rqz0yjB_Xsqa"
      },
      "execution_count": 90,
      "outputs": []
    },
    {
      "cell_type": "code",
      "source": [
        "train_df, temp_df = train_test_split(df, test_size=0.2, random_state=42)\n",
        "\n",
        "val_df, test_df = train_test_split(temp_df, test_size=0.5, random_state=42)\n"
      ],
      "metadata": {
        "id": "vEkJP-GghIJ3"
      },
      "execution_count": 91,
      "outputs": []
    },
    {
      "cell_type": "code",
      "source": [
        "train_df.to_csv(\"train_df.csv\")\n",
        "val_df.to_csv(\"val_df.csv\")\n",
        "test_df.to_csv(\"test_df.csv\")"
      ],
      "metadata": {
        "id": "I46tgy-EB9xg"
      },
      "execution_count": 92,
      "outputs": []
    },
    {
      "cell_type": "code",
      "source": [
        "df = train_df.copy()\n",
        "val_df2 = val_df.copy()\n"
      ],
      "metadata": {
        "id": "d5vPwEjchy5W"
      },
      "execution_count": 93,
      "outputs": []
    },
    {
      "cell_type": "code",
      "source": [
        "val_df = val_df2.copy()"
      ],
      "metadata": {
        "id": "Lg6fjbYzKOkt"
      },
      "execution_count": 114,
      "outputs": []
    },
    {
      "cell_type": "code",
      "source": [
        "test_df  = pd.read_csv(\"/content/test_df.csv\")"
      ],
      "metadata": {
        "id": "ovvXhMO-X5i2"
      },
      "execution_count": 113,
      "outputs": []
    },
    {
      "cell_type": "code",
      "source": [
        "val_df.churn.value_counts()"
      ],
      "metadata": {
        "colab": {
          "base_uri": "https://localhost:8080/",
          "height": 178
        },
        "id": "lSx3uVVjZwPZ",
        "outputId": "64b334f2-1c10-4124-9b32-5fc1d66ae377"
      },
      "execution_count": 103,
      "outputs": [
        {
          "output_type": "execute_result",
          "data": {
            "text/plain": [
              "churn\n",
              "False    986679\n",
              "True      13321\n",
              "Name: count, dtype: int64"
            ],
            "text/html": [
              "<div>\n",
              "<style scoped>\n",
              "    .dataframe tbody tr th:only-of-type {\n",
              "        vertical-align: middle;\n",
              "    }\n",
              "\n",
              "    .dataframe tbody tr th {\n",
              "        vertical-align: top;\n",
              "    }\n",
              "\n",
              "    .dataframe thead th {\n",
              "        text-align: right;\n",
              "    }\n",
              "</style>\n",
              "<table border=\"1\" class=\"dataframe\">\n",
              "  <thead>\n",
              "    <tr style=\"text-align: right;\">\n",
              "      <th></th>\n",
              "      <th>count</th>\n",
              "    </tr>\n",
              "    <tr>\n",
              "      <th>churn</th>\n",
              "      <th></th>\n",
              "    </tr>\n",
              "  </thead>\n",
              "  <tbody>\n",
              "    <tr>\n",
              "      <th>False</th>\n",
              "      <td>986679</td>\n",
              "    </tr>\n",
              "    <tr>\n",
              "      <th>True</th>\n",
              "      <td>13321</td>\n",
              "    </tr>\n",
              "  </tbody>\n",
              "</table>\n",
              "</div><br><label><b>dtype:</b> int64</label>"
            ]
          },
          "metadata": {},
          "execution_count": 103
        }
      ]
    },
    {
      "cell_type": "code",
      "source": [
        "df.info()"
      ],
      "metadata": {
        "colab": {
          "base_uri": "https://localhost:8080/"
        },
        "id": "cCeY4zu3YScr",
        "outputId": "996d9114-013f-4029-d04e-7490cbe932a9"
      },
      "execution_count": 105,
      "outputs": [
        {
          "output_type": "stream",
          "name": "stdout",
          "text": [
            "<class 'pandas.core.frame.DataFrame'>\n",
            "Index: 8000000 entries, 3525669 to 6423388\n",
            "Data columns (total 17 columns):\n",
            " #   Column                  Dtype  \n",
            "---  ------                  -----  \n",
            " 0   Unnamed: 0              int64  \n",
            " 1   id                      object \n",
            " 2   age                     int64  \n",
            " 3   tenure                  float64\n",
            " 4   service_type            object \n",
            " 5   avg_call_duration       float64\n",
            " 6   data_usage              float64\n",
            " 7   roaming_usage           float64\n",
            " 8   monthly_charge          float64\n",
            " 9   overdue_payments        int64  \n",
            " 10  auto_payment            object \n",
            " 11  avg_top_up_count        int64  \n",
            " 12  call_drops              float64\n",
            " 13  customer_support_calls  int64  \n",
            " 14  satisfaction_score      float64\n",
            " 15  apps                    object \n",
            " 16  churn                   bool   \n",
            "dtypes: bool(1), float64(7), int64(5), object(4)\n",
            "memory usage: 1.0+ GB\n"
          ]
        }
      ]
    },
    {
      "cell_type": "code",
      "source": [
        "df.select_dtypes(include=['number']).corr()\n"
      ],
      "metadata": {
        "colab": {
          "base_uri": "https://localhost:8080/",
          "height": 463
        },
        "id": "4kdmVI0Po8vx",
        "outputId": "9cda6160-d635-49bb-b06a-6124882809ae"
      },
      "execution_count": 37,
      "outputs": [
        {
          "output_type": "execute_result",
          "data": {
            "text/plain": [
              "                        Unnamed: 0       age    tenure  avg_call_duration  \\\n",
              "Unnamed: 0                1.000000 -0.000071  0.000334          -0.000353   \n",
              "age                      -0.000071  1.000000  0.171404          -0.000556   \n",
              "tenure                    0.000334  0.171404  1.000000          -0.000122   \n",
              "avg_call_duration        -0.000353 -0.000556 -0.000122           1.000000   \n",
              "data_usage               -0.000405  0.000522 -0.000051          -0.000380   \n",
              "roaming_usage             0.000519 -0.000075  0.000013           0.001218   \n",
              "monthly_charge            0.000528 -0.351179 -0.035683          -0.000317   \n",
              "overdue_payments          0.000131  0.367916  0.037335          -0.000219   \n",
              "avg_top_up_count          0.000360 -0.477504 -0.048827           0.000780   \n",
              "call_drops                0.000166  0.000525  0.000268           0.000014   \n",
              "customer_support_calls   -0.000151 -0.000081  0.000116          -0.000758   \n",
              "satisfaction_score       -0.000033  0.000465 -0.000093          -0.000017   \n",
              "\n",
              "                        data_usage  roaming_usage  monthly_charge  \\\n",
              "Unnamed: 0               -0.000405       0.000519        0.000528   \n",
              "age                       0.000522      -0.000075       -0.351179   \n",
              "tenure                   -0.000051       0.000013       -0.035683   \n",
              "avg_call_duration        -0.000380       0.001218       -0.000317   \n",
              "data_usage                1.000000       0.000133       -0.000315   \n",
              "roaming_usage             0.000133       1.000000        0.000045   \n",
              "monthly_charge           -0.000315       0.000045        1.000000   \n",
              "overdue_payments          0.000949      -0.000475       -0.398875   \n",
              "avg_top_up_count         -0.000993       0.000070        0.518872   \n",
              "call_drops               -0.000048      -0.000387       -0.000201   \n",
              "customer_support_calls    0.000055      -0.000477       -0.000156   \n",
              "satisfaction_score       -0.000329       0.000690        0.000114   \n",
              "\n",
              "                        overdue_payments  avg_top_up_count  call_drops  \\\n",
              "Unnamed: 0                      0.000131          0.000360    0.000166   \n",
              "age                             0.367916         -0.477504    0.000525   \n",
              "tenure                          0.037335         -0.048827    0.000268   \n",
              "avg_call_duration              -0.000219          0.000780    0.000014   \n",
              "data_usage                      0.000949         -0.000993   -0.000048   \n",
              "roaming_usage                  -0.000475          0.000070   -0.000387   \n",
              "monthly_charge                 -0.398875          0.518872   -0.000201   \n",
              "overdue_payments                1.000000         -0.542364    0.000196   \n",
              "avg_top_up_count               -0.542364          1.000000   -0.000714   \n",
              "call_drops                      0.000196         -0.000714    1.000000   \n",
              "customer_support_calls          0.000245         -0.000338    0.000774   \n",
              "satisfaction_score              0.000113         -0.000091    0.000058   \n",
              "\n",
              "                        customer_support_calls  satisfaction_score  \n",
              "Unnamed: 0                           -0.000151           -0.000033  \n",
              "age                                  -0.000081            0.000465  \n",
              "tenure                                0.000116           -0.000093  \n",
              "avg_call_duration                    -0.000758           -0.000017  \n",
              "data_usage                            0.000055           -0.000329  \n",
              "roaming_usage                        -0.000477            0.000690  \n",
              "monthly_charge                       -0.000156            0.000114  \n",
              "overdue_payments                      0.000245            0.000113  \n",
              "avg_top_up_count                     -0.000338           -0.000091  \n",
              "call_drops                            0.000774            0.000058  \n",
              "customer_support_calls                1.000000           -0.000331  \n",
              "satisfaction_score                   -0.000331            1.000000  "
            ],
            "text/html": [
              "\n",
              "  <div id=\"df-89951fdb-8660-486b-95c5-285059c97cfc\" class=\"colab-df-container\">\n",
              "    <div>\n",
              "<style scoped>\n",
              "    .dataframe tbody tr th:only-of-type {\n",
              "        vertical-align: middle;\n",
              "    }\n",
              "\n",
              "    .dataframe tbody tr th {\n",
              "        vertical-align: top;\n",
              "    }\n",
              "\n",
              "    .dataframe thead th {\n",
              "        text-align: right;\n",
              "    }\n",
              "</style>\n",
              "<table border=\"1\" class=\"dataframe\">\n",
              "  <thead>\n",
              "    <tr style=\"text-align: right;\">\n",
              "      <th></th>\n",
              "      <th>Unnamed: 0</th>\n",
              "      <th>age</th>\n",
              "      <th>tenure</th>\n",
              "      <th>avg_call_duration</th>\n",
              "      <th>data_usage</th>\n",
              "      <th>roaming_usage</th>\n",
              "      <th>monthly_charge</th>\n",
              "      <th>overdue_payments</th>\n",
              "      <th>avg_top_up_count</th>\n",
              "      <th>call_drops</th>\n",
              "      <th>customer_support_calls</th>\n",
              "      <th>satisfaction_score</th>\n",
              "    </tr>\n",
              "  </thead>\n",
              "  <tbody>\n",
              "    <tr>\n",
              "      <th>Unnamed: 0</th>\n",
              "      <td>1.000000</td>\n",
              "      <td>-0.000071</td>\n",
              "      <td>0.000334</td>\n",
              "      <td>-0.000353</td>\n",
              "      <td>-0.000405</td>\n",
              "      <td>0.000519</td>\n",
              "      <td>0.000528</td>\n",
              "      <td>0.000131</td>\n",
              "      <td>0.000360</td>\n",
              "      <td>0.000166</td>\n",
              "      <td>-0.000151</td>\n",
              "      <td>-0.000033</td>\n",
              "    </tr>\n",
              "    <tr>\n",
              "      <th>age</th>\n",
              "      <td>-0.000071</td>\n",
              "      <td>1.000000</td>\n",
              "      <td>0.171404</td>\n",
              "      <td>-0.000556</td>\n",
              "      <td>0.000522</td>\n",
              "      <td>-0.000075</td>\n",
              "      <td>-0.351179</td>\n",
              "      <td>0.367916</td>\n",
              "      <td>-0.477504</td>\n",
              "      <td>0.000525</td>\n",
              "      <td>-0.000081</td>\n",
              "      <td>0.000465</td>\n",
              "    </tr>\n",
              "    <tr>\n",
              "      <th>tenure</th>\n",
              "      <td>0.000334</td>\n",
              "      <td>0.171404</td>\n",
              "      <td>1.000000</td>\n",
              "      <td>-0.000122</td>\n",
              "      <td>-0.000051</td>\n",
              "      <td>0.000013</td>\n",
              "      <td>-0.035683</td>\n",
              "      <td>0.037335</td>\n",
              "      <td>-0.048827</td>\n",
              "      <td>0.000268</td>\n",
              "      <td>0.000116</td>\n",
              "      <td>-0.000093</td>\n",
              "    </tr>\n",
              "    <tr>\n",
              "      <th>avg_call_duration</th>\n",
              "      <td>-0.000353</td>\n",
              "      <td>-0.000556</td>\n",
              "      <td>-0.000122</td>\n",
              "      <td>1.000000</td>\n",
              "      <td>-0.000380</td>\n",
              "      <td>0.001218</td>\n",
              "      <td>-0.000317</td>\n",
              "      <td>-0.000219</td>\n",
              "      <td>0.000780</td>\n",
              "      <td>0.000014</td>\n",
              "      <td>-0.000758</td>\n",
              "      <td>-0.000017</td>\n",
              "    </tr>\n",
              "    <tr>\n",
              "      <th>data_usage</th>\n",
              "      <td>-0.000405</td>\n",
              "      <td>0.000522</td>\n",
              "      <td>-0.000051</td>\n",
              "      <td>-0.000380</td>\n",
              "      <td>1.000000</td>\n",
              "      <td>0.000133</td>\n",
              "      <td>-0.000315</td>\n",
              "      <td>0.000949</td>\n",
              "      <td>-0.000993</td>\n",
              "      <td>-0.000048</td>\n",
              "      <td>0.000055</td>\n",
              "      <td>-0.000329</td>\n",
              "    </tr>\n",
              "    <tr>\n",
              "      <th>roaming_usage</th>\n",
              "      <td>0.000519</td>\n",
              "      <td>-0.000075</td>\n",
              "      <td>0.000013</td>\n",
              "      <td>0.001218</td>\n",
              "      <td>0.000133</td>\n",
              "      <td>1.000000</td>\n",
              "      <td>0.000045</td>\n",
              "      <td>-0.000475</td>\n",
              "      <td>0.000070</td>\n",
              "      <td>-0.000387</td>\n",
              "      <td>-0.000477</td>\n",
              "      <td>0.000690</td>\n",
              "    </tr>\n",
              "    <tr>\n",
              "      <th>monthly_charge</th>\n",
              "      <td>0.000528</td>\n",
              "      <td>-0.351179</td>\n",
              "      <td>-0.035683</td>\n",
              "      <td>-0.000317</td>\n",
              "      <td>-0.000315</td>\n",
              "      <td>0.000045</td>\n",
              "      <td>1.000000</td>\n",
              "      <td>-0.398875</td>\n",
              "      <td>0.518872</td>\n",
              "      <td>-0.000201</td>\n",
              "      <td>-0.000156</td>\n",
              "      <td>0.000114</td>\n",
              "    </tr>\n",
              "    <tr>\n",
              "      <th>overdue_payments</th>\n",
              "      <td>0.000131</td>\n",
              "      <td>0.367916</td>\n",
              "      <td>0.037335</td>\n",
              "      <td>-0.000219</td>\n",
              "      <td>0.000949</td>\n",
              "      <td>-0.000475</td>\n",
              "      <td>-0.398875</td>\n",
              "      <td>1.000000</td>\n",
              "      <td>-0.542364</td>\n",
              "      <td>0.000196</td>\n",
              "      <td>0.000245</td>\n",
              "      <td>0.000113</td>\n",
              "    </tr>\n",
              "    <tr>\n",
              "      <th>avg_top_up_count</th>\n",
              "      <td>0.000360</td>\n",
              "      <td>-0.477504</td>\n",
              "      <td>-0.048827</td>\n",
              "      <td>0.000780</td>\n",
              "      <td>-0.000993</td>\n",
              "      <td>0.000070</td>\n",
              "      <td>0.518872</td>\n",
              "      <td>-0.542364</td>\n",
              "      <td>1.000000</td>\n",
              "      <td>-0.000714</td>\n",
              "      <td>-0.000338</td>\n",
              "      <td>-0.000091</td>\n",
              "    </tr>\n",
              "    <tr>\n",
              "      <th>call_drops</th>\n",
              "      <td>0.000166</td>\n",
              "      <td>0.000525</td>\n",
              "      <td>0.000268</td>\n",
              "      <td>0.000014</td>\n",
              "      <td>-0.000048</td>\n",
              "      <td>-0.000387</td>\n",
              "      <td>-0.000201</td>\n",
              "      <td>0.000196</td>\n",
              "      <td>-0.000714</td>\n",
              "      <td>1.000000</td>\n",
              "      <td>0.000774</td>\n",
              "      <td>0.000058</td>\n",
              "    </tr>\n",
              "    <tr>\n",
              "      <th>customer_support_calls</th>\n",
              "      <td>-0.000151</td>\n",
              "      <td>-0.000081</td>\n",
              "      <td>0.000116</td>\n",
              "      <td>-0.000758</td>\n",
              "      <td>0.000055</td>\n",
              "      <td>-0.000477</td>\n",
              "      <td>-0.000156</td>\n",
              "      <td>0.000245</td>\n",
              "      <td>-0.000338</td>\n",
              "      <td>0.000774</td>\n",
              "      <td>1.000000</td>\n",
              "      <td>-0.000331</td>\n",
              "    </tr>\n",
              "    <tr>\n",
              "      <th>satisfaction_score</th>\n",
              "      <td>-0.000033</td>\n",
              "      <td>0.000465</td>\n",
              "      <td>-0.000093</td>\n",
              "      <td>-0.000017</td>\n",
              "      <td>-0.000329</td>\n",
              "      <td>0.000690</td>\n",
              "      <td>0.000114</td>\n",
              "      <td>0.000113</td>\n",
              "      <td>-0.000091</td>\n",
              "      <td>0.000058</td>\n",
              "      <td>-0.000331</td>\n",
              "      <td>1.000000</td>\n",
              "    </tr>\n",
              "  </tbody>\n",
              "</table>\n",
              "</div>\n",
              "    <div class=\"colab-df-buttons\">\n",
              "\n",
              "  <div class=\"colab-df-container\">\n",
              "    <button class=\"colab-df-convert\" onclick=\"convertToInteractive('df-89951fdb-8660-486b-95c5-285059c97cfc')\"\n",
              "            title=\"Convert this dataframe to an interactive table.\"\n",
              "            style=\"display:none;\">\n",
              "\n",
              "  <svg xmlns=\"http://www.w3.org/2000/svg\" height=\"24px\" viewBox=\"0 -960 960 960\">\n",
              "    <path d=\"M120-120v-720h720v720H120Zm60-500h600v-160H180v160Zm220 220h160v-160H400v160Zm0 220h160v-160H400v160ZM180-400h160v-160H180v160Zm440 0h160v-160H620v160ZM180-180h160v-160H180v160Zm440 0h160v-160H620v160Z\"/>\n",
              "  </svg>\n",
              "    </button>\n",
              "\n",
              "  <style>\n",
              "    .colab-df-container {\n",
              "      display:flex;\n",
              "      gap: 12px;\n",
              "    }\n",
              "\n",
              "    .colab-df-convert {\n",
              "      background-color: #E8F0FE;\n",
              "      border: none;\n",
              "      border-radius: 50%;\n",
              "      cursor: pointer;\n",
              "      display: none;\n",
              "      fill: #1967D2;\n",
              "      height: 32px;\n",
              "      padding: 0 0 0 0;\n",
              "      width: 32px;\n",
              "    }\n",
              "\n",
              "    .colab-df-convert:hover {\n",
              "      background-color: #E2EBFA;\n",
              "      box-shadow: 0px 1px 2px rgba(60, 64, 67, 0.3), 0px 1px 3px 1px rgba(60, 64, 67, 0.15);\n",
              "      fill: #174EA6;\n",
              "    }\n",
              "\n",
              "    .colab-df-buttons div {\n",
              "      margin-bottom: 4px;\n",
              "    }\n",
              "\n",
              "    [theme=dark] .colab-df-convert {\n",
              "      background-color: #3B4455;\n",
              "      fill: #D2E3FC;\n",
              "    }\n",
              "\n",
              "    [theme=dark] .colab-df-convert:hover {\n",
              "      background-color: #434B5C;\n",
              "      box-shadow: 0px 1px 3px 1px rgba(0, 0, 0, 0.15);\n",
              "      filter: drop-shadow(0px 1px 2px rgba(0, 0, 0, 0.3));\n",
              "      fill: #FFFFFF;\n",
              "    }\n",
              "  </style>\n",
              "\n",
              "    <script>\n",
              "      const buttonEl =\n",
              "        document.querySelector('#df-89951fdb-8660-486b-95c5-285059c97cfc button.colab-df-convert');\n",
              "      buttonEl.style.display =\n",
              "        google.colab.kernel.accessAllowed ? 'block' : 'none';\n",
              "\n",
              "      async function convertToInteractive(key) {\n",
              "        const element = document.querySelector('#df-89951fdb-8660-486b-95c5-285059c97cfc');\n",
              "        const dataTable =\n",
              "          await google.colab.kernel.invokeFunction('convertToInteractive',\n",
              "                                                    [key], {});\n",
              "        if (!dataTable) return;\n",
              "\n",
              "        const docLinkHtml = 'Like what you see? Visit the ' +\n",
              "          '<a target=\"_blank\" href=https://colab.research.google.com/notebooks/data_table.ipynb>data table notebook</a>'\n",
              "          + ' to learn more about interactive tables.';\n",
              "        element.innerHTML = '';\n",
              "        dataTable['output_type'] = 'display_data';\n",
              "        await google.colab.output.renderOutput(dataTable, element);\n",
              "        const docLink = document.createElement('div');\n",
              "        docLink.innerHTML = docLinkHtml;\n",
              "        element.appendChild(docLink);\n",
              "      }\n",
              "    </script>\n",
              "  </div>\n",
              "\n",
              "\n",
              "<div id=\"df-eb96c8c0-a608-4cbc-904f-2f2ad4a1e8a9\">\n",
              "  <button class=\"colab-df-quickchart\" onclick=\"quickchart('df-eb96c8c0-a608-4cbc-904f-2f2ad4a1e8a9')\"\n",
              "            title=\"Suggest charts\"\n",
              "            style=\"display:none;\">\n",
              "\n",
              "<svg xmlns=\"http://www.w3.org/2000/svg\" height=\"24px\"viewBox=\"0 0 24 24\"\n",
              "     width=\"24px\">\n",
              "    <g>\n",
              "        <path d=\"M19 3H5c-1.1 0-2 .9-2 2v14c0 1.1.9 2 2 2h14c1.1 0 2-.9 2-2V5c0-1.1-.9-2-2-2zM9 17H7v-7h2v7zm4 0h-2V7h2v10zm4 0h-2v-4h2v4z\"/>\n",
              "    </g>\n",
              "</svg>\n",
              "  </button>\n",
              "\n",
              "<style>\n",
              "  .colab-df-quickchart {\n",
              "      --bg-color: #E8F0FE;\n",
              "      --fill-color: #1967D2;\n",
              "      --hover-bg-color: #E2EBFA;\n",
              "      --hover-fill-color: #174EA6;\n",
              "      --disabled-fill-color: #AAA;\n",
              "      --disabled-bg-color: #DDD;\n",
              "  }\n",
              "\n",
              "  [theme=dark] .colab-df-quickchart {\n",
              "      --bg-color: #3B4455;\n",
              "      --fill-color: #D2E3FC;\n",
              "      --hover-bg-color: #434B5C;\n",
              "      --hover-fill-color: #FFFFFF;\n",
              "      --disabled-bg-color: #3B4455;\n",
              "      --disabled-fill-color: #666;\n",
              "  }\n",
              "\n",
              "  .colab-df-quickchart {\n",
              "    background-color: var(--bg-color);\n",
              "    border: none;\n",
              "    border-radius: 50%;\n",
              "    cursor: pointer;\n",
              "    display: none;\n",
              "    fill: var(--fill-color);\n",
              "    height: 32px;\n",
              "    padding: 0;\n",
              "    width: 32px;\n",
              "  }\n",
              "\n",
              "  .colab-df-quickchart:hover {\n",
              "    background-color: var(--hover-bg-color);\n",
              "    box-shadow: 0 1px 2px rgba(60, 64, 67, 0.3), 0 1px 3px 1px rgba(60, 64, 67, 0.15);\n",
              "    fill: var(--button-hover-fill-color);\n",
              "  }\n",
              "\n",
              "  .colab-df-quickchart-complete:disabled,\n",
              "  .colab-df-quickchart-complete:disabled:hover {\n",
              "    background-color: var(--disabled-bg-color);\n",
              "    fill: var(--disabled-fill-color);\n",
              "    box-shadow: none;\n",
              "  }\n",
              "\n",
              "  .colab-df-spinner {\n",
              "    border: 2px solid var(--fill-color);\n",
              "    border-color: transparent;\n",
              "    border-bottom-color: var(--fill-color);\n",
              "    animation:\n",
              "      spin 1s steps(1) infinite;\n",
              "  }\n",
              "\n",
              "  @keyframes spin {\n",
              "    0% {\n",
              "      border-color: transparent;\n",
              "      border-bottom-color: var(--fill-color);\n",
              "      border-left-color: var(--fill-color);\n",
              "    }\n",
              "    20% {\n",
              "      border-color: transparent;\n",
              "      border-left-color: var(--fill-color);\n",
              "      border-top-color: var(--fill-color);\n",
              "    }\n",
              "    30% {\n",
              "      border-color: transparent;\n",
              "      border-left-color: var(--fill-color);\n",
              "      border-top-color: var(--fill-color);\n",
              "      border-right-color: var(--fill-color);\n",
              "    }\n",
              "    40% {\n",
              "      border-color: transparent;\n",
              "      border-right-color: var(--fill-color);\n",
              "      border-top-color: var(--fill-color);\n",
              "    }\n",
              "    60% {\n",
              "      border-color: transparent;\n",
              "      border-right-color: var(--fill-color);\n",
              "    }\n",
              "    80% {\n",
              "      border-color: transparent;\n",
              "      border-right-color: var(--fill-color);\n",
              "      border-bottom-color: var(--fill-color);\n",
              "    }\n",
              "    90% {\n",
              "      border-color: transparent;\n",
              "      border-bottom-color: var(--fill-color);\n",
              "    }\n",
              "  }\n",
              "</style>\n",
              "\n",
              "  <script>\n",
              "    async function quickchart(key) {\n",
              "      const quickchartButtonEl =\n",
              "        document.querySelector('#' + key + ' button');\n",
              "      quickchartButtonEl.disabled = true;  // To prevent multiple clicks.\n",
              "      quickchartButtonEl.classList.add('colab-df-spinner');\n",
              "      try {\n",
              "        const charts = await google.colab.kernel.invokeFunction(\n",
              "            'suggestCharts', [key], {});\n",
              "      } catch (error) {\n",
              "        console.error('Error during call to suggestCharts:', error);\n",
              "      }\n",
              "      quickchartButtonEl.classList.remove('colab-df-spinner');\n",
              "      quickchartButtonEl.classList.add('colab-df-quickchart-complete');\n",
              "    }\n",
              "    (() => {\n",
              "      let quickchartButtonEl =\n",
              "        document.querySelector('#df-eb96c8c0-a608-4cbc-904f-2f2ad4a1e8a9 button');\n",
              "      quickchartButtonEl.style.display =\n",
              "        google.colab.kernel.accessAllowed ? 'block' : 'none';\n",
              "    })();\n",
              "  </script>\n",
              "</div>\n",
              "\n",
              "    </div>\n",
              "  </div>\n"
            ],
            "application/vnd.google.colaboratory.intrinsic+json": {
              "type": "dataframe",
              "summary": "{\n  \"name\": \"df\",\n  \"rows\": 12,\n  \"fields\": [\n    {\n      \"column\": \"Unnamed: 0\",\n      \"properties\": {\n        \"dtype\": \"number\",\n        \"std\": 0.28864841640496747,\n        \"min\": -0.0004046945678864358,\n        \"max\": 1.0,\n        \"num_unique_values\": 12,\n        \"samples\": [\n          -0.00015074618862258548,\n          0.0001657318433804386,\n          1.0\n        ],\n        \"semantic_type\": \"\",\n        \"description\": \"\"\n      }\n    },\n    {\n      \"column\": \"age\",\n      \"properties\": {\n        \"dtype\": \"number\",\n        \"std\": 0.3660488275032098,\n        \"min\": -0.4775037126708049,\n        \"max\": 1.0,\n        \"num_unique_values\": 12,\n        \"samples\": [\n          -8.138273818595162e-05,\n          0.0005248953282198141,\n          -7.097927599339162e-05\n        ],\n        \"semantic_type\": \"\",\n        \"description\": \"\"\n      }\n    },\n    {\n      \"column\": \"tenure\",\n      \"properties\": {\n        \"dtype\": \"number\",\n        \"std\": 0.29061367756813167,\n        \"min\": -0.04882679043887572,\n        \"max\": 1.0,\n        \"num_unique_values\": 12,\n        \"samples\": [\n          0.00011608483307383276,\n          0.0002681381777086498,\n          0.00033377003736286855\n        ],\n        \"semantic_type\": \"\",\n        \"description\": \"\"\n      }\n    },\n    {\n      \"column\": \"avg_call_duration\",\n      \"properties\": {\n        \"dtype\": \"number\",\n        \"std\": 0.2886942784441566,\n        \"min\": -0.0007579866736914599,\n        \"max\": 1.0,\n        \"num_unique_values\": 12,\n        \"samples\": [\n          -0.0007579866736914599,\n          1.4142805618279072e-05,\n          -0.00035332108534287694\n        ],\n        \"semantic_type\": \"\",\n        \"description\": \"\"\n      }\n    },\n    {\n      \"column\": \"data_usage\",\n      \"properties\": {\n        \"dtype\": \"number\",\n        \"std\": 0.2886981599041536,\n        \"min\": -0.0009931161270660446,\n        \"max\": 1.0,\n        \"num_unique_values\": 12,\n        \"samples\": [\n          5.471194022262357e-05,\n          -4.782149194268088e-05,\n          -0.0004046945678864358\n        ],\n        \"semantic_type\": \"\",\n        \"description\": \"\"\n      }\n    },\n    {\n      \"column\": \"roaming_usage\",\n      \"properties\": {\n        \"dtype\": \"number\",\n        \"std\": 0.28864214804737404,\n        \"min\": -0.0004767368130196126,\n        \"max\": 1.0,\n        \"num_unique_values\": 12,\n        \"samples\": [\n          -0.0004767368130196126,\n          -0.0003870037186308826,\n          0.0005186952236614345\n        ],\n        \"semantic_type\": \"\",\n        \"description\": \"\"\n      }\n    },\n    {\n      \"column\": \"monthly_charge\",\n      \"properties\": {\n        \"dtype\": \"number\",\n        \"std\": 0.37027963238726896,\n        \"min\": -0.3988752457112826,\n        \"max\": 1.0,\n        \"num_unique_values\": 12,\n        \"samples\": [\n          -0.00015572194217975543,\n          -0.0002005557444646199,\n          0.000528015740790324\n        ],\n        \"semantic_type\": \"\",\n        \"description\": \"\"\n      }\n    },\n    {\n      \"column\": \"overdue_payments\",\n      \"properties\": {\n        \"dtype\": \"number\",\n        \"std\": 0.37803340939861185,\n        \"min\": -0.5423635360275844,\n        \"max\": 1.0,\n        \"num_unique_values\": 12,\n        \"samples\": [\n          0.00024456509852469055,\n          0.00019558970290316138,\n          0.00013105357136384456\n        ],\n        \"semantic_type\": \"\",\n        \"description\": \"\"\n      }\n    },\n    {\n      \"column\": \"avg_top_up_count\",\n      \"properties\": {\n        \"dtype\": \"number\",\n        \"std\": 0.4019231174245098,\n        \"min\": -0.5423635360275844,\n        \"max\": 1.0,\n        \"num_unique_values\": 12,\n        \"samples\": [\n          -0.00033803245963114813,\n          -0.0007141160682777986,\n          0.0003595552312201482\n        ],\n        \"semantic_type\": \"\",\n        \"description\": \"\"\n      }\n    },\n    {\n      \"column\": \"call_drops\",\n      \"properties\": {\n        \"dtype\": \"number\",\n        \"std\": 0.28865831134491343,\n        \"min\": -0.0007141160682777986,\n        \"max\": 1.0,\n        \"num_unique_values\": 12,\n        \"samples\": [\n          0.0007737061302996922,\n          1.0,\n          0.0001657318433804386\n        ],\n        \"semantic_type\": \"\",\n        \"description\": \"\"\n      }\n    },\n    {\n      \"column\": \"customer_support_calls\",\n      \"properties\": {\n        \"dtype\": \"number\",\n        \"std\": 0.2887043296974734,\n        \"min\": -0.0007579866736914599,\n        \"max\": 1.0,\n        \"num_unique_values\": 12,\n        \"samples\": [\n          1.0,\n          0.0007737061302996922,\n          -0.00015074618862258548\n        ],\n        \"semantic_type\": \"\",\n        \"description\": \"\"\n      }\n    },\n    {\n      \"column\": \"satisfaction_score\",\n      \"properties\": {\n        \"dtype\": \"number\",\n        \"std\": 0.2886609422391939,\n        \"min\": -0.00033108293734204205,\n        \"max\": 1.0,\n        \"num_unique_values\": 12,\n        \"samples\": [\n          -0.00033108293734204205,\n          5.841996798588803e-05,\n          -3.2648933792024536e-05\n        ],\n        \"semantic_type\": \"\",\n        \"description\": \"\"\n      }\n    }\n  ]\n}"
            }
          },
          "metadata": {},
          "execution_count": 37
        }
      ]
    },
    {
      "cell_type": "code",
      "source": [
        "df.isna().sum()"
      ],
      "metadata": {
        "colab": {
          "base_uri": "https://localhost:8080/",
          "height": 617
        },
        "id": "5M2Izzu0SqR2",
        "outputId": "81480145-4d2c-45e1-cbca-60fe8d118e3e"
      },
      "execution_count": 104,
      "outputs": [
        {
          "output_type": "execute_result",
          "data": {
            "text/plain": [
              "Unnamed: 0                      0\n",
              "id                              0\n",
              "age                             0\n",
              "tenure                      19866\n",
              "service_type                    0\n",
              "avg_call_duration         2931242\n",
              "data_usage                 399493\n",
              "roaming_usage             2664895\n",
              "monthly_charge             199780\n",
              "overdue_payments                0\n",
              "auto_payment              2675652\n",
              "avg_top_up_count                0\n",
              "call_drops                2664895\n",
              "customer_support_calls          0\n",
              "satisfaction_score              0\n",
              "apps                            0\n",
              "churn                           0\n",
              "dtype: int64"
            ],
            "text/html": [
              "<div>\n",
              "<style scoped>\n",
              "    .dataframe tbody tr th:only-of-type {\n",
              "        vertical-align: middle;\n",
              "    }\n",
              "\n",
              "    .dataframe tbody tr th {\n",
              "        vertical-align: top;\n",
              "    }\n",
              "\n",
              "    .dataframe thead th {\n",
              "        text-align: right;\n",
              "    }\n",
              "</style>\n",
              "<table border=\"1\" class=\"dataframe\">\n",
              "  <thead>\n",
              "    <tr style=\"text-align: right;\">\n",
              "      <th></th>\n",
              "      <th>0</th>\n",
              "    </tr>\n",
              "  </thead>\n",
              "  <tbody>\n",
              "    <tr>\n",
              "      <th>Unnamed: 0</th>\n",
              "      <td>0</td>\n",
              "    </tr>\n",
              "    <tr>\n",
              "      <th>id</th>\n",
              "      <td>0</td>\n",
              "    </tr>\n",
              "    <tr>\n",
              "      <th>age</th>\n",
              "      <td>0</td>\n",
              "    </tr>\n",
              "    <tr>\n",
              "      <th>tenure</th>\n",
              "      <td>19866</td>\n",
              "    </tr>\n",
              "    <tr>\n",
              "      <th>service_type</th>\n",
              "      <td>0</td>\n",
              "    </tr>\n",
              "    <tr>\n",
              "      <th>avg_call_duration</th>\n",
              "      <td>2931242</td>\n",
              "    </tr>\n",
              "    <tr>\n",
              "      <th>data_usage</th>\n",
              "      <td>399493</td>\n",
              "    </tr>\n",
              "    <tr>\n",
              "      <th>roaming_usage</th>\n",
              "      <td>2664895</td>\n",
              "    </tr>\n",
              "    <tr>\n",
              "      <th>monthly_charge</th>\n",
              "      <td>199780</td>\n",
              "    </tr>\n",
              "    <tr>\n",
              "      <th>overdue_payments</th>\n",
              "      <td>0</td>\n",
              "    </tr>\n",
              "    <tr>\n",
              "      <th>auto_payment</th>\n",
              "      <td>2675652</td>\n",
              "    </tr>\n",
              "    <tr>\n",
              "      <th>avg_top_up_count</th>\n",
              "      <td>0</td>\n",
              "    </tr>\n",
              "    <tr>\n",
              "      <th>call_drops</th>\n",
              "      <td>2664895</td>\n",
              "    </tr>\n",
              "    <tr>\n",
              "      <th>customer_support_calls</th>\n",
              "      <td>0</td>\n",
              "    </tr>\n",
              "    <tr>\n",
              "      <th>satisfaction_score</th>\n",
              "      <td>0</td>\n",
              "    </tr>\n",
              "    <tr>\n",
              "      <th>apps</th>\n",
              "      <td>0</td>\n",
              "    </tr>\n",
              "    <tr>\n",
              "      <th>churn</th>\n",
              "      <td>0</td>\n",
              "    </tr>\n",
              "  </tbody>\n",
              "</table>\n",
              "</div><br><label><b>dtype:</b> int64</label>"
            ]
          },
          "metadata": {},
          "execution_count": 104
        }
      ]
    },
    {
      "cell_type": "code",
      "source": [
        "broadband_nulls = df[df['service_type'] == 'Broadband'].isnull().sum()\n",
        "print(broadband_nulls[broadband_nulls > 0])\n"
      ],
      "metadata": {
        "colab": {
          "base_uri": "https://localhost:8080/"
        },
        "id": "WlsMpz4hIhJr",
        "outputId": "07a4998c-f0af-451f-d061-aacc4e0da9dc"
      },
      "execution_count": 106,
      "outputs": [
        {
          "output_type": "stream",
          "name": "stdout",
          "text": [
            "tenure                  6674\n",
            "avg_call_duration    2664895\n",
            "data_usage            133204\n",
            "roaming_usage        2664895\n",
            "monthly_charge         66709\n",
            "auto_payment            3287\n",
            "call_drops           2664895\n",
            "dtype: int64\n"
          ]
        }
      ]
    },
    {
      "cell_type": "markdown",
      "source": [
        "### service type broadbandken sesli görüşme kaydı null olanlar 0landı"
      ],
      "metadata": {
        "id": "oYQ8HMrJJWAQ"
      }
    },
    {
      "cell_type": "code",
      "source": [
        "df.loc[(df[\"service_type\"] == \"Broadband\") & df[\"call_drops\"].isna(), \"call_drops\"] = 0\n",
        "val_df.loc[(val_df[\"service_type\"] == \"Broadband\") & val_df[\"call_drops\"].isna(), \"call_drops\"] = 0\n",
        "test_df.loc[(test_df[\"service_type\"] == \"Broadband\") & test_df[\"call_drops\"].isna(), \"call_drops\"] = 0"
      ],
      "metadata": {
        "id": "fm3cZ2VXWOCb"
      },
      "execution_count": 115,
      "outputs": []
    },
    {
      "cell_type": "code",
      "source": [
        "df.loc[(df[\"service_type\"] == \"Broadband\") & df[\"roaming_usage\"].isna(), \"roaming_usage\"] = 0\n",
        "val_df.loc[(val_df[\"service_type\"] == \"Broadband\") & val_df[\"roaming_usage\"].isna(), \"roaming_usage\"] = 0\n",
        "test_df.loc[(test_df[\"service_type\"] == \"Broadband\") & test_df[\"roaming_usage\"].isna(), \"roaming_usage\"] = 0\n"
      ],
      "metadata": {
        "id": "luZJIatqkKaC"
      },
      "execution_count": 116,
      "outputs": []
    },
    {
      "cell_type": "code",
      "source": [
        "df.loc[(df[\"service_type\"] == \"Broadband\") & df[\"avg_call_duration\"].isna(), \"avg_call_duration\"] = 0\n",
        "val_df.loc[(val_df[\"service_type\"] == \"Broadband\") & val_df[\"avg_call_duration\"].isna(), \"avg_call_duration\"] = 0\n",
        "test_df.loc[(test_df[\"service_type\"] == \"Broadband\") & test_df[\"avg_call_duration\"].isna(), \"avg_call_duration\"] = 0"
      ],
      "metadata": {
        "id": "DUEeuvedk-Di"
      },
      "execution_count": 117,
      "outputs": []
    },
    {
      "cell_type": "code",
      "source": [
        "df.isna().sum()"
      ],
      "metadata": {
        "colab": {
          "base_uri": "https://localhost:8080/",
          "height": 617
        },
        "id": "boUSL8NwJg7-",
        "outputId": "48b0c76c-92a4-44b3-c4cb-acc7e4a4a2a3"
      },
      "execution_count": 111,
      "outputs": [
        {
          "output_type": "execute_result",
          "data": {
            "text/plain": [
              "Unnamed: 0                      0\n",
              "id                              0\n",
              "age                             0\n",
              "tenure                      19866\n",
              "service_type                    0\n",
              "avg_call_duration          266347\n",
              "data_usage                 399493\n",
              "roaming_usage                   0\n",
              "monthly_charge             199780\n",
              "overdue_payments                0\n",
              "auto_payment              2675652\n",
              "avg_top_up_count                0\n",
              "call_drops                      0\n",
              "customer_support_calls          0\n",
              "satisfaction_score              0\n",
              "apps                            0\n",
              "churn                           0\n",
              "dtype: int64"
            ],
            "text/html": [
              "<div>\n",
              "<style scoped>\n",
              "    .dataframe tbody tr th:only-of-type {\n",
              "        vertical-align: middle;\n",
              "    }\n",
              "\n",
              "    .dataframe tbody tr th {\n",
              "        vertical-align: top;\n",
              "    }\n",
              "\n",
              "    .dataframe thead th {\n",
              "        text-align: right;\n",
              "    }\n",
              "</style>\n",
              "<table border=\"1\" class=\"dataframe\">\n",
              "  <thead>\n",
              "    <tr style=\"text-align: right;\">\n",
              "      <th></th>\n",
              "      <th>0</th>\n",
              "    </tr>\n",
              "  </thead>\n",
              "  <tbody>\n",
              "    <tr>\n",
              "      <th>Unnamed: 0</th>\n",
              "      <td>0</td>\n",
              "    </tr>\n",
              "    <tr>\n",
              "      <th>id</th>\n",
              "      <td>0</td>\n",
              "    </tr>\n",
              "    <tr>\n",
              "      <th>age</th>\n",
              "      <td>0</td>\n",
              "    </tr>\n",
              "    <tr>\n",
              "      <th>tenure</th>\n",
              "      <td>19866</td>\n",
              "    </tr>\n",
              "    <tr>\n",
              "      <th>service_type</th>\n",
              "      <td>0</td>\n",
              "    </tr>\n",
              "    <tr>\n",
              "      <th>avg_call_duration</th>\n",
              "      <td>266347</td>\n",
              "    </tr>\n",
              "    <tr>\n",
              "      <th>data_usage</th>\n",
              "      <td>399493</td>\n",
              "    </tr>\n",
              "    <tr>\n",
              "      <th>roaming_usage</th>\n",
              "      <td>0</td>\n",
              "    </tr>\n",
              "    <tr>\n",
              "      <th>monthly_charge</th>\n",
              "      <td>199780</td>\n",
              "    </tr>\n",
              "    <tr>\n",
              "      <th>overdue_payments</th>\n",
              "      <td>0</td>\n",
              "    </tr>\n",
              "    <tr>\n",
              "      <th>auto_payment</th>\n",
              "      <td>2675652</td>\n",
              "    </tr>\n",
              "    <tr>\n",
              "      <th>avg_top_up_count</th>\n",
              "      <td>0</td>\n",
              "    </tr>\n",
              "    <tr>\n",
              "      <th>call_drops</th>\n",
              "      <td>0</td>\n",
              "    </tr>\n",
              "    <tr>\n",
              "      <th>customer_support_calls</th>\n",
              "      <td>0</td>\n",
              "    </tr>\n",
              "    <tr>\n",
              "      <th>satisfaction_score</th>\n",
              "      <td>0</td>\n",
              "    </tr>\n",
              "    <tr>\n",
              "      <th>apps</th>\n",
              "      <td>0</td>\n",
              "    </tr>\n",
              "    <tr>\n",
              "      <th>churn</th>\n",
              "      <td>0</td>\n",
              "    </tr>\n",
              "  </tbody>\n",
              "</table>\n",
              "</div><br><label><b>dtype:</b> int64</label>"
            ]
          },
          "metadata": {},
          "execution_count": 111
        }
      ]
    },
    {
      "cell_type": "markdown",
      "source": [
        "### autotype: service type prepaid olanların auto paymentı olamaz false yaparız"
      ],
      "metadata": {
        "id": "Z39tP9qxJveV"
      }
    },
    {
      "cell_type": "code",
      "source": [
        "df.groupby(\"service_type\")[\"auto_payment\"].value_counts(dropna=False)"
      ],
      "metadata": {
        "colab": {
          "base_uri": "https://localhost:8080/",
          "height": 335
        },
        "id": "9l9_TacyZoAg",
        "outputId": "65a8a0da-566f-4a60-a41f-7b66a4bc2e0a"
      },
      "execution_count": 112,
      "outputs": [
        {
          "output_type": "execute_result",
          "data": {
            "text/plain": [
              "service_type  auto_payment\n",
              "Broadband     True            1330935\n",
              "              False           1330673\n",
              "              NaN                3287\n",
              "Postpaid      False           1332274\n",
              "              True            1330466\n",
              "              NaN                3374\n",
              "Prepaid       NaN             2668991\n",
              "Name: count, dtype: int64"
            ],
            "text/html": [
              "<div>\n",
              "<style scoped>\n",
              "    .dataframe tbody tr th:only-of-type {\n",
              "        vertical-align: middle;\n",
              "    }\n",
              "\n",
              "    .dataframe tbody tr th {\n",
              "        vertical-align: top;\n",
              "    }\n",
              "\n",
              "    .dataframe thead th {\n",
              "        text-align: right;\n",
              "    }\n",
              "</style>\n",
              "<table border=\"1\" class=\"dataframe\">\n",
              "  <thead>\n",
              "    <tr style=\"text-align: right;\">\n",
              "      <th></th>\n",
              "      <th></th>\n",
              "      <th>count</th>\n",
              "    </tr>\n",
              "    <tr>\n",
              "      <th>service_type</th>\n",
              "      <th>auto_payment</th>\n",
              "      <th></th>\n",
              "    </tr>\n",
              "  </thead>\n",
              "  <tbody>\n",
              "    <tr>\n",
              "      <th rowspan=\"3\" valign=\"top\">Broadband</th>\n",
              "      <th>True</th>\n",
              "      <td>1330935</td>\n",
              "    </tr>\n",
              "    <tr>\n",
              "      <th>False</th>\n",
              "      <td>1330673</td>\n",
              "    </tr>\n",
              "    <tr>\n",
              "      <th>NaN</th>\n",
              "      <td>3287</td>\n",
              "    </tr>\n",
              "    <tr>\n",
              "      <th rowspan=\"3\" valign=\"top\">Postpaid</th>\n",
              "      <th>False</th>\n",
              "      <td>1332274</td>\n",
              "    </tr>\n",
              "    <tr>\n",
              "      <th>True</th>\n",
              "      <td>1330466</td>\n",
              "    </tr>\n",
              "    <tr>\n",
              "      <th>NaN</th>\n",
              "      <td>3374</td>\n",
              "    </tr>\n",
              "    <tr>\n",
              "      <th>Prepaid</th>\n",
              "      <th>NaN</th>\n",
              "      <td>2668991</td>\n",
              "    </tr>\n",
              "  </tbody>\n",
              "</table>\n",
              "</div><br><label><b>dtype:</b> int64</label>"
            ]
          },
          "metadata": {},
          "execution_count": 112
        }
      ]
    },
    {
      "cell_type": "code",
      "source": [
        "df.loc[(df[\"service_type\"] == \"Prepaid\") & df[\"auto_payment\"].isna(), \"auto_payment\"] = False\n",
        "val_df.loc[(val_df[\"service_type\"] == \"Prepaid\") & val_df[\"auto_payment\"].isna(), \"auto_payment\"] = False\n",
        "test_df.loc[(test_df[\"service_type\"] == \"Prepaid\") & test_df[\"auto_payment\"].isna(), \"auto_payment\"] = False\n"
      ],
      "metadata": {
        "id": "JzMeipgDesim"
      },
      "execution_count": 118,
      "outputs": []
    },
    {
      "cell_type": "markdown",
      "source": [
        "### gecikmiş ödemeleri 1den fazla olanları otomatik ödemesi yoktur diyorum diğerlerine true olarka değiştiriyorum"
      ],
      "metadata": {
        "id": "NWkkV0TLKbi4"
      }
    },
    {
      "cell_type": "code",
      "source": [
        "df.loc[df['overdue_payments'] > 1, 'auto_payment'] = df.loc[df['overdue_payments'] > 1, 'auto_payment'].fillna(False)\n",
        "val_df.loc[val_df['overdue_payments'] > 1, 'auto_payment'] = val_df.loc[val_df['overdue_payments'] > 1, 'auto_payment'].fillna(False)\n",
        "test_df.loc[test_df['overdue_payments'] > 1, 'auto_payment'] = test_df.loc[test_df['overdue_payments'] > 1, 'auto_payment'].fillna(False)\n",
        "\n"
      ],
      "metadata": {
        "id": "WePJ6W3aj_HV"
      },
      "execution_count": 130,
      "outputs": []
    },
    {
      "cell_type": "code",
      "source": [
        "df.loc[df['overdue_payments'] <= 1, 'auto_payment'] = df.loc[df['overdue_payments'] <= 1, 'auto_payment'].fillna(True)\n",
        "val_df.loc[val_df['overdue_payments'] <= 1, 'auto_payment'] = val_df.loc[val_df['overdue_payments'] <= 1, 'auto_payment'].fillna(True)\n",
        "test_df.loc[test_df['overdue_payments'] <= 1, 'auto_payment'] = test_df.loc[test_df['overdue_payments'] <= 1, 'auto_payment'].fillna(True)"
      ],
      "metadata": {
        "id": "rlGwVhgPMzXo"
      },
      "execution_count": 132,
      "outputs": []
    },
    {
      "cell_type": "code",
      "source": [
        "df.isna().sum()"
      ],
      "metadata": {
        "colab": {
          "base_uri": "https://localhost:8080/",
          "height": 617
        },
        "id": "vCotfmdoKvPX",
        "outputId": "c8519554-e5fd-4919-8b2e-e5b581b6d128"
      },
      "execution_count": 133,
      "outputs": [
        {
          "output_type": "execute_result",
          "data": {
            "text/plain": [
              "Unnamed: 0                     0\n",
              "id                             0\n",
              "age                            0\n",
              "tenure                     19866\n",
              "service_type                   0\n",
              "avg_call_duration         266347\n",
              "data_usage                399493\n",
              "roaming_usage                  0\n",
              "monthly_charge            199780\n",
              "overdue_payments               0\n",
              "auto_payment                   0\n",
              "avg_top_up_count               0\n",
              "call_drops                     0\n",
              "customer_support_calls         0\n",
              "satisfaction_score             0\n",
              "apps                           0\n",
              "churn                          0\n",
              "dtype: int64"
            ],
            "text/html": [
              "<div>\n",
              "<style scoped>\n",
              "    .dataframe tbody tr th:only-of-type {\n",
              "        vertical-align: middle;\n",
              "    }\n",
              "\n",
              "    .dataframe tbody tr th {\n",
              "        vertical-align: top;\n",
              "    }\n",
              "\n",
              "    .dataframe thead th {\n",
              "        text-align: right;\n",
              "    }\n",
              "</style>\n",
              "<table border=\"1\" class=\"dataframe\">\n",
              "  <thead>\n",
              "    <tr style=\"text-align: right;\">\n",
              "      <th></th>\n",
              "      <th>0</th>\n",
              "    </tr>\n",
              "  </thead>\n",
              "  <tbody>\n",
              "    <tr>\n",
              "      <th>Unnamed: 0</th>\n",
              "      <td>0</td>\n",
              "    </tr>\n",
              "    <tr>\n",
              "      <th>id</th>\n",
              "      <td>0</td>\n",
              "    </tr>\n",
              "    <tr>\n",
              "      <th>age</th>\n",
              "      <td>0</td>\n",
              "    </tr>\n",
              "    <tr>\n",
              "      <th>tenure</th>\n",
              "      <td>19866</td>\n",
              "    </tr>\n",
              "    <tr>\n",
              "      <th>service_type</th>\n",
              "      <td>0</td>\n",
              "    </tr>\n",
              "    <tr>\n",
              "      <th>avg_call_duration</th>\n",
              "      <td>266347</td>\n",
              "    </tr>\n",
              "    <tr>\n",
              "      <th>data_usage</th>\n",
              "      <td>399493</td>\n",
              "    </tr>\n",
              "    <tr>\n",
              "      <th>roaming_usage</th>\n",
              "      <td>0</td>\n",
              "    </tr>\n",
              "    <tr>\n",
              "      <th>monthly_charge</th>\n",
              "      <td>199780</td>\n",
              "    </tr>\n",
              "    <tr>\n",
              "      <th>overdue_payments</th>\n",
              "      <td>0</td>\n",
              "    </tr>\n",
              "    <tr>\n",
              "      <th>auto_payment</th>\n",
              "      <td>0</td>\n",
              "    </tr>\n",
              "    <tr>\n",
              "      <th>avg_top_up_count</th>\n",
              "      <td>0</td>\n",
              "    </tr>\n",
              "    <tr>\n",
              "      <th>call_drops</th>\n",
              "      <td>0</td>\n",
              "    </tr>\n",
              "    <tr>\n",
              "      <th>customer_support_calls</th>\n",
              "      <td>0</td>\n",
              "    </tr>\n",
              "    <tr>\n",
              "      <th>satisfaction_score</th>\n",
              "      <td>0</td>\n",
              "    </tr>\n",
              "    <tr>\n",
              "      <th>apps</th>\n",
              "      <td>0</td>\n",
              "    </tr>\n",
              "    <tr>\n",
              "      <th>churn</th>\n",
              "      <td>0</td>\n",
              "    </tr>\n",
              "  </tbody>\n",
              "</table>\n",
              "</div><br><label><b>dtype:</b> int64</label>"
            ]
          },
          "metadata": {},
          "execution_count": 133
        }
      ]
    },
    {
      "cell_type": "code",
      "source": [
        "df.groupby(\"service_type\")[\"avg_call_duration\"].value_counts(dropna=False)"
      ],
      "metadata": {
        "colab": {
          "base_uri": "https://localhost:8080/",
          "height": 490
        },
        "id": "UonCtzjVjlki",
        "outputId": "75545a86-07c6-4d86-dbf9-bbfdc490be41"
      },
      "execution_count": 121,
      "outputs": [
        {
          "output_type": "execute_result",
          "data": {
            "text/plain": [
              "service_type  avg_call_duration\n",
              "Broadband     0.00                 2664895\n",
              "Postpaid      NaN                   132992\n",
              "              45.50                    270\n",
              "              32.19                    264\n",
              "              109.00                   264\n",
              "                                    ...   \n",
              "Prepaid       83.14                    166\n",
              "              73.67                    165\n",
              "              5.03                     162\n",
              "              120.00                   113\n",
              "              1.00                      90\n",
              "Name: count, Length: 23805, dtype: int64"
            ],
            "text/html": [
              "<div>\n",
              "<style scoped>\n",
              "    .dataframe tbody tr th:only-of-type {\n",
              "        vertical-align: middle;\n",
              "    }\n",
              "\n",
              "    .dataframe tbody tr th {\n",
              "        vertical-align: top;\n",
              "    }\n",
              "\n",
              "    .dataframe thead th {\n",
              "        text-align: right;\n",
              "    }\n",
              "</style>\n",
              "<table border=\"1\" class=\"dataframe\">\n",
              "  <thead>\n",
              "    <tr style=\"text-align: right;\">\n",
              "      <th></th>\n",
              "      <th></th>\n",
              "      <th>count</th>\n",
              "    </tr>\n",
              "    <tr>\n",
              "      <th>service_type</th>\n",
              "      <th>avg_call_duration</th>\n",
              "      <th></th>\n",
              "    </tr>\n",
              "  </thead>\n",
              "  <tbody>\n",
              "    <tr>\n",
              "      <th>Broadband</th>\n",
              "      <th>0.00</th>\n",
              "      <td>2664895</td>\n",
              "    </tr>\n",
              "    <tr>\n",
              "      <th rowspan=\"4\" valign=\"top\">Postpaid</th>\n",
              "      <th>NaN</th>\n",
              "      <td>132992</td>\n",
              "    </tr>\n",
              "    <tr>\n",
              "      <th>45.50</th>\n",
              "      <td>270</td>\n",
              "    </tr>\n",
              "    <tr>\n",
              "      <th>32.19</th>\n",
              "      <td>264</td>\n",
              "    </tr>\n",
              "    <tr>\n",
              "      <th>109.00</th>\n",
              "      <td>264</td>\n",
              "    </tr>\n",
              "    <tr>\n",
              "      <th>...</th>\n",
              "      <th>...</th>\n",
              "      <td>...</td>\n",
              "    </tr>\n",
              "    <tr>\n",
              "      <th rowspan=\"5\" valign=\"top\">Prepaid</th>\n",
              "      <th>83.14</th>\n",
              "      <td>166</td>\n",
              "    </tr>\n",
              "    <tr>\n",
              "      <th>73.67</th>\n",
              "      <td>165</td>\n",
              "    </tr>\n",
              "    <tr>\n",
              "      <th>5.03</th>\n",
              "      <td>162</td>\n",
              "    </tr>\n",
              "    <tr>\n",
              "      <th>120.00</th>\n",
              "      <td>113</td>\n",
              "    </tr>\n",
              "    <tr>\n",
              "      <th>1.00</th>\n",
              "      <td>90</td>\n",
              "    </tr>\n",
              "  </tbody>\n",
              "</table>\n",
              "<p>23805 rows × 1 columns</p>\n",
              "</div><br><label><b>dtype:</b> int64</label>"
            ]
          },
          "metadata": {},
          "execution_count": 121
        }
      ]
    },
    {
      "cell_type": "code",
      "source": [
        "df.groupby([\"avg_top_up_count\", \"service_type\"])[\"monthly_charge\"].value_counts()\n"
      ],
      "metadata": {
        "colab": {
          "base_uri": "https://localhost:8080/",
          "height": 490
        },
        "id": "9UbrmclKpZL1",
        "outputId": "60b566bb-defe-4a13-f399-293acb6c881d"
      },
      "execution_count": 122,
      "outputs": [
        {
          "output_type": "execute_result",
          "data": {
            "text/plain": [
              "avg_top_up_count  service_type  monthly_charge\n",
              "0                 Broadband     348.93            129\n",
              "                                484.80            126\n",
              "                                288.79            125\n",
              "                                354.99            123\n",
              "                                202.24            122\n",
              "                                                 ... \n",
              "100               Prepaid       2499.73             1\n",
              "                                2499.80             1\n",
              "                                2499.84             1\n",
              "                                2499.85             1\n",
              "                                2499.97             1\n",
              "Name: count, Length: 2609643, dtype: int64"
            ],
            "text/html": [
              "<div>\n",
              "<style scoped>\n",
              "    .dataframe tbody tr th:only-of-type {\n",
              "        vertical-align: middle;\n",
              "    }\n",
              "\n",
              "    .dataframe tbody tr th {\n",
              "        vertical-align: top;\n",
              "    }\n",
              "\n",
              "    .dataframe thead th {\n",
              "        text-align: right;\n",
              "    }\n",
              "</style>\n",
              "<table border=\"1\" class=\"dataframe\">\n",
              "  <thead>\n",
              "    <tr style=\"text-align: right;\">\n",
              "      <th></th>\n",
              "      <th></th>\n",
              "      <th></th>\n",
              "      <th>count</th>\n",
              "    </tr>\n",
              "    <tr>\n",
              "      <th>avg_top_up_count</th>\n",
              "      <th>service_type</th>\n",
              "      <th>monthly_charge</th>\n",
              "      <th></th>\n",
              "    </tr>\n",
              "  </thead>\n",
              "  <tbody>\n",
              "    <tr>\n",
              "      <th rowspan=\"5\" valign=\"top\">0</th>\n",
              "      <th rowspan=\"5\" valign=\"top\">Broadband</th>\n",
              "      <th>348.93</th>\n",
              "      <td>129</td>\n",
              "    </tr>\n",
              "    <tr>\n",
              "      <th>484.80</th>\n",
              "      <td>126</td>\n",
              "    </tr>\n",
              "    <tr>\n",
              "      <th>288.79</th>\n",
              "      <td>125</td>\n",
              "    </tr>\n",
              "    <tr>\n",
              "      <th>354.99</th>\n",
              "      <td>123</td>\n",
              "    </tr>\n",
              "    <tr>\n",
              "      <th>202.24</th>\n",
              "      <td>122</td>\n",
              "    </tr>\n",
              "    <tr>\n",
              "      <th>...</th>\n",
              "      <th>...</th>\n",
              "      <th>...</th>\n",
              "      <td>...</td>\n",
              "    </tr>\n",
              "    <tr>\n",
              "      <th rowspan=\"5\" valign=\"top\">100</th>\n",
              "      <th rowspan=\"5\" valign=\"top\">Prepaid</th>\n",
              "      <th>2499.73</th>\n",
              "      <td>1</td>\n",
              "    </tr>\n",
              "    <tr>\n",
              "      <th>2499.80</th>\n",
              "      <td>1</td>\n",
              "    </tr>\n",
              "    <tr>\n",
              "      <th>2499.84</th>\n",
              "      <td>1</td>\n",
              "    </tr>\n",
              "    <tr>\n",
              "      <th>2499.85</th>\n",
              "      <td>1</td>\n",
              "    </tr>\n",
              "    <tr>\n",
              "      <th>2499.97</th>\n",
              "      <td>1</td>\n",
              "    </tr>\n",
              "  </tbody>\n",
              "</table>\n",
              "<p>2609643 rows × 1 columns</p>\n",
              "</div><br><label><b>dtype:</b> int64</label>"
            ]
          },
          "metadata": {},
          "execution_count": 122
        }
      ]
    },
    {
      "cell_type": "code",
      "source": [
        "df.isna().sum()"
      ],
      "metadata": {
        "colab": {
          "base_uri": "https://localhost:8080/",
          "height": 617
        },
        "id": "n5RgDFg3G8UY",
        "outputId": "f6f3df47-1155-4e22-d197-ffe526528d3e"
      },
      "execution_count": 134,
      "outputs": [
        {
          "output_type": "execute_result",
          "data": {
            "text/plain": [
              "Unnamed: 0                     0\n",
              "id                             0\n",
              "age                            0\n",
              "tenure                     19866\n",
              "service_type                   0\n",
              "avg_call_duration         266347\n",
              "data_usage                399493\n",
              "roaming_usage                  0\n",
              "monthly_charge            199780\n",
              "overdue_payments               0\n",
              "auto_payment                   0\n",
              "avg_top_up_count               0\n",
              "call_drops                     0\n",
              "customer_support_calls         0\n",
              "satisfaction_score             0\n",
              "apps                           0\n",
              "churn                          0\n",
              "dtype: int64"
            ],
            "text/html": [
              "<div>\n",
              "<style scoped>\n",
              "    .dataframe tbody tr th:only-of-type {\n",
              "        vertical-align: middle;\n",
              "    }\n",
              "\n",
              "    .dataframe tbody tr th {\n",
              "        vertical-align: top;\n",
              "    }\n",
              "\n",
              "    .dataframe thead th {\n",
              "        text-align: right;\n",
              "    }\n",
              "</style>\n",
              "<table border=\"1\" class=\"dataframe\">\n",
              "  <thead>\n",
              "    <tr style=\"text-align: right;\">\n",
              "      <th></th>\n",
              "      <th>0</th>\n",
              "    </tr>\n",
              "  </thead>\n",
              "  <tbody>\n",
              "    <tr>\n",
              "      <th>Unnamed: 0</th>\n",
              "      <td>0</td>\n",
              "    </tr>\n",
              "    <tr>\n",
              "      <th>id</th>\n",
              "      <td>0</td>\n",
              "    </tr>\n",
              "    <tr>\n",
              "      <th>age</th>\n",
              "      <td>0</td>\n",
              "    </tr>\n",
              "    <tr>\n",
              "      <th>tenure</th>\n",
              "      <td>19866</td>\n",
              "    </tr>\n",
              "    <tr>\n",
              "      <th>service_type</th>\n",
              "      <td>0</td>\n",
              "    </tr>\n",
              "    <tr>\n",
              "      <th>avg_call_duration</th>\n",
              "      <td>266347</td>\n",
              "    </tr>\n",
              "    <tr>\n",
              "      <th>data_usage</th>\n",
              "      <td>399493</td>\n",
              "    </tr>\n",
              "    <tr>\n",
              "      <th>roaming_usage</th>\n",
              "      <td>0</td>\n",
              "    </tr>\n",
              "    <tr>\n",
              "      <th>monthly_charge</th>\n",
              "      <td>199780</td>\n",
              "    </tr>\n",
              "    <tr>\n",
              "      <th>overdue_payments</th>\n",
              "      <td>0</td>\n",
              "    </tr>\n",
              "    <tr>\n",
              "      <th>auto_payment</th>\n",
              "      <td>0</td>\n",
              "    </tr>\n",
              "    <tr>\n",
              "      <th>avg_top_up_count</th>\n",
              "      <td>0</td>\n",
              "    </tr>\n",
              "    <tr>\n",
              "      <th>call_drops</th>\n",
              "      <td>0</td>\n",
              "    </tr>\n",
              "    <tr>\n",
              "      <th>customer_support_calls</th>\n",
              "      <td>0</td>\n",
              "    </tr>\n",
              "    <tr>\n",
              "      <th>satisfaction_score</th>\n",
              "      <td>0</td>\n",
              "    </tr>\n",
              "    <tr>\n",
              "      <th>apps</th>\n",
              "      <td>0</td>\n",
              "    </tr>\n",
              "    <tr>\n",
              "      <th>churn</th>\n",
              "      <td>0</td>\n",
              "    </tr>\n",
              "  </tbody>\n",
              "</table>\n",
              "</div><br><label><b>dtype:</b> int64</label>"
            ]
          },
          "metadata": {},
          "execution_count": 134
        }
      ]
    },
    {
      "cell_type": "code",
      "source": [
        "import matplotlib.pyplot as plt\n",
        "import seaborn as sns\n",
        "\n",
        "nulls = df.isnull().sum()\n",
        "\n",
        "plt.figure(figsize=(10,6))\n",
        "nulls.plot(kind='bar', color='skyblue')\n",
        "plt.title('Null Değerlerin Dağılımı')\n",
        "plt.ylabel('Null Değer Sayısı')\n",
        "plt.xlabel('Sütunlar')\n",
        "plt.xticks(rotation=90)\n",
        "plt.show()\n"
      ],
      "metadata": {
        "colab": {
          "base_uri": "https://localhost:8080/",
          "height": 714
        },
        "id": "hHjMt7FbzXzn",
        "outputId": "1f9a4c89-5929-4afa-f814-f084472b81c1"
      },
      "execution_count": null,
      "outputs": [
        {
          "output_type": "display_data",
          "data": {
            "text/plain": [
              "<Figure size 1000x600 with 1 Axes>"
            ],
            "image/png": "[encoded data removed]"
          },
          "metadata": {}
        }
      ]
    },
    {
      "cell_type": "code",
      "source": [
        "sns.distplot(df['data_usage'])\n",
        "plt.show()"
      ],
      "metadata": {
        "colab": {
          "base_uri": "https://localhost:8080/",
          "height": 450
        },
        "id": "TiK7BhyDbDOk",
        "outputId": "4b71421c-a1b2-47a3-fd44-75f949752095"
      },
      "execution_count": 124,
      "outputs": [
        {
          "output_type": "display_data",
          "data": {
            "text/plain": [
              "<Figure size 640x480 with 1 Axes>"
            ],
            "image/png": "[encoded data removed]"
          },
          "metadata": {}
        }
      ]
    },
    {
      "cell_type": "code",
      "source": [
        "sns.boxplot(x = \"churn\",\n",
        "            y = \"tenure\",\n",
        "            data = df)\n",
        "\n",
        "plt.show()"
      ],
      "metadata": {
        "colab": {
          "base_uri": "https://localhost:8080/",
          "height": 449
        },
        "id": "2MkcR08ZbMZ_",
        "outputId": "a82a7379-bd13-4481-e31c-74b5e4599789"
      },
      "execution_count": null,
      "outputs": [
        {
          "output_type": "display_data",
          "data": {
            "text/plain": [
              "<Figure size 640x480 with 1 Axes>"
            ],
            "image/png": "[encoded data removed]"
          },
          "metadata": {}
        }
      ]
    },
    {
      "cell_type": "code",
      "source": [
        "import matplotlib.pyplot as plt\n",
        "import seaborn as sns\n",
        "\n",
        "# Görselleştirmek istediğin tek sütun\n",
        "column_to_plot = 'call_drops'  # Örneğin, 'age' sütunu\n",
        "\n",
        "# Boxplot çizimi\n",
        "plt.figure(figsize=(8, 6))\n",
        "sns.boxplot(x=df[column_to_plot].dropna())  # Null değerleri atarak çizim\n",
        "plt.title(f'{column_to_plot} Boxplot Dağılımı')\n",
        "plt.show()\n"
      ],
      "metadata": {
        "colab": {
          "base_uri": "https://localhost:8080/",
          "height": 564
        },
        "id": "26_B27ez4qfX",
        "outputId": "16bc58aa-25ff-46eb-d829-b0d0b431ef72"
      },
      "execution_count": null,
      "outputs": [
        {
          "output_type": "display_data",
          "data": {
            "text/plain": [
              "<Figure size 800x600 with 1 Axes>"
            ],
            "image/png": "[encoded data removed]"
          },
          "metadata": {}
        }
      ]
    },
    {
      "cell_type": "code",
      "source": [
        "df_copy_2 = df.copy()\n",
        "val_copy2 = val_df.copy()\n",
        "test_copy2 = test_df.copy()"
      ],
      "metadata": {
        "id": "PvgfSWBVq-Hv"
      },
      "execution_count": 136,
      "outputs": []
    },
    {
      "cell_type": "code",
      "source": [
        "df['avg_call_duration'] = df.groupby('service_type')['avg_call_duration'].transform(lambda x: x.fillna(x.mean()))\n",
        "df['data_usage'] = df.groupby('service_type')['data_usage'].transform(lambda x: x.fillna(x.mean()))\n",
        "df['monthly_charge'] = df.groupby('service_type')[\"monthly_charge\"].transform(lambda x: x.fillna(x.mean()))\n",
        "\n",
        "val_df['avg_call_duration'] = val_df.groupby('service_type')['avg_call_duration'].transform(lambda x: x.fillna(x.mean()))\n",
        "val_df['data_usage'] = val_df.groupby('service_type')['data_usage'].transform(lambda x: x.fillna(x.mean()))\n",
        "val_df['monthly_charge'] = val_df.groupby('service_type')[\"monthly_charge\"].transform(lambda x: x.fillna(x.mean()))\n",
        "\n",
        "test_df['avg_call_duration'] = test_df.groupby('service_type')['avg_call_duration'].transform(lambda x: x.fillna(x.mean()))\n",
        "test_df['data_usage'] = test_df.groupby('service_type')['data_usage'].transform(lambda x: x.fillna(x.mean()))\n",
        "test_df['monthly_charge'] = test_df.groupby('service_type')[\"monthly_charge\"].transform(lambda x: x.fillna(x.mean()))\n",
        "\n"
      ],
      "metadata": {
        "id": "zayaGR2Apq5t"
      },
      "execution_count": 146,
      "outputs": []
    },
    {
      "cell_type": "code",
      "source": [
        "df['tenure'].fillna(df['tenure'].median(), inplace=True)\n",
        "val_df['tenure'].fillna(val_df['tenure'].median(), inplace=True)\n",
        "test_df['tenure'].fillna(test_df['tenure'].median(), inplace=True)\n"
      ],
      "metadata": {
        "id": "bJadxOVzRCv2"
      },
      "execution_count": 145,
      "outputs": []
    },
    {
      "cell_type": "code",
      "source": [
        "test_df.isna().sum()"
      ],
      "metadata": {
        "id": "aDB_l4ofeK_w",
        "colab": {
          "base_uri": "https://localhost:8080/",
          "height": 648
        },
        "outputId": "011d9d2d-639d-4a2a-984e-7c8af2d2d0b8"
      },
      "execution_count": 147,
      "outputs": [
        {
          "output_type": "execute_result",
          "data": {
            "text/plain": [
              "Unnamed: 0.1              0\n",
              "Unnamed: 0                0\n",
              "id                        0\n",
              "age                       0\n",
              "tenure                    0\n",
              "service_type              0\n",
              "avg_call_duration         0\n",
              "data_usage                0\n",
              "roaming_usage             0\n",
              "monthly_charge            0\n",
              "overdue_payments          0\n",
              "auto_payment              0\n",
              "avg_top_up_count          0\n",
              "call_drops                0\n",
              "customer_support_calls    0\n",
              "satisfaction_score        0\n",
              "apps                      0\n",
              "churn                     0\n",
              "dtype: int64"
            ],
            "text/html": [
              "<div>\n",
              "<style scoped>\n",
              "    .dataframe tbody tr th:only-of-type {\n",
              "        vertical-align: middle;\n",
              "    }\n",
              "\n",
              "    .dataframe tbody tr th {\n",
              "        vertical-align: top;\n",
              "    }\n",
              "\n",
              "    .dataframe thead th {\n",
              "        text-align: right;\n",
              "    }\n",
              "</style>\n",
              "<table border=\"1\" class=\"dataframe\">\n",
              "  <thead>\n",
              "    <tr style=\"text-align: right;\">\n",
              "      <th></th>\n",
              "      <th>0</th>\n",
              "    </tr>\n",
              "  </thead>\n",
              "  <tbody>\n",
              "    <tr>\n",
              "      <th>Unnamed: 0.1</th>\n",
              "      <td>0</td>\n",
              "    </tr>\n",
              "    <tr>\n",
              "      <th>Unnamed: 0</th>\n",
              "      <td>0</td>\n",
              "    </tr>\n",
              "    <tr>\n",
              "      <th>id</th>\n",
              "      <td>0</td>\n",
              "    </tr>\n",
              "    <tr>\n",
              "      <th>age</th>\n",
              "      <td>0</td>\n",
              "    </tr>\n",
              "    <tr>\n",
              "      <th>tenure</th>\n",
              "      <td>0</td>\n",
              "    </tr>\n",
              "    <tr>\n",
              "      <th>service_type</th>\n",
              "      <td>0</td>\n",
              "    </tr>\n",
              "    <tr>\n",
              "      <th>avg_call_duration</th>\n",
              "      <td>0</td>\n",
              "    </tr>\n",
              "    <tr>\n",
              "      <th>data_usage</th>\n",
              "      <td>0</td>\n",
              "    </tr>\n",
              "    <tr>\n",
              "      <th>roaming_usage</th>\n",
              "      <td>0</td>\n",
              "    </tr>\n",
              "    <tr>\n",
              "      <th>monthly_charge</th>\n",
              "      <td>0</td>\n",
              "    </tr>\n",
              "    <tr>\n",
              "      <th>overdue_payments</th>\n",
              "      <td>0</td>\n",
              "    </tr>\n",
              "    <tr>\n",
              "      <th>auto_payment</th>\n",
              "      <td>0</td>\n",
              "    </tr>\n",
              "    <tr>\n",
              "      <th>avg_top_up_count</th>\n",
              "      <td>0</td>\n",
              "    </tr>\n",
              "    <tr>\n",
              "      <th>call_drops</th>\n",
              "      <td>0</td>\n",
              "    </tr>\n",
              "    <tr>\n",
              "      <th>customer_support_calls</th>\n",
              "      <td>0</td>\n",
              "    </tr>\n",
              "    <tr>\n",
              "      <th>satisfaction_score</th>\n",
              "      <td>0</td>\n",
              "    </tr>\n",
              "    <tr>\n",
              "      <th>apps</th>\n",
              "      <td>0</td>\n",
              "    </tr>\n",
              "    <tr>\n",
              "      <th>churn</th>\n",
              "      <td>0</td>\n",
              "    </tr>\n",
              "  </tbody>\n",
              "</table>\n",
              "</div><br><label><b>dtype:</b> int64</label>"
            ]
          },
          "metadata": {},
          "execution_count": 147
        }
      ]
    },
    {
      "cell_type": "code",
      "source": [
        "df.to_csv(\"cleaned_train.csv\")\n",
        "val_df.to_csv(\"cleand_val.csv\")\n",
        "test_df.to_csv(\"cleans_test.csv\")"
      ],
      "metadata": {
        "id": "PaWWVmVZqqp3"
      },
      "execution_count": 148,
      "outputs": []
    },
    {
      "cell_type": "code",
      "source": [
        "df = pd.read_csv(\"/content/cleaned_train.csv\")\n",
        "val_df = pd.read_csv(\"/content/cleand_val.csv\")\n",
        "test_df = pd.read_csv(\"/content/cleans_test.csv\")\n"
      ],
      "metadata": {
        "id": "TuUACb19zA4t"
      },
      "execution_count": 163,
      "outputs": []
    },
    {
      "cell_type": "code",
      "source": [
        "test_df.info()"
      ],
      "metadata": {
        "colab": {
          "base_uri": "https://localhost:8080/"
        },
        "id": "C0PDVER9zPeb",
        "outputId": "5860b8df-32c0-41fa-fc21-7b1dd6944e0d"
      },
      "execution_count": 128,
      "outputs": [
        {
          "output_type": "stream",
          "name": "stdout",
          "text": [
            "<class 'pandas.core.frame.DataFrame'>\n",
            "RangeIndex: 1000000 entries, 0 to 999999\n",
            "Data columns (total 19 columns):\n",
            " #   Column                  Non-Null Count    Dtype  \n",
            "---  ------                  --------------    -----  \n",
            " 0   Unnamed: 0.2            1000000 non-null  int64  \n",
            " 1   Unnamed: 0.1            1000000 non-null  int64  \n",
            " 2   Unnamed: 0              1000000 non-null  int64  \n",
            " 3   id                      1000000 non-null  object \n",
            " 4   age                     1000000 non-null  int64  \n",
            " 5   tenure                  1000000 non-null  float64\n",
            " 6   service_type            1000000 non-null  object \n",
            " 7   avg_call_duration       1000000 non-null  float64\n",
            " 8   data_usage              1000000 non-null  float64\n",
            " 9   roaming_usage           1000000 non-null  float64\n",
            " 10  monthly_charge          1000000 non-null  float64\n",
            " 11  overdue_payments        1000000 non-null  int64  \n",
            " 12  auto_payment            1000000 non-null  bool   \n",
            " 13  avg_top_up_count        1000000 non-null  int64  \n",
            " 14  call_drops              1000000 non-null  float64\n",
            " 15  customer_support_calls  1000000 non-null  int64  \n",
            " 16  satisfaction_score      1000000 non-null  float64\n",
            " 17  apps                    1000000 non-null  object \n",
            " 18  churn                   1000000 non-null  bool   \n",
            "dtypes: bool(2), float64(7), int64(7), object(3)\n",
            "memory usage: 131.6+ MB\n"
          ]
        }
      ]
    },
    {
      "cell_type": "code",
      "source": [
        "val_df.drop([\"Unnamed: 0\", \"Unnamed: 0.1\"], axis=1, inplace=True)\n",
        "df.drop([\"Unnamed: 0\", \"Unnamed: 0.1\"], axis=1, inplace=True)\n",
        "test_df.drop([\"Unnamed: 0\", \"Unnamed: 0.1\", \"Unnamed: 0.2\"], axis=1, inplace=True)"
      ],
      "metadata": {
        "id": "qJdYn2m7Y504"
      },
      "execution_count": 164,
      "outputs": []
    },
    {
      "cell_type": "code",
      "source": [
        "df.info()"
      ],
      "metadata": {
        "colab": {
          "base_uri": "https://localhost:8080/"
        },
        "id": "u3ZAcWGbSKv9",
        "outputId": "e0e638dd-99eb-48a9-be95-5fd2823025f3"
      },
      "execution_count": 165,
      "outputs": [
        {
          "output_type": "stream",
          "name": "stdout",
          "text": [
            "<class 'pandas.core.frame.DataFrame'>\n",
            "RangeIndex: 8000000 entries, 0 to 7999999\n",
            "Data columns (total 16 columns):\n",
            " #   Column                  Dtype  \n",
            "---  ------                  -----  \n",
            " 0   id                      object \n",
            " 1   age                     int64  \n",
            " 2   tenure                  float64\n",
            " 3   service_type            object \n",
            " 4   avg_call_duration       float64\n",
            " 5   data_usage              float64\n",
            " 6   roaming_usage           float64\n",
            " 7   monthly_charge          float64\n",
            " 8   overdue_payments        int64  \n",
            " 9   auto_payment            bool   \n",
            " 10  avg_top_up_count        int64  \n",
            " 11  call_drops              float64\n",
            " 12  customer_support_calls  int64  \n",
            " 13  satisfaction_score      float64\n",
            " 14  apps                    object \n",
            " 15  churn                   bool   \n",
            "dtypes: bool(2), float64(7), int64(4), object(3)\n",
            "memory usage: 869.8+ MB\n"
          ]
        }
      ]
    },
    {
      "cell_type": "code",
      "source": [
        "df['tenure'] = df['tenure'].astype(int)\n",
        "val_df['tenure'] = val_df['tenure'].astype(int)\n",
        "test_df['tenure'] = test_df['tenure'].astype(int)\n"
      ],
      "metadata": {
        "id": "E0wCU7VLSq7_"
      },
      "execution_count": 166,
      "outputs": []
    },
    {
      "cell_type": "code",
      "source": [
        "df[\"start_age\"]  = df[\"age\"] - df[\"tenure\"] // 12\n",
        "val_df[\"start_age\"]  = val_df[\"age\"] - val_df[\"tenure\"] // 12\n",
        "test_df[\"start_age\"]  = test_df[\"age\"] - test_df[\"tenure\"] // 12"
      ],
      "metadata": {
        "id": "VQN3efX4S6_-"
      },
      "execution_count": 167,
      "outputs": []
    },
    {
      "cell_type": "code",
      "source": [
        "df['total_usage'] = df['avg_call_duration'] + df['data_usage'] + df['roaming_usage']\n",
        "val_df['total_usage'] = val_df['avg_call_duration'] + val_df['data_usage'] + val_df['roaming_usage']\n",
        "test_df['total_usage'] = test_df['avg_call_duration'] + test_df['data_usage'] + test_df['roaming_usage']"
      ],
      "metadata": {
        "id": "G-FtzBFL6JXM"
      },
      "execution_count": 168,
      "outputs": []
    },
    {
      "cell_type": "code",
      "source": [
        "df['usage_intensity'] = df['total_usage'] / df['monthly_charge']\n",
        "val_df['usage_intensity'] = val_df['total_usage'] / val_df['monthly_charge']\n",
        "test_df['usage_intensity'] = test_df['total_usage'] / test_df['monthly_charge']"
      ],
      "metadata": {
        "id": "h32JQ-Y-6Qdv"
      },
      "execution_count": 169,
      "outputs": []
    },
    {
      "cell_type": "code",
      "source": [
        "df['satisfaction_level'] = pd.cut(df['satisfaction_score'], bins=[0, 3, 7, 10], labels=['Düşük', 'Orta', 'Yüksek'])\n",
        "val_df['satisfaction_level'] = pd.cut(val_df['satisfaction_score'], bins=[0, 3, 7, 10], labels=['Düşük', 'Orta', 'Yüksek'])\n",
        "test_df['satisfaction_level'] = pd.cut(test_df['satisfaction_score'], bins=[0, 3, 7, 10], labels=['Düşük', 'Orta', 'Yüksek'])"
      ],
      "metadata": {
        "id": "WotOEUYv6iYo"
      },
      "execution_count": 170,
      "outputs": []
    },
    {
      "cell_type": "code",
      "source": [
        "def categorize_tenure(tenure):\n",
        "    if tenure <= 12:\n",
        "        return \"new\"\n",
        "    elif tenure <= 72:\n",
        "        return \"middle\"\n",
        "    elif tenure <= 156:\n",
        "        return \"longest\"\n",
        "    else:\n",
        "        return \"perfect\"\n",
        "\n",
        "df[\"tenure_category\"] = df[\"tenure\"].apply(categorize_tenure)\n",
        "val_df[\"tenure_category\"] = val_df[\"tenure\"].apply(categorize_tenure)\n",
        "test_df[\"tenure_category\"] = test_df[\"tenure\"].apply(categorize_tenure)\n"
      ],
      "metadata": {
        "id": "B0nYiF3Vq25D"
      },
      "execution_count": 171,
      "outputs": []
    },
    {
      "cell_type": "code",
      "source": [
        "df.apps = df.apps.str.replace(\"[]\", \"0\")\n",
        "df.apps = df.apps.str.replace(\" \", \",\")\n",
        "\n",
        "val_df.apps = val_df.apps.str.replace(\"[]\", \"0\")\n",
        "val_df.apps = val_df.apps.str.replace(\" \", \",\")\n",
        "\n",
        "test_df.apps = test_df.apps.str.replace(\"[]\", \"0\")\n",
        "test_df.apps = test_df.apps.str.replace(\" \", \",\")"
      ],
      "metadata": {
        "id": "VJgXanvqgY0Y"
      },
      "execution_count": 172,
      "outputs": []
    },
    {
      "cell_type": "code",
      "source": [
        "df['app_count'] = df['apps'].apply(lambda x: len(eval(x)) if x != '0' else 0)\n",
        "val_df['app_count'] = val_df['apps'].apply(lambda x: len(eval(x)) if x != '0' else 0)\n",
        "test_df['app_count'] = test_df['apps'].apply(lambda x: len(eval(x)) if x != '0' else 0)\n"
      ],
      "metadata": {
        "id": "pGV2Bxje7GHP"
      },
      "execution_count": 173,
      "outputs": []
    },
    {
      "cell_type": "code",
      "source": [
        "df.drop(columns=[\"apps\"], inplace=True)\n",
        "val_df.drop(columns=[\"apps\"], inplace=True)\n",
        "test_df.drop(columns=[\"apps\"], inplace=True)"
      ],
      "metadata": {
        "id": "recdqjvrggju"
      },
      "execution_count": 174,
      "outputs": []
    },
    {
      "cell_type": "code",
      "source": [
        "df.info()"
      ],
      "metadata": {
        "colab": {
          "base_uri": "https://localhost:8080/"
        },
        "id": "nLgzjNxmLdVt",
        "outputId": "c5e0f7be-a78f-43ef-9d39-b559d3344d14"
      },
      "execution_count": 175,
      "outputs": [
        {
          "output_type": "stream",
          "name": "stdout",
          "text": [
            "<class 'pandas.core.frame.DataFrame'>\n",
            "RangeIndex: 8000000 entries, 0 to 7999999\n",
            "Data columns (total 21 columns):\n",
            " #   Column                  Dtype   \n",
            "---  ------                  -----   \n",
            " 0   id                      object  \n",
            " 1   age                     int64   \n",
            " 2   tenure                  int64   \n",
            " 3   service_type            object  \n",
            " 4   avg_call_duration       float64 \n",
            " 5   data_usage              float64 \n",
            " 6   roaming_usage           float64 \n",
            " 7   monthly_charge          float64 \n",
            " 8   overdue_payments        int64   \n",
            " 9   auto_payment            bool    \n",
            " 10  avg_top_up_count        int64   \n",
            " 11  call_drops              float64 \n",
            " 12  customer_support_calls  int64   \n",
            " 13  satisfaction_score      float64 \n",
            " 14  churn                   bool    \n",
            " 15  start_age               int64   \n",
            " 16  total_usage             float64 \n",
            " 17  usage_intensity         float64 \n",
            " 18  satisfaction_level      category\n",
            " 19  tenure_category         object  \n",
            " 20  app_count               int64   \n",
            "dtypes: bool(2), category(1), float64(8), int64(7), object(3)\n",
            "memory usage: 1.1+ GB\n"
          ]
        }
      ]
    },
    {
      "cell_type": "code",
      "source": [
        "from sklearn.preprocessing import OrdinalEncoder\n",
        "\n",
        "categories = ['new', 'middle', 'longest', 'perfect']\n",
        "\n",
        "encoder = OrdinalEncoder(categories=[categories])\n",
        "df['tenure_encoded1'] = encoder.fit_transform(df[['tenure_category']])\n",
        "val_df['tenure_encoded1'] = encoder.fit_transform(val_df[['tenure_category']])\n",
        "test_df['tenure_encoded1'] = encoder.fit_transform(test_df[['tenure_category']])"
      ],
      "metadata": {
        "id": "sJEcBA5DXTEd"
      },
      "execution_count": 177,
      "outputs": []
    },
    {
      "cell_type": "code",
      "source": [
        "df.drop(columns=[\"tenure_category\"], inplace=True)\n",
        "val_df.drop(columns=[\"tenure_category\"], inplace=True)\n",
        "test_df.drop(columns=[\"tenure_category\"], inplace=True)"
      ],
      "metadata": {
        "id": "g5hyA4Di-EXq"
      },
      "execution_count": 178,
      "outputs": []
    },
    {
      "cell_type": "code",
      "source": [
        "categories = ['Düşük', 'Orta', 'Yüksek']\n",
        "\n",
        "# OrdinalEncoder ile sıralama yap\n",
        "encoder = OrdinalEncoder(categories=[categories])\n",
        "df['satisfaction_level'] = encoder.fit_transform(df[['satisfaction_level']])\n",
        "val_df['satisfaction_level'] = encoder.fit_transform(val_df[['satisfaction_level']])\n",
        "test_df['satisfaction_level'] = encoder.fit_transform(test_df[['satisfaction_level']])"
      ],
      "metadata": {
        "id": "l1Op3F8Z-LK0"
      },
      "execution_count": 179,
      "outputs": []
    },
    {
      "cell_type": "code",
      "source": [
        "df = pd.get_dummies(df, columns=['service_type'])\n",
        "val_df = pd.get_dummies(val_df, columns=['service_type'])\n",
        "test_df = pd.get_dummies(test_df, columns=['service_type'])"
      ],
      "metadata": {
        "id": "mdTxvxjwhZUu"
      },
      "execution_count": 180,
      "outputs": []
    },
    {
      "cell_type": "code",
      "source": [
        "df[\"churn\"] = df[\"churn\"].map({True: 1, False: 0})\n",
        "df[\"auto_payment\"] = df[\"auto_payment\"].map({True: 1, False: 0})\n",
        "\n",
        "val_df[\"churn\"] = val_df[\"churn\"].map({True: 1, False: 0})\n",
        "val_df[\"auto_payment\"] = val_df[\"auto_payment\"].map({True: 1, False: 0})\n",
        "\n",
        "test_df[\"churn\"] = test_df[\"churn\"].map({True: 1, False: 0})\n",
        "test_df[\"auto_payment\"] = test_df[\"auto_payment\"].map({True: 1, False: 0})"
      ],
      "metadata": {
        "id": "0SOQVkjnkR60"
      },
      "execution_count": 181,
      "outputs": []
    },
    {
      "cell_type": "code",
      "source": [
        "df=df[sorted(df.columns)]\n",
        "val_df = val_df[sorted(val_df.columns)]\n",
        "test_df = test_df[sorted(test_df.columns)]\n",
        "\n"
      ],
      "metadata": {
        "id": "sDrAwlJYeP_s"
      },
      "execution_count": 182,
      "outputs": []
    },
    {
      "cell_type": "code",
      "source": [
        "df.info()"
      ],
      "metadata": {
        "colab": {
          "base_uri": "https://localhost:8080/"
        },
        "id": "QF4xcbEeMQjS",
        "outputId": "f0efc07c-05fb-4f18-df30-ad66e4c81c34"
      },
      "execution_count": 183,
      "outputs": [
        {
          "output_type": "stream",
          "name": "stdout",
          "text": [
            "<class 'pandas.core.frame.DataFrame'>\n",
            "RangeIndex: 8000000 entries, 0 to 7999999\n",
            "Data columns (total 23 columns):\n",
            " #   Column                  Dtype  \n",
            "---  ------                  -----  \n",
            " 0   age                     int64  \n",
            " 1   app_count               int64  \n",
            " 2   auto_payment            int64  \n",
            " 3   avg_call_duration       float64\n",
            " 4   avg_top_up_count        int64  \n",
            " 5   call_drops              float64\n",
            " 6   churn                   int64  \n",
            " 7   customer_support_calls  int64  \n",
            " 8   data_usage              float64\n",
            " 9   id                      object \n",
            " 10  monthly_charge          float64\n",
            " 11  overdue_payments        int64  \n",
            " 12  roaming_usage           float64\n",
            " 13  satisfaction_level      float64\n",
            " 14  satisfaction_score      float64\n",
            " 15  service_type_Broadband  bool   \n",
            " 16  service_type_Postpaid   bool   \n",
            " 17  service_type_Prepaid    bool   \n",
            " 18  start_age               int64  \n",
            " 19  tenure                  int64  \n",
            " 20  tenure_encoded1         float64\n",
            " 21  total_usage             float64\n",
            " 22  usage_intensity         float64\n",
            "dtypes: bool(3), float64(10), int64(9), object(1)\n",
            "memory usage: 1.2+ GB\n"
          ]
        }
      ]
    },
    {
      "cell_type": "code",
      "source": [
        "test_df.info()"
      ],
      "metadata": {
        "colab": {
          "base_uri": "https://localhost:8080/"
        },
        "id": "DgrbCR--MOU-",
        "outputId": "cd0e1d5d-11ca-4654-9a28-af11e581b87d"
      },
      "execution_count": 184,
      "outputs": [
        {
          "output_type": "stream",
          "name": "stdout",
          "text": [
            "<class 'pandas.core.frame.DataFrame'>\n",
            "RangeIndex: 1000000 entries, 0 to 999999\n",
            "Data columns (total 23 columns):\n",
            " #   Column                  Non-Null Count    Dtype  \n",
            "---  ------                  --------------    -----  \n",
            " 0   age                     1000000 non-null  int64  \n",
            " 1   app_count               1000000 non-null  int64  \n",
            " 2   auto_payment            1000000 non-null  int64  \n",
            " 3   avg_call_duration       1000000 non-null  float64\n",
            " 4   avg_top_up_count        1000000 non-null  int64  \n",
            " 5   call_drops              1000000 non-null  float64\n",
            " 6   churn                   1000000 non-null  int64  \n",
            " 7   customer_support_calls  1000000 non-null  int64  \n",
            " 8   data_usage              1000000 non-null  float64\n",
            " 9   id                      1000000 non-null  object \n",
            " 10  monthly_charge          1000000 non-null  float64\n",
            " 11  overdue_payments        1000000 non-null  int64  \n",
            " 12  roaming_usage           1000000 non-null  float64\n",
            " 13  satisfaction_level      1000000 non-null  float64\n",
            " 14  satisfaction_score      1000000 non-null  float64\n",
            " 15  service_type_Broadband  1000000 non-null  bool   \n",
            " 16  service_type_Postpaid   1000000 non-null  bool   \n",
            " 17  service_type_Prepaid    1000000 non-null  bool   \n",
            " 18  start_age               1000000 non-null  int64  \n",
            " 19  tenure                  1000000 non-null  int64  \n",
            " 20  tenure_encoded1         1000000 non-null  float64\n",
            " 21  total_usage             1000000 non-null  float64\n",
            " 22  usage_intensity         1000000 non-null  float64\n",
            "dtypes: bool(3), float64(10), int64(9), object(1)\n",
            "memory usage: 155.4+ MB\n"
          ]
        }
      ]
    },
    {
      "cell_type": "code",
      "source": [
        "df1 = df.copy()\n",
        "val_df_1 = val_df.copy()\n",
        "test_df_2 = test_df.copy()"
      ],
      "metadata": {
        "id": "InSmt-Gy_J9m"
      },
      "execution_count": 190,
      "outputs": []
    },
    {
      "cell_type": "code",
      "source": [
        "test_df_2[test_df_2.id.str.contains(\"429a73d9-297d-4ea6-b7d0-b971dc481cb4\")]"
      ],
      "metadata": {
        "colab": {
          "base_uri": "https://localhost:8080/",
          "height": 182
        },
        "id": "KELKD1N8VRb-",
        "outputId": "7583760a-8056-4ea4-b7c1-3a6367a8e289"
      },
      "execution_count": 232,
      "outputs": [
        {
          "output_type": "execute_result",
          "data": {
            "text/plain": [
              "       age  app_count  auto_payment  avg_call_duration  avg_top_up_count  \\\n",
              "39863   20          0             0              43.46                 0   \n",
              "\n",
              "       call_drops  churn  customer_support_calls  data_usage  \\\n",
              "39863        10.0      0                      14       38.26   \n",
              "\n",
              "                                         id  ...  satisfaction_level  \\\n",
              "39863  429a73d9-297d-4ea6-b7d0-b971dc481cb4  ...                 0.0   \n",
              "\n",
              "       satisfaction_score  service_type_Broadband  service_type_Postpaid  \\\n",
              "39863                2.23                   False                   True   \n",
              "\n",
              "       service_type_Prepaid  start_age  tenure  tenure_encoded1  total_usage  \\\n",
              "39863                 False         15      65              1.0        87.59   \n",
              "\n",
              "       usage_intensity  \n",
              "39863         0.651614  \n",
              "\n",
              "[1 rows x 23 columns]"
            ],
            "text/html": [
              "\n",
              "  <div id=\"df-f3e39e6e-17d2-4f12-b135-6c6855402729\" class=\"colab-df-container\">\n",
              "    <div>\n",
              "<style scoped>\n",
              "    .dataframe tbody tr th:only-of-type {\n",
              "        vertical-align: middle;\n",
              "    }\n",
              "\n",
              "    .dataframe tbody tr th {\n",
              "        vertical-align: top;\n",
              "    }\n",
              "\n",
              "    .dataframe thead th {\n",
              "        text-align: right;\n",
              "    }\n",
              "</style>\n",
              "<table border=\"1\" class=\"dataframe\">\n",
              "  <thead>\n",
              "    <tr style=\"text-align: right;\">\n",
              "      <th></th>\n",
              "      <th>age</th>\n",
              "      <th>app_count</th>\n",
              "      <th>auto_payment</th>\n",
              "      <th>avg_call_duration</th>\n",
              "      <th>avg_top_up_count</th>\n",
              "      <th>call_drops</th>\n",
              "      <th>churn</th>\n",
              "      <th>customer_support_calls</th>\n",
              "      <th>data_usage</th>\n",
              "      <th>id</th>\n",
              "      <th>...</th>\n",
              "      <th>satisfaction_level</th>\n",
              "      <th>satisfaction_score</th>\n",
              "      <th>service_type_Broadband</th>\n",
              "      <th>service_type_Postpaid</th>\n",
              "      <th>service_type_Prepaid</th>\n",
              "      <th>start_age</th>\n",
              "      <th>tenure</th>\n",
              "      <th>tenure_encoded1</th>\n",
              "      <th>total_usage</th>\n",
              "      <th>usage_intensity</th>\n",
              "    </tr>\n",
              "  </thead>\n",
              "  <tbody>\n",
              "    <tr>\n",
              "      <th>39863</th>\n",
              "      <td>20</td>\n",
              "      <td>0</td>\n",
              "      <td>0</td>\n",
              "      <td>43.46</td>\n",
              "      <td>0</td>\n",
              "      <td>10.0</td>\n",
              "      <td>0</td>\n",
              "      <td>14</td>\n",
              "      <td>38.26</td>\n",
              "      <td>429a73d9-297d-4ea6-b7d0-b971dc481cb4</td>\n",
              "      <td>...</td>\n",
              "      <td>0.0</td>\n",
              "      <td>2.23</td>\n",
              "      <td>False</td>\n",
              "      <td>True</td>\n",
              "      <td>False</td>\n",
              "      <td>15</td>\n",
              "      <td>65</td>\n",
              "      <td>1.0</td>\n",
              "      <td>87.59</td>\n",
              "      <td>0.651614</td>\n",
              "    </tr>\n",
              "  </tbody>\n",
              "</table>\n",
              "<p>1 rows × 23 columns</p>\n",
              "</div>\n",
              "    <div class=\"colab-df-buttons\">\n",
              "\n",
              "  <div class=\"colab-df-container\">\n",
              "    <button class=\"colab-df-convert\" onclick=\"convertToInteractive('df-f3e39e6e-17d2-4f12-b135-6c6855402729')\"\n",
              "            title=\"Convert this dataframe to an interactive table.\"\n",
              "            style=\"display:none;\">\n",
              "\n",
              "  <svg xmlns=\"http://www.w3.org/2000/svg\" height=\"24px\" viewBox=\"0 -960 960 960\">\n",
              "    <path d=\"M120-120v-720h720v720H120Zm60-500h600v-160H180v160Zm220 220h160v-160H400v160Zm0 220h160v-160H400v160ZM180-400h160v-160H180v160Zm440 0h160v-160H620v160ZM180-180h160v-160H180v160Zm440 0h160v-160H620v160Z\"/>\n",
              "  </svg>\n",
              "    </button>\n",
              "\n",
              "  <style>\n",
              "    .colab-df-container {\n",
              "      display:flex;\n",
              "      gap: 12px;\n",
              "    }\n",
              "\n",
              "    .colab-df-convert {\n",
              "      background-color: #E8F0FE;\n",
              "      border: none;\n",
              "      border-radius: 50%;\n",
              "      cursor: pointer;\n",
              "      display: none;\n",
              "      fill: #1967D2;\n",
              "      height: 32px;\n",
              "      padding: 0 0 0 0;\n",
              "      width: 32px;\n",
              "    }\n",
              "\n",
              "    .colab-df-convert:hover {\n",
              "      background-color: #E2EBFA;\n",
              "      box-shadow: 0px 1px 2px rgba(60, 64, 67, 0.3), 0px 1px 3px 1px rgba(60, 64, 67, 0.15);\n",
              "      fill: #174EA6;\n",
              "    }\n",
              "\n",
              "    .colab-df-buttons div {\n",
              "      margin-bottom: 4px;\n",
              "    }\n",
              "\n",
              "    [theme=dark] .colab-df-convert {\n",
              "      background-color: #3B4455;\n",
              "      fill: #D2E3FC;\n",
              "    }\n",
              "\n",
              "    [theme=dark] .colab-df-convert:hover {\n",
              "      background-color: #434B5C;\n",
              "      box-shadow: 0px 1px 3px 1px rgba(0, 0, 0, 0.15);\n",
              "      filter: drop-shadow(0px 1px 2px rgba(0, 0, 0, 0.3));\n",
              "      fill: #FFFFFF;\n",
              "    }\n",
              "  </style>\n",
              "\n",
              "    <script>\n",
              "      const buttonEl =\n",
              "        document.querySelector('#df-f3e39e6e-17d2-4f12-b135-6c6855402729 button.colab-df-convert');\n",
              "      buttonEl.style.display =\n",
              "        google.colab.kernel.accessAllowed ? 'block' : 'none';\n",
              "\n",
              "      async function convertToInteractive(key) {\n",
              "        const element = document.querySelector('#df-f3e39e6e-17d2-4f12-b135-6c6855402729');\n",
              "        const dataTable =\n",
              "          await google.colab.kernel.invokeFunction('convertToInteractive',\n",
              "                                                    [key], {});\n",
              "        if (!dataTable) return;\n",
              "\n",
              "        const docLinkHtml = 'Like what you see? Visit the ' +\n",
              "          '<a target=\"_blank\" href=https://colab.research.google.com/notebooks/data_table.ipynb>data table notebook</a>'\n",
              "          + ' to learn more about interactive tables.';\n",
              "        element.innerHTML = '';\n",
              "        dataTable['output_type'] = 'display_data';\n",
              "        await google.colab.output.renderOutput(dataTable, element);\n",
              "        const docLink = document.createElement('div');\n",
              "        docLink.innerHTML = docLinkHtml;\n",
              "        element.appendChild(docLink);\n",
              "      }\n",
              "    </script>\n",
              "  </div>\n",
              "\n",
              "\n",
              "    </div>\n",
              "  </div>\n"
            ],
            "application/vnd.google.colaboratory.intrinsic+json": {
              "type": "dataframe"
            }
          },
          "metadata": {},
          "execution_count": 232
        }
      ]
    },
    {
      "cell_type": "code",
      "source": [
        "\n",
        "df = df[df[\"age\"] > (df[\"tenure\"] // 12)]\n",
        "val_df = val_df[val_df[\"age\"] > (val_df[\"tenure\"] // 12)]\n",
        "test_df = test_df[test_df[\"age\"] > (test_df[\"tenure\"] // 12)]\n"
      ],
      "metadata": {
        "id": "Tx9iJmEN_IqR"
      },
      "execution_count": 185,
      "outputs": []
    },
    {
      "cell_type": "code",
      "source": [
        "df = df[~((df.customer_support_calls == 0) & (df.satisfaction_score > 0))]\n",
        "val_df = val_df[~((val_df.customer_support_calls == 0) & (val_df.satisfaction_score > 0))]\n",
        "test_df = test_df[~((test_df.customer_support_calls == 0) & (test_df.satisfaction_score > 0))]\n"
      ],
      "metadata": {
        "id": "PaDOKUe2Dyc0"
      },
      "execution_count": 186,
      "outputs": []
    },
    {
      "cell_type": "markdown",
      "source": [
        "![image.png](data:image/png;base64,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)"
      ],
      "metadata": {
        "id": "B13RxjpmQOIh"
      }
    },
    {
      "cell_type": "code",
      "source": [
        "df.drop(\"id\", inplace=True, axis=1)\n",
        "val_df.drop(\"id\", inplace=True, axis=1)\n",
        "test_df.drop(\"id\", inplace=True, axis=1)"
      ],
      "metadata": {
        "id": "u6Fh9nLsQ1Fe"
      },
      "execution_count": 191,
      "outputs": []
    },
    {
      "cell_type": "code",
      "source": [
        "customer_ids_train = df[\"id\"]\n",
        "customer_ids_val = val_df[\"id\"]\n",
        "customer_ids_test = test_df[\"id\"]"
      ],
      "metadata": {
        "id": "ZlqSq5JCP73R"
      },
      "execution_count": 188,
      "outputs": []
    },
    {
      "cell_type": "code",
      "source": [
        "X_train = df.drop(columns='churn')  # Hedef değişkeni dışarıda bırak\n",
        "y_train = df['churn']\n"
      ],
      "metadata": {
        "id": "U85fY3H5jjcc"
      },
      "execution_count": 193,
      "outputs": []
    },
    {
      "cell_type": "code",
      "source": [
        "X_val = val_df.drop(columns='churn')\n",
        "y_val = val_df['churn']"
      ],
      "metadata": {
        "id": "ux00efmkeglU"
      },
      "execution_count": 194,
      "outputs": []
    },
    {
      "cell_type": "markdown",
      "source": [
        "# LightGBM"
      ],
      "metadata": {
        "id": "QgfEtbPGj5v9"
      }
    },
    {
      "cell_type": "code",
      "source": [
        "from lightgbm import LGBMClassifier\n",
        "from sklearn.metrics import roc_auc_score, precision_score, recall_score, f1_score\n",
        "\n",
        "# Modeli oluştur\n",
        "model = LGBMClassifier(random_state=101, objective='binary', scale_pos_weight=5)\n",
        "\n",
        "# Modeli eğit\n",
        "model.fit(X_train, y_train)\n",
        "\n",
        "\n",
        "y_pred = model.predict(X_val)\n",
        "y_prob = model.predict_proba(X_val)[:, 1]\n",
        "\n",
        "# Metrikleri hesapla\n",
        "auc = roc_auc_score(y_val, y_prob)\n",
        "precision = precision_score(y_val, y_pred)\n",
        "recall = recall_score(y_val, y_pred)\n",
        "f1 = f1_score(y_val, y_pred)\n",
        "\n",
        "# Sonuçları yazdır\n",
        "print(f\"AUC: {auc:.4f}\")\n",
        "print(f\"Precision: {precision:.4f}\")\n",
        "print(f\"Recall: {recall:.4f}\")\n",
        "print(f\"F1-score: {f1:.4f}\")\n"
      ],
      "metadata": {
        "colab": {
          "base_uri": "https://localhost:8080/"
        },
        "id": "MjLioPfAhv1x",
        "outputId": "85eaf5b4-3a45-46ac-9f7b-36c192b21621"
      },
      "execution_count": 84,
      "outputs": [
        {
          "output_type": "stream",
          "name": "stdout",
          "text": [
            "[LightGBM] [Info] Number of positive: 93321, number of negative: 7218439\n",
            "[LightGBM] [Info] Auto-choosing row-wise multi-threading, the overhead of testing was 0.236451 seconds.\n",
            "You can set `force_row_wise=true` to remove the overhead.\n",
            "And if memory is not enough, you can set `force_col_wise=true`.\n",
            "[LightGBM] [Info] Total Bins 2344\n",
            "[LightGBM] [Info] Number of data points in the train set: 7311760, number of used features: 21\n",
            "[LightGBM] [Info] [binary:BoostFromScore]: pavg=0.012763 -> initscore=-4.348349\n",
            "[LightGBM] [Info] Start training from score -4.348349\n",
            "AUC: 0.8044\n",
            "Precision: 0.0000\n",
            "Recall: 0.0000\n",
            "F1-score: 0.0000\n"
          ]
        }
      ]
    },
    {
      "cell_type": "code",
      "source": [
        "from imblearn.over_sampling import SMOTE\n",
        "from collections import Counter\n",
        "smote = SMOTE(random_state=42, k_neighbors=3,sampling_strategy= \"minority\")\n",
        "X_resampled, y_resampled = smote.fit_resample(X_train, y_train)\n",
        "\n",
        "print(\"Orijinal veri dağılımı:\", Counter(y_train))\n",
        "print(\"SMOTE sonrası veri dağılımı:\", Counter(y_resampled))\n"
      ],
      "metadata": {
        "colab": {
          "base_uri": "https://localhost:8080/"
        },
        "id": "kYtWsA8ElqN4",
        "outputId": "dee46805-863a-4416-802a-896d400d27d9"
      },
      "execution_count": 196,
      "outputs": [
        {
          "output_type": "stream",
          "name": "stdout",
          "text": [
            "Orijinal veri dağılımı: Counter({0: 6875104, 1: 88997})\n",
            "SMOTE sonrası veri dağılımı: Counter({0: 6875104, 1: 6875104})\n"
          ]
        }
      ]
    },
    {
      "cell_type": "code",
      "source": [
        "from lightgbm import LGBMClassifier\n",
        "from sklearn.metrics import roc_auc_score, precision_score, recall_score, f1_score\n",
        "\n",
        "model = LGBMClassifier(random_state=101, objective='binary', scale_pos_weight=5)\n",
        "\n",
        "model.fit(X_resampled, y_resampled)\n",
        "\n",
        "y_pred = model.predict(X_val)\n",
        "y_prob = model.predict_proba(X_val)[:, 1]\n",
        "\n",
        "auc = roc_auc_score(y_val, y_prob)\n",
        "precision = precision_score(y_val, y_pred)\n",
        "recall = recall_score(y_val, y_pred)\n",
        "f1 = f1_score(y_val, y_pred)\n",
        "\n",
        "print(f\"AUC: {auc:.4f}\")\n",
        "print(f\"Precision: {precision:.4f}\")\n",
        "print(f\"Recall: {recall:.4f}\")\n",
        "print(f\"F1-score: {f1:.4f}\")\n"
      ],
      "metadata": {
        "colab": {
          "base_uri": "https://localhost:8080/"
        },
        "id": "jcxguh6GAmAh",
        "outputId": "c74acc73-1273-4873-f13c-c9bb3d41b1ab"
      },
      "execution_count": 197,
      "outputs": [
        {
          "output_type": "stream",
          "name": "stdout",
          "text": [
            "[LightGBM] [Info] Number of positive: 6875104, number of negative: 6875104\n",
            "[LightGBM] [Info] Auto-choosing row-wise multi-threading, the overhead of testing was 0.621005 seconds.\n",
            "You can set `force_row_wise=true` to remove the overhead.\n",
            "And if memory is not enough, you can set `force_col_wise=true`.\n",
            "[LightGBM] [Info] Total Bins 3083\n",
            "[LightGBM] [Info] Number of data points in the train set: 13750208, number of used features: 21\n",
            "[LightGBM] [Info] [binary:BoostFromScore]: pavg=0.500000 -> initscore=0.000000\n",
            "AUC: 0.7087\n",
            "Precision: 0.0305\n",
            "Recall: 0.2450\n",
            "F1-score: 0.0543\n"
          ]
        }
      ]
    },
    {
      "cell_type": "code",
      "source": [
        "from sklearn.metrics import confusion_matrix, classification_report\n",
        "\n",
        "cm = confusion_matrix(y_val, y_pred)\n",
        "\n",
        "labels = [\"Not Churn\", \"Churn\"]\n",
        "\n",
        "plt.figure(figsize=(6,5))\n",
        "sns.heatmap(cm, annot=True, fmt=\"d\", cmap=\"Blues\", xticklabels=labels, yticklabels=labels)\n",
        "plt.xlabel(\"Predicted Label\")\n",
        "plt.ylabel(\"True Label\")\n",
        "plt.title(\"Confusion Matrix\")\n",
        "plt.show()"
      ],
      "metadata": {
        "colab": {
          "base_uri": "https://localhost:8080/",
          "height": 487
        },
        "id": "L-cYRLWKB_oc",
        "outputId": "b4789e1c-39f3-4081-f40f-eed2d8587f00"
      },
      "execution_count": 119,
      "outputs": [
        {
          "output_type": "display_data",
          "data": {
            "text/plain": [
              "<Figure size 600x500 with 2 Axes>"
            ],
            "image/png": "[encoded data removed]"
          },
          "metadata": {}
        }
      ]
    },
    {
      "cell_type": "code",
      "source": [
        "model.feature_importances_\n",
        "\n",
        "feats = pd.DataFrame(index=X_train.columns, data=model.feature_importances_, columns=['lgbm_importance'])\n",
        "lgbm_imp_feats = feats.sort_values(\"lgbm_importance\")\n",
        "lgbm_imp_feats\n"
      ],
      "metadata": {
        "colab": {
          "base_uri": "https://localhost:8080/",
          "height": 708
        },
        "id": "Dv8Yeo_5B2Ov",
        "outputId": "2844e8b9-5d54-482f-802d-2c505ab3d882"
      },
      "execution_count": 120,
      "outputs": [
        {
          "output_type": "execute_result",
          "data": {
            "text/plain": [
              "                        lgbm_importance\n",
              "usage_intensity                       4\n",
              "total_usage                           7\n",
              "start_age                            20\n",
              "avg_call_duration                    23\n",
              "avg_top_up_count                     30\n",
              "service_type_Broadband               31\n",
              "monthly_charge                       37\n",
              "service_type_Postpaid                45\n",
              "roaming_usage                        46\n",
              "data_usage                           48\n",
              "service_type_Prepaid                 50\n",
              "tenure                               55\n",
              "tenure_encoded1                      83\n",
              "auto_payment                         90\n",
              "app_count                            91\n",
              "customer_support_calls               98\n",
              "age                                 138\n",
              "satisfaction_score                  156\n",
              "overdue_payments                    188\n",
              "satisfaction_level                  336\n",
              "call_drops                         1424"
            ],
            "text/html": [
              "\n",
              "  <div id=\"df-9c8faa89-5b50-4089-9123-2bad914450c3\" class=\"colab-df-container\">\n",
              "    <div>\n",
              "<style scoped>\n",
              "    .dataframe tbody tr th:only-of-type {\n",
              "        vertical-align: middle;\n",
              "    }\n",
              "\n",
              "    .dataframe tbody tr th {\n",
              "        vertical-align: top;\n",
              "    }\n",
              "\n",
              "    .dataframe thead th {\n",
              "        text-align: right;\n",
              "    }\n",
              "</style>\n",
              "<table border=\"1\" class=\"dataframe\">\n",
              "  <thead>\n",
              "    <tr style=\"text-align: right;\">\n",
              "      <th></th>\n",
              "      <th>lgbm_importance</th>\n",
              "    </tr>\n",
              "  </thead>\n",
              "  <tbody>\n",
              "    <tr>\n",
              "      <th>usage_intensity</th>\n",
              "      <td>4</td>\n",
              "    </tr>\n",
              "    <tr>\n",
              "      <th>total_usage</th>\n",
              "      <td>7</td>\n",
              "    </tr>\n",
              "    <tr>\n",
              "      <th>start_age</th>\n",
              "      <td>20</td>\n",
              "    </tr>\n",
              "    <tr>\n",
              "      <th>avg_call_duration</th>\n",
              "      <td>23</td>\n",
              "    </tr>\n",
              "    <tr>\n",
              "      <th>avg_top_up_count</th>\n",
              "      <td>30</td>\n",
              "    </tr>\n",
              "    <tr>\n",
              "      <th>service_type_Broadband</th>\n",
              "      <td>31</td>\n",
              "    </tr>\n",
              "    <tr>\n",
              "      <th>monthly_charge</th>\n",
              "      <td>37</td>\n",
              "    </tr>\n",
              "    <tr>\n",
              "      <th>service_type_Postpaid</th>\n",
              "      <td>45</td>\n",
              "    </tr>\n",
              "    <tr>\n",
              "      <th>roaming_usage</th>\n",
              "      <td>46</td>\n",
              "    </tr>\n",
              "    <tr>\n",
              "      <th>data_usage</th>\n",
              "      <td>48</td>\n",
              "    </tr>\n",
              "    <tr>\n",
              "      <th>service_type_Prepaid</th>\n",
              "      <td>50</td>\n",
              "    </tr>\n",
              "    <tr>\n",
              "      <th>tenure</th>\n",
              "      <td>55</td>\n",
              "    </tr>\n",
              "    <tr>\n",
              "      <th>tenure_encoded1</th>\n",
              "      <td>83</td>\n",
              "    </tr>\n",
              "    <tr>\n",
              "      <th>auto_payment</th>\n",
              "      <td>90</td>\n",
              "    </tr>\n",
              "    <tr>\n",
              "      <th>app_count</th>\n",
              "      <td>91</td>\n",
              "    </tr>\n",
              "    <tr>\n",
              "      <th>customer_support_calls</th>\n",
              "      <td>98</td>\n",
              "    </tr>\n",
              "    <tr>\n",
              "      <th>age</th>\n",
              "      <td>138</td>\n",
              "    </tr>\n",
              "    <tr>\n",
              "      <th>satisfaction_score</th>\n",
              "      <td>156</td>\n",
              "    </tr>\n",
              "    <tr>\n",
              "      <th>overdue_payments</th>\n",
              "      <td>188</td>\n",
              "    </tr>\n",
              "    <tr>\n",
              "      <th>satisfaction_level</th>\n",
              "      <td>336</td>\n",
              "    </tr>\n",
              "    <tr>\n",
              "      <th>call_drops</th>\n",
              "      <td>1424</td>\n",
              "    </tr>\n",
              "  </tbody>\n",
              "</table>\n",
              "</div>\n",
              "    <div class=\"colab-df-buttons\">\n",
              "\n",
              "  <div class=\"colab-df-container\">\n",
              "    <button class=\"colab-df-convert\" onclick=\"convertToInteractive('df-9c8faa89-5b50-4089-9123-2bad914450c3')\"\n",
              "            title=\"Convert this dataframe to an interactive table.\"\n",
              "            style=\"display:none;\">\n",
              "\n",
              "  <svg xmlns=\"http://www.w3.org/2000/svg\" height=\"24px\" viewBox=\"0 -960 960 960\">\n",
              "    <path d=\"M120-120v-720h720v720H120Zm60-500h600v-160H180v160Zm220 220h160v-160H400v160Zm0 220h160v-160H400v160ZM180-400h160v-160H180v160Zm440 0h160v-160H620v160ZM180-180h160v-160H180v160Zm440 0h160v-160H620v160Z\"/>\n",
              "  </svg>\n",
              "    </button>\n",
              "\n",
              "  <style>\n",
              "    .colab-df-container {\n",
              "      display:flex;\n",
              "      gap: 12px;\n",
              "    }\n",
              "\n",
              "    .colab-df-convert {\n",
              "      background-color: #E8F0FE;\n",
              "      border: none;\n",
              "      border-radius: 50%;\n",
              "      cursor: pointer;\n",
              "      display: none;\n",
              "      fill: #1967D2;\n",
              "      height: 32px;\n",
              "      padding: 0 0 0 0;\n",
              "      width: 32px;\n",
              "    }\n",
              "\n",
              "    .colab-df-convert:hover {\n",
              "      background-color: #E2EBFA;\n",
              "      box-shadow: 0px 1px 2px rgba(60, 64, 67, 0.3), 0px 1px 3px 1px rgba(60, 64, 67, 0.15);\n",
              "      fill: #174EA6;\n",
              "    }\n",
              "\n",
              "    .colab-df-buttons div {\n",
              "      margin-bottom: 4px;\n",
              "    }\n",
              "\n",
              "    [theme=dark] .colab-df-convert {\n",
              "      background-color: #3B4455;\n",
              "      fill: #D2E3FC;\n",
              "    }\n",
              "\n",
              "    [theme=dark] .colab-df-convert:hover {\n",
              "      background-color: #434B5C;\n",
              "      box-shadow: 0px 1px 3px 1px rgba(0, 0, 0, 0.15);\n",
              "      filter: drop-shadow(0px 1px 2px rgba(0, 0, 0, 0.3));\n",
              "      fill: #FFFFFF;\n",
              "    }\n",
              "  </style>\n",
              "\n",
              "    <script>\n",
              "      const buttonEl =\n",
              "        document.querySelector('#df-9c8faa89-5b50-4089-9123-2bad914450c3 button.colab-df-convert');\n",
              "      buttonEl.style.display =\n",
              "        google.colab.kernel.accessAllowed ? 'block' : 'none';\n",
              "\n",
              "      async function convertToInteractive(key) {\n",
              "        const element = document.querySelector('#df-9c8faa89-5b50-4089-9123-2bad914450c3');\n",
              "        const dataTable =\n",
              "          await google.colab.kernel.invokeFunction('convertToInteractive',\n",
              "                                                    [key], {});\n",
              "        if (!dataTable) return;\n",
              "\n",
              "        const docLinkHtml = 'Like what you see? Visit the ' +\n",
              "          '<a target=\"_blank\" href=https://colab.research.google.com/notebooks/data_table.ipynb>data table notebook</a>'\n",
              "          + ' to learn more about interactive tables.';\n",
              "        element.innerHTML = '';\n",
              "        dataTable['output_type'] = 'display_data';\n",
              "        await google.colab.output.renderOutput(dataTable, element);\n",
              "        const docLink = document.createElement('div');\n",
              "        docLink.innerHTML = docLinkHtml;\n",
              "        element.appendChild(docLink);\n",
              "      }\n",
              "    </script>\n",
              "  </div>\n",
              "\n",
              "\n",
              "<div id=\"df-abfbcada-faa2-4584-bb22-790758819bc5\">\n",
              "  <button class=\"colab-df-quickchart\" onclick=\"quickchart('df-abfbcada-faa2-4584-bb22-790758819bc5')\"\n",
              "            title=\"Suggest charts\"\n",
              "            style=\"display:none;\">\n",
              "\n",
              "<svg xmlns=\"http://www.w3.org/2000/svg\" height=\"24px\"viewBox=\"0 0 24 24\"\n",
              "     width=\"24px\">\n",
              "    <g>\n",
              "        <path d=\"M19 3H5c-1.1 0-2 .9-2 2v14c0 1.1.9 2 2 2h14c1.1 0 2-.9 2-2V5c0-1.1-.9-2-2-2zM9 17H7v-7h2v7zm4 0h-2V7h2v10zm4 0h-2v-4h2v4z\"/>\n",
              "    </g>\n",
              "</svg>\n",
              "  </button>\n",
              "\n",
              "<style>\n",
              "  .colab-df-quickchart {\n",
              "      --bg-color: #E8F0FE;\n",
              "      --fill-color: #1967D2;\n",
              "      --hover-bg-color: #E2EBFA;\n",
              "      --hover-fill-color: #174EA6;\n",
              "      --disabled-fill-color: #AAA;\n",
              "      --disabled-bg-color: #DDD;\n",
              "  }\n",
              "\n",
              "  [theme=dark] .colab-df-quickchart {\n",
              "      --bg-color: #3B4455;\n",
              "      --fill-color: #D2E3FC;\n",
              "      --hover-bg-color: #434B5C;\n",
              "      --hover-fill-color: #FFFFFF;\n",
              "      --disabled-bg-color: #3B4455;\n",
              "      --disabled-fill-color: #666;\n",
              "  }\n",
              "\n",
              "  .colab-df-quickchart {\n",
              "    background-color: var(--bg-color);\n",
              "    border: none;\n",
              "    border-radius: 50%;\n",
              "    cursor: pointer;\n",
              "    display: none;\n",
              "    fill: var(--fill-color);\n",
              "    height: 32px;\n",
              "    padding: 0;\n",
              "    width: 32px;\n",
              "  }\n",
              "\n",
              "  .colab-df-quickchart:hover {\n",
              "    background-color: var(--hover-bg-color);\n",
              "    box-shadow: 0 1px 2px rgba(60, 64, 67, 0.3), 0 1px 3px 1px rgba(60, 64, 67, 0.15);\n",
              "    fill: var(--button-hover-fill-color);\n",
              "  }\n",
              "\n",
              "  .colab-df-quickchart-complete:disabled,\n",
              "  .colab-df-quickchart-complete:disabled:hover {\n",
              "    background-color: var(--disabled-bg-color);\n",
              "    fill: var(--disabled-fill-color);\n",
              "    box-shadow: none;\n",
              "  }\n",
              "\n",
              "  .colab-df-spinner {\n",
              "    border: 2px solid var(--fill-color);\n",
              "    border-color: transparent;\n",
              "    border-bottom-color: var(--fill-color);\n",
              "    animation:\n",
              "      spin 1s steps(1) infinite;\n",
              "  }\n",
              "\n",
              "  @keyframes spin {\n",
              "    0% {\n",
              "      border-color: transparent;\n",
              "      border-bottom-color: var(--fill-color);\n",
              "      border-left-color: var(--fill-color);\n",
              "    }\n",
              "    20% {\n",
              "      border-color: transparent;\n",
              "      border-left-color: var(--fill-color);\n",
              "      border-top-color: var(--fill-color);\n",
              "    }\n",
              "    30% {\n",
              "      border-color: transparent;\n",
              "      border-left-color: var(--fill-color);\n",
              "      border-top-color: var(--fill-color);\n",
              "      border-right-color: var(--fill-color);\n",
              "    }\n",
              "    40% {\n",
              "      border-color: transparent;\n",
              "      border-right-color: var(--fill-color);\n",
              "      border-top-color: var(--fill-color);\n",
              "    }\n",
              "    60% {\n",
              "      border-color: transparent;\n",
              "      border-right-color: var(--fill-color);\n",
              "    }\n",
              "    80% {\n",
              "      border-color: transparent;\n",
              "      border-right-color: var(--fill-color);\n",
              "      border-bottom-color: var(--fill-color);\n",
              "    }\n",
              "    90% {\n",
              "      border-color: transparent;\n",
              "      border-bottom-color: var(--fill-color);\n",
              "    }\n",
              "  }\n",
              "</style>\n",
              "\n",
              "  <script>\n",
              "    async function quickchart(key) {\n",
              "      const quickchartButtonEl =\n",
              "        document.querySelector('#' + key + ' button');\n",
              "      quickchartButtonEl.disabled = true;  // To prevent multiple clicks.\n",
              "      quickchartButtonEl.classList.add('colab-df-spinner');\n",
              "      try {\n",
              "        const charts = await google.colab.kernel.invokeFunction(\n",
              "            'suggestCharts', [key], {});\n",
              "      } catch (error) {\n",
              "        console.error('Error during call to suggestCharts:', error);\n",
              "      }\n",
              "      quickchartButtonEl.classList.remove('colab-df-spinner');\n",
              "      quickchartButtonEl.classList.add('colab-df-quickchart-complete');\n",
              "    }\n",
              "    (() => {\n",
              "      let quickchartButtonEl =\n",
              "        document.querySelector('#df-abfbcada-faa2-4584-bb22-790758819bc5 button');\n",
              "      quickchartButtonEl.style.display =\n",
              "        google.colab.kernel.accessAllowed ? 'block' : 'none';\n",
              "    })();\n",
              "  </script>\n",
              "</div>\n",
              "\n",
              "  <div id=\"id_c493948e-0a57-4697-8cc1-bdb55f92744b\">\n",
              "    <style>\n",
              "      .colab-df-generate {\n",
              "        background-color: #E8F0FE;\n",
              "        border: none;\n",
              "        border-radius: 50%;\n",
              "        cursor: pointer;\n",
              "        display: none;\n",
              "        fill: #1967D2;\n",
              "        height: 32px;\n",
              "        padding: 0 0 0 0;\n",
              "        width: 32px;\n",
              "      }\n",
              "\n",
              "      .colab-df-generate:hover {\n",
              "        background-color: #E2EBFA;\n",
              "        box-shadow: 0px 1px 2px rgba(60, 64, 67, 0.3), 0px 1px 3px 1px rgba(60, 64, 67, 0.15);\n",
              "        fill: #174EA6;\n",
              "      }\n",
              "\n",
              "      [theme=dark] .colab-df-generate {\n",
              "        background-color: #3B4455;\n",
              "        fill: #D2E3FC;\n",
              "      }\n",
              "\n",
              "      [theme=dark] .colab-df-generate:hover {\n",
              "        background-color: #434B5C;\n",
              "        box-shadow: 0px 1px 3px 1px rgba(0, 0, 0, 0.15);\n",
              "        filter: drop-shadow(0px 1px 2px rgba(0, 0, 0, 0.3));\n",
              "        fill: #FFFFFF;\n",
              "      }\n",
              "    </style>\n",
              "    <button class=\"colab-df-generate\" onclick=\"generateWithVariable('lgbm_imp_feats')\"\n",
              "            title=\"Generate code using this dataframe.\"\n",
              "            style=\"display:none;\">\n",
              "\n",
              "  <svg xmlns=\"http://www.w3.org/2000/svg\" height=\"24px\"viewBox=\"0 0 24 24\"\n",
              "       width=\"24px\">\n",
              "    <path d=\"M7,19H8.4L18.45,9,17,7.55,7,17.6ZM5,21V16.75L18.45,3.32a2,2,0,0,1,2.83,0l1.4,1.43a1.91,1.91,0,0,1,.58,1.4,1.91,1.91,0,0,1-.58,1.4L9.25,21ZM18.45,9,17,7.55Zm-12,3A5.31,5.31,0,0,0,4.9,8.1,5.31,5.31,0,0,0,1,6.5,5.31,5.31,0,0,0,4.9,4.9,5.31,5.31,0,0,0,6.5,1,5.31,5.31,0,0,0,8.1,4.9,5.31,5.31,0,0,0,12,6.5,5.46,5.46,0,0,0,6.5,12Z\"/>\n",
              "  </svg>\n",
              "    </button>\n",
              "    <script>\n",
              "      (() => {\n",
              "      const buttonEl =\n",
              "        document.querySelector('#id_c493948e-0a57-4697-8cc1-bdb55f92744b button.colab-df-generate');\n",
              "      buttonEl.style.display =\n",
              "        google.colab.kernel.accessAllowed ? 'block' : 'none';\n",
              "\n",
              "      buttonEl.onclick = () => {\n",
              "        google.colab.notebook.generateWithVariable('lgbm_imp_feats');\n",
              "      }\n",
              "      })();\n",
              "    </script>\n",
              "  </div>\n",
              "\n",
              "    </div>\n",
              "  </div>\n"
            ],
            "application/vnd.google.colaboratory.intrinsic+json": {
              "type": "dataframe",
              "variable_name": "lgbm_imp_feats",
              "summary": "{\n  \"name\": \"lgbm_imp_feats\",\n  \"rows\": 21,\n  \"fields\": [\n    {\n      \"column\": \"lgbm_importance\",\n      \"properties\": {\n        \"dtype\": \"int32\",\n        \"num_unique_values\": 21,\n        \"samples\": [\n          4,\n          156,\n          98\n        ],\n        \"semantic_type\": \"\",\n        \"description\": \"\"\n      }\n    }\n  ]\n}"
            }
          },
          "metadata": {},
          "execution_count": 120
        }
      ]
    },
    {
      "cell_type": "code",
      "source": [
        "plt.figure(figsize=(12,6))\n",
        "ax = sns.barplot(data=lgbm_imp_feats, x=lgbm_imp_feats.index, y='lgbm_importance')\n",
        "ax.bar_label(ax.containers[0],fmt=\"%.3f\")\n",
        "\n",
        "plt.xticks(rotation=90);"
      ],
      "metadata": {
        "colab": {
          "base_uri": "https://localhost:8080/",
          "height": 699
        },
        "id": "R9jJxiLTB4Za",
        "outputId": "1334e510-304b-459d-f51d-8651b70793f1"
      },
      "execution_count": 121,
      "outputs": [
        {
          "output_type": "display_data",
          "data": {
            "text/plain": [
              "<Figure size 1200x600 with 1 Axes>"
            ],
            "image/png": "[encoded data removed]"
          },
          "metadata": {}
        }
      ]
    },
    {
      "cell_type": "code",
      "source": [
        "df['churn_probability'] = model.predict_proba(X_train)[:, 1]\n",
        "\n",
        "churn_customers = df[df['churn_probability'] > 0.8]\n",
        "\n",
        "churn_customers[['customer_id', 'churn_probability']]\n"
      ],
      "metadata": {
        "colab": {
          "base_uri": "https://localhost:8080/",
          "height": 321
        },
        "id": "2DemhG0mDXdD",
        "outputId": "c7a0e698-cb0b-44c3-c117-a1f0aaace170"
      },
      "execution_count": 100,
      "outputs": [
        {
          "output_type": "error",
          "ename": "KeyError",
          "evalue": "\"['customer_id'] not in index\"",
          "traceback": [
            "\u001b[0;31m---------------------------------------------------------------------------\u001b[0m",
            "\u001b[0;31mKeyError\u001b[0m                                  Traceback (most recent call last)",
            "\u001b[0;32m<ipython-input-100-38d2c017cb46>\u001b[0m in \u001b[0;36m<cell line: 0>\u001b[0;34m()\u001b[0m\n\u001b[1;32m      6\u001b[0m \u001b[0;34m\u001b[0m\u001b[0m\n\u001b[1;32m      7\u001b[0m \u001b[0;31m# Listeyi CSV olarak kaydet\u001b[0m\u001b[0;34m\u001b[0m\u001b[0;34m\u001b[0m\u001b[0m\n\u001b[0;32m----> 8\u001b[0;31m \u001b[0mchurn_customers\u001b[0m\u001b[0;34m[\u001b[0m\u001b[0;34m[\u001b[0m\u001b[0;34m'customer_id'\u001b[0m\u001b[0;34m,\u001b[0m \u001b[0;34m'churn_probability'\u001b[0m\u001b[0;34m]\u001b[0m\u001b[0;34m]\u001b[0m\u001b[0;34m\u001b[0m\u001b[0;34m\u001b[0m\u001b[0m\n\u001b[0m",
            "\u001b[0;32m/usr/local/lib/python3.11/dist-packages/pandas/core/frame.py\u001b[0m in \u001b[0;36m__getitem__\u001b[0;34m(self, key)\u001b[0m\n\u001b[1;32m   4106\u001b[0m             \u001b[0;32mif\u001b[0m \u001b[0mis_iterator\u001b[0m\u001b[0;34m(\u001b[0m\u001b[0mkey\u001b[0m\u001b[0;34m)\u001b[0m\u001b[0;34m:\u001b[0m\u001b[0;34m\u001b[0m\u001b[0;34m\u001b[0m\u001b[0m\n\u001b[1;32m   4107\u001b[0m                 \u001b[0mkey\u001b[0m \u001b[0;34m=\u001b[0m \u001b[0mlist\u001b[0m\u001b[0;34m(\u001b[0m\u001b[0mkey\u001b[0m\u001b[0;34m)\u001b[0m\u001b[0;34m\u001b[0m\u001b[0;34m\u001b[0m\u001b[0m\n\u001b[0;32m-> 4108\u001b[0;31m             \u001b[0mindexer\u001b[0m \u001b[0;34m=\u001b[0m \u001b[0mself\u001b[0m\u001b[0;34m.\u001b[0m\u001b[0mcolumns\u001b[0m\u001b[0;34m.\u001b[0m\u001b[0m_get_indexer_strict\u001b[0m\u001b[0;34m(\u001b[0m\u001b[0mkey\u001b[0m\u001b[0;34m,\u001b[0m \u001b[0;34m\"columns\"\u001b[0m\u001b[0;34m)\u001b[0m\u001b[0;34m[\u001b[0m\u001b[0;36m1\u001b[0m\u001b[0;34m]\u001b[0m\u001b[0;34m\u001b[0m\u001b[0;34m\u001b[0m\u001b[0m\n\u001b[0m\u001b[1;32m   4109\u001b[0m \u001b[0;34m\u001b[0m\u001b[0m\n\u001b[1;32m   4110\u001b[0m         \u001b[0;31m# take() does not accept boolean indexers\u001b[0m\u001b[0;34m\u001b[0m\u001b[0;34m\u001b[0m\u001b[0m\n",
            "\u001b[0;32m/usr/local/lib/python3.11/dist-packages/pandas/core/indexes/base.py\u001b[0m in \u001b[0;36m_get_indexer_strict\u001b[0;34m(self, key, axis_name)\u001b[0m\n\u001b[1;32m   6198\u001b[0m             \u001b[0mkeyarr\u001b[0m\u001b[0;34m,\u001b[0m \u001b[0mindexer\u001b[0m\u001b[0;34m,\u001b[0m \u001b[0mnew_indexer\u001b[0m \u001b[0;34m=\u001b[0m \u001b[0mself\u001b[0m\u001b[0;34m.\u001b[0m\u001b[0m_reindex_non_unique\u001b[0m\u001b[0;34m(\u001b[0m\u001b[0mkeyarr\u001b[0m\u001b[0;34m)\u001b[0m\u001b[0;34m\u001b[0m\u001b[0;34m\u001b[0m\u001b[0m\n\u001b[1;32m   6199\u001b[0m \u001b[0;34m\u001b[0m\u001b[0m\n\u001b[0;32m-> 6200\u001b[0;31m         \u001b[0mself\u001b[0m\u001b[0;34m.\u001b[0m\u001b[0m_raise_if_missing\u001b[0m\u001b[0;34m(\u001b[0m\u001b[0mkeyarr\u001b[0m\u001b[0;34m,\u001b[0m \u001b[0mindexer\u001b[0m\u001b[0;34m,\u001b[0m \u001b[0maxis_name\u001b[0m\u001b[0;34m)\u001b[0m\u001b[0;34m\u001b[0m\u001b[0;34m\u001b[0m\u001b[0m\n\u001b[0m\u001b[1;32m   6201\u001b[0m \u001b[0;34m\u001b[0m\u001b[0m\n\u001b[1;32m   6202\u001b[0m         \u001b[0mkeyarr\u001b[0m \u001b[0;34m=\u001b[0m \u001b[0mself\u001b[0m\u001b[0;34m.\u001b[0m\u001b[0mtake\u001b[0m\u001b[0;34m(\u001b[0m\u001b[0mindexer\u001b[0m\u001b[0;34m)\u001b[0m\u001b[0;34m\u001b[0m\u001b[0;34m\u001b[0m\u001b[0m\n",
            "\u001b[0;32m/usr/local/lib/python3.11/dist-packages/pandas/core/indexes/base.py\u001b[0m in \u001b[0;36m_raise_if_missing\u001b[0;34m(self, key, indexer, axis_name)\u001b[0m\n\u001b[1;32m   6250\u001b[0m \u001b[0;34m\u001b[0m\u001b[0m\n\u001b[1;32m   6251\u001b[0m             \u001b[0mnot_found\u001b[0m \u001b[0;34m=\u001b[0m \u001b[0mlist\u001b[0m\u001b[0;34m(\u001b[0m\u001b[0mensure_index\u001b[0m\u001b[0;34m(\u001b[0m\u001b[0mkey\u001b[0m\u001b[0;34m)\u001b[0m\u001b[0;34m[\u001b[0m\u001b[0mmissing_mask\u001b[0m\u001b[0;34m.\u001b[0m\u001b[0mnonzero\u001b[0m\u001b[0;34m(\u001b[0m\u001b[0;34m)\u001b[0m\u001b[0;34m[\u001b[0m\u001b[0;36m0\u001b[0m\u001b[0;34m]\u001b[0m\u001b[0;34m]\u001b[0m\u001b[0;34m.\u001b[0m\u001b[0munique\u001b[0m\u001b[0;34m(\u001b[0m\u001b[0;34m)\u001b[0m\u001b[0;34m)\u001b[0m\u001b[0;34m\u001b[0m\u001b[0;34m\u001b[0m\u001b[0m\n\u001b[0;32m-> 6252\u001b[0;31m             \u001b[0;32mraise\u001b[0m \u001b[0mKeyError\u001b[0m\u001b[0;34m(\u001b[0m\u001b[0;34mf\"{not_found} not in index\"\u001b[0m\u001b[0;34m)\u001b[0m\u001b[0;34m\u001b[0m\u001b[0;34m\u001b[0m\u001b[0m\n\u001b[0m\u001b[1;32m   6253\u001b[0m \u001b[0;34m\u001b[0m\u001b[0m\n\u001b[1;32m   6254\u001b[0m     \u001b[0;34m@\u001b[0m\u001b[0moverload\u001b[0m\u001b[0;34m\u001b[0m\u001b[0;34m\u001b[0m\u001b[0m\n",
            "\u001b[0;31mKeyError\u001b[0m: \"['customer_id'] not in index\""
          ]
        }
      ]
    },
    {
      "cell_type": "code",
      "source": [
        "import pandas as pd\n",
        "\n",
        "df_results = pd.DataFrame({\n",
        "    \"Gerçek Değer\": y_val,\n",
        "    \"Tahmin (0.5 threshold)\": y_pred,\n",
        "    \"Tahmin Olasılığı\": y_prob\n",
        "})\n",
        "\n",
        "print(df_results.sample(20))\n"
      ],
      "metadata": {
        "colab": {
          "base_uri": "https://localhost:8080/"
        },
        "id": "2ECcc9EAilZU",
        "outputId": "2cb15736-dd27-425c-b74d-eedea3bf8407"
      },
      "execution_count": 97,
      "outputs": [
        {
          "output_type": "stream",
          "name": "stdout",
          "text": [
            "        Gerçek Değer  Tahmin (0.5 threshold)  Tahmin Olasılığı\n",
            "988045             0                       0          0.017884\n",
            "755385             0                       1          0.541989\n",
            "182805             0                       0          0.037045\n",
            "264326             0                       0          0.220107\n",
            "413013             0                       0          0.412573\n",
            "41515              0                       0          0.022326\n",
            "88293              0                       0          0.370153\n",
            "700522             0                       0          0.152500\n",
            "999562             0                       0          0.112725\n",
            "723351             0                       0          0.206399\n",
            "904409             0                       0          0.208964\n",
            "352149             0                       0          0.058060\n",
            "162671             0                       0          0.284514\n",
            "584979             0                       0          0.048383\n",
            "323714             0                       0          0.118881\n",
            "427219             0                       0          0.488952\n",
            "777969             0                       0          0.130528\n",
            "545733             1                       0          0.305718\n",
            "787099             0                       0          0.042378\n",
            "529292             0                       0          0.054601\n"
          ]
        }
      ]
    },
    {
      "cell_type": "code",
      "source": [
        "from sklearn.metrics import confusion_matrix, classification_report\n",
        "cm= confusion_matrix(y_test,y_pred)\n",
        "cm"
      ],
      "metadata": {
        "colab": {
          "base_uri": "https://localhost:8080/"
        },
        "id": "FW-LitnKjLo8",
        "outputId": "fa79300c-a7b2-4e42-f85f-f0d85ae02f91"
      },
      "execution_count": 53,
      "outputs": [
        {
          "output_type": "execute_result",
          "data": {
            "text/plain": [
              "array([[1190068,  388279],\n",
              "       [  13009,    8644]])"
            ]
          },
          "metadata": {},
          "execution_count": 53
        }
      ]
    },
    {
      "cell_type": "markdown",
      "source": [
        "# XGB"
      ],
      "metadata": {
        "id": "bGnQA5B0yKfT"
      }
    },
    {
      "cell_type": "code",
      "source": [
        "import optuna\n",
        "import xgboost as xgb\n",
        "from sklearn.metrics import roc_auc_score\n",
        "\n",
        "\n",
        "def objective(trial):\n",
        "    params = {\n",
        "        'objective': 'binary:logistic',\n",
        "        'eval_metric': 'auc',\n",
        "        'learning_rate': trial.suggest_loguniform('learning_rate', 1e-5, 1e-1),\n",
        "        'max_depth': trial.suggest_int('max_depth', 3, 10),\n",
        "        'n_estimators': trial.suggest_int('n_estimators', 50, 500),\n",
        "        'subsample': trial.suggest_uniform('subsample', 0.5, 1.0),\n",
        "        'colsample_bytree': trial.suggest_uniform('colsample_bytree', 0.5, 1.0),\n",
        "        'gamma': trial.suggest_loguniform('gamma', 1e-5, 1e1),\n",
        "    }\n",
        "\n",
        "    model = xgb.XGBClassifier(**params, random_state=42)\n",
        "    model.fit(X_train, y_train)\n",
        "\n",
        "    y_prob = model.predict_proba(X_val)[:, 1]\n",
        "\n",
        "    auc = roc_auc_score(y_val, y_prob)\n",
        "    return auc\n",
        "\n",
        "study = optuna.create_study(direction='maximize')\n",
        "study.optimize(objective, n_trials=10)\n",
        "\n",
        "print(f\"En iyi hiperparametreler: {study.best_params}\")\n",
        "print(f\"En iyi AUC: {study.best_value:.4f}\")\n"
      ],
      "metadata": {
        "colab": {
          "base_uri": "https://localhost:8080/"
        },
        "id": "BPmE5kW9jTP-",
        "outputId": "0685e341-2c96-44b9-91a7-ab0644c19c04"
      },
      "execution_count": 233,
      "outputs": [
        {
          "output_type": "stream",
          "name": "stderr",
          "text": [
            "[I 2025-02-07 22:14:37,584] A new study created in memory with name: no-name-7801fd32-46cc-4e12-9d42-2d30b765840e\n",
            "[I 2025-02-07 22:15:10,979] Trial 0 finished with value: 0.7817824692925893 and parameters: {'learning_rate': 0.0001875928536222332, 'max_depth': 8, 'n_estimators': 100, 'subsample': 0.8761062836827856, 'colsample_bytree': 0.7274696509352512, 'gamma': 0.011687286587345832}. Best is trial 0 with value: 0.7817824692925893.\n",
            "[I 2025-02-07 22:16:50,145] Trial 1 finished with value: 0.7855508566298093 and parameters: {'learning_rate': 0.020116764989885558, 'max_depth': 10, 'n_estimators': 218, 'subsample': 0.6019838405576046, 'colsample_bytree': 0.6168232975742762, 'gamma': 4.407866034366121e-05}. Best is trial 1 with value: 0.7855508566298093.\n",
            "[I 2025-02-07 22:17:03,567] Trial 2 finished with value: 0.7800954234501706 and parameters: {'learning_rate': 0.07396668042624611, 'max_depth': 4, 'n_estimators': 69, 'subsample': 0.5365662430535759, 'colsample_bytree': 0.6087906052046297, 'gamma': 0.02956681057355777}. Best is trial 1 with value: 0.7855508566298093.\n",
            "[I 2025-02-07 22:18:51,678] Trial 3 finished with value: 0.7877631949157644 and parameters: {'learning_rate': 0.019752176474948438, 'max_depth': 4, 'n_estimators': 482, 'subsample': 0.9085089722723454, 'colsample_bytree': 0.9521575474675317, 'gamma': 1.3913806944720795e-05}. Best is trial 3 with value: 0.7877631949157644.\n",
            "[I 2025-02-07 22:19:24,691] Trial 4 finished with value: 0.7881431043493398 and parameters: {'learning_rate': 0.07829158368280782, 'max_depth': 4, 'n_estimators': 145, 'subsample': 0.8570772484377327, 'colsample_bytree': 0.962542317802195, 'gamma': 4.6400455643565165e-05}. Best is trial 4 with value: 0.7881431043493398.\n",
            "[I 2025-02-07 22:21:12,704] Trial 5 finished with value: 0.7776133658919229 and parameters: {'learning_rate': 0.00024411901630476496, 'max_depth': 4, 'n_estimators': 489, 'subsample': 0.6251332107591545, 'colsample_bytree': 0.5018379245212231, 'gamma': 1.2149583337490993e-05}. Best is trial 4 with value: 0.7881431043493398.\n",
            "[I 2025-02-07 22:23:14,171] Trial 6 finished with value: 0.7811643013769821 and parameters: {'learning_rate': 1.4538759697661933e-05, 'max_depth': 9, 'n_estimators': 365, 'subsample': 0.8780439600846317, 'colsample_bytree': 0.7218190214202628, 'gamma': 0.0012205657521646152}. Best is trial 4 with value: 0.7881431043493398.\n",
            "[I 2025-02-07 22:24:54,075] Trial 7 finished with value: 0.7803190161466319 and parameters: {'learning_rate': 0.00152138732812028, 'max_depth': 6, 'n_estimators': 343, 'subsample': 0.6862955187727682, 'colsample_bytree': 0.7026299693386031, 'gamma': 0.007125873763816161}. Best is trial 4 with value: 0.7881431043493398.\n",
            "[I 2025-02-07 22:26:53,539] Trial 8 finished with value: 0.7829876963312651 and parameters: {'learning_rate': 5.169754279191543e-05, 'max_depth': 10, 'n_estimators': 334, 'subsample': 0.7955874766089763, 'colsample_bytree': 0.7442498579588503, 'gamma': 1.1233747036274138e-05}. Best is trial 4 with value: 0.7881431043493398.\n",
            "[I 2025-02-07 22:28:06,687] Trial 9 finished with value: 0.7746521457755775 and parameters: {'learning_rate': 1.609244722128417e-05, 'max_depth': 3, 'n_estimators': 316, 'subsample': 0.7305085766500152, 'colsample_bytree': 0.5918214674603085, 'gamma': 1.290727915601114e-05}. Best is trial 4 with value: 0.7881431043493398.\n"
          ]
        },
        {
          "output_type": "stream",
          "name": "stdout",
          "text": [
            "En iyi hiperparametreler: {'learning_rate': 0.07829158368280782, 'max_depth': 4, 'n_estimators': 145, 'subsample': 0.8570772484377327, 'colsample_bytree': 0.962542317802195, 'gamma': 4.6400455643565165e-05}\n",
            "En iyi AUC: 0.7881\n"
          ]
        }
      ]
    },
    {
      "cell_type": "code",
      "source": [
        "import xgboost as xgb\n",
        "\n",
        "model = xgb.XGBClassifier(\n",
        "    random_state=101,\n",
        "    objective='binary:logistic',\n",
        "    learning_rate=0.0783,\n",
        "    max_depth=4,\n",
        "    n_estimators=145,\n",
        "    subsample=0.8571,\n",
        "    colsample_bytree=0.9625,\n",
        "    gamma=4.64e-05,\n",
        "    scale_pos_weight=5,\n",
        "    use_label_encoder=False,\n",
        "    eval_metric=\"logloss\"\n",
        ")\n",
        "\n",
        "# Modeli eğit\n",
        "model.fit(X_resampled, y_resampled)\n",
        "\n",
        "# Tahmin yap\n",
        "y_pred = model.predict(X_val)\n",
        "y_prob = model.predict_proba(X_val)[:, 1]\n",
        "\n",
        "# Metrikleri hesapla\n",
        "auc = roc_auc_score(y_val, y_prob)\n",
        "precision = precision_score(y_val, y_pred)\n",
        "recall = recall_score(y_val, y_pred)\n",
        "f1 = f1_score(y_val, y_pred)\n",
        "\n",
        "# Sonuçları yazdır\n",
        "print(f\"AUC: {auc:.4f}\")\n",
        "print(f\"Precision: {precision:.4f}\")\n",
        "print(f\"Recall: {recall:.4f}\")\n",
        "print(f\"F1-score: {f1:.4f}\")\n"
      ],
      "metadata": {
        "colab": {
          "base_uri": "https://localhost:8080/"
        },
        "id": "0cVQR2SplA-4",
        "outputId": "f970d187-0966-434f-ee6a-1be967301bcc"
      },
      "execution_count": 198,
      "outputs": [
        {
          "output_type": "stream",
          "name": "stdout",
          "text": [
            "AUC: 0.7269\n",
            "Precision: 0.0267\n",
            "Recall: 0.5853\n",
            "F1-score: 0.0510\n"
          ]
        }
      ]
    },
    {
      "cell_type": "code",
      "source": [
        "cm = confusion_matrix(y_val, y_pred)\n",
        "\n",
        "labels = [\"Not Churn\", \"Churn\"]\n",
        "\n",
        "plt.figure(figsize=(6,5))\n",
        "sns.heatmap(cm, annot=True, fmt=\"d\", cmap=\"Blues\", xticklabels=labels, yticklabels=labels)\n",
        "plt.xlabel(\"Predicted Label\")\n",
        "plt.ylabel(\"True Label\")\n",
        "plt.title(\"Confusion Matrix\")\n",
        "plt.show()"
      ],
      "metadata": {
        "colab": {
          "base_uri": "https://localhost:8080/",
          "height": 485
        },
        "id": "huztbwJXRRbj",
        "outputId": "06dce63b-cdb7-4c95-b5e5-6b534bd0b061"
      },
      "execution_count": 199,
      "outputs": [
        {
          "output_type": "display_data",
          "data": {
            "text/plain": [
              "<Figure size 600x500 with 2 Axes>"
            ],
            "image/png": "[encoded data removed]"
          },
          "metadata": {}
        }
      ]
    },
    {
      "cell_type": "code",
      "source": [
        "feats = pd.DataFrame(index=X_train.columns, data=model.feature_importances_, columns=['xgb_importance'])\n",
        "xgb_imp_feats = feats.sort_values(\"xgb_importance\")\n",
        "\n",
        "plt.figure(figsize=(12,6))\n",
        "ax = sns.barplot(data=xgb_imp_feats, x=xgb_imp_feats.index, y='xgb_importance')\n",
        "ax.bar_label(ax.containers[0],fmt=\"%.3f\")\n",
        "\n",
        "plt.xticks(rotation=90);"
      ],
      "metadata": {
        "colab": {
          "base_uri": "https://localhost:8080/",
          "height": 682
        },
        "id": "kMmFYLt1HDvr",
        "outputId": "fb0f0566-4683-4d20-98b2-142ba3c5b54b"
      },
      "execution_count": 200,
      "outputs": [
        {
          "output_type": "display_data",
          "data": {
            "text/plain": [
              "<Figure size 1200x600 with 1 Axes>"
            ],
            "image/png": "[encoded data removed]"
          },
          "metadata": {}
        }
      ]
    },
    {
      "cell_type": "code",
      "source": [],
      "metadata": {
        "colab": {
          "base_uri": "https://localhost:8080/",
          "height": 263
        },
        "id": "vB5FWFtEcbbx",
        "outputId": "a4086e59-8050-45e2-94c6-7086bc69f375"
      },
      "execution_count": 244,
      "outputs": [
        {
          "output_type": "error",
          "ename": "AttributeError",
          "evalue": "'DataFrame' object has no attribute 'satisfaction_score'",
          "traceback": [
            "\u001b[0;31m---------------------------------------------------------------------------\u001b[0m",
            "\u001b[0;31mAttributeError\u001b[0m                            Traceback (most recent call last)",
            "\u001b[0;32m<ipython-input-244-8bef3d9c6892>\u001b[0m in \u001b[0;36m<cell line: 0>\u001b[0;34m()\u001b[0m\n\u001b[0;32m----> 1\u001b[0;31m \u001b[0mxgb_imp_feats\u001b[0m\u001b[0;34m.\u001b[0m\u001b[0msatisfaction_score\u001b[0m\u001b[0;34m.\u001b[0m\u001b[0mvalue_counts\u001b[0m\u001b[0;34m(\u001b[0m\u001b[0;34m)\u001b[0m\u001b[0;34m\u001b[0m\u001b[0;34m\u001b[0m\u001b[0m\n\u001b[0m",
            "\u001b[0;32m/usr/local/lib/python3.11/dist-packages/pandas/core/generic.py\u001b[0m in \u001b[0;36m__getattr__\u001b[0;34m(self, name)\u001b[0m\n\u001b[1;32m   6297\u001b[0m         ):\n\u001b[1;32m   6298\u001b[0m             \u001b[0;32mreturn\u001b[0m \u001b[0mself\u001b[0m\u001b[0;34m[\u001b[0m\u001b[0mname\u001b[0m\u001b[0;34m]\u001b[0m\u001b[0;34m\u001b[0m\u001b[0;34m\u001b[0m\u001b[0m\n\u001b[0;32m-> 6299\u001b[0;31m         \u001b[0;32mreturn\u001b[0m \u001b[0mobject\u001b[0m\u001b[0;34m.\u001b[0m\u001b[0m__getattribute__\u001b[0m\u001b[0;34m(\u001b[0m\u001b[0mself\u001b[0m\u001b[0;34m,\u001b[0m \u001b[0mname\u001b[0m\u001b[0;34m)\u001b[0m\u001b[0;34m\u001b[0m\u001b[0;34m\u001b[0m\u001b[0m\n\u001b[0m\u001b[1;32m   6300\u001b[0m \u001b[0;34m\u001b[0m\u001b[0m\n\u001b[1;32m   6301\u001b[0m     \u001b[0;34m@\u001b[0m\u001b[0mfinal\u001b[0m\u001b[0;34m\u001b[0m\u001b[0;34m\u001b[0m\u001b[0m\n",
            "\u001b[0;31mAttributeError\u001b[0m: 'DataFrame' object has no attribute 'satisfaction_score'"
          ]
        }
      ]
    },
    {
      "cell_type": "code",
      "source": [
        "from yellowbrick.classifier import ROCAUC\n",
        "\n",
        "visualizer = ROCAUC(model)\n",
        "visualizer.fit(X_train, y_train)\n",
        "visualizer.score(X_val, y_val)\n",
        "visualizer.show()\n"
      ],
      "metadata": {
        "colab": {
          "base_uri": "https://localhost:8080/",
          "height": 541
        },
        "id": "mnTqGiNJi_vG",
        "outputId": "743cf0ad-9b03-47a0-f1a5-14efadf93b0c"
      },
      "execution_count": 201,
      "outputs": [
        {
          "output_type": "display_data",
          "data": {
            "text/plain": [
              "<Figure size 800x550 with 1 Axes>"
            ],
            "image/png": "[encoded data removed]"
          },
          "metadata": {}
        },
        {
          "output_type": "execute_result",
          "data": {
            "text/plain": [
              "<Axes: title={'center': 'ROC Curves for XGBClassifier'}, xlabel='False Positive Rate', ylabel='True Positive Rate'>"
            ]
          },
          "metadata": {},
          "execution_count": 201
        }
      ]
    },
    {
      "cell_type": "markdown",
      "source": [
        "# submmision"
      ],
      "metadata": {
        "id": "LC5kqShbMkgy"
      }
    },
    {
      "cell_type": "code",
      "source": [
        "# Sütun sırasını değiştirme\n",
        "test_df = test_df[[col for col in test_df.columns if col != 'satisfaction_level'] + ['satisfaction_level']]\n"
      ],
      "metadata": {
        "id": "fSkAFjbBNkvP"
      },
      "execution_count": 161,
      "outputs": []
    },
    {
      "cell_type": "code",
      "source": [
        "test_df.info()"
      ],
      "metadata": {
        "colab": {
          "base_uri": "https://localhost:8080/"
        },
        "id": "YLlD3wq1NVc1",
        "outputId": "34f1d82a-365b-4ed1-b35e-1c1e32f6bf83"
      },
      "execution_count": 156,
      "outputs": [
        {
          "output_type": "stream",
          "name": "stdout",
          "text": [
            "<class 'pandas.core.frame.DataFrame'>\n",
            "Index: 869136 entries, 0 to 999999\n",
            "Data columns (total 22 columns):\n",
            " #   Column                  Non-Null Count   Dtype  \n",
            "---  ------                  --------------   -----  \n",
            " 0   age                     869136 non-null  int64  \n",
            " 1   app_count               869136 non-null  int64  \n",
            " 2   auto_payment            869136 non-null  int64  \n",
            " 3   avg_call_duration       869136 non-null  float64\n",
            " 4   avg_top_up_count        869136 non-null  int64  \n",
            " 5   call_drops              869136 non-null  float64\n",
            " 6   churn                   869136 non-null  int64  \n",
            " 7   customer_support_calls  869136 non-null  int64  \n",
            " 8   data_usage              869136 non-null  float64\n",
            " 9   monthly_charge          869136 non-null  float64\n",
            " 10  overdue_payments        869136 non-null  int64  \n",
            " 11  roaming_usage           869136 non-null  float64\n",
            " 12  satisfaction_level      869136 non-null  float64\n",
            " 13  satisfaction_score      869136 non-null  float64\n",
            " 14  service_type_Broadband  869136 non-null  bool   \n",
            " 15  service_type_Postpaid   869136 non-null  bool   \n",
            " 16  service_type_Prepaid    869136 non-null  bool   \n",
            " 17  start_age               869136 non-null  int64  \n",
            " 18  tenure                  869136 non-null  int64  \n",
            " 19  tenure_encoded1         869136 non-null  float64\n",
            " 20  total_usage             869136 non-null  float64\n",
            " 21  usage_intensity         869136 non-null  float64\n",
            "dtypes: bool(3), float64(10), int64(9)\n",
            "memory usage: 135.1 MB\n"
          ]
        }
      ]
    },
    {
      "cell_type": "code",
      "source": [
        "X_test = test_df.drop(columns='churn')\n",
        "y_test = test_df['churn']"
      ],
      "metadata": {
        "id": "9EPKgorKM78R"
      },
      "execution_count": 202,
      "outputs": []
    },
    {
      "cell_type": "code",
      "source": [
        "y_pred = model.predict(X_test)\n",
        "y_prob = model.predict_proba(X_test)[:, 1]\n",
        "\n",
        "auc = roc_auc_score(y_test, y_prob)\n",
        "precision = precision_score(y_test, y_pred)\n",
        "recall = recall_score(y_test, y_pred)\n",
        "f1 = f1_score(y_test, y_pred)\n",
        "\n",
        "print(f\"AUC: {auc:.4f}\")\n",
        "print(f\"Precision: {precision:.4f}\")\n",
        "print(f\"Recall: {recall:.4f}\")\n",
        "print(f\"F1-score: {f1:.4f}\")"
      ],
      "metadata": {
        "colab": {
          "base_uri": "https://localhost:8080/"
        },
        "id": "ps-asNi_xE09",
        "outputId": "f277ca5a-db34-4c7d-df84-f32c7bc55a01"
      },
      "execution_count": 203,
      "outputs": [
        {
          "output_type": "stream",
          "name": "stdout",
          "text": [
            "AUC: 0.7306\n",
            "Precision: 0.0270\n",
            "Recall: 0.5932\n",
            "F1-score: 0.0516\n"
          ]
        }
      ]
    },
    {
      "cell_type": "code",
      "source": [
        "cm = confusion_matrix(y_test, y_pred)\n",
        "\n",
        "labels = [\"Not Churn\", \"Churn\"]\n",
        "\n",
        "plt.figure(figsize=(6,5))\n",
        "sns.heatmap(cm, annot=True, fmt=\"d\", cmap=\"Blues\", xticklabels=labels, yticklabels=labels)\n",
        "plt.xlabel(\"Predicted Label\")\n",
        "plt.ylabel(\"True Label\")\n",
        "plt.title(\"Confusion Matrix\")\n",
        "plt.show()"
      ],
      "metadata": {
        "colab": {
          "base_uri": "https://localhost:8080/",
          "height": 485
        },
        "id": "ZlnA-R3bNtfb",
        "outputId": "2daf8911-04cf-41a8-8c9c-9151a2e2f98a"
      },
      "execution_count": 204,
      "outputs": [
        {
          "output_type": "display_data",
          "data": {
            "text/plain": [
              "<Figure size 600x500 with 2 Axes>"
            ],
            "image/png": "[encoded data removed]"
          },
          "metadata": {}
        }
      ]
    },
    {
      "cell_type": "code",
      "source": [
        "df.to_csv(\"last_train_df.csv\")\n",
        "val_df.to_csv(\"last_val_df.csv\")\n",
        "test_df.to_csv(\"last_test_df.csv\")"
      ],
      "metadata": {
        "id": "0D63MqcmNt1Z"
      },
      "execution_count": 162,
      "outputs": []
    },
    {
      "cell_type": "code",
      "source": [
        "cm = confusion_matrix(y_test, y_pred)\n",
        "cm"
      ],
      "metadata": {
        "colab": {
          "base_uri": "https://localhost:8080/"
        },
        "id": "HeU6bbXLOEhD",
        "outputId": "cc081722-6a4d-4c80-e421-b02d5ff6092e"
      },
      "execution_count": 205,
      "outputs": [
        {
          "output_type": "execute_result",
          "data": {
            "text/plain": [
              "array([[622088, 236009],\n",
              "       [  4491,   6548]])"
            ]
          },
          "metadata": {},
          "execution_count": 205
        }
      ]
    },
    {
      "cell_type": "code",
      "source": [
        "y_prob\n"
      ],
      "metadata": {
        "colab": {
          "base_uri": "https://localhost:8080/"
        },
        "id": "3ylU7pLQS8E7",
        "outputId": "5e6b3a68-4298-4535-9f5e-8a4985f23d97"
      },
      "execution_count": 206,
      "outputs": [
        {
          "output_type": "execute_result",
          "data": {
            "text/plain": [
              "array([0.07135126, 0.15530676, 0.21338691, ..., 0.33039692, 0.45139077,\n",
              "       0.11102585], dtype=float32)"
            ]
          },
          "metadata": {},
          "execution_count": 206
        }
      ]
    },
    {
      "cell_type": "code",
      "source": [
        "churn_list = pd.DataFrame({\n",
        "    \"customer_id\": customer_ids_test,\n",
        "    \"churn_probability\": y_prob,\n",
        "    \"churn\": y_pred\n",
        "})\n",
        "\n",
        "churn_list_sorted = churn_list.sort_values(by=\"churn_probability\", ascending=False)\n"
      ],
      "metadata": {
        "id": "ozxVWut_UFkc"
      },
      "execution_count": 209,
      "outputs": []
    },
    {
      "cell_type": "code",
      "source": [
        "churn_list = pd.DataFrame(X_test.copy())\n",
        "churn_list[\"customer_id\"] = customer_ids_test\n",
        "churn_list[\"churn_probability\"] = y_prob\n",
        "churn_list[\"churn\"] = y_pred\n",
        "\n",
        "churn_list_sorted = churn_list.sort_values(by=\"churn_probability\", ascending=False)\n",
        "\n",
        "churn_list_sorted.head()\n"
      ],
      "metadata": {
        "colab": {
          "base_uri": "https://localhost:8080/",
          "height": 498
        },
        "id": "DEfavICUVAmX",
        "outputId": "784453fe-20a8-4be1-a5ad-9516df5e02f2"
      },
      "execution_count": 226,
      "outputs": [
        {
          "output_type": "execute_result",
          "data": {
            "text/plain": [
              "        age  app_count  auto_payment  avg_call_duration  avg_top_up_count  \\\n",
              "39863    20          0             0              43.46                 0   \n",
              "713337   20          0             0             105.36                 0   \n",
              "407209   19          0             0               7.46                 0   \n",
              "539249   21          0             0              83.40                 0   \n",
              "892695   21          0             0              16.46                 0   \n",
              "\n",
              "        call_drops  customer_support_calls  data_usage  monthly_charge  \\\n",
              "39863         10.0                      14       38.26          134.42   \n",
              "713337         9.0                      14       94.70          137.97   \n",
              "407209        10.0                       8      196.61          677.04   \n",
              "539249        10.0                      15      149.76         1135.10   \n",
              "892695        10.0                      15      113.95         1136.96   \n",
              "\n",
              "        overdue_payments  ...  service_type_Postpaid  service_type_Prepaid  \\\n",
              "39863                  4  ...                   True                 False   \n",
              "713337                 3  ...                   True                 False   \n",
              "407209                 4  ...                   True                 False   \n",
              "539249                 3  ...                   True                 False   \n",
              "892695                 3  ...                   True                 False   \n",
              "\n",
              "        start_age  tenure  tenure_encoded1  total_usage  usage_intensity  \\\n",
              "39863          15      65              1.0        87.59         0.651614   \n",
              "713337         12      97              2.0       248.37         1.800174   \n",
              "407209          9     130              2.0       221.03         0.326465   \n",
              "539249         20      21              1.0       285.55         0.251564   \n",
              "892695         20      21              1.0       135.65         0.119309   \n",
              "\n",
              "                                 customer_id  churn_probability  churn  \n",
              "39863   429a73d9-297d-4ea6-b7d0-b971dc481cb4           0.962877      1  \n",
              "713337  1dc8f173-05e0-4ce4-86ee-c55bef28471f           0.962290      1  \n",
              "407209  52376f3a-3dda-4561-94e9-e39b4883f30a           0.962290      1  \n",
              "539249  d908a9e8-ad46-4b20-a41c-cec8856567e6           0.962034      1  \n",
              "892695  f9d2fdfc-6117-48ce-8a8e-1ea94d6086be           0.962034      1  \n",
              "\n",
              "[5 rows x 24 columns]"
            ],
            "text/html": [
              "\n",
              "  <div id=\"df-68615959-b3c6-47bc-b658-d59e9af25bb8\" class=\"colab-df-container\">\n",
              "    <div>\n",
              "<style scoped>\n",
              "    .dataframe tbody tr th:only-of-type {\n",
              "        vertical-align: middle;\n",
              "    }\n",
              "\n",
              "    .dataframe tbody tr th {\n",
              "        vertical-align: top;\n",
              "    }\n",
              "\n",
              "    .dataframe thead th {\n",
              "        text-align: right;\n",
              "    }\n",
              "</style>\n",
              "<table border=\"1\" class=\"dataframe\">\n",
              "  <thead>\n",
              "    <tr style=\"text-align: right;\">\n",
              "      <th></th>\n",
              "      <th>age</th>\n",
              "      <th>app_count</th>\n",
              "      <th>auto_payment</th>\n",
              "      <th>avg_call_duration</th>\n",
              "      <th>avg_top_up_count</th>\n",
              "      <th>call_drops</th>\n",
              "      <th>customer_support_calls</th>\n",
              "      <th>data_usage</th>\n",
              "      <th>monthly_charge</th>\n",
              "      <th>overdue_payments</th>\n",
              "      <th>...</th>\n",
              "      <th>service_type_Postpaid</th>\n",
              "      <th>service_type_Prepaid</th>\n",
              "      <th>start_age</th>\n",
              "      <th>tenure</th>\n",
              "      <th>tenure_encoded1</th>\n",
              "      <th>total_usage</th>\n",
              "      <th>usage_intensity</th>\n",
              "      <th>customer_id</th>\n",
              "      <th>churn_probability</th>\n",
              "      <th>churn</th>\n",
              "    </tr>\n",
              "  </thead>\n",
              "  <tbody>\n",
              "    <tr>\n",
              "      <th>39863</th>\n",
              "      <td>20</td>\n",
              "      <td>0</td>\n",
              "      <td>0</td>\n",
              "      <td>43.46</td>\n",
              "      <td>0</td>\n",
              "      <td>10.0</td>\n",
              "      <td>14</td>\n",
              "      <td>38.26</td>\n",
              "      <td>134.42</td>\n",
              "      <td>4</td>\n",
              "      <td>...</td>\n",
              "      <td>True</td>\n",
              "      <td>False</td>\n",
              "      <td>15</td>\n",
              "      <td>65</td>\n",
              "      <td>1.0</td>\n",
              "      <td>87.59</td>\n",
              "      <td>0.651614</td>\n",
              "      <td>429a73d9-297d-4ea6-b7d0-b971dc481cb4</td>\n",
              "      <td>0.962877</td>\n",
              "      <td>1</td>\n",
              "    </tr>\n",
              "    <tr>\n",
              "      <th>713337</th>\n",
              "      <td>20</td>\n",
              "      <td>0</td>\n",
              "      <td>0</td>\n",
              "      <td>105.36</td>\n",
              "      <td>0</td>\n",
              "      <td>9.0</td>\n",
              "      <td>14</td>\n",
              "      <td>94.70</td>\n",
              "      <td>137.97</td>\n",
              "      <td>3</td>\n",
              "      <td>...</td>\n",
              "      <td>True</td>\n",
              "      <td>False</td>\n",
              "      <td>12</td>\n",
              "      <td>97</td>\n",
              "      <td>2.0</td>\n",
              "      <td>248.37</td>\n",
              "      <td>1.800174</td>\n",
              "      <td>1dc8f173-05e0-4ce4-86ee-c55bef28471f</td>\n",
              "      <td>0.962290</td>\n",
              "      <td>1</td>\n",
              "    </tr>\n",
              "    <tr>\n",
              "      <th>407209</th>\n",
              "      <td>19</td>\n",
              "      <td>0</td>\n",
              "      <td>0</td>\n",
              "      <td>7.46</td>\n",
              "      <td>0</td>\n",
              "      <td>10.0</td>\n",
              "      <td>8</td>\n",
              "      <td>196.61</td>\n",
              "      <td>677.04</td>\n",
              "      <td>4</td>\n",
              "      <td>...</td>\n",
              "      <td>True</td>\n",
              "      <td>False</td>\n",
              "      <td>9</td>\n",
              "      <td>130</td>\n",
              "      <td>2.0</td>\n",
              "      <td>221.03</td>\n",
              "      <td>0.326465</td>\n",
              "      <td>52376f3a-3dda-4561-94e9-e39b4883f30a</td>\n",
              "      <td>0.962290</td>\n",
              "      <td>1</td>\n",
              "    </tr>\n",
              "    <tr>\n",
              "      <th>539249</th>\n",
              "      <td>21</td>\n",
              "      <td>0</td>\n",
              "      <td>0</td>\n",
              "      <td>83.40</td>\n",
              "      <td>0</td>\n",
              "      <td>10.0</td>\n",
              "      <td>15</td>\n",
              "      <td>149.76</td>\n",
              "      <td>1135.10</td>\n",
              "      <td>3</td>\n",
              "      <td>...</td>\n",
              "      <td>True</td>\n",
              "      <td>False</td>\n",
              "      <td>20</td>\n",
              "      <td>21</td>\n",
              "      <td>1.0</td>\n",
              "      <td>285.55</td>\n",
              "      <td>0.251564</td>\n",
              "      <td>d908a9e8-ad46-4b20-a41c-cec8856567e6</td>\n",
              "      <td>0.962034</td>\n",
              "      <td>1</td>\n",
              "    </tr>\n",
              "    <tr>\n",
              "      <th>892695</th>\n",
              "      <td>21</td>\n",
              "      <td>0</td>\n",
              "      <td>0</td>\n",
              "      <td>16.46</td>\n",
              "      <td>0</td>\n",
              "      <td>10.0</td>\n",
              "      <td>15</td>\n",
              "      <td>113.95</td>\n",
              "      <td>1136.96</td>\n",
              "      <td>3</td>\n",
              "      <td>...</td>\n",
              "      <td>True</td>\n",
              "      <td>False</td>\n",
              "      <td>20</td>\n",
              "      <td>21</td>\n",
              "      <td>1.0</td>\n",
              "      <td>135.65</td>\n",
              "      <td>0.119309</td>\n",
              "      <td>f9d2fdfc-6117-48ce-8a8e-1ea94d6086be</td>\n",
              "      <td>0.962034</td>\n",
              "      <td>1</td>\n",
              "    </tr>\n",
              "  </tbody>\n",
              "</table>\n",
              "<p>5 rows × 24 columns</p>\n",
              "</div>\n",
              "    <div class=\"colab-df-buttons\">\n",
              "\n",
              "  <div class=\"colab-df-container\">\n",
              "    <button class=\"colab-df-convert\" onclick=\"convertToInteractive('df-68615959-b3c6-47bc-b658-d59e9af25bb8')\"\n",
              "            title=\"Convert this dataframe to an interactive table.\"\n",
              "            style=\"display:none;\">\n",
              "\n",
              "  <svg xmlns=\"http://www.w3.org/2000/svg\" height=\"24px\" viewBox=\"0 -960 960 960\">\n",
              "    <path d=\"M120-120v-720h720v720H120Zm60-500h600v-160H180v160Zm220 220h160v-160H400v160Zm0 220h160v-160H400v160ZM180-400h160v-160H180v160Zm440 0h160v-160H620v160ZM180-180h160v-160H180v160Zm440 0h160v-160H620v160Z\"/>\n",
              "  </svg>\n",
              "    </button>\n",
              "\n",
              "  <style>\n",
              "    .colab-df-container {\n",
              "      display:flex;\n",
              "      gap: 12px;\n",
              "    }\n",
              "\n",
              "    .colab-df-convert {\n",
              "      background-color: #E8F0FE;\n",
              "      border: none;\n",
              "      border-radius: 50%;\n",
              "      cursor: pointer;\n",
              "      display: none;\n",
              "      fill: #1967D2;\n",
              "      height: 32px;\n",
              "      padding: 0 0 0 0;\n",
              "      width: 32px;\n",
              "    }\n",
              "\n",
              "    .colab-df-convert:hover {\n",
              "      background-color: #E2EBFA;\n",
              "      box-shadow: 0px 1px 2px rgba(60, 64, 67, 0.3), 0px 1px 3px 1px rgba(60, 64, 67, 0.15);\n",
              "      fill: #174EA6;\n",
              "    }\n",
              "\n",
              "    .colab-df-buttons div {\n",
              "      margin-bottom: 4px;\n",
              "    }\n",
              "\n",
              "    [theme=dark] .colab-df-convert {\n",
              "      background-color: #3B4455;\n",
              "      fill: #D2E3FC;\n",
              "    }\n",
              "\n",
              "    [theme=dark] .colab-df-convert:hover {\n",
              "      background-color: #434B5C;\n",
              "      box-shadow: 0px 1px 3px 1px rgba(0, 0, 0, 0.15);\n",
              "      filter: drop-shadow(0px 1px 2px rgba(0, 0, 0, 0.3));\n",
              "      fill: #FFFFFF;\n",
              "    }\n",
              "  </style>\n",
              "\n",
              "    <script>\n",
              "      const buttonEl =\n",
              "        document.querySelector('#df-68615959-b3c6-47bc-b658-d59e9af25bb8 button.colab-df-convert');\n",
              "      buttonEl.style.display =\n",
              "        google.colab.kernel.accessAllowed ? 'block' : 'none';\n",
              "\n",
              "      async function convertToInteractive(key) {\n",
              "        const element = document.querySelector('#df-68615959-b3c6-47bc-b658-d59e9af25bb8');\n",
              "        const dataTable =\n",
              "          await google.colab.kernel.invokeFunction('convertToInteractive',\n",
              "                                                    [key], {});\n",
              "        if (!dataTable) return;\n",
              "\n",
              "        const docLinkHtml = 'Like what you see? Visit the ' +\n",
              "          '<a target=\"_blank\" href=https://colab.research.google.com/notebooks/data_table.ipynb>data table notebook</a>'\n",
              "          + ' to learn more about interactive tables.';\n",
              "        element.innerHTML = '';\n",
              "        dataTable['output_type'] = 'display_data';\n",
              "        await google.colab.output.renderOutput(dataTable, element);\n",
              "        const docLink = document.createElement('div');\n",
              "        docLink.innerHTML = docLinkHtml;\n",
              "        element.appendChild(docLink);\n",
              "      }\n",
              "    </script>\n",
              "  </div>\n",
              "\n",
              "\n",
              "<div id=\"df-970a9401-93b3-4691-8efe-95f197ffa75c\">\n",
              "  <button class=\"colab-df-quickchart\" onclick=\"quickchart('df-970a9401-93b3-4691-8efe-95f197ffa75c')\"\n",
              "            title=\"Suggest charts\"\n",
              "            style=\"display:none;\">\n",
              "\n",
              "<svg xmlns=\"http://www.w3.org/2000/svg\" height=\"24px\"viewBox=\"0 0 24 24\"\n",
              "     width=\"24px\">\n",
              "    <g>\n",
              "        <path d=\"M19 3H5c-1.1 0-2 .9-2 2v14c0 1.1.9 2 2 2h14c1.1 0 2-.9 2-2V5c0-1.1-.9-2-2-2zM9 17H7v-7h2v7zm4 0h-2V7h2v10zm4 0h-2v-4h2v4z\"/>\n",
              "    </g>\n",
              "</svg>\n",
              "  </button>\n",
              "\n",
              "<style>\n",
              "  .colab-df-quickchart {\n",
              "      --bg-color: #E8F0FE;\n",
              "      --fill-color: #1967D2;\n",
              "      --hover-bg-color: #E2EBFA;\n",
              "      --hover-fill-color: #174EA6;\n",
              "      --disabled-fill-color: #AAA;\n",
              "      --disabled-bg-color: #DDD;\n",
              "  }\n",
              "\n",
              "  [theme=dark] .colab-df-quickchart {\n",
              "      --bg-color: #3B4455;\n",
              "      --fill-color: #D2E3FC;\n",
              "      --hover-bg-color: #434B5C;\n",
              "      --hover-fill-color: #FFFFFF;\n",
              "      --disabled-bg-color: #3B4455;\n",
              "      --disabled-fill-color: #666;\n",
              "  }\n",
              "\n",
              "  .colab-df-quickchart {\n",
              "    background-color: var(--bg-color);\n",
              "    border: none;\n",
              "    border-radius: 50%;\n",
              "    cursor: pointer;\n",
              "    display: none;\n",
              "    fill: var(--fill-color);\n",
              "    height: 32px;\n",
              "    padding: 0;\n",
              "    width: 32px;\n",
              "  }\n",
              "\n",
              "  .colab-df-quickchart:hover {\n",
              "    background-color: var(--hover-bg-color);\n",
              "    box-shadow: 0 1px 2px rgba(60, 64, 67, 0.3), 0 1px 3px 1px rgba(60, 64, 67, 0.15);\n",
              "    fill: var(--button-hover-fill-color);\n",
              "  }\n",
              "\n",
              "  .colab-df-quickchart-complete:disabled,\n",
              "  .colab-df-quickchart-complete:disabled:hover {\n",
              "    background-color: var(--disabled-bg-color);\n",
              "    fill: var(--disabled-fill-color);\n",
              "    box-shadow: none;\n",
              "  }\n",
              "\n",
              "  .colab-df-spinner {\n",
              "    border: 2px solid var(--fill-color);\n",
              "    border-color: transparent;\n",
              "    border-bottom-color: var(--fill-color);\n",
              "    animation:\n",
              "      spin 1s steps(1) infinite;\n",
              "  }\n",
              "\n",
              "  @keyframes spin {\n",
              "    0% {\n",
              "      border-color: transparent;\n",
              "      border-bottom-color: var(--fill-color);\n",
              "      border-left-color: var(--fill-color);\n",
              "    }\n",
              "    20% {\n",
              "      border-color: transparent;\n",
              "      border-left-color: var(--fill-color);\n",
              "      border-top-color: var(--fill-color);\n",
              "    }\n",
              "    30% {\n",
              "      border-color: transparent;\n",
              "      border-left-color: var(--fill-color);\n",
              "      border-top-color: var(--fill-color);\n",
              "      border-right-color: var(--fill-color);\n",
              "    }\n",
              "    40% {\n",
              "      border-color: transparent;\n",
              "      border-right-color: var(--fill-color);\n",
              "      border-top-color: var(--fill-color);\n",
              "    }\n",
              "    60% {\n",
              "      border-color: transparent;\n",
              "      border-right-color: var(--fill-color);\n",
              "    }\n",
              "    80% {\n",
              "      border-color: transparent;\n",
              "      border-right-color: var(--fill-color);\n",
              "      border-bottom-color: var(--fill-color);\n",
              "    }\n",
              "    90% {\n",
              "      border-color: transparent;\n",
              "      border-bottom-color: var(--fill-color);\n",
              "    }\n",
              "  }\n",
              "</style>\n",
              "\n",
              "  <script>\n",
              "    async function quickchart(key) {\n",
              "      const quickchartButtonEl =\n",
              "        document.querySelector('#' + key + ' button');\n",
              "      quickchartButtonEl.disabled = true;  // To prevent multiple clicks.\n",
              "      quickchartButtonEl.classList.add('colab-df-spinner');\n",
              "      try {\n",
              "        const charts = await google.colab.kernel.invokeFunction(\n",
              "            'suggestCharts', [key], {});\n",
              "      } catch (error) {\n",
              "        console.error('Error during call to suggestCharts:', error);\n",
              "      }\n",
              "      quickchartButtonEl.classList.remove('colab-df-spinner');\n",
              "      quickchartButtonEl.classList.add('colab-df-quickchart-complete');\n",
              "    }\n",
              "    (() => {\n",
              "      let quickchartButtonEl =\n",
              "        document.querySelector('#df-970a9401-93b3-4691-8efe-95f197ffa75c button');\n",
              "      quickchartButtonEl.style.display =\n",
              "        google.colab.kernel.accessAllowed ? 'block' : 'none';\n",
              "    })();\n",
              "  </script>\n",
              "</div>\n",
              "\n",
              "    </div>\n",
              "  </div>\n"
            ],
            "application/vnd.google.colaboratory.intrinsic+json": {
              "type": "dataframe",
              "variable_name": "churn_list_sorted"
            }
          },
          "metadata": {},
          "execution_count": 226
        }
      ]
    },
    {
      "cell_type": "code",
      "source": [
        "churn_list_sorted.to_csv(\"churn_analysis_with_all_features.csv\", index=False)\n"
      ],
      "metadata": {
        "id": "w2kkyz68UO0m"
      },
      "execution_count": 233,
      "outputs": []
    },
    {
      "cell_type": "code",
      "source": [
        "threshold = 0.50  # Churn olasılığı eşiği\n",
        "high_risk_churn = churn_list_sorted[churn_list_sorted[\"churn_probability\"] >= threshold]\n",
        "high_risk_churn"
      ],
      "metadata": {
        "colab": {
          "base_uri": "https://localhost:8080/",
          "height": 929
        },
        "id": "UrDdh1uJUPkX",
        "outputId": "6075f250-ef58-47d5-a341-900668c23549"
      },
      "execution_count": 235,
      "outputs": [
        {
          "output_type": "execute_result",
          "data": {
            "text/plain": [
              "        age  app_count  auto_payment  avg_call_duration  avg_top_up_count  \\\n",
              "39863    20          0             0              43.46                 0   \n",
              "713337   20          0             0             105.36                 0   \n",
              "407209   19          0             0               7.46                 0   \n",
              "539249   21          0             0              83.40                 0   \n",
              "892695   21          0             0              16.46                 0   \n",
              "...     ...        ...           ...                ...               ...   \n",
              "135757   18          0             0              98.22                26   \n",
              "938604   18          0             0              80.75                49   \n",
              "956088   28          0             0              71.71                 0   \n",
              "98375    35          0             0             116.30                 0   \n",
              "855517   20          1             0              73.46                68   \n",
              "\n",
              "        call_drops  customer_support_calls  data_usage  monthly_charge  \\\n",
              "39863         10.0                      14       38.26          134.42   \n",
              "713337         9.0                      14       94.70          137.97   \n",
              "407209        10.0                       8      196.61          677.04   \n",
              "539249        10.0                      15      149.76         1135.10   \n",
              "892695        10.0                      15      113.95         1136.96   \n",
              "...            ...                     ...         ...             ...   \n",
              "135757        19.0                       6      142.11         1805.77   \n",
              "938604        19.0                      13      140.21         1047.04   \n",
              "956088         1.0                      20      111.61          515.62   \n",
              "98375          1.0                      20      155.04          449.61   \n",
              "855517        12.0                       5       74.48          591.90   \n",
              "\n",
              "        overdue_payments  ...  service_type_Postpaid  service_type_Prepaid  \\\n",
              "39863                  4  ...                   True                 False   \n",
              "713337                 3  ...                   True                 False   \n",
              "407209                 4  ...                   True                 False   \n",
              "539249                 3  ...                   True                 False   \n",
              "892695                 3  ...                   True                 False   \n",
              "...                  ...  ...                    ...                   ...   \n",
              "135757                 0  ...                  False                  True   \n",
              "938604                 0  ...                  False                  True   \n",
              "956088                 4  ...                   True                 False   \n",
              "98375                  3  ...                   True                 False   \n",
              "855517                 0  ...                  False                  True   \n",
              "\n",
              "        start_age  tenure  tenure_encoded1  total_usage  usage_intensity  \\\n",
              "39863          15      65              1.0        87.59         0.651614   \n",
              "713337         12      97              2.0       248.37         1.800174   \n",
              "407209          9     130              2.0       221.03         0.326465   \n",
              "539249         20      21              1.0       285.55         0.251564   \n",
              "892695         20      21              1.0       135.65         0.119309   \n",
              "...           ...     ...              ...          ...              ...   \n",
              "135757         16      34              1.0       273.40         0.151404   \n",
              "938604         14      50              1.0       271.38         0.259188   \n",
              "956088          8     251              3.0       217.23         0.421299   \n",
              "98375          13     265              3.0       278.22         0.618803   \n",
              "855517         20       3              0.0       175.52         0.296537   \n",
              "\n",
              "                                 customer_id  churn_probability  churn  \n",
              "39863   429a73d9-297d-4ea6-b7d0-b971dc481cb4           0.962877      1  \n",
              "713337  1dc8f173-05e0-4ce4-86ee-c55bef28471f           0.962290      1  \n",
              "407209  52376f3a-3dda-4561-94e9-e39b4883f30a           0.962290      1  \n",
              "539249  d908a9e8-ad46-4b20-a41c-cec8856567e6           0.962034      1  \n",
              "892695  f9d2fdfc-6117-48ce-8a8e-1ea94d6086be           0.962034      1  \n",
              "...                                      ...                ...    ...  \n",
              "135757  4108624a-42fa-445a-af2a-bfc1dddbde2f           0.500002      1  \n",
              "938604  3f39a245-5ed7-4467-92b1-6f05348929aa           0.500002      1  \n",
              "956088  e3df5998-a1d4-4fb6-8705-28a40a4e3a5a           0.500001      1  \n",
              "98375   7efd1e6b-412a-4cb2-8d74-d0ff3fa0e35b           0.500001      1  \n",
              "855517  f4cc4f03-1085-49b4-9b4b-115d517d94a2           0.500000      1  \n",
              "\n",
              "[242557 rows x 24 columns]"
            ],
            "text/html": [
              "\n",
              "  <div id=\"df-95e8e526-eee9-4602-9b6b-00d5cf87af27\" class=\"colab-df-container\">\n",
              "    <div>\n",
              "<style scoped>\n",
              "    .dataframe tbody tr th:only-of-type {\n",
              "        vertical-align: middle;\n",
              "    }\n",
              "\n",
              "    .dataframe tbody tr th {\n",
              "        vertical-align: top;\n",
              "    }\n",
              "\n",
              "    .dataframe thead th {\n",
              "        text-align: right;\n",
              "    }\n",
              "</style>\n",
              "<table border=\"1\" class=\"dataframe\">\n",
              "  <thead>\n",
              "    <tr style=\"text-align: right;\">\n",
              "      <th></th>\n",
              "      <th>age</th>\n",
              "      <th>app_count</th>\n",
              "      <th>auto_payment</th>\n",
              "      <th>avg_call_duration</th>\n",
              "      <th>avg_top_up_count</th>\n",
              "      <th>call_drops</th>\n",
              "      <th>customer_support_calls</th>\n",
              "      <th>data_usage</th>\n",
              "      <th>monthly_charge</th>\n",
              "      <th>overdue_payments</th>\n",
              "      <th>...</th>\n",
              "      <th>service_type_Postpaid</th>\n",
              "      <th>service_type_Prepaid</th>\n",
              "      <th>start_age</th>\n",
              "      <th>tenure</th>\n",
              "      <th>tenure_encoded1</th>\n",
              "      <th>total_usage</th>\n",
              "      <th>usage_intensity</th>\n",
              "      <th>customer_id</th>\n",
              "      <th>churn_probability</th>\n",
              "      <th>churn</th>\n",
              "    </tr>\n",
              "  </thead>\n",
              "  <tbody>\n",
              "    <tr>\n",
              "      <th>39863</th>\n",
              "      <td>20</td>\n",
              "      <td>0</td>\n",
              "      <td>0</td>\n",
              "      <td>43.46</td>\n",
              "      <td>0</td>\n",
              "      <td>10.0</td>\n",
              "      <td>14</td>\n",
              "      <td>38.26</td>\n",
              "      <td>134.42</td>\n",
              "      <td>4</td>\n",
              "      <td>...</td>\n",
              "      <td>True</td>\n",
              "      <td>False</td>\n",
              "      <td>15</td>\n",
              "      <td>65</td>\n",
              "      <td>1.0</td>\n",
              "      <td>87.59</td>\n",
              "      <td>0.651614</td>\n",
              "      <td>429a73d9-297d-4ea6-b7d0-b971dc481cb4</td>\n",
              "      <td>0.962877</td>\n",
              "      <td>1</td>\n",
              "    </tr>\n",
              "    <tr>\n",
              "      <th>713337</th>\n",
              "      <td>20</td>\n",
              "      <td>0</td>\n",
              "      <td>0</td>\n",
              "      <td>105.36</td>\n",
              "      <td>0</td>\n",
              "      <td>9.0</td>\n",
              "      <td>14</td>\n",
              "      <td>94.70</td>\n",
              "      <td>137.97</td>\n",
              "      <td>3</td>\n",
              "      <td>...</td>\n",
              "      <td>True</td>\n",
              "      <td>False</td>\n",
              "      <td>12</td>\n",
              "      <td>97</td>\n",
              "      <td>2.0</td>\n",
              "      <td>248.37</td>\n",
              "      <td>1.800174</td>\n",
              "      <td>1dc8f173-05e0-4ce4-86ee-c55bef28471f</td>\n",
              "      <td>0.962290</td>\n",
              "      <td>1</td>\n",
              "    </tr>\n",
              "    <tr>\n",
              "      <th>407209</th>\n",
              "      <td>19</td>\n",
              "      <td>0</td>\n",
              "      <td>0</td>\n",
              "      <td>7.46</td>\n",
              "      <td>0</td>\n",
              "      <td>10.0</td>\n",
              "      <td>8</td>\n",
              "      <td>196.61</td>\n",
              "      <td>677.04</td>\n",
              "      <td>4</td>\n",
              "      <td>...</td>\n",
              "      <td>True</td>\n",
              "      <td>False</td>\n",
              "      <td>9</td>\n",
              "      <td>130</td>\n",
              "      <td>2.0</td>\n",
              "      <td>221.03</td>\n",
              "      <td>0.326465</td>\n",
              "      <td>52376f3a-3dda-4561-94e9-e39b4883f30a</td>\n",
              "      <td>0.962290</td>\n",
              "      <td>1</td>\n",
              "    </tr>\n",
              "    <tr>\n",
              "      <th>539249</th>\n",
              "      <td>21</td>\n",
              "      <td>0</td>\n",
              "      <td>0</td>\n",
              "      <td>83.40</td>\n",
              "      <td>0</td>\n",
              "      <td>10.0</td>\n",
              "      <td>15</td>\n",
              "      <td>149.76</td>\n",
              "      <td>1135.10</td>\n",
              "      <td>3</td>\n",
              "      <td>...</td>\n",
              "      <td>True</td>\n",
              "      <td>False</td>\n",
              "      <td>20</td>\n",
              "      <td>21</td>\n",
              "      <td>1.0</td>\n",
              "      <td>285.55</td>\n",
              "      <td>0.251564</td>\n",
              "      <td>d908a9e8-ad46-4b20-a41c-cec8856567e6</td>\n",
              "      <td>0.962034</td>\n",
              "      <td>1</td>\n",
              "    </tr>\n",
              "    <tr>\n",
              "      <th>892695</th>\n",
              "      <td>21</td>\n",
              "      <td>0</td>\n",
              "      <td>0</td>\n",
              "      <td>16.46</td>\n",
              "      <td>0</td>\n",
              "      <td>10.0</td>\n",
              "      <td>15</td>\n",
              "      <td>113.95</td>\n",
              "      <td>1136.96</td>\n",
              "      <td>3</td>\n",
              "      <td>...</td>\n",
              "      <td>True</td>\n",
              "      <td>False</td>\n",
              "      <td>20</td>\n",
              "      <td>21</td>\n",
              "      <td>1.0</td>\n",
              "      <td>135.65</td>\n",
              "      <td>0.119309</td>\n",
              "      <td>f9d2fdfc-6117-48ce-8a8e-1ea94d6086be</td>\n",
              "      <td>0.962034</td>\n",
              "      <td>1</td>\n",
              "    </tr>\n",
              "    <tr>\n",
              "      <th>...</th>\n",
              "      <td>...</td>\n",
              "      <td>...</td>\n",
              "      <td>...</td>\n",
              "      <td>...</td>\n",
              "      <td>...</td>\n",
              "      <td>...</td>\n",
              "      <td>...</td>\n",
              "      <td>...</td>\n",
              "      <td>...</td>\n",
              "      <td>...</td>\n",
              "      <td>...</td>\n",
              "      <td>...</td>\n",
              "      <td>...</td>\n",
              "      <td>...</td>\n",
              "      <td>...</td>\n",
              "      <td>...</td>\n",
              "      <td>...</td>\n",
              "      <td>...</td>\n",
              "      <td>...</td>\n",
              "      <td>...</td>\n",
              "      <td>...</td>\n",
              "    </tr>\n",
              "    <tr>\n",
              "      <th>135757</th>\n",
              "      <td>18</td>\n",
              "      <td>0</td>\n",
              "      <td>0</td>\n",
              "      <td>98.22</td>\n",
              "      <td>26</td>\n",
              "      <td>19.0</td>\n",
              "      <td>6</td>\n",
              "      <td>142.11</td>\n",
              "      <td>1805.77</td>\n",
              "      <td>0</td>\n",
              "      <td>...</td>\n",
              "      <td>False</td>\n",
              "      <td>True</td>\n",
              "      <td>16</td>\n",
              "      <td>34</td>\n",
              "      <td>1.0</td>\n",
              "      <td>273.40</td>\n",
              "      <td>0.151404</td>\n",
              "      <td>4108624a-42fa-445a-af2a-bfc1dddbde2f</td>\n",
              "      <td>0.500002</td>\n",
              "      <td>1</td>\n",
              "    </tr>\n",
              "    <tr>\n",
              "      <th>938604</th>\n",
              "      <td>18</td>\n",
              "      <td>0</td>\n",
              "      <td>0</td>\n",
              "      <td>80.75</td>\n",
              "      <td>49</td>\n",
              "      <td>19.0</td>\n",
              "      <td>13</td>\n",
              "      <td>140.21</td>\n",
              "      <td>1047.04</td>\n",
              "      <td>0</td>\n",
              "      <td>...</td>\n",
              "      <td>False</td>\n",
              "      <td>True</td>\n",
              "      <td>14</td>\n",
              "      <td>50</td>\n",
              "      <td>1.0</td>\n",
              "      <td>271.38</td>\n",
              "      <td>0.259188</td>\n",
              "      <td>3f39a245-5ed7-4467-92b1-6f05348929aa</td>\n",
              "      <td>0.500002</td>\n",
              "      <td>1</td>\n",
              "    </tr>\n",
              "    <tr>\n",
              "      <th>956088</th>\n",
              "      <td>28</td>\n",
              "      <td>0</td>\n",
              "      <td>0</td>\n",
              "      <td>71.71</td>\n",
              "      <td>0</td>\n",
              "      <td>1.0</td>\n",
              "      <td>20</td>\n",
              "      <td>111.61</td>\n",
              "      <td>515.62</td>\n",
              "      <td>4</td>\n",
              "      <td>...</td>\n",
              "      <td>True</td>\n",
              "      <td>False</td>\n",
              "      <td>8</td>\n",
              "      <td>251</td>\n",
              "      <td>3.0</td>\n",
              "      <td>217.23</td>\n",
              "      <td>0.421299</td>\n",
              "      <td>e3df5998-a1d4-4fb6-8705-28a40a4e3a5a</td>\n",
              "      <td>0.500001</td>\n",
              "      <td>1</td>\n",
              "    </tr>\n",
              "    <tr>\n",
              "      <th>98375</th>\n",
              "      <td>35</td>\n",
              "      <td>0</td>\n",
              "      <td>0</td>\n",
              "      <td>116.30</td>\n",
              "      <td>0</td>\n",
              "      <td>1.0</td>\n",
              "      <td>20</td>\n",
              "      <td>155.04</td>\n",
              "      <td>449.61</td>\n",
              "      <td>3</td>\n",
              "      <td>...</td>\n",
              "      <td>True</td>\n",
              "      <td>False</td>\n",
              "      <td>13</td>\n",
              "      <td>265</td>\n",
              "      <td>3.0</td>\n",
              "      <td>278.22</td>\n",
              "      <td>0.618803</td>\n",
              "      <td>7efd1e6b-412a-4cb2-8d74-d0ff3fa0e35b</td>\n",
              "      <td>0.500001</td>\n",
              "      <td>1</td>\n",
              "    </tr>\n",
              "    <tr>\n",
              "      <th>855517</th>\n",
              "      <td>20</td>\n",
              "      <td>1</td>\n",
              "      <td>0</td>\n",
              "      <td>73.46</td>\n",
              "      <td>68</td>\n",
              "      <td>12.0</td>\n",
              "      <td>5</td>\n",
              "      <td>74.48</td>\n",
              "      <td>591.90</td>\n",
              "      <td>0</td>\n",
              "      <td>...</td>\n",
              "      <td>False</td>\n",
              "      <td>True</td>\n",
              "      <td>20</td>\n",
              "      <td>3</td>\n",
              "      <td>0.0</td>\n",
              "      <td>175.52</td>\n",
              "      <td>0.296537</td>\n",
              "      <td>f4cc4f03-1085-49b4-9b4b-115d517d94a2</td>\n",
              "      <td>0.500000</td>\n",
              "      <td>1</td>\n",
              "    </tr>\n",
              "  </tbody>\n",
              "</table>\n",
              "<p>242557 rows × 24 columns</p>\n",
              "</div>\n",
              "    <div class=\"colab-df-buttons\">\n",
              "\n",
              "  <div class=\"colab-df-container\">\n",
              "    <button class=\"colab-df-convert\" onclick=\"convertToInteractive('df-95e8e526-eee9-4602-9b6b-00d5cf87af27')\"\n",
              "            title=\"Convert this dataframe to an interactive table.\"\n",
              "            style=\"display:none;\">\n",
              "\n",
              "  <svg xmlns=\"http://www.w3.org/2000/svg\" height=\"24px\" viewBox=\"0 -960 960 960\">\n",
              "    <path d=\"M120-120v-720h720v720H120Zm60-500h600v-160H180v160Zm220 220h160v-160H400v160Zm0 220h160v-160H400v160ZM180-400h160v-160H180v160Zm440 0h160v-160H620v160ZM180-180h160v-160H180v160Zm440 0h160v-160H620v160Z\"/>\n",
              "  </svg>\n",
              "    </button>\n",
              "\n",
              "  <style>\n",
              "    .colab-df-container {\n",
              "      display:flex;\n",
              "      gap: 12px;\n",
              "    }\n",
              "\n",
              "    .colab-df-convert {\n",
              "      background-color: #E8F0FE;\n",
              "      border: none;\n",
              "      border-radius: 50%;\n",
              "      cursor: pointer;\n",
              "      display: none;\n",
              "      fill: #1967D2;\n",
              "      height: 32px;\n",
              "      padding: 0 0 0 0;\n",
              "      width: 32px;\n",
              "    }\n",
              "\n",
              "    .colab-df-convert:hover {\n",
              "      background-color: #E2EBFA;\n",
              "      box-shadow: 0px 1px 2px rgba(60, 64, 67, 0.3), 0px 1px 3px 1px rgba(60, 64, 67, 0.15);\n",
              "      fill: #174EA6;\n",
              "    }\n",
              "\n",
              "    .colab-df-buttons div {\n",
              "      margin-bottom: 4px;\n",
              "    }\n",
              "\n",
              "    [theme=dark] .colab-df-convert {\n",
              "      background-color: #3B4455;\n",
              "      fill: #D2E3FC;\n",
              "    }\n",
              "\n",
              "    [theme=dark] .colab-df-convert:hover {\n",
              "      background-color: #434B5C;\n",
              "      box-shadow: 0px 1px 3px 1px rgba(0, 0, 0, 0.15);\n",
              "      filter: drop-shadow(0px 1px 2px rgba(0, 0, 0, 0.3));\n",
              "      fill: #FFFFFF;\n",
              "    }\n",
              "  </style>\n",
              "\n",
              "    <script>\n",
              "      const buttonEl =\n",
              "        document.querySelector('#df-95e8e526-eee9-4602-9b6b-00d5cf87af27 button.colab-df-convert');\n",
              "      buttonEl.style.display =\n",
              "        google.colab.kernel.accessAllowed ? 'block' : 'none';\n",
              "\n",
              "      async function convertToInteractive(key) {\n",
              "        const element = document.querySelector('#df-95e8e526-eee9-4602-9b6b-00d5cf87af27');\n",
              "        const dataTable =\n",
              "          await google.colab.kernel.invokeFunction('convertToInteractive',\n",
              "                                                    [key], {});\n",
              "        if (!dataTable) return;\n",
              "\n",
              "        const docLinkHtml = 'Like what you see? Visit the ' +\n",
              "          '<a target=\"_blank\" href=https://colab.research.google.com/notebooks/data_table.ipynb>data table notebook</a>'\n",
              "          + ' to learn more about interactive tables.';\n",
              "        element.innerHTML = '';\n",
              "        dataTable['output_type'] = 'display_data';\n",
              "        await google.colab.output.renderOutput(dataTable, element);\n",
              "        const docLink = document.createElement('div');\n",
              "        docLink.innerHTML = docLinkHtml;\n",
              "        element.appendChild(docLink);\n",
              "      }\n",
              "    </script>\n",
              "  </div>\n",
              "\n",
              "\n",
              "<div id=\"df-377f5e3f-4e8a-4d6b-8e53-3ded699b28b3\">\n",
              "  <button class=\"colab-df-quickchart\" onclick=\"quickchart('df-377f5e3f-4e8a-4d6b-8e53-3ded699b28b3')\"\n",
              "            title=\"Suggest charts\"\n",
              "            style=\"display:none;\">\n",
              "\n",
              "<svg xmlns=\"http://www.w3.org/2000/svg\" height=\"24px\"viewBox=\"0 0 24 24\"\n",
              "     width=\"24px\">\n",
              "    <g>\n",
              "        <path d=\"M19 3H5c-1.1 0-2 .9-2 2v14c0 1.1.9 2 2 2h14c1.1 0 2-.9 2-2V5c0-1.1-.9-2-2-2zM9 17H7v-7h2v7zm4 0h-2V7h2v10zm4 0h-2v-4h2v4z\"/>\n",
              "    </g>\n",
              "</svg>\n",
              "  </button>\n",
              "\n",
              "<style>\n",
              "  .colab-df-quickchart {\n",
              "      --bg-color: #E8F0FE;\n",
              "      --fill-color: #1967D2;\n",
              "      --hover-bg-color: #E2EBFA;\n",
              "      --hover-fill-color: #174EA6;\n",
              "      --disabled-fill-color: #AAA;\n",
              "      --disabled-bg-color: #DDD;\n",
              "  }\n",
              "\n",
              "  [theme=dark] .colab-df-quickchart {\n",
              "      --bg-color: #3B4455;\n",
              "      --fill-color: #D2E3FC;\n",
              "      --hover-bg-color: #434B5C;\n",
              "      --hover-fill-color: #FFFFFF;\n",
              "      --disabled-bg-color: #3B4455;\n",
              "      --disabled-fill-color: #666;\n",
              "  }\n",
              "\n",
              "  .colab-df-quickchart {\n",
              "    background-color: var(--bg-color);\n",
              "    border: none;\n",
              "    border-radius: 50%;\n",
              "    cursor: pointer;\n",
              "    display: none;\n",
              "    fill: var(--fill-color);\n",
              "    height: 32px;\n",
              "    padding: 0;\n",
              "    width: 32px;\n",
              "  }\n",
              "\n",
              "  .colab-df-quickchart:hover {\n",
              "    background-color: var(--hover-bg-color);\n",
              "    box-shadow: 0 1px 2px rgba(60, 64, 67, 0.3), 0 1px 3px 1px rgba(60, 64, 67, 0.15);\n",
              "    fill: var(--button-hover-fill-color);\n",
              "  }\n",
              "\n",
              "  .colab-df-quickchart-complete:disabled,\n",
              "  .colab-df-quickchart-complete:disabled:hover {\n",
              "    background-color: var(--disabled-bg-color);\n",
              "    fill: var(--disabled-fill-color);\n",
              "    box-shadow: none;\n",
              "  }\n",
              "\n",
              "  .colab-df-spinner {\n",
              "    border: 2px solid var(--fill-color);\n",
              "    border-color: transparent;\n",
              "    border-bottom-color: var(--fill-color);\n",
              "    animation:\n",
              "      spin 1s steps(1) infinite;\n",
              "  }\n",
              "\n",
              "  @keyframes spin {\n",
              "    0% {\n",
              "      border-color: transparent;\n",
              "      border-bottom-color: var(--fill-color);\n",
              "      border-left-color: var(--fill-color);\n",
              "    }\n",
              "    20% {\n",
              "      border-color: transparent;\n",
              "      border-left-color: var(--fill-color);\n",
              "      border-top-color: var(--fill-color);\n",
              "    }\n",
              "    30% {\n",
              "      border-color: transparent;\n",
              "      border-left-color: var(--fill-color);\n",
              "      border-top-color: var(--fill-color);\n",
              "      border-right-color: var(--fill-color);\n",
              "    }\n",
              "    40% {\n",
              "      border-color: transparent;\n",
              "      border-right-color: var(--fill-color);\n",
              "      border-top-color: var(--fill-color);\n",
              "    }\n",
              "    60% {\n",
              "      border-color: transparent;\n",
              "      border-right-color: var(--fill-color);\n",
              "    }\n",
              "    80% {\n",
              "      border-color: transparent;\n",
              "      border-right-color: var(--fill-color);\n",
              "      border-bottom-color: var(--fill-color);\n",
              "    }\n",
              "    90% {\n",
              "      border-color: transparent;\n",
              "      border-bottom-color: var(--fill-color);\n",
              "    }\n",
              "  }\n",
              "</style>\n",
              "\n",
              "  <script>\n",
              "    async function quickchart(key) {\n",
              "      const quickchartButtonEl =\n",
              "        document.querySelector('#' + key + ' button');\n",
              "      quickchartButtonEl.disabled = true;  // To prevent multiple clicks.\n",
              "      quickchartButtonEl.classList.add('colab-df-spinner');\n",
              "      try {\n",
              "        const charts = await google.colab.kernel.invokeFunction(\n",
              "            'suggestCharts', [key], {});\n",
              "      } catch (error) {\n",
              "        console.error('Error during call to suggestCharts:', error);\n",
              "      }\n",
              "      quickchartButtonEl.classList.remove('colab-df-spinner');\n",
              "      quickchartButtonEl.classList.add('colab-df-quickchart-complete');\n",
              "    }\n",
              "    (() => {\n",
              "      let quickchartButtonEl =\n",
              "        document.querySelector('#df-377f5e3f-4e8a-4d6b-8e53-3ded699b28b3 button');\n",
              "      quickchartButtonEl.style.display =\n",
              "        google.colab.kernel.accessAllowed ? 'block' : 'none';\n",
              "    })();\n",
              "  </script>\n",
              "</div>\n",
              "\n",
              "  <div id=\"id_9cd8e42b-f757-4a05-8a4a-1bfe458c3cd8\">\n",
              "    <style>\n",
              "      .colab-df-generate {\n",
              "        background-color: #E8F0FE;\n",
              "        border: none;\n",
              "        border-radius: 50%;\n",
              "        cursor: pointer;\n",
              "        display: none;\n",
              "        fill: #1967D2;\n",
              "        height: 32px;\n",
              "        padding: 0 0 0 0;\n",
              "        width: 32px;\n",
              "      }\n",
              "\n",
              "      .colab-df-generate:hover {\n",
              "        background-color: #E2EBFA;\n",
              "        box-shadow: 0px 1px 2px rgba(60, 64, 67, 0.3), 0px 1px 3px 1px rgba(60, 64, 67, 0.15);\n",
              "        fill: #174EA6;\n",
              "      }\n",
              "\n",
              "      [theme=dark] .colab-df-generate {\n",
              "        background-color: #3B4455;\n",
              "        fill: #D2E3FC;\n",
              "      }\n",
              "\n",
              "      [theme=dark] .colab-df-generate:hover {\n",
              "        background-color: #434B5C;\n",
              "        box-shadow: 0px 1px 3px 1px rgba(0, 0, 0, 0.15);\n",
              "        filter: drop-shadow(0px 1px 2px rgba(0, 0, 0, 0.3));\n",
              "        fill: #FFFFFF;\n",
              "      }\n",
              "    </style>\n",
              "    <button class=\"colab-df-generate\" onclick=\"generateWithVariable('high_risk_churn')\"\n",
              "            title=\"Generate code using this dataframe.\"\n",
              "            style=\"display:none;\">\n",
              "\n",
              "  <svg xmlns=\"http://www.w3.org/2000/svg\" height=\"24px\"viewBox=\"0 0 24 24\"\n",
              "       width=\"24px\">\n",
              "    <path d=\"M7,19H8.4L18.45,9,17,7.55,7,17.6ZM5,21V16.75L18.45,3.32a2,2,0,0,1,2.83,0l1.4,1.43a1.91,1.91,0,0,1,.58,1.4,1.91,1.91,0,0,1-.58,1.4L9.25,21ZM18.45,9,17,7.55Zm-12,3A5.31,5.31,0,0,0,4.9,8.1,5.31,5.31,0,0,0,1,6.5,5.31,5.31,0,0,0,4.9,4.9,5.31,5.31,0,0,0,6.5,1,5.31,5.31,0,0,0,8.1,4.9,5.31,5.31,0,0,0,12,6.5,5.46,5.46,0,0,0,6.5,12Z\"/>\n",
              "  </svg>\n",
              "    </button>\n",
              "    <script>\n",
              "      (() => {\n",
              "      const buttonEl =\n",
              "        document.querySelector('#id_9cd8e42b-f757-4a05-8a4a-1bfe458c3cd8 button.colab-df-generate');\n",
              "      buttonEl.style.display =\n",
              "        google.colab.kernel.accessAllowed ? 'block' : 'none';\n",
              "\n",
              "      buttonEl.onclick = () => {\n",
              "        google.colab.notebook.generateWithVariable('high_risk_churn');\n",
              "      }\n",
              "      })();\n",
              "    </script>\n",
              "  </div>\n",
              "\n",
              "    </div>\n",
              "  </div>\n"
            ],
            "application/vnd.google.colaboratory.intrinsic+json": {
              "type": "dataframe",
              "variable_name": "high_risk_churn"
            }
          },
          "metadata": {},
          "execution_count": 235
        }
      ]
    },
    {
      "cell_type": "code",
      "source": [
        "churn_list_sorted.satisfaction_level.value_counts()"
      ],
      "metadata": {
        "colab": {
          "base_uri": "https://localhost:8080/",
          "height": 210
        },
        "id": "4Pe3UQ9IXTdS",
        "outputId": "654b4350-975e-478b-806b-e9e7c00a9e44"
      },
      "execution_count": 237,
      "outputs": [
        {
          "output_type": "execute_result",
          "data": {
            "text/plain": [
              "satisfaction_level\n",
              "1.0    386800\n",
              "2.0    288380\n",
              "0.0    193956\n",
              "Name: count, dtype: int64"
            ],
            "text/html": [
              "<div>\n",
              "<style scoped>\n",
              "    .dataframe tbody tr th:only-of-type {\n",
              "        vertical-align: middle;\n",
              "    }\n",
              "\n",
              "    .dataframe tbody tr th {\n",
              "        vertical-align: top;\n",
              "    }\n",
              "\n",
              "    .dataframe thead th {\n",
              "        text-align: right;\n",
              "    }\n",
              "</style>\n",
              "<table border=\"1\" class=\"dataframe\">\n",
              "  <thead>\n",
              "    <tr style=\"text-align: right;\">\n",
              "      <th></th>\n",
              "      <th>count</th>\n",
              "    </tr>\n",
              "    <tr>\n",
              "      <th>satisfaction_level</th>\n",
              "      <th></th>\n",
              "    </tr>\n",
              "  </thead>\n",
              "  <tbody>\n",
              "    <tr>\n",
              "      <th>1.0</th>\n",
              "      <td>386800</td>\n",
              "    </tr>\n",
              "    <tr>\n",
              "      <th>2.0</th>\n",
              "      <td>288380</td>\n",
              "    </tr>\n",
              "    <tr>\n",
              "      <th>0.0</th>\n",
              "      <td>193956</td>\n",
              "    </tr>\n",
              "  </tbody>\n",
              "</table>\n",
              "</div><br><label><b>dtype:</b> int64</label>"
            ]
          },
          "metadata": {},
          "execution_count": 237
        }
      ]
    },
    {
      "cell_type": "code",
      "source": [
        "df.groupby(\"satisfaction_level\")[\"auto_payment\"].value_counts()"
      ],
      "metadata": {
        "colab": {
          "base_uri": "https://localhost:8080/",
          "height": 304
        },
        "id": "IEl6cx_1bdJb",
        "outputId": "201a8a33-3b44-4acf-aa8c-f56871d67872"
      },
      "execution_count": 238,
      "outputs": [
        {
          "output_type": "execute_result",
          "data": {
            "text/plain": [
              "satisfaction_level  auto_payment\n",
              "0.0                 0               1010587\n",
              "                    1                543250\n",
              "1.0                 0               2010830\n",
              "                    1               1080122\n",
              "2.0                 0               1508666\n",
              "                    1                810646\n",
              "Name: count, dtype: int64"
            ],
            "text/html": [
              "<div>\n",
              "<style scoped>\n",
              "    .dataframe tbody tr th:only-of-type {\n",
              "        vertical-align: middle;\n",
              "    }\n",
              "\n",
              "    .dataframe tbody tr th {\n",
              "        vertical-align: top;\n",
              "    }\n",
              "\n",
              "    .dataframe thead th {\n",
              "        text-align: right;\n",
              "    }\n",
              "</style>\n",
              "<table border=\"1\" class=\"dataframe\">\n",
              "  <thead>\n",
              "    <tr style=\"text-align: right;\">\n",
              "      <th></th>\n",
              "      <th></th>\n",
              "      <th>count</th>\n",
              "    </tr>\n",
              "    <tr>\n",
              "      <th>satisfaction_level</th>\n",
              "      <th>auto_payment</th>\n",
              "      <th></th>\n",
              "    </tr>\n",
              "  </thead>\n",
              "  <tbody>\n",
              "    <tr>\n",
              "      <th rowspan=\"2\" valign=\"top\">0.0</th>\n",
              "      <th>0</th>\n",
              "      <td>1010587</td>\n",
              "    </tr>\n",
              "    <tr>\n",
              "      <th>1</th>\n",
              "      <td>543250</td>\n",
              "    </tr>\n",
              "    <tr>\n",
              "      <th rowspan=\"2\" valign=\"top\">1.0</th>\n",
              "      <th>0</th>\n",
              "      <td>2010830</td>\n",
              "    </tr>\n",
              "    <tr>\n",
              "      <th>1</th>\n",
              "      <td>1080122</td>\n",
              "    </tr>\n",
              "    <tr>\n",
              "      <th rowspan=\"2\" valign=\"top\">2.0</th>\n",
              "      <th>0</th>\n",
              "      <td>1508666</td>\n",
              "    </tr>\n",
              "    <tr>\n",
              "      <th>1</th>\n",
              "      <td>810646</td>\n",
              "    </tr>\n",
              "  </tbody>\n",
              "</table>\n",
              "</div><br><label><b>dtype:</b> int64</label>"
            ]
          },
          "metadata": {},
          "execution_count": 238
        }
      ]
    },
    {
      "cell_type": "code",
      "source": [
        "churn_list_sorted.columns"
      ],
      "metadata": {
        "colab": {
          "base_uri": "https://localhost:8080/"
        },
        "id": "YwdYBZ8wbsX_",
        "outputId": "6df74515-be5a-4f86-df00-f0fbc765ac2a"
      },
      "execution_count": 249,
      "outputs": [
        {
          "output_type": "execute_result",
          "data": {
            "text/plain": [
              "Index(['age', 'app_count', 'auto_payment', 'avg_call_duration',\n",
              "       'avg_top_up_count', 'call_drops', 'customer_support_calls',\n",
              "       'data_usage', 'monthly_charge', 'overdue_payments', 'roaming_usage',\n",
              "       'satisfaction_level', 'satisfaction_score', 'service_type_Broadband',\n",
              "       'service_type_Postpaid', 'service_type_Prepaid', 'start_age', 'tenure',\n",
              "       'tenure_encoded1', 'total_usage', 'usage_intensity', 'customer_id',\n",
              "       'churn_probability', 'churn'],\n",
              "      dtype='object')"
            ]
          },
          "metadata": {},
          "execution_count": 249
        }
      ]
    },
    {
      "cell_type": "code",
      "source": [
        "df =churn_list_sorted.copy()"
      ],
      "metadata": {
        "id": "I5L_kCRYeyIR"
      },
      "execution_count": null,
      "outputs": []
    },
    {
      "cell_type": "code",
      "source": [
        "plt.figure(figsize=(10, 6))\n",
        "sns.countplot(x=\"satisfaction_level\", hue=\"tenure_encoded1\", data=churn_list_sorted, palette=\"Set2\")\n",
        "\n",
        "# Başlık ve etiketler\n",
        "plt.title(\"Churn Risk: Satisfaction Level and Tenure Category\", fontsize=16)\n",
        "plt.xlabel(\"Satisfaction Level\", fontsize=12)\n",
        "plt.ylabel(\"Count\", fontsize=12)\n",
        "\n",
        "# Grafiği göster\n",
        "plt.show()\n"
      ],
      "metadata": {
        "colab": {
          "base_uri": "https://localhost:8080/",
          "height": 567
        },
        "id": "ewL5XGiQdVf1",
        "outputId": "60e351b5-90ef-4c76-d451-469fda499469"
      },
      "execution_count": 250,
      "outputs": [
        {
          "output_type": "display_data",
          "data": {
            "text/plain": [
              "<Figure size 1000x600 with 1 Axes>"
            ],
            "image/png": "[encoded data removed]"
          },
          "metadata": {}
        }
      ]
    },
    {
      "cell_type": "code",
      "source": [
        "# Satisfaction level ve Tenure kategorilerini etiketlere dönüştür\n",
        "churn_list_sorted['satisfaction_level_label'] = churn_list_sorted['satisfaction_level'].map({0: \"Low\", 1: \"Medium\", 2: \"High\"})\n",
        "churn_list_sorted['tenure_encoded1_label'] = churn_list_sorted['tenure_encoded1'].map({0: \"New\", 1: \"Medium\", 2: \"Long\"})\n"
      ],
      "metadata": {
        "id": "Tp1f0fiPfFN2"
      },
      "execution_count": 252,
      "outputs": []
    },
    {
      "cell_type": "code",
      "source": [
        "# Satisfaction Level ve Tenure kategorileri ile Countplot\n",
        "plt.figure(figsize=(10, 6))\n",
        "sns.countplot(x=\"satisfaction_level_label\", hue=\"tenure_encoded1_label\", data=churn_list_sorted, palette=\"Set2\")\n",
        "\n",
        "# Başlık ve etiketler\n",
        "plt.title(\"Churn Risk: Satisfaction Level and Tenure Category\", fontsize=16)\n",
        "plt.xlabel(\"Satisfaction Level\", fontsize=12)\n",
        "plt.ylabel(\"Count\", fontsize=12)\n",
        "\n",
        "# Grafiği göster\n",
        "plt.show()\n"
      ],
      "metadata": {
        "colab": {
          "base_uri": "https://localhost:8080/",
          "height": 567
        },
        "id": "zMYewTJ9gQBQ",
        "outputId": "d96a4477-fcab-4589-e6ce-70f5405c2ebc"
      },
      "execution_count": 253,
      "outputs": [
        {
          "output_type": "display_data",
          "data": {
            "text/plain": [
              "<Figure size 1000x600 with 1 Axes>"
            ],
            "image/png": "[encoded data removed]"
          },
          "metadata": {}
        }
      ]
    },
    {
      "cell_type": "code",
      "source": [
        "plt.figure(figsize=(10, 6))\n",
        "sns.countplot(x=\"satisfaction_level_label\", hue=\"auto_payment\", data=churn_list_sorted, palette=\"Set2\")\n",
        "\n",
        "# Başlık ve etiketler\n",
        "plt.title(\"Churn Risk: Satisfaction Level vs Auto Payment\", fontsize=16)\n",
        "plt.xlabel(\"Satisfaction Level\", fontsize=12)\n",
        "plt.ylabel(\"Count\", fontsize=12)\n",
        "\n",
        "# Grafiği göster\n",
        "plt.show()\n"
      ],
      "metadata": {
        "colab": {
          "base_uri": "https://localhost:8080/",
          "height": 567
        },
        "id": "0c-UzK9HgRpi",
        "outputId": "23a10e0e-b00b-410b-cea6-7c961f8625de"
      },
      "execution_count": 254,
      "outputs": [
        {
          "output_type": "display_data",
          "data": {
            "text/plain": [
              "<Figure size 1000x600 with 1 Axes>"
            ],
            "image/png": "[encoded data removed]"
          },
          "metadata": {}
        }
      ]
    },
    {
      "cell_type": "code",
      "source": [
        "plt.figure(figsize=(10, 6))\n",
        "sns.boxplot(x=\"satisfaction_level_label\", y=\"app_count\", data=churn_list_sorted, palette=\"Set2\")\n",
        "\n",
        "# Başlık ve etiketler\n",
        "plt.title(\"Churn Risk: Satisfaction Level vs App Count\", fontsize=16)\n",
        "plt.xlabel(\"Satisfaction Level\", fontsize=12)\n",
        "plt.ylabel(\"App Count\", fontsize=12)\n",
        "\n",
        "# Grafiği göster\n",
        "plt.show()\n"
      ],
      "metadata": {
        "colab": {
          "base_uri": "https://localhost:8080/",
          "height": 567
        },
        "id": "C0A1yNZDguOH",
        "outputId": "4bd17ac3-4a3b-4078-ce6c-feb71d79ba6d"
      },
      "execution_count": 255,
      "outputs": [
        {
          "output_type": "display_data",
          "data": {
            "text/plain": [
              "<Figure size 1000x600 with 1 Axes>"
            ],
            "image/png": "[encoded data removed]"
          },
          "metadata": {}
        }
      ]
    },
    {
      "cell_type": "code",
      "source": [
        "plt.figure(figsize=(10, 6))\n",
        "sns.countplot(x=\"satisfaction_level_label\", hue=\"churn\", data=churn_list_sorted, palette=\"Set2\")\n",
        "\n",
        "# Başlık ve etiketler\n",
        "plt.title(\"Churn Risk: Satisfaction Level vs Churn\", fontsize=16)\n",
        "plt.xlabel(\"Satisfaction Level\", fontsize=12)\n",
        "plt.ylabel(\"Count\", fontsize=12)\n",
        "\n",
        "# Grafiği göster\n",
        "plt.show()\n"
      ],
      "metadata": {
        "colab": {
          "base_uri": "https://localhost:8080/",
          "height": 567
        },
        "id": "x3CCMHIbg5lm",
        "outputId": "0e9a42cd-0287-4331-f848-48dfb2081f73"
      },
      "execution_count": 256,
      "outputs": [
        {
          "output_type": "display_data",
          "data": {
            "text/plain": [
              "<Figure size 1000x600 with 1 Axes>"
            ],
            "image/png": "[encoded data removed]"
          },
          "metadata": {}
        }
      ]
    },
    {
      "cell_type": "code",
      "source": [
        "plt.figure(figsize=(10, 6))\n",
        "sns.countplot(x=\"auto_payment\", hue=\"churn\", data=churn_list_sorted, palette=\"Set2\")\n",
        "\n",
        "# Başlık ve etiketler\n",
        "plt.title(\"Churn Risk: Auto Payment vs Churn\", fontsize=16)\n",
        "plt.xlabel(\"Auto Payment\", fontsize=12)\n",
        "plt.ylabel(\"Count\", fontsize=12)\n",
        "\n",
        "# Grafiği göster\n",
        "plt.show()\n"
      ],
      "metadata": {
        "colab": {
          "base_uri": "https://localhost:8080/",
          "height": 567
        },
        "id": "2_YYCM0khVpu",
        "outputId": "f5c7bc49-4498-44bd-8807-cf1d3b65572e"
      },
      "execution_count": 258,
      "outputs": [
        {
          "output_type": "display_data",
          "data": {
            "text/plain": [
              "<Figure size 1000x600 with 1 Axes>"
            ],
            "image/png": "[encoded data removed]"
          },
          "metadata": {}
        }
      ]
    },
    {
      "cell_type": "code",
      "source": [],
      "metadata": {
        "id": "guf7cz1uhWBA"
      },
      "execution_count": null,
      "outputs": []
    }
  ]
}